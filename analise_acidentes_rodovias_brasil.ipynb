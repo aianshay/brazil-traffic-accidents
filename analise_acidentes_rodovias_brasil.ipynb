{
 "cells": [
  {
   "cell_type": "markdown",
   "metadata": {
    "cell_id": "00001-55d404a9-e06f-4893-8c48-a3de5937529a",
    "deepnote_cell_type": "markdown",
    "tags": []
   },
   "source": [
    "# Analisando os acidentes nas rodovias federais do Brasil"
   ]
  },
  {
   "cell_type": "markdown",
   "metadata": {
    "cell_id": "00000-770989fc-4f99-4ee5-bcd7-d4daaa9e704d",
    "deepnote_cell_type": "markdown",
    "tags": []
   },
   "source": [
    "| Seção | Parte                                        |  \n",
    "| :-      |:-                                          |  \n",
    "| 0       | [Introdução](#intro)                       |           \n",
    "|  1      | [Coleta de dados](#coleta)                 |\n",
    "|  2      | [Pré-processamento](#prep)                 | \n",
    "|  3      | [Visualizações](#viz)                      |    \n",
    "|  4      | [Estatísticas](#estatisticas)              |      \n",
    "|  5      | [Normalização](#norm)      |\n",
    "   "
   ]
  },
  {
   "cell_type": "markdown",
   "metadata": {
    "cell_id": "00002-d3c78c17-4ef1-4b7e-8f53-0953041b9abf",
    "deepnote_cell_type": "markdown",
    "tags": []
   },
   "source": [
    "<a id=\"intro\"/>"
   ]
  },
  {
   "cell_type": "markdown",
   "metadata": {
    "cell_id": "00003-2e4d39d5-c0a0-4b3a-893c-0a6fc9d1e253",
    "deepnote_cell_type": "markdown",
    "tags": []
   },
   "source": [
    "## 0. Introdução\n",
    "\n",
    "Este notebook apresenta uma análise de dados dos acidentes de trânsito ocorridos em rodovias federais no Brasil. O dataset é fornecido pela Polícia Rodoviária Federal (PRF) e nos dá as ocorrências entre o período de 2007 a 2021. Para esta análise foi utilizado apenas o período de Janeiro de 2017 à Junho de 2021, pois algumas colunas só foram introduzidas a partir de 2017.\n",
    "\n",
    "O dataset pode ser obtido  no [Kaggle](https://www.kaggle.com/mcamera/brazil-highway-traffic-accidents). \n",
    "\n",
    "Nesta análise nos propomos a responder as seguintes perguntas:\n",
    "\n",
    "- Qual período do dia acontecem mais acidentes?\n",
    "- O número de acidentes no país está em alta?\n",
    "- Quais dias da semana mais ocorrem acidentes?\n",
    "- Qual o estado com maior ocorrência de acidentes?\n",
    "- Qual a gravidade dos acidentes em cada estado?\n",
    "- Qual o número de ocorrências anuais para cada estado?\n",
    "- Quais as correlações entre as features númericas dos acidentes no Brasil?\n",
    "\n",
    "Autores: Aian Shay e Tassiane Barros."
   ]
  },
  {
   "cell_type": "markdown",
   "metadata": {
    "cell_id": "00002-d3c78c17-4ef1-4b7e-8f53-0953041b9abf",
    "deepnote_cell_type": "markdown",
    "tags": []
   },
   "source": [
    "<a id=\"coleta\"/>"
   ]
  },
  {
   "cell_type": "markdown",
   "metadata": {
    "cell_id": "00001-7368e09a-dd5d-43fb-8efd-754a99e73b0b",
    "deepnote_cell_type": "markdown",
    "tags": []
   },
   "source": [
    "## 1. Coleta de dados"
   ]
  },
  {
   "cell_type": "markdown",
   "metadata": {
    "cell_id": "00004-f1e47616-1306-4e88-a003-e25407b8b81c",
    "deepnote_cell_type": "markdown",
    "tags": []
   },
   "source": [
    "##### Importação de bibliotecas"
   ]
  },
  {
   "cell_type": "code",
   "execution_count": 8,
   "metadata": {
    "cell_id": "00000-d5eb1e40-4ec0-4578-9ec7-6b39e4d6f279",
    "deepnote_cell_type": "code",
    "deepnote_to_be_reexecuted": false,
    "execution_millis": 3085,
    "execution_start": 1634478411427,
    "source_hash": "fc2f29b1",
    "tags": []
   },
   "outputs": [
    {
     "name": "stdout",
     "output_type": "stream",
     "text": [
      "Requirement already satisfied: holidays in /home/aian/.local/lib/python3.8/site-packages (0.11.3.1)\n",
      "Requirement already satisfied: python-dateutil in /usr/lib/python3/dist-packages (from holidays) (2.7.3)\n",
      "Requirement already satisfied: convertdate>=2.3.0 in /home/aian/.local/lib/python3.8/site-packages (from holidays) (2.3.2)\n",
      "Requirement already satisfied: hijri-converter in /home/aian/.local/lib/python3.8/site-packages (from holidays) (2.2.2)\n",
      "Requirement already satisfied: korean-lunar-calendar in /home/aian/.local/lib/python3.8/site-packages (from holidays) (0.2.1)\n",
      "Requirement already satisfied: pymeeus<=1,>=0.3.13 in /home/aian/.local/lib/python3.8/site-packages (from convertdate>=2.3.0->holidays) (0.5.11)\n",
      "Requirement already satisfied: pytz>=2014.10 in /usr/lib/python3/dist-packages (from convertdate>=2.3.0->holidays) (2019.3)\n",
      "Requirement already satisfied: scikit-learn in /home/aian/.local/lib/python3.8/site-packages (0.24.2)\n",
      "Requirement already satisfied: numpy>=1.13.3 in /home/aian/.local/lib/python3.8/site-packages (from scikit-learn) (1.20.3)\n",
      "Requirement already satisfied: scipy>=0.19.1 in /home/aian/.local/lib/python3.8/site-packages (from scikit-learn) (1.6.3)\n",
      "Requirement already satisfied: threadpoolctl>=2.0.0 in /home/aian/.local/lib/python3.8/site-packages (from scikit-learn) (2.1.0)\n",
      "Requirement already satisfied: joblib>=0.11 in /home/aian/.local/lib/python3.8/site-packages (from scikit-learn) (1.0.1)\n"
     ]
    }
   ],
   "source": [
    "import pandas as pd\n",
    "import matplotlib.pyplot as plt\n",
    "import seaborn as sns\n",
    "import glob\n",
    "from datetime import datetime\n",
    "\n",
    "!pip3 install holidays\n",
    "import holidays\n",
    "\n",
    "!pip3 install scikit-learn\n",
    "from sklearn.preprocessing import MinMaxScaler"
   ]
  },
  {
   "cell_type": "markdown",
   "metadata": {
    "cell_id": "00008-62b60dc0-dcf6-4fb0-885e-fc1b42c55a05",
    "deepnote_cell_type": "markdown",
    "tags": []
   },
   "source": [
    "##### Carregando os dados"
   ]
  },
  {
   "cell_type": "code",
   "execution_count": 4,
   "metadata": {
    "cell_id": "00002-5bb85bd9-d658-48d3-823b-d45d265d5c75",
    "deepnote_cell_type": "code",
    "deepnote_to_be_reexecuted": false,
    "execution_millis": 7341,
    "execution_start": 1634477121392,
    "source_hash": "5e1a4490",
    "tags": []
   },
   "outputs": [],
   "source": [
    "files = glob.glob(\"por_ocorrencia/ocorrencias_final/*.csv\")\n",
    "dfs = [pd.read_csv(f, sep=\";\", encoding = \"ISO-8859-1\") for f in files]\n",
    "\n",
    "ocorrencias = pd.concat(dfs, ignore_index=True)"
   ]
  },
  {
   "cell_type": "markdown",
   "metadata": {
    "cell_id": "00010-b0ff9546-b973-4caa-a68c-ef2ec13ef961",
    "deepnote_cell_type": "markdown",
    "tags": []
   },
   "source": [
    "##### Visualização de parte dos dados do dataset "
   ]
  },
  {
   "cell_type": "code",
   "execution_count": 5,
   "metadata": {
    "cell_id": "00005-52736f1b-80bc-46e5-b48a-fb8137dcf20b",
    "deepnote_cell_type": "code",
    "deepnote_to_be_reexecuted": false,
    "execution_millis": 206,
    "execution_start": 1634476911251,
    "source_hash": "a847d4d5",
    "tags": []
   },
   "outputs": [
    {
     "data": {
      "text/html": [
       "<div>\n",
       "<style scoped>\n",
       "    .dataframe tbody tr th:only-of-type {\n",
       "        vertical-align: middle;\n",
       "    }\n",
       "\n",
       "    .dataframe tbody tr th {\n",
       "        vertical-align: top;\n",
       "    }\n",
       "\n",
       "    .dataframe thead th {\n",
       "        text-align: right;\n",
       "    }\n",
       "</style>\n",
       "<table border=\"1\" class=\"dataframe\">\n",
       "  <thead>\n",
       "    <tr style=\"text-align: right;\">\n",
       "      <th></th>\n",
       "      <th>id</th>\n",
       "      <th>data_inversa</th>\n",
       "      <th>dia_semana</th>\n",
       "      <th>horario</th>\n",
       "      <th>uf</th>\n",
       "      <th>br</th>\n",
       "      <th>km</th>\n",
       "      <th>municipio</th>\n",
       "      <th>causa_acidente</th>\n",
       "      <th>tipo_acidente</th>\n",
       "      <th>...</th>\n",
       "      <th>feridos_graves</th>\n",
       "      <th>ilesos</th>\n",
       "      <th>ignorados</th>\n",
       "      <th>feridos</th>\n",
       "      <th>veiculos</th>\n",
       "      <th>latitude</th>\n",
       "      <th>longitude</th>\n",
       "      <th>regional</th>\n",
       "      <th>delegacia</th>\n",
       "      <th>uop</th>\n",
       "    </tr>\n",
       "  </thead>\n",
       "  <tbody>\n",
       "    <tr>\n",
       "      <th>0</th>\n",
       "      <td>8.0</td>\n",
       "      <td>2017-01-01</td>\n",
       "      <td>domingo</td>\n",
       "      <td>00:00:00</td>\n",
       "      <td>PR</td>\n",
       "      <td>376.0</td>\n",
       "      <td>112</td>\n",
       "      <td>PARANAVAI</td>\n",
       "      <td>Fenômenos da Natureza</td>\n",
       "      <td>Queda de ocupante de veículo</td>\n",
       "      <td>...</td>\n",
       "      <td>1</td>\n",
       "      <td>0</td>\n",
       "      <td>0</td>\n",
       "      <td>1</td>\n",
       "      <td>1</td>\n",
       "      <td>-23,09880731</td>\n",
       "      <td>-52,38789369</td>\n",
       "      <td>SR-PR</td>\n",
       "      <td>DEL7/7</td>\n",
       "      <td>UOP05/PR</td>\n",
       "    </tr>\n",
       "    <tr>\n",
       "      <th>1</th>\n",
       "      <td>9.0</td>\n",
       "      <td>2017-01-01</td>\n",
       "      <td>domingo</td>\n",
       "      <td>00:01:00</td>\n",
       "      <td>SC</td>\n",
       "      <td>101.0</td>\n",
       "      <td>234</td>\n",
       "      <td>PALHOCA</td>\n",
       "      <td>Falta de Atenção à Condução</td>\n",
       "      <td>Colisão com objeto estático</td>\n",
       "      <td>...</td>\n",
       "      <td>0</td>\n",
       "      <td>1</td>\n",
       "      <td>0</td>\n",
       "      <td>0</td>\n",
       "      <td>1</td>\n",
       "      <td>-27,8101</td>\n",
       "      <td>-48,6357</td>\n",
       "      <td>SR-SC</td>\n",
       "      <td>DEL8/1</td>\n",
       "      <td>UOP02/SC</td>\n",
       "    </tr>\n",
       "    <tr>\n",
       "      <th>2</th>\n",
       "      <td>11.0</td>\n",
       "      <td>2017-01-01</td>\n",
       "      <td>domingo</td>\n",
       "      <td>00:00:00</td>\n",
       "      <td>PR</td>\n",
       "      <td>153.0</td>\n",
       "      <td>56,9</td>\n",
       "      <td>SANTO ANTONIO DA PLATINA</td>\n",
       "      <td>Animais na Pista</td>\n",
       "      <td>Capotamento</td>\n",
       "      <td>...</td>\n",
       "      <td>0</td>\n",
       "      <td>0</td>\n",
       "      <td>0</td>\n",
       "      <td>2</td>\n",
       "      <td>1</td>\n",
       "      <td>-23,36951985</td>\n",
       "      <td>309,93513107</td>\n",
       "      <td>SR-PR</td>\n",
       "      <td>DEL7/7</td>\n",
       "      <td>UOP07/PR</td>\n",
       "    </tr>\n",
       "    <tr>\n",
       "      <th>3</th>\n",
       "      <td>12.0</td>\n",
       "      <td>2017-01-01</td>\n",
       "      <td>domingo</td>\n",
       "      <td>00:00:00</td>\n",
       "      <td>GO</td>\n",
       "      <td>153.0</td>\n",
       "      <td>435</td>\n",
       "      <td>ANAPOLIS</td>\n",
       "      <td>Avarias e/ou desgaste excessivo no pneu</td>\n",
       "      <td>Tombamento</td>\n",
       "      <td>...</td>\n",
       "      <td>1</td>\n",
       "      <td>0</td>\n",
       "      <td>0</td>\n",
       "      <td>1</td>\n",
       "      <td>1</td>\n",
       "      <td>-16,27473677</td>\n",
       "      <td>-48,96908998</td>\n",
       "      <td>SR-GO</td>\n",
       "      <td>DEL1/2</td>\n",
       "      <td>UOP01/GO</td>\n",
       "    </tr>\n",
       "    <tr>\n",
       "      <th>4</th>\n",
       "      <td>13.0</td>\n",
       "      <td>2017-01-01</td>\n",
       "      <td>domingo</td>\n",
       "      <td>00:00:00</td>\n",
       "      <td>SC</td>\n",
       "      <td>280.0</td>\n",
       "      <td>77,3</td>\n",
       "      <td>CORUPA</td>\n",
       "      <td>Ingestão de Álcool</td>\n",
       "      <td>Saída de leito carroçável</td>\n",
       "      <td>...</td>\n",
       "      <td>0</td>\n",
       "      <td>0</td>\n",
       "      <td>0</td>\n",
       "      <td>1</td>\n",
       "      <td>1</td>\n",
       "      <td>-26,44675249</td>\n",
       "      <td>-49,20166969</td>\n",
       "      <td>SR-SC</td>\n",
       "      <td>DEL8/6</td>\n",
       "      <td>UOP03/SC</td>\n",
       "    </tr>\n",
       "    <tr>\n",
       "      <th>...</th>\n",
       "      <td>...</td>\n",
       "      <td>...</td>\n",
       "      <td>...</td>\n",
       "      <td>...</td>\n",
       "      <td>...</td>\n",
       "      <td>...</td>\n",
       "      <td>...</td>\n",
       "      <td>...</td>\n",
       "      <td>...</td>\n",
       "      <td>...</td>\n",
       "      <td>...</td>\n",
       "      <td>...</td>\n",
       "      <td>...</td>\n",
       "      <td>...</td>\n",
       "      <td>...</td>\n",
       "      <td>...</td>\n",
       "      <td>...</td>\n",
       "      <td>...</td>\n",
       "      <td>...</td>\n",
       "      <td>...</td>\n",
       "      <td>...</td>\n",
       "    </tr>\n",
       "    <tr>\n",
       "      <th>95</th>\n",
       "      <td>128.0</td>\n",
       "      <td>2017-01-01</td>\n",
       "      <td>domingo</td>\n",
       "      <td>11:50:00</td>\n",
       "      <td>SP</td>\n",
       "      <td>101.0</td>\n",
       "      <td>41</td>\n",
       "      <td>UBATUBA</td>\n",
       "      <td>Não guardar distância de segurança</td>\n",
       "      <td>Colisão frontal</td>\n",
       "      <td>...</td>\n",
       "      <td>0</td>\n",
       "      <td>6</td>\n",
       "      <td>0</td>\n",
       "      <td>1</td>\n",
       "      <td>2</td>\n",
       "      <td>-23,3841626</td>\n",
       "      <td>-44,9720059</td>\n",
       "      <td>SR-SP</td>\n",
       "      <td>DEL6/7</td>\n",
       "      <td>UOP01/SP</td>\n",
       "    </tr>\n",
       "    <tr>\n",
       "      <th>96</th>\n",
       "      <td>129.0</td>\n",
       "      <td>2017-01-01</td>\n",
       "      <td>domingo</td>\n",
       "      <td>10:30:00</td>\n",
       "      <td>MT</td>\n",
       "      <td>364.0</td>\n",
       "      <td>469</td>\n",
       "      <td>VARZEA GRANDE</td>\n",
       "      <td>Defeito Mecânico no Veículo</td>\n",
       "      <td>Tombamento</td>\n",
       "      <td>...</td>\n",
       "      <td>0</td>\n",
       "      <td>0</td>\n",
       "      <td>0</td>\n",
       "      <td>3</td>\n",
       "      <td>1</td>\n",
       "      <td>-15,35686639</td>\n",
       "      <td>-56,41299248</td>\n",
       "      <td>SR-MT</td>\n",
       "      <td>DEL2/4</td>\n",
       "      <td>UOP02/MT</td>\n",
       "    </tr>\n",
       "    <tr>\n",
       "      <th>97</th>\n",
       "      <td>130.0</td>\n",
       "      <td>2017-01-01</td>\n",
       "      <td>domingo</td>\n",
       "      <td>10:30:00</td>\n",
       "      <td>PA</td>\n",
       "      <td>222.0</td>\n",
       "      <td>243,4</td>\n",
       "      <td>MARABA</td>\n",
       "      <td>Falta de Atenção à Condução</td>\n",
       "      <td>Tombamento</td>\n",
       "      <td>...</td>\n",
       "      <td>0</td>\n",
       "      <td>0</td>\n",
       "      <td>0</td>\n",
       "      <td>1</td>\n",
       "      <td>1</td>\n",
       "      <td>-5,3257047</td>\n",
       "      <td>-49,08627033</td>\n",
       "      <td>SR-PA</td>\n",
       "      <td>DEL19/3</td>\n",
       "      <td>UOP01/PA</td>\n",
       "    </tr>\n",
       "    <tr>\n",
       "      <th>98</th>\n",
       "      <td>131.0</td>\n",
       "      <td>2017-01-01</td>\n",
       "      <td>domingo</td>\n",
       "      <td>12:00:00</td>\n",
       "      <td>PR</td>\n",
       "      <td>467.0</td>\n",
       "      <td>92</td>\n",
       "      <td>CASCAVEL</td>\n",
       "      <td>Avarias e/ou desgaste excessivo no pneu</td>\n",
       "      <td>Saída de leito carroçável</td>\n",
       "      <td>...</td>\n",
       "      <td>0</td>\n",
       "      <td>2</td>\n",
       "      <td>0</td>\n",
       "      <td>1</td>\n",
       "      <td>1</td>\n",
       "      <td>-24,8537579</td>\n",
       "      <td>-53,5995431</td>\n",
       "      <td>SR-PR</td>\n",
       "      <td>DEL7/4</td>\n",
       "      <td>UOP06/PR</td>\n",
       "    </tr>\n",
       "    <tr>\n",
       "      <th>99</th>\n",
       "      <td>132.0</td>\n",
       "      <td>2017-01-01</td>\n",
       "      <td>domingo</td>\n",
       "      <td>08:30:00</td>\n",
       "      <td>MA</td>\n",
       "      <td>222.0</td>\n",
       "      <td>362,6</td>\n",
       "      <td>SANTA INES</td>\n",
       "      <td>Falta de Atenção à Condução</td>\n",
       "      <td>Colisão traseira</td>\n",
       "      <td>...</td>\n",
       "      <td>0</td>\n",
       "      <td>1</td>\n",
       "      <td>0</td>\n",
       "      <td>1</td>\n",
       "      <td>2</td>\n",
       "      <td>-3,68679947</td>\n",
       "      <td>-45,39825439</td>\n",
       "      <td>SR-MA</td>\n",
       "      <td>DEL18/2</td>\n",
       "      <td>UOP01/MA</td>\n",
       "    </tr>\n",
       "  </tbody>\n",
       "</table>\n",
       "<p>100 rows × 30 columns</p>\n",
       "</div>"
      ],
      "text/plain": [
       "       id data_inversa dia_semana   horario  uf     br     km  \\\n",
       "0     8.0   2017-01-01    domingo  00:00:00  PR  376.0    112   \n",
       "1     9.0   2017-01-01    domingo  00:01:00  SC  101.0    234   \n",
       "2    11.0   2017-01-01    domingo  00:00:00  PR  153.0   56,9   \n",
       "3    12.0   2017-01-01    domingo  00:00:00  GO  153.0    435   \n",
       "4    13.0   2017-01-01    domingo  00:00:00  SC  280.0   77,3   \n",
       "..    ...          ...        ...       ...  ..    ...    ...   \n",
       "95  128.0   2017-01-01    domingo  11:50:00  SP  101.0     41   \n",
       "96  129.0   2017-01-01    domingo  10:30:00  MT  364.0    469   \n",
       "97  130.0   2017-01-01    domingo  10:30:00  PA  222.0  243,4   \n",
       "98  131.0   2017-01-01    domingo  12:00:00  PR  467.0     92   \n",
       "99  132.0   2017-01-01    domingo  08:30:00  MA  222.0  362,6   \n",
       "\n",
       "                   municipio                           causa_acidente  \\\n",
       "0                  PARANAVAI                    Fenômenos da Natureza   \n",
       "1                    PALHOCA              Falta de Atenção à Condução   \n",
       "2   SANTO ANTONIO DA PLATINA                         Animais na Pista   \n",
       "3                   ANAPOLIS  Avarias e/ou desgaste excessivo no pneu   \n",
       "4                     CORUPA                       Ingestão de Álcool   \n",
       "..                       ...                                      ...   \n",
       "95                   UBATUBA       Não guardar distância de segurança   \n",
       "96             VARZEA GRANDE              Defeito Mecânico no Veículo   \n",
       "97                    MARABA              Falta de Atenção à Condução   \n",
       "98                  CASCAVEL  Avarias e/ou desgaste excessivo no pneu   \n",
       "99                SANTA INES              Falta de Atenção à Condução   \n",
       "\n",
       "                   tipo_acidente  ... feridos_graves ilesos ignorados feridos  \\\n",
       "0   Queda de ocupante de veículo  ...              1      0         0       1   \n",
       "1    Colisão com objeto estático  ...              0      1         0       0   \n",
       "2                    Capotamento  ...              0      0         0       2   \n",
       "3                     Tombamento  ...              1      0         0       1   \n",
       "4      Saída de leito carroçável  ...              0      0         0       1   \n",
       "..                           ...  ...            ...    ...       ...     ...   \n",
       "95               Colisão frontal  ...              0      6         0       1   \n",
       "96                    Tombamento  ...              0      0         0       3   \n",
       "97                    Tombamento  ...              0      0         0       1   \n",
       "98     Saída de leito carroçável  ...              0      2         0       1   \n",
       "99              Colisão traseira  ...              0      1         0       1   \n",
       "\n",
       "   veiculos      latitude     longitude  regional  delegacia       uop  \n",
       "0         1  -23,09880731  -52,38789369     SR-PR     DEL7/7  UOP05/PR  \n",
       "1         1      -27,8101      -48,6357     SR-SC     DEL8/1  UOP02/SC  \n",
       "2         1  -23,36951985  309,93513107     SR-PR     DEL7/7  UOP07/PR  \n",
       "3         1  -16,27473677  -48,96908998     SR-GO     DEL1/2  UOP01/GO  \n",
       "4         1  -26,44675249  -49,20166969     SR-SC     DEL8/6  UOP03/SC  \n",
       "..      ...           ...           ...       ...        ...       ...  \n",
       "95        2   -23,3841626   -44,9720059     SR-SP     DEL6/7  UOP01/SP  \n",
       "96        1  -15,35686639  -56,41299248     SR-MT     DEL2/4  UOP02/MT  \n",
       "97        1    -5,3257047  -49,08627033     SR-PA    DEL19/3  UOP01/PA  \n",
       "98        1   -24,8537579   -53,5995431     SR-PR     DEL7/4  UOP06/PR  \n",
       "99        2   -3,68679947  -45,39825439     SR-MA    DEL18/2  UOP01/MA  \n",
       "\n",
       "[100 rows x 30 columns]"
      ]
     },
     "execution_count": 5,
     "metadata": {},
     "output_type": "execute_result"
    }
   ],
   "source": [
    "ocorrencias.head(100)"
   ]
  },
  {
   "cell_type": "code",
   "execution_count": 9,
   "metadata": {
    "cell_id": "00003-929cc53b-7278-4585-bbc7-51b9e9c43068",
    "deepnote_cell_type": "code",
    "deepnote_to_be_reexecuted": false,
    "execution_millis": 1,
    "execution_start": 1634476940695,
    "source_hash": "f707ed3",
    "tags": []
   },
   "outputs": [
    {
     "name": "stdout",
     "output_type": "stream",
     "text": [
      "O dataset possui 320753 ocorrências e 30 colunas.\n"
     ]
    }
   ],
   "source": [
    "lines, columns = ocorrencias.shape\n",
    "print(f'O dataset possui {lines} ocorrências e {columns} colunas.')"
   ]
  },
  {
   "cell_type": "markdown",
   "metadata": {
    "cell_id": "00007-53a46286-92a0-4933-87e8-0ba775b63b6e",
    "deepnote_cell_type": "markdown",
    "tags": []
   },
   "source": [
    "<a id=\"prep\"/>"
   ]
  },
  {
   "cell_type": "markdown",
   "metadata": {
    "cell_id": "00003-9f68402e-a880-44ff-bea2-1dfb9580183b",
    "deepnote_cell_type": "markdown",
    "tags": []
   },
   "source": [
    "## 2. Pré-processamento"
   ]
  },
  {
   "cell_type": "code",
   "execution_count": 10,
   "metadata": {
    "cell_id": "00003-daf485a6-c2a4-4723-8698-54c3e0489ae1",
    "deepnote_cell_type": "code",
    "deepnote_to_be_reexecuted": false,
    "execution_millis": 270,
    "execution_start": 1634302630959,
    "source_hash": "3ba45a24",
    "tags": []
   },
   "outputs": [
    {
     "name": "stdout",
     "output_type": "stream",
     "text": [
      "<class 'pandas.core.frame.DataFrame'>\n",
      "RangeIndex: 320753 entries, 0 to 320752\n",
      "Data columns (total 30 columns):\n",
      " #   Column                  Non-Null Count   Dtype  \n",
      "---  ------                  --------------   -----  \n",
      " 0   id                      320753 non-null  float64\n",
      " 1   data_inversa            320753 non-null  object \n",
      " 2   dia_semana              320753 non-null  object \n",
      " 3   horario                 320753 non-null  object \n",
      " 4   uf                      320753 non-null  object \n",
      " 5   br                      320156 non-null  float64\n",
      " 6   km                      320156 non-null  object \n",
      " 7   municipio               320753 non-null  object \n",
      " 8   causa_acidente          320753 non-null  object \n",
      " 9   tipo_acidente           320753 non-null  object \n",
      " 10  classificacao_acidente  320753 non-null  object \n",
      " 11  fase_dia                320753 non-null  object \n",
      " 12  sentido_via             320753 non-null  object \n",
      " 13  condicao_metereologica  320753 non-null  object \n",
      " 14  tipo_pista              320753 non-null  object \n",
      " 15  tracado_via             320753 non-null  object \n",
      " 16  uso_solo                320753 non-null  object \n",
      " 17  pessoas                 320753 non-null  int64  \n",
      " 18  mortos                  320753 non-null  int64  \n",
      " 19  feridos_leves           320753 non-null  int64  \n",
      " 20  feridos_graves          320753 non-null  int64  \n",
      " 21  ilesos                  320753 non-null  int64  \n",
      " 22  ignorados               320753 non-null  int64  \n",
      " 23  feridos                 320753 non-null  int64  \n",
      " 24  veiculos                320753 non-null  int64  \n",
      " 25  latitude                320753 non-null  object \n",
      " 26  longitude               320753 non-null  object \n",
      " 27  regional                320753 non-null  object \n",
      " 28  delegacia               320753 non-null  object \n",
      " 29  uop                     309663 non-null  object \n",
      "dtypes: float64(2), int64(8), object(20)\n",
      "memory usage: 73.4+ MB\n"
     ]
    }
   ],
   "source": [
    "ocorrencias.info()"
   ]
  },
  {
   "cell_type": "code",
   "execution_count": null,
   "metadata": {
    "cell_id": "00006-4592e57b-7d68-4a7a-9aae-cd78005f4cd3",
    "deepnote_cell_type": "code",
    "deepnote_to_be_reexecuted": false,
    "execution_millis": 62,
    "execution_start": 1634302631232,
    "source_hash": "a3297621",
    "tags": []
   },
   "outputs": [
    {
     "data": {
      "text/plain": [
       "2017-12-23    449\n",
       "2017-02-25    409\n",
       "2017-12-22    397\n",
       "2017-05-19    390\n",
       "2017-09-30    366\n",
       "             ... \n",
       "2018-05-26     83\n",
       "2020-03-26     77\n",
       "2018-05-29     75\n",
       "2020-03-25     72\n",
       "2020-03-23     70\n",
       "Name: data_inversa, Length: 1642, dtype: int64"
      ]
     },
     "execution_count": 6,
     "metadata": {},
     "output_type": "execute_result"
    }
   ],
   "source": [
    "ocorrencias['data_inversa'].value_counts()"
   ]
  },
  {
   "cell_type": "markdown",
   "metadata": {
    "cell_id": "00010-4e774a58-5c66-4e96-803a-bc7c5f17aec4",
    "deepnote_cell_type": "markdown",
    "tags": []
   },
   "source": [
    "Observamos que as colunas `br` e `km` estão com o formato inadequado, deveriam ser do tipo `int` e `float`, respectivamente. Além disso, há alguns valores nulos nessas colunas também. E a coluna da data está invertida, iremos transformá-la para o formato brasileiro."
   ]
  },
  {
   "cell_type": "code",
   "execution_count": 10,
   "metadata": {
    "cell_id": "00008-f37d7c37-5457-43de-b31f-e0d9eb4ac75e",
    "deepnote_cell_type": "code",
    "deepnote_to_be_reexecuted": false,
    "execution_millis": 102,
    "execution_start": 1634477047000,
    "source_hash": "88d01a87",
    "tags": []
   },
   "outputs": [
    {
     "data": {
      "application/vnd.deepnote.dataframe.v2+json": {
       "column_count": 30,
       "columns": [
        {
         "dtype": "float64",
         "name": "id",
         "stats": {
          "histogram": [
           {
            "bin_end": 36862.8,
            "bin_start": 160,
            "count": 52
           },
           {
            "bin_end": 73565.6,
            "bin_start": 36862.8,
            "count": 46
           },
           {
            "bin_end": 110268.40000000001,
            "bin_start": 73565.6,
            "count": 53
           },
           {
            "bin_end": 146971.2,
            "bin_start": 110268.40000000001,
            "count": 54
           },
           {
            "bin_end": 183674,
            "bin_start": 146971.2,
            "count": 52
           },
           {
            "bin_end": 220376.80000000002,
            "bin_start": 183674,
            "count": 55
           },
           {
            "bin_end": 257079.60000000003,
            "bin_start": 220376.80000000002,
            "count": 40
           },
           {
            "bin_end": 293782.4,
            "bin_start": 257079.60000000003,
            "count": 61
           },
           {
            "bin_end": 330485.2,
            "bin_start": 293782.4,
            "count": 93
           },
           {
            "bin_end": 367188,
            "bin_start": 330485.2,
            "count": 91
           }
          ],
          "max": "367188.0",
          "min": "160.0",
          "nan_count": 0,
          "unique_count": 597
         }
        },
        {
         "dtype": "object",
         "name": "data_inversa",
         "stats": {
          "categories": [
           {
            "count": 3,
            "name": "2019-04-21"
           },
           {
            "count": 3,
            "name": "2019-05-20"
           },
           {
            "count": 591,
            "name": "493 others"
           }
          ],
          "nan_count": 0,
          "unique_count": 495
         }
        },
        {
         "dtype": "object",
         "name": "dia_semana",
         "stats": {
          "categories": [
           {
            "count": 100,
            "name": "sexta-feira"
           },
           {
            "count": 92,
            "name": "quinta-feira"
           },
           {
            "count": 405,
            "name": "5 others"
           }
          ],
          "nan_count": 0,
          "unique_count": 7
         }
        },
        {
         "dtype": "object",
         "name": "horario",
         "stats": {
          "categories": [
           {
            "count": 10,
            "name": "13:00:00"
           },
           {
            "count": 10,
            "name": "18:30:00"
           },
           {
            "count": 577,
            "name": "240 others"
           }
          ],
          "nan_count": 0,
          "unique_count": 242
         }
        },
        {
         "dtype": "object",
         "name": "uf",
         "stats": {
          "categories": [
           {
            "count": 70,
            "name": "PR"
           },
           {
            "count": 60,
            "name": "RS"
           },
           {
            "count": 467,
            "name": "25 others"
           }
          ],
          "nan_count": 0,
          "unique_count": 27
         }
        },
        {
         "dtype": "float64",
         "name": "br",
         "stats": {
          "histogram": [
           {
            "bin_end": 0.1,
            "bin_start": 0,
            "count": 0
           },
           {
            "bin_end": 0.2,
            "bin_start": 0.1,
            "count": 0
           },
           {
            "bin_end": 0.30000000000000004,
            "bin_start": 0.2,
            "count": 0
           },
           {
            "bin_end": 0.4,
            "bin_start": 0.30000000000000004,
            "count": 0
           },
           {
            "bin_end": 0.5,
            "bin_start": 0.4,
            "count": 0
           },
           {
            "bin_end": 0.6000000000000001,
            "bin_start": 0.5,
            "count": 0
           },
           {
            "bin_end": 0.7000000000000001,
            "bin_start": 0.6000000000000001,
            "count": 0
           },
           {
            "bin_end": 0.8,
            "bin_start": 0.7000000000000001,
            "count": 0
           },
           {
            "bin_end": 0.9,
            "bin_start": 0.8,
            "count": 0
           },
           {
            "bin_end": 1,
            "bin_start": 0.9,
            "count": 0
           }
          ],
          "max": null,
          "min": null,
          "nan_count": 597,
          "unique_count": 0
         }
        },
        {
         "dtype": "object",
         "name": "km",
         "stats": {
          "categories": [
           {
            "count": 597,
            "name": "Missing"
           }
          ],
          "nan_count": 597,
          "unique_count": 0
         }
        },
        {
         "dtype": "object",
         "name": "municipio",
         "stats": {
          "categories": [
           {
            "count": 20,
            "name": "CANOAS"
           },
           {
            "count": 14,
            "name": "FOZ DO IGUACU"
           },
           {
            "count": 563,
            "name": "310 others"
           }
          ],
          "nan_count": 0,
          "unique_count": 312
         }
        },
        {
         "dtype": "object",
         "name": "causa_acidente",
         "stats": {
          "categories": [
           {
            "count": 196,
            "name": "Falta de Atenção à Condução"
           },
           {
            "count": 69,
            "name": "Desobediência às normas de trânsito pelo condutor"
           },
           {
            "count": 332,
            "name": "46 others"
           }
          ],
          "nan_count": 0,
          "unique_count": 48
         }
        },
        {
         "dtype": "object",
         "name": "tipo_acidente",
         "stats": {
          "categories": [
           {
            "count": 101,
            "name": "Colisão transversal"
           },
           {
            "count": 90,
            "name": "Colisão com objeto estático"
           },
           {
            "count": 406,
            "name": "17 others"
           }
          ],
          "nan_count": 0,
          "unique_count": 19
         }
        },
        {
         "dtype": "object",
         "name": "classificacao_acidente",
         "stats": {
          "categories": [
           {
            "count": 315,
            "name": "Com Vítimas Feridas"
           },
           {
            "count": 271,
            "name": "Sem Vítimas"
           },
           {
            "count": 11,
            "name": "Com Vítimas Fatais"
           }
          ],
          "nan_count": 0,
          "unique_count": 3
         }
        },
        {
         "dtype": "object",
         "name": "fase_dia",
         "stats": {
          "categories": [
           {
            "count": 356,
            "name": "Pleno dia"
           },
           {
            "count": 191,
            "name": "Plena Noite"
           },
           {
            "count": 50,
            "name": "2 others"
           }
          ],
          "nan_count": 0,
          "unique_count": 4
         }
        },
        {
         "dtype": "object",
         "name": "sentido_via",
         "stats": {
          "categories": [
           {
            "count": 597,
            "name": "Não Informado"
           }
          ],
          "nan_count": 0,
          "unique_count": 1
         }
        },
        {
         "dtype": "object",
         "name": "condicao_metereologica",
         "stats": {
          "categories": [
           {
            "count": 401,
            "name": "Céu Claro"
           },
           {
            "count": 77,
            "name": "Nublado"
           },
           {
            "count": 119,
            "name": "5 others"
           }
          ],
          "nan_count": 0,
          "unique_count": 7
         }
        },
        {
         "dtype": "object",
         "name": "tipo_pista",
         "stats": {
          "categories": [
           {
            "count": 435,
            "name": "Simples"
           },
           {
            "count": 134,
            "name": "Dupla"
           },
           {
            "count": 28,
            "name": "Múltipla"
           }
          ],
          "nan_count": 0,
          "unique_count": 3
         }
        },
        {
         "dtype": "object",
         "name": "tracado_via",
         "stats": {
          "categories": [
           {
            "count": 340,
            "name": "Reta"
           },
           {
            "count": 85,
            "name": "Curva"
           },
           {
            "count": 172,
            "name": "8 others"
           }
          ],
          "nan_count": 0,
          "unique_count": 10
         }
        },
        {
         "dtype": "object",
         "name": "uso_solo",
         "stats": {
          "categories": [
           {
            "count": 373,
            "name": "Sim"
           },
           {
            "count": 224,
            "name": "Não"
           }
          ],
          "nan_count": 0,
          "unique_count": 2
         }
        },
        {
         "dtype": "int64",
         "name": "pessoas",
         "stats": {
          "histogram": [
           {
            "bin_end": 1.7,
            "bin_start": 1,
            "count": 135
           },
           {
            "bin_end": 2.4,
            "bin_start": 1.7,
            "count": 263
           },
           {
            "bin_end": 3.0999999999999996,
            "bin_start": 2.4,
            "count": 117
           },
           {
            "bin_end": 3.8,
            "bin_start": 3.0999999999999996,
            "count": 0
           },
           {
            "bin_end": 4.5,
            "bin_start": 3.8,
            "count": 48
           },
           {
            "bin_end": 5.199999999999999,
            "bin_start": 4.5,
            "count": 23
           },
           {
            "bin_end": 5.8999999999999995,
            "bin_start": 5.199999999999999,
            "count": 0
           },
           {
            "bin_end": 6.6,
            "bin_start": 5.8999999999999995,
            "count": 8
           },
           {
            "bin_end": 7.3,
            "bin_start": 6.6,
            "count": 0
           },
           {
            "bin_end": 8,
            "bin_start": 7.3,
            "count": 3
           }
          ],
          "max": "8",
          "min": "1",
          "nan_count": 0,
          "unique_count": 7
         }
        },
        {
         "dtype": "int64",
         "name": "mortos",
         "stats": {
          "histogram": [
           {
            "bin_end": 0.2,
            "bin_start": 0,
            "count": 586
           },
           {
            "bin_end": 0.4,
            "bin_start": 0.2,
            "count": 0
           },
           {
            "bin_end": 0.6000000000000001,
            "bin_start": 0.4,
            "count": 0
           },
           {
            "bin_end": 0.8,
            "bin_start": 0.6000000000000001,
            "count": 0
           },
           {
            "bin_end": 1,
            "bin_start": 0.8,
            "count": 0
           },
           {
            "bin_end": 1.2000000000000002,
            "bin_start": 1,
            "count": 10
           },
           {
            "bin_end": 1.4000000000000001,
            "bin_start": 1.2000000000000002,
            "count": 0
           },
           {
            "bin_end": 1.6,
            "bin_start": 1.4000000000000001,
            "count": 0
           },
           {
            "bin_end": 1.8,
            "bin_start": 1.6,
            "count": 0
           },
           {
            "bin_end": 2,
            "bin_start": 1.8,
            "count": 1
           }
          ],
          "max": "2",
          "min": "0",
          "nan_count": 0,
          "unique_count": 3
         }
        },
        {
         "dtype": "int64",
         "name": "feridos_leves",
         "stats": {
          "histogram": [
           {
            "bin_end": 0.4,
            "bin_start": 0,
            "count": 346
           },
           {
            "bin_end": 0.8,
            "bin_start": 0.4,
            "count": 0
           },
           {
            "bin_end": 1.2000000000000002,
            "bin_start": 0.8,
            "count": 207
           },
           {
            "bin_end": 1.6,
            "bin_start": 1.2000000000000002,
            "count": 0
           },
           {
            "bin_end": 2,
            "bin_start": 1.6,
            "count": 0
           },
           {
            "bin_end": 2.4000000000000004,
            "bin_start": 2,
            "count": 33
           },
           {
            "bin_end": 2.8000000000000003,
            "bin_start": 2.4000000000000004,
            "count": 0
           },
           {
            "bin_end": 3.2,
            "bin_start": 2.8000000000000003,
            "count": 7
           },
           {
            "bin_end": 3.6,
            "bin_start": 3.2,
            "count": 0
           },
           {
            "bin_end": 4,
            "bin_start": 3.6,
            "count": 4
           }
          ],
          "max": "4",
          "min": "0",
          "nan_count": 0,
          "unique_count": 5
         }
        },
        {
         "dtype": "int64",
         "name": "feridos_graves",
         "stats": {
          "histogram": [
           {
            "bin_end": 0.3,
            "bin_start": 0,
            "count": 513
           },
           {
            "bin_end": 0.6,
            "bin_start": 0.3,
            "count": 0
           },
           {
            "bin_end": 0.8999999999999999,
            "bin_start": 0.6,
            "count": 0
           },
           {
            "bin_end": 1.2,
            "bin_start": 0.8999999999999999,
            "count": 78
           },
           {
            "bin_end": 1.5,
            "bin_start": 1.2,
            "count": 0
           },
           {
            "bin_end": 1.7999999999999998,
            "bin_start": 1.5,
            "count": 0
           },
           {
            "bin_end": 2.1,
            "bin_start": 1.7999999999999998,
            "count": 5
           },
           {
            "bin_end": 2.4,
            "bin_start": 2.1,
            "count": 0
           },
           {
            "bin_end": 2.6999999999999997,
            "bin_start": 2.4,
            "count": 0
           },
           {
            "bin_end": 3,
            "bin_start": 2.6999999999999997,
            "count": 1
           }
          ],
          "max": "3",
          "min": "0",
          "nan_count": 0,
          "unique_count": 4
         }
        },
        {
         "dtype": "int64",
         "name": "ilesos",
         "stats": {
          "histogram": [
           {
            "bin_end": 0.6,
            "bin_start": 0,
            "count": 122
           },
           {
            "bin_end": 1.2,
            "bin_start": 0.6,
            "count": 235
           },
           {
            "bin_end": 1.7999999999999998,
            "bin_start": 1.2,
            "count": 0
           },
           {
            "bin_end": 2.4,
            "bin_start": 1.7999999999999998,
            "count": 156
           },
           {
            "bin_end": 3,
            "bin_start": 2.4,
            "count": 0
           },
           {
            "bin_end": 3.5999999999999996,
            "bin_start": 3,
            "count": 58
           },
           {
            "bin_end": 4.2,
            "bin_start": 3.5999999999999996,
            "count": 20
           },
           {
            "bin_end": 4.8,
            "bin_start": 4.2,
            "count": 0
           },
           {
            "bin_end": 5.3999999999999995,
            "bin_start": 4.8,
            "count": 4
           },
           {
            "bin_end": 6,
            "bin_start": 5.3999999999999995,
            "count": 2
           }
          ],
          "max": "6",
          "min": "0",
          "nan_count": 0,
          "unique_count": 7
         }
        },
        {
         "dtype": "int64",
         "name": "ignorados",
         "stats": {
          "histogram": [
           {
            "bin_end": 0.6,
            "bin_start": 0,
            "count": 489
           },
           {
            "bin_end": 1.2,
            "bin_start": 0.6,
            "count": 85
           },
           {
            "bin_end": 1.7999999999999998,
            "bin_start": 1.2,
            "count": 0
           },
           {
            "bin_end": 2.4,
            "bin_start": 1.7999999999999998,
            "count": 14
           },
           {
            "bin_end": 3,
            "bin_start": 2.4,
            "count": 0
           },
           {
            "bin_end": 3.5999999999999996,
            "bin_start": 3,
            "count": 6
           },
           {
            "bin_end": 4.2,
            "bin_start": 3.5999999999999996,
            "count": 2
           },
           {
            "bin_end": 4.8,
            "bin_start": 4.2,
            "count": 0
           },
           {
            "bin_end": 5.3999999999999995,
            "bin_start": 4.8,
            "count": 0
           },
           {
            "bin_end": 6,
            "bin_start": 5.3999999999999995,
            "count": 1
           }
          ],
          "max": "6",
          "min": "0",
          "nan_count": 0,
          "unique_count": 6
         }
        },
        {
         "dtype": "int64",
         "name": "feridos",
         "stats": {
          "histogram": [
           {
            "bin_end": 0.6,
            "bin_start": 0,
            "count": 282
           },
           {
            "bin_end": 1.2,
            "bin_start": 0.6,
            "count": 254
           },
           {
            "bin_end": 1.7999999999999998,
            "bin_start": 1.2,
            "count": 0
           },
           {
            "bin_end": 2.4,
            "bin_start": 1.7999999999999998,
            "count": 46
           },
           {
            "bin_end": 3,
            "bin_start": 2.4,
            "count": 0
           },
           {
            "bin_end": 3.5999999999999996,
            "bin_start": 3,
            "count": 8
           },
           {
            "bin_end": 4.2,
            "bin_start": 3.5999999999999996,
            "count": 5
           },
           {
            "bin_end": 4.8,
            "bin_start": 4.2,
            "count": 0
           },
           {
            "bin_end": 5.3999999999999995,
            "bin_start": 4.8,
            "count": 1
           },
           {
            "bin_end": 6,
            "bin_start": 5.3999999999999995,
            "count": 1
           }
          ],
          "max": "6",
          "min": "0",
          "nan_count": 0,
          "unique_count": 7
         }
        },
        {
         "dtype": "int64",
         "name": "veiculos",
         "stats": {
          "histogram": [
           {
            "bin_end": 1.6,
            "bin_start": 1,
            "count": 251
           },
           {
            "bin_end": 2.2,
            "bin_start": 1.6,
            "count": 318
           },
           {
            "bin_end": 2.8,
            "bin_start": 2.2,
            "count": 0
           },
           {
            "bin_end": 3.4,
            "bin_start": 2.8,
            "count": 24
           },
           {
            "bin_end": 4,
            "bin_start": 3.4,
            "count": 0
           },
           {
            "bin_end": 4.6,
            "bin_start": 4,
            "count": 3
           },
           {
            "bin_end": 5.2,
            "bin_start": 4.6,
            "count": 0
           },
           {
            "bin_end": 5.8,
            "bin_start": 5.2,
            "count": 0
           },
           {
            "bin_end": 6.3999999999999995,
            "bin_start": 5.8,
            "count": 0
           },
           {
            "bin_end": 7,
            "bin_start": 6.3999999999999995,
            "count": 1
           }
          ],
          "max": "7",
          "min": "1",
          "nan_count": 0,
          "unique_count": 5
         }
        },
        {
         "dtype": "object",
         "name": "latitude",
         "stats": {
          "categories": [
           {
            "count": 3,
            "name": "-24,8386"
           },
           {
            "count": 2,
            "name": "-29,96058"
           },
           {
            "count": 592,
            "name": "591 others"
           }
          ],
          "nan_count": 0,
          "unique_count": 593
         }
        },
        {
         "dtype": "object",
         "name": "longitude",
         "stats": {
          "categories": [
           {
            "count": 3,
            "name": "-51,17603"
           },
           {
            "count": 3,
            "name": "-53,3091"
           },
           {
            "count": 591,
            "name": "590 others"
           }
          ],
          "nan_count": 0,
          "unique_count": 592
         }
        },
        {
         "dtype": "object",
         "name": "regional",
         "stats": {
          "categories": [
           {
            "count": 74,
            "name": "SR-PR"
           },
           {
            "count": 60,
            "name": "SR-RS"
           },
           {
            "count": 463,
            "name": "26 others"
           }
          ],
          "nan_count": 0,
          "unique_count": 28
         }
        },
        {
         "dtype": "object",
         "name": "delegacia",
         "stats": {
          "categories": [
           {
            "count": 119,
            "name": "UOP01"
           },
           {
            "count": 30,
            "name": "UOP03"
           },
           {
            "count": 448,
            "name": "155 others"
           }
          ],
          "nan_count": 0,
          "unique_count": 157
         }
        },
        {
         "dtype": "object",
         "name": "uop",
         "stats": {
          "categories": [
           {
            "count": 54,
            "name": "DEL01"
           },
           {
            "count": 500,
            "name": "102 others"
           },
           {
            "count": 43,
            "name": "Missing"
           }
          ],
          "nan_count": 43,
          "unique_count": 103
         }
        },
        {
         "dtype": "int64",
         "name": "_deepnote_index_column"
        }
       ],
       "row_count": 597,
       "rows_bottom": [
        {
         "_deepnote_index_column": 315481,
         "br": "nan",
         "causa_acidente": "Acessar a via sem observar a presença dos outros veículos",
         "classificacao_acidente": "Sem Vítimas",
         "condicao_metereologica": "Céu Claro",
         "data_inversa": "2021-06-04",
         "delegacia": "UOP01",
         "dia_semana": "sexta-feira",
         "fase_dia": "Pleno dia",
         "feridos": 0,
         "feridos_graves": 0,
         "feridos_leves": 0,
         "horario": "15:15:00",
         "id": 361996,
         "ignorados": 0,
         "ilesos": 5,
         "km": "nan",
         "latitude": "-9,92084187",
         "longitude": "-63,06367993",
         "mortos": 0,
         "municipio": "ARIQUEMES",
         "pessoas": 5,
         "regional": "SR-RO",
         "sentido_via": "Não Informado",
         "tipo_acidente": "Colisão lateral mesmo sentido",
         "tipo_pista": "Simples",
         "tracado_via": "Reta",
         "uf": "RO",
         "uop": "DEL03",
         "uso_solo": "Sim",
         "veiculos": 2
        },
        {
         "_deepnote_index_column": 315535,
         "br": "nan",
         "causa_acidente": "Acessar a via sem observar a presença dos outros veículos",
         "classificacao_acidente": "Com Vítimas Feridas",
         "condicao_metereologica": "Céu Claro",
         "data_inversa": "2021-06-04",
         "delegacia": "UOP01",
         "dia_semana": "sexta-feira",
         "fase_dia": "Plena Noite",
         "feridos": 1,
         "feridos_graves": 0,
         "feridos_leves": 1,
         "horario": "19:25:00",
         "id": 362060,
         "ignorados": 0,
         "ilesos": 1,
         "km": "nan",
         "latitude": "-24,86961742",
         "longitude": "-53,34205627",
         "mortos": 0,
         "municipio": "CASCAVEL",
         "pessoas": 2,
         "regional": "SR-PR",
         "sentido_via": "Não Informado",
         "tipo_acidente": "Colisão transversal",
         "tipo_pista": "Simples",
         "tracado_via": "Reta",
         "uf": "PR",
         "uop": "DEL04",
         "uso_solo": "Sim",
         "veiculos": 2
        },
        {
         "_deepnote_index_column": 316670,
         "br": "nan",
         "causa_acidente": "Velocidade Incompatível",
         "classificacao_acidente": "Sem Vítimas",
         "condicao_metereologica": "Nublado",
         "data_inversa": "2021-06-10",
         "delegacia": "UOP02",
         "dia_semana": "quinta-feira",
         "fase_dia": "Plena Noite",
         "feridos": 0,
         "feridos_graves": 0,
         "feridos_leves": 0,
         "horario": "20:50:00",
         "id": 363342,
         "ignorados": 0,
         "ilesos": 4,
         "km": "nan",
         "latitude": "-9,399642",
         "longitude": "-36,664005",
         "mortos": 0,
         "municipio": "PALMEIRA DOS INDIOS",
         "pessoas": 4,
         "regional": "SR-AL",
         "sentido_via": "Não Informado",
         "tipo_acidente": "Colisão frontal",
         "tipo_pista": "Simples",
         "tracado_via": "Reta",
         "uf": "AL",
         "uop": "DEL03",
         "uso_solo": "Não",
         "veiculos": 2
        },
        {
         "_deepnote_index_column": 316793,
         "br": "nan",
         "causa_acidente": "Acesso irregular",
         "classificacao_acidente": "Sem Vítimas",
         "condicao_metereologica": "Céu Claro",
         "data_inversa": "2021-06-11",
         "delegacia": "UOP02",
         "dia_semana": "sexta-feira",
         "fase_dia": "Pleno dia",
         "feridos": 0,
         "feridos_graves": 0,
         "feridos_leves": 0,
         "horario": "13:15:00",
         "id": 363481,
         "ignorados": 0,
         "ilesos": 3,
         "km": "nan",
         "latitude": "-16,56210173",
         "longitude": "-41,50831288",
         "mortos": 0,
         "municipio": "ITAOBIM",
         "pessoas": 3,
         "regional": "SR-MG",
         "sentido_via": "Não Informado",
         "tipo_acidente": "Colisão lateral sentido oposto",
         "tipo_pista": "Simples",
         "tracado_via": "Interseção de vias",
         "uf": "MG",
         "uop": "DEL11",
         "uso_solo": "Sim",
         "veiculos": 2
        },
        {
         "_deepnote_index_column": 316940,
         "br": "nan",
         "causa_acidente": "Acessar a via sem observar a presença dos outros veículos",
         "classificacao_acidente": "Com Vítimas Feridas",
         "condicao_metereologica": "Sol",
         "data_inversa": "2021-06-12",
         "delegacia": "UOP01",
         "dia_semana": "sábado",
         "fase_dia": "Pleno dia",
         "feridos": 1,
         "feridos_graves": 0,
         "feridos_leves": 1,
         "horario": "09:15:00",
         "id": 363644,
         "ignorados": 1,
         "ilesos": 1,
         "km": "nan",
         "latitude": "-24,8631734",
         "longitude": "-53,33672589",
         "mortos": 0,
         "municipio": "CASCAVEL",
         "pessoas": 3,
         "regional": "SR-PR",
         "sentido_via": "Não Informado",
         "tipo_acidente": "Saída de leito carroçável",
         "tipo_pista": "Simples",
         "tracado_via": "Interseção de vias",
         "uf": "PR",
         "uop": "DEL04",
         "uso_solo": "Não",
         "veiculos": 2
        },
        {
         "_deepnote_index_column": 317012,
         "br": "nan",
         "causa_acidente": "Frear bruscamente",
         "classificacao_acidente": "Sem Vítimas",
         "condicao_metereologica": "Céu Claro",
         "data_inversa": "2021-06-12",
         "delegacia": "UOP03",
         "dia_semana": "sábado",
         "fase_dia": "Pleno dia",
         "feridos": 0,
         "feridos_graves": 0,
         "feridos_leves": 0,
         "horario": "16:08:00",
         "id": 363728,
         "ignorados": 2,
         "ilesos": 2,
         "km": "nan",
         "latitude": "-7,29298",
         "longitude": "-35,887876",
         "mortos": 0,
         "municipio": "CAMPINA GRANDE",
         "pessoas": 4,
         "regional": "SR-PB",
         "sentido_via": "Não Informado",
         "tipo_acidente": "Colisão traseira",
         "tipo_pista": "Simples",
         "tracado_via": "Não Informado",
         "uf": "PB",
         "uop": "DEL02",
         "uso_solo": "Sim",
         "veiculos": 2
        },
        {
         "_deepnote_index_column": 317175,
         "br": "nan",
         "causa_acidente": "Problema com o freio",
         "classificacao_acidente": "Sem Vítimas",
         "condicao_metereologica": "Céu Claro",
         "data_inversa": "2021-06-13",
         "delegacia": "UOP01",
         "dia_semana": "domingo",
         "fase_dia": "Pleno dia",
         "feridos": 0,
         "feridos_graves": 0,
         "feridos_leves": 0,
         "horario": "15:10:00",
         "id": 363912,
         "ignorados": 0,
         "ilesos": 2,
         "km": "nan",
         "latitude": "-16,20960124",
         "longitude": "-47,92796558",
         "mortos": 0,
         "municipio": "LUZIANIA",
         "pessoas": 2,
         "regional": "SR-DF",
         "sentido_via": "Não Informado",
         "tipo_acidente": "Colisão com objeto",
         "tipo_pista": "Dupla",
         "tracado_via": "Reta",
         "uf": "GO",
         "uop": "DEL01",
         "uso_solo": "Sim",
         "veiculos": 1
        },
        {
         "_deepnote_index_column": 317273,
         "br": "nan",
         "causa_acidente": "Condutor deixou de manter distância do veículo da frente",
         "classificacao_acidente": "Sem Vítimas",
         "condicao_metereologica": "Céu Claro",
         "data_inversa": "2021-06-13",
         "delegacia": "UOP01",
         "dia_semana": "domingo",
         "fase_dia": "Plena Noite",
         "feridos": 0,
         "feridos_graves": 0,
         "feridos_leves": 0,
         "horario": "19:05:00",
         "id": 364023,
         "ignorados": 1,
         "ilesos": 3,
         "km": "nan",
         "latitude": "-9,91888671",
         "longitude": "-63,06061685",
         "mortos": 0,
         "municipio": "ARIQUEMES",
         "pessoas": 4,
         "regional": "SR-RO",
         "sentido_via": "Não Informado",
         "tipo_acidente": "Colisão traseira",
         "tipo_pista": "Simples",
         "tracado_via": "Reta",
         "uf": "RO",
         "uop": "DEL03",
         "uso_solo": "Sim",
         "veiculos": 2
        },
        {
         "_deepnote_index_column": 317278,
         "br": "nan",
         "causa_acidente": "Transitar na contramão",
         "classificacao_acidente": "Com Vítimas Feridas",
         "condicao_metereologica": "Céu Claro",
         "data_inversa": "2021-06-13",
         "delegacia": "UOP01",
         "dia_semana": "domingo",
         "fase_dia": "Plena Noite",
         "feridos": 2,
         "feridos_graves": 1,
         "feridos_leves": 1,
         "horario": "20:38:00",
         "id": 364029,
         "ignorados": 0,
         "ilesos": 2,
         "km": "nan",
         "latitude": "-9,8812355",
         "longitude": "-63,0570759",
         "mortos": 0,
         "municipio": "ARIQUEMES",
         "pessoas": 4,
         "regional": "SR-RO",
         "sentido_via": "Não Informado",
         "tipo_acidente": "Colisão lateral sentido oposto",
         "tipo_pista": "Simples",
         "tracado_via": "Reta",
         "uf": "RO",
         "uop": "DEL03",
         "uso_solo": "Sim",
         "veiculos": 2
        },
        {
         "_deepnote_index_column": 317557,
         "br": "nan",
         "causa_acidente": "Desrespeitar a preferência no cruzamento",
         "classificacao_acidente": "Com Vítimas Feridas",
         "condicao_metereologica": "Céu Claro",
         "data_inversa": "2021-06-15",
         "delegacia": "UOP04",
         "dia_semana": "terça-feira",
         "fase_dia": "Pleno dia",
         "feridos": 1,
         "feridos_graves": 0,
         "feridos_leves": 1,
         "horario": "11:30:00",
         "id": 364339,
         "ignorados": 0,
         "ilesos": 1,
         "km": "nan",
         "latitude": "-22,87666944",
         "longitude": "-43,81927382",
         "mortos": 0,
         "municipio": "ITAGUAI",
         "pessoas": 2,
         "regional": "SR-RJ",
         "sentido_via": "Não Informado",
         "tipo_acidente": "Colisão frontal",
         "tipo_pista": "Simples",
         "tracado_via": "Reta",
         "uf": "RJ",
         "uop": "DEL01",
         "uso_solo": "Sim",
         "veiculos": 2
        },
        {
         "_deepnote_index_column": 318186,
         "br": "nan",
         "causa_acidente": "Conversão proibida",
         "classificacao_acidente": "Sem Vítimas",
         "condicao_metereologica": "Céu Claro",
         "data_inversa": "2021-06-19",
         "delegacia": "UOP01",
         "dia_semana": "sábado",
         "fase_dia": "Plena Noite",
         "feridos": 0,
         "feridos_graves": 0,
         "feridos_leves": 0,
         "horario": "04:00:00",
         "id": 365050,
         "ignorados": 2,
         "ilesos": 0,
         "km": "nan",
         "latitude": "-3,70363443",
         "longitude": "-38,63441225",
         "mortos": 0,
         "municipio": "CAUCAIA",
         "pessoas": 2,
         "regional": "SR-CE",
         "sentido_via": "Não Informado",
         "tipo_acidente": "Saída de leito carroçável",
         "tipo_pista": "Dupla",
         "tracado_via": "Curva",
         "uf": "CE",
         "uop": "DEL01",
         "uso_solo": "Sim",
         "veiculos": 1
        },
        {
         "_deepnote_index_column": 318235,
         "br": "nan",
         "causa_acidente": "Afundamento ou ondulação no pavimento",
         "classificacao_acidente": "Sem Vítimas",
         "condicao_metereologica": "Céu Claro",
         "data_inversa": "2021-06-19",
         "delegacia": "UOP01",
         "dia_semana": "sábado",
         "fase_dia": "Pleno dia",
         "feridos": 0,
         "feridos_graves": 0,
         "feridos_leves": 0,
         "horario": "11:40:00",
         "id": 365108,
         "ignorados": 0,
         "ilesos": 1,
         "km": "nan",
         "latitude": "-14,37282944",
         "longitude": "-59,53268789",
         "mortos": 0,
         "municipio": "NOVA LACERDA",
         "pessoas": 1,
         "regional": "SR-MT",
         "sentido_via": "Não Informado",
         "tipo_acidente": "Tombamento",
         "tipo_pista": "Simples",
         "tracado_via": "Reta",
         "uf": "MT",
         "uop": "DEL04",
         "uso_solo": "Não",
         "veiculos": 1
        },
        {
         "_deepnote_index_column": 319309,
         "br": "nan",
         "causa_acidente": "Frear bruscamente",
         "classificacao_acidente": "Sem Vítimas",
         "condicao_metereologica": "Nublado",
         "data_inversa": "2021-06-17",
         "delegacia": "UOP01",
         "dia_semana": "quinta-feira",
         "fase_dia": "Plena Noite",
         "feridos": 0,
         "feridos_graves": 0,
         "feridos_leves": 0,
         "horario": "21:00:00",
         "id": 366313,
         "ignorados": 0,
         "ilesos": 2,
         "km": "nan",
         "latitude": "-23,86213995",
         "longitude": "-46,94718508",
         "mortos": 0,
         "municipio": "SAO LOURENCO DA SERRA",
         "pessoas": 2,
         "regional": "SR-SP",
         "sentido_via": "Não Informado",
         "tipo_acidente": "Colisão traseira",
         "tipo_pista": "Dupla",
         "tracado_via": "Reta",
         "uf": "SP",
         "uop": "DEL04",
         "uso_solo": "Sim",
         "veiculos": 2
        },
        {
         "_deepnote_index_column": 319379,
         "br": "nan",
         "causa_acidente": "Reação tardia ou ineficiente do condutor",
         "classificacao_acidente": "Com Vítimas Feridas",
         "condicao_metereologica": "Sol",
         "data_inversa": "2021-06-25",
         "delegacia": "UOP03",
         "dia_semana": "sexta-feira",
         "fase_dia": "Pleno dia",
         "feridos": 1,
         "feridos_graves": 1,
         "feridos_leves": 0,
         "horario": "14:00:00",
         "id": 366389,
         "ignorados": 0,
         "ilesos": 1,
         "km": "nan",
         "latitude": "-22,735125",
         "longitude": "-42,719902",
         "mortos": 0,
         "municipio": "TANGUA",
         "pessoas": 2,
         "regional": "SR-RJ",
         "sentido_via": "Não Informado",
         "tipo_acidente": "Colisão transversal",
         "tipo_pista": "Simples",
         "tracado_via": "Reta",
         "uf": "RJ",
         "uop": "DEL02",
         "uso_solo": "Sim",
         "veiculos": 2
        },
        {
         "_deepnote_index_column": 319717,
         "br": "nan",
         "causa_acidente": "Reação tardia ou ineficiente do condutor",
         "classificacao_acidente": "Sem Vítimas",
         "condicao_metereologica": "Céu Claro",
         "data_inversa": "2021-06-27",
         "delegacia": "DEL04",
         "dia_semana": "domingo",
         "fase_dia": "Pleno dia",
         "feridos": 0,
         "feridos_graves": 0,
         "feridos_leves": 0,
         "horario": "08:09:00",
         "id": 366765,
         "ignorados": 0,
         "ilesos": 2,
         "km": "nan",
         "latitude": "-23,65651401",
         "longitude": "-46,85200095",
         "mortos": 0,
         "municipio": "EMBU DAS ARTES",
         "pessoas": 2,
         "regional": "SR-SP",
         "sentido_via": "Não Informado",
         "tipo_acidente": "Colisão com objeto",
         "tipo_pista": "Simples",
         "tracado_via": "Reta",
         "uf": "SP",
         "uop": "SP",
         "uso_solo": "Sim",
         "veiculos": 1
        },
        {
         "_deepnote_index_column": 319891,
         "br": "nan",
         "causa_acidente": "Ingestão de álcool e/ou substâncias psicoativas pelo pedestre",
         "classificacao_acidente": "Com Vítimas Feridas",
         "condicao_metereologica": "Céu Claro",
         "data_inversa": "2021-06-28",
         "delegacia": "UOP02",
         "dia_semana": "segunda-feira",
         "fase_dia": "Pleno dia",
         "feridos": 4,
         "feridos_graves": 0,
         "feridos_leves": 4,
         "horario": "06:00:00",
         "id": 366957,
         "ignorados": 0,
         "ilesos": 1,
         "km": "nan",
         "latitude": "-23,02147898",
         "longitude": "-44,52344494",
         "mortos": 0,
         "municipio": "ANGRA DOS REIS",
         "pessoas": 5,
         "regional": "SR-RJ",
         "sentido_via": "Não Informado",
         "tipo_acidente": "Saída de leito carroçável",
         "tipo_pista": "Simples",
         "tracado_via": "Reta",
         "uf": "RJ",
         "uop": "DEL03",
         "uso_solo": "Sim",
         "veiculos": 1
        },
        {
         "_deepnote_index_column": 320094,
         "br": "nan",
         "causa_acidente": "Neblina",
         "classificacao_acidente": "Sem Vítimas",
         "condicao_metereologica": "Nevoeiro/Neblina",
         "data_inversa": "2021-06-29",
         "delegacia": "UOP03",
         "dia_semana": "terça-feira",
         "fase_dia": "Amanhecer",
         "feridos": 0,
         "feridos_graves": 0,
         "feridos_leves": 0,
         "horario": "07:20:00",
         "id": 367188,
         "ignorados": 0,
         "ilesos": 1,
         "km": "nan",
         "latitude": "-25,50982809",
         "longitude": "-54,59753461",
         "mortos": 0,
         "municipio": "FOZ DO IGUACU",
         "pessoas": 1,
         "regional": "SR-PR",
         "sentido_via": "Não Informado",
         "tipo_acidente": "Colisão com objeto",
         "tipo_pista": "Simples",
         "tracado_via": "Curva",
         "uf": "PR",
         "uop": "DEL05",
         "uso_solo": "Sim",
         "veiculos": 1
        }
       ],
       "rows_top": [
        {
         "_deepnote_index_column": 1171,
         "br": "nan",
         "causa_acidente": "Pista Escorregadia",
         "classificacao_acidente": "Sem Vítimas",
         "condicao_metereologica": "Céu Claro",
         "data_inversa": "2019-01-08",
         "delegacia": "DEL9/12",
         "dia_semana": "terça-feira",
         "fase_dia": "Plena Noite",
         "feridos": 0,
         "feridos_graves": 0,
         "feridos_leves": 0,
         "horario": "21:25:00",
         "id": 184100,
         "ignorados": 1,
         "ilesos": 2,
         "km": "nan",
         "latitude": "-28,66158775",
         "longitude": "-55,99882414",
         "mortos": 0,
         "municipio": "SAO BORJA",
         "pessoas": 3,
         "regional": "SR-RS",
         "sentido_via": "Não Informado",
         "tipo_acidente": "Colisão traseira",
         "tipo_pista": "Simples",
         "tracado_via": "Interseção de vias",
         "uf": "RS",
         "uop": "UOP01/RS",
         "uso_solo": "Sim",
         "veiculos": 2
        },
        {
         "_deepnote_index_column": 1629,
         "br": "nan",
         "causa_acidente": "Falta de Atenção à Condução",
         "classificacao_acidente": "Sem Vítimas",
         "condicao_metereologica": "Céu Claro",
         "data_inversa": "2019-01-11",
         "delegacia": "DEL16/1",
         "dia_semana": "sexta-feira",
         "fase_dia": "Plena Noite",
         "feridos": 0,
         "feridos_graves": 0,
         "feridos_leves": 0,
         "horario": "20:36:00",
         "id": 184669,
         "ignorados": 0,
         "ilesos": 4,
         "km": "nan",
         "latitude": "-3,9240005",
         "longitude": "-38,5144729",
         "mortos": 0,
         "municipio": "ITAITINGA",
         "pessoas": 4,
         "regional": "SR-CE",
         "sentido_via": "Não Informado",
         "tipo_acidente": "Colisão com objeto estático",
         "tipo_pista": "Simples",
         "tracado_via": "Interseção de vias",
         "uf": "CE",
         "uop": "UOP02/CE",
         "uso_solo": "Sim",
         "veiculos": 2
        },
        {
         "_deepnote_index_column": 1683,
         "br": "nan",
         "causa_acidente": "Falta de Atenção à Condução",
         "classificacao_acidente": "Sem Vítimas",
         "condicao_metereologica": "Chuva",
         "data_inversa": "2019-01-12",
         "delegacia": "DEL7/1",
         "dia_semana": "sábado",
         "fase_dia": "Plena Noite",
         "feridos": 0,
         "feridos_graves": 0,
         "feridos_leves": 0,
         "horario": "03:00:00",
         "id": 184736,
         "ignorados": 0,
         "ilesos": 1,
         "km": "nan",
         "latitude": "-25,71329112",
         "longitude": "-49,31824197",
         "mortos": 0,
         "municipio": "FAZENDA RIO GRANDE",
         "pessoas": 1,
         "regional": "SR-PR",
         "sentido_via": "Não Informado",
         "tipo_acidente": "Capotamento",
         "tipo_pista": "Simples",
         "tracado_via": "Reta",
         "uf": "PR",
         "uop": "UOP03/PR",
         "uso_solo": "Não",
         "veiculos": 1
        },
        {
         "_deepnote_index_column": 2343,
         "br": "nan",
         "causa_acidente": "Falta de Atenção à Condução",
         "classificacao_acidente": "Com Vítimas Feridas",
         "condicao_metereologica": "Sol",
         "data_inversa": "2019-01-16",
         "delegacia": "DEL1/6",
         "dia_semana": "quarta-feira",
         "fase_dia": "Pleno dia",
         "feridos": 1,
         "feridos_graves": 0,
         "feridos_leves": 1,
         "horario": "08:40:00",
         "id": 185538,
         "ignorados": 0,
         "ilesos": 1,
         "km": "nan",
         "latitude": "-18,10702393",
         "longitude": "-47,8894043",
         "mortos": 0,
         "municipio": "CATALAO",
         "pessoas": 2,
         "regional": "SR-GO",
         "sentido_via": "Não Informado",
         "tipo_acidente": "Colisão transversal",
         "tipo_pista": "Simples",
         "tracado_via": "Não Informado",
         "uf": "GO",
         "uop": "UOP01/GO",
         "uso_solo": "Não",
         "veiculos": 2
        },
        {
         "_deepnote_index_column": 2712,
         "br": "nan",
         "causa_acidente": "Defeito Mecânico no Veículo",
         "classificacao_acidente": "Sem Vítimas",
         "condicao_metereologica": "Nublado",
         "data_inversa": "2019-01-18",
         "delegacia": "CE",
         "dia_semana": "sexta-feira",
         "fase_dia": "Pleno dia",
         "feridos": 0,
         "feridos_graves": 0,
         "feridos_leves": 0,
         "horario": "16:45:00",
         "id": 186005,
         "ignorados": 2,
         "ilesos": 3,
         "km": "nan",
         "latitude": "-3,74484893",
         "longitude": "-38,58854413",
         "mortos": 0,
         "municipio": "FORTALEZA",
         "pessoas": 5,
         "regional": "SR-CE",
         "sentido_via": "Não Informado",
         "tipo_acidente": "Colisão com objeto estático",
         "tipo_pista": "Simples",
         "tracado_via": "Não Informado",
         "uf": "CE",
         "uop": "SRPRF/CE",
         "uso_solo": "Sim",
         "veiculos": 3
        },
        {
         "_deepnote_index_column": 3100,
         "br": "nan",
         "causa_acidente": "Ingestão de Álcool",
         "classificacao_acidente": "Sem Vítimas",
         "condicao_metereologica": "Céu Claro",
         "data_inversa": "2019-01-20",
         "delegacia": "DEL4/8",
         "dia_semana": "domingo",
         "fase_dia": "Pleno dia",
         "feridos": 0,
         "feridos_graves": 0,
         "feridos_leves": 0,
         "horario": "18:10:00",
         "id": 186459,
         "ignorados": 0,
         "ilesos": 2,
         "km": "nan",
         "latitude": "-19,78723",
         "longitude": "-45,23089",
         "mortos": 0,
         "municipio": "ARAUJOS",
         "pessoas": 2,
         "regional": "SR-MG",
         "sentido_via": "Não Informado",
         "tipo_acidente": "Colisão com objeto estático",
         "tipo_pista": "Simples",
         "tracado_via": "Reta",
         "uf": "MG",
         "uop": "UOP03/MG",
         "uso_solo": "Não",
         "veiculos": 1
        },
        {
         "_deepnote_index_column": 5660,
         "br": "nan",
         "causa_acidente": "Defeito Mecânico no Veículo",
         "classificacao_acidente": "Com Vítimas Feridas",
         "condicao_metereologica": "Céu Claro",
         "data_inversa": "2019-02-05",
         "delegacia": "DEL6/4",
         "dia_semana": "terça-feira",
         "fase_dia": "Pleno dia",
         "feridos": 2,
         "feridos_graves": 0,
         "feridos_leves": 2,
         "horario": "09:05:00",
         "id": 189455,
         "ignorados": 0,
         "ilesos": 0,
         "km": "nan",
         "latitude": "-23,70884",
         "longitude": "-46,87323",
         "mortos": 0,
         "municipio": "ITAPECERICA DA SERRA",
         "pessoas": 2,
         "regional": "SR-SP",
         "sentido_via": "Não Informado",
         "tipo_acidente": "Colisão com objeto estático",
         "tipo_pista": "Simples",
         "tracado_via": "Curva",
         "uf": "SP",
         "uop": "UOP01/SP",
         "uso_solo": "Sim",
         "veiculos": 1
        },
        {
         "_deepnote_index_column": 5980,
         "br": "nan",
         "causa_acidente": "Falta de Atenção à Condução",
         "classificacao_acidente": "Com Vítimas Feridas",
         "condicao_metereologica": "Céu Claro",
         "data_inversa": "2019-02-07",
         "delegacia": "DEL6/3",
         "dia_semana": "quinta-feira",
         "fase_dia": "Pleno dia",
         "feridos": 1,
         "feridos_graves": 0,
         "feridos_leves": 1,
         "horario": "07:30:00",
         "id": 189852,
         "ignorados": 0,
         "ilesos": 1,
         "km": "nan",
         "latitude": "-23,30947",
         "longitude": "-46,58958",
         "mortos": 0,
         "municipio": "MAIRIPORA",
         "pessoas": 2,
         "regional": "SR-SP",
         "sentido_via": "Não Informado",
         "tipo_acidente": "Colisão lateral",
         "tipo_pista": "Simples",
         "tracado_via": "Reta",
         "uf": "SP",
         "uop": "UOP02/SP",
         "uso_solo": "Sim",
         "veiculos": 2
        },
        {
         "_deepnote_index_column": 6431,
         "br": "nan",
         "causa_acidente": "Desobediência às normas de trânsito pelo condutor",
         "classificacao_acidente": "Com Vítimas Feridas",
         "condicao_metereologica": "Céu Claro",
         "data_inversa": "2019-02-09",
         "delegacia": "DEL5/2",
         "dia_semana": "sábado",
         "fase_dia": "Plena Noite",
         "feridos": 1,
         "feridos_graves": 0,
         "feridos_leves": 1,
         "horario": "21:00:00",
         "id": 190369,
         "ignorados": 0,
         "ilesos": 2,
         "km": "nan",
         "latitude": "-22,7203",
         "longitude": "-42,68042",
         "mortos": 0,
         "municipio": "RIO BONITO",
         "pessoas": 3,
         "regional": "SR-RJ",
         "sentido_via": "Não Informado",
         "tipo_acidente": "Colisão lateral",
         "tipo_pista": "Simples",
         "tracado_via": "Reta",
         "uf": "RJ",
         "uop": "UOP02/RJ",
         "uso_solo": "Sim",
         "veiculos": 2
        },
        {
         "_deepnote_index_column": 8722,
         "br": "nan",
         "causa_acidente": "Agressão Externa",
         "classificacao_acidente": "Sem Vítimas",
         "condicao_metereologica": "Nublado",
         "data_inversa": "2019-02-23",
         "delegacia": "DEL13",
         "dia_semana": "sábado",
         "fase_dia": "Plena Noite",
         "feridos": 0,
         "feridos_graves": 0,
         "feridos_leves": 0,
         "horario": "03:00:00",
         "id": 193010,
         "ignorados": 0,
         "ilesos": 1,
         "km": "nan",
         "latitude": "-19,4515",
         "longitude": "-48,0611",
         "mortos": 0,
         "municipio": "UBERABA",
         "pessoas": 1,
         "regional": "SR-MG",
         "sentido_via": "Não Informado",
         "tipo_acidente": "Incêndio",
         "tipo_pista": "Dupla",
         "tracado_via": "Reta",
         "uf": "MG",
         "uop": "UOP01/MG",
         "uso_solo": "Não",
         "veiculos": 1
        },
        {
         "_deepnote_index_column": 13942,
         "br": "nan",
         "causa_acidente": "Velocidade Incompatível",
         "classificacao_acidente": "Com Vítimas Feridas",
         "condicao_metereologica": "Céu Claro",
         "data_inversa": "2019-03-23",
         "delegacia": "DEL7/2",
         "dia_semana": "sábado",
         "fase_dia": "Pleno dia",
         "feridos": 1,
         "feridos_graves": 0,
         "feridos_leves": 1,
         "horario": "18:00:00",
         "id": 198964,
         "ignorados": 0,
         "ilesos": 0,
         "km": "nan",
         "latitude": "-26,01606",
         "longitude": "-52,5746",
         "mortos": 0,
         "municipio": "CORONEL VIVIDA",
         "pessoas": 1,
         "regional": "SR-PR",
         "sentido_via": "Não Informado",
         "tipo_acidente": "Saída de leito carroçável",
         "tipo_pista": "Simples",
         "tracado_via": "Reta",
         "uf": "PR",
         "uop": "UOP01/PR",
         "uso_solo": "Não",
         "veiculos": 1
        },
        {
         "_deepnote_index_column": 14459,
         "br": "nan",
         "causa_acidente": "Desobediência às normas de trânsito pelo condutor",
         "classificacao_acidente": "Com Vítimas Feridas",
         "condicao_metereologica": "Céu Claro",
         "data_inversa": "2019-03-27",
         "delegacia": "DEL9/1",
         "dia_semana": "quarta-feira",
         "fase_dia": "Pleno dia",
         "feridos": 1,
         "feridos_graves": 0,
         "feridos_leves": 1,
         "horario": "14:00:00",
         "id": 199547,
         "ignorados": 0,
         "ilesos": 1,
         "km": "nan",
         "latitude": "-29,90396",
         "longitude": "-51,17663",
         "mortos": 0,
         "municipio": "CANOAS",
         "pessoas": 2,
         "regional": "SR-RS",
         "sentido_via": "Não Informado",
         "tipo_acidente": "Colisão transversal",
         "tipo_pista": "Múltipla",
         "tracado_via": "Interseção de vias",
         "uf": "RS",
         "uop": "UOP01/RS",
         "uso_solo": "Sim",
         "veiculos": 2
        },
        {
         "_deepnote_index_column": 14620,
         "br": "nan",
         "causa_acidente": "Objeto estático sobre o leito carroçável",
         "classificacao_acidente": "Com Vítimas Feridas",
         "condicao_metereologica": "Céu Claro",
         "data_inversa": "2019-03-28",
         "delegacia": "DEL9/1",
         "dia_semana": "quinta-feira",
         "fase_dia": "Pleno dia",
         "feridos": 1,
         "feridos_graves": 0,
         "feridos_leves": 1,
         "horario": "14:45:00",
         "id": 199734,
         "ignorados": 0,
         "ilesos": 1,
         "km": "nan",
         "latitude": "-29,69745",
         "longitude": "-51,54633",
         "mortos": 0,
         "municipio": "MONTENEGRO",
         "pessoas": 2,
         "regional": "SR-RS",
         "sentido_via": "Não Informado",
         "tipo_acidente": "Colisão com objeto estático",
         "tipo_pista": "Simples",
         "tracado_via": "Reta",
         "uf": "RS",
         "uop": "UOP02/RS",
         "uso_solo": "Não",
         "veiculos": 1
        },
        {
         "_deepnote_index_column": 15765,
         "br": "nan",
         "causa_acidente": "Falta de Atenção à Condução",
         "classificacao_acidente": "Com Vítimas Feridas",
         "condicao_metereologica": "Céu Claro",
         "data_inversa": "2019-04-04",
         "delegacia": "DEL9/1",
         "dia_semana": "quinta-feira",
         "fase_dia": "Pleno dia",
         "feridos": 1,
         "feridos_graves": 0,
         "feridos_leves": 1,
         "horario": "07:00:00",
         "id": 201034,
         "ignorados": 0,
         "ilesos": 1,
         "km": "nan",
         "latitude": "-29,91376",
         "longitude": "-51,17773",
         "mortos": 0,
         "municipio": "CANOAS",
         "pessoas": 2,
         "regional": "SR-RS",
         "sentido_via": "Não Informado",
         "tipo_acidente": "Colisão lateral",
         "tipo_pista": "Múltipla",
         "tracado_via": "Interseção de vias",
         "uf": "RS",
         "uop": "UOP01/RS",
         "uso_solo": "Sim",
         "veiculos": 2
        },
        {
         "_deepnote_index_column": 15975,
         "br": "nan",
         "causa_acidente": "Falta de Atenção à Condução",
         "classificacao_acidente": "Sem Vítimas",
         "condicao_metereologica": "Céu Claro",
         "data_inversa": "2019-04-05",
         "delegacia": "UOP01/RR",
         "dia_semana": "sexta-feira",
         "fase_dia": "Pleno dia",
         "feridos": 0,
         "feridos_graves": 0,
         "feridos_leves": 0,
         "horario": "07:10:00",
         "id": 201267,
         "ignorados": 0,
         "ilesos": 4,
         "km": "nan",
         "latitude": "2,800895",
         "longitude": "-60,69457",
         "mortos": 0,
         "municipio": "BOA VISTA",
         "pessoas": 4,
         "regional": "SR-RR",
         "sentido_via": "Não Informado",
         "tipo_acidente": "Colisão lateral",
         "tipo_pista": "Dupla",
         "tracado_via": "Reta",
         "uf": "RR",
         "uop": "nan",
         "uso_solo": "Sim",
         "veiculos": 2
        },
        {
         "_deepnote_index_column": 16404,
         "br": "nan",
         "causa_acidente": "Falta de Atenção à Condução",
         "classificacao_acidente": "Com Vítimas Feridas",
         "condicao_metereologica": "Ignorado",
         "data_inversa": "2019-04-07",
         "delegacia": "DEL9/1",
         "dia_semana": "domingo",
         "fase_dia": "Amanhecer",
         "feridos": 2,
         "feridos_graves": 0,
         "feridos_leves": 2,
         "horario": "06:10:00",
         "id": 201740,
         "ignorados": 0,
         "ilesos": 0,
         "km": "nan",
         "latitude": "-29,96906",
         "longitude": "-51,16744",
         "mortos": 0,
         "municipio": "CANOAS",
         "pessoas": 2,
         "regional": "SR-RS",
         "sentido_via": "Não Informado",
         "tipo_acidente": "Colisão com objeto estático",
         "tipo_pista": "Simples",
         "tracado_via": "Reta",
         "uf": "RS",
         "uop": "UOP01/RS",
         "uso_solo": "Sim",
         "veiculos": 1
        }
       ]
      },
      "text/html": [
       "<div>\n",
       "<style scoped>\n",
       "    .dataframe tbody tr th:only-of-type {\n",
       "        vertical-align: middle;\n",
       "    }\n",
       "\n",
       "    .dataframe tbody tr th {\n",
       "        vertical-align: top;\n",
       "    }\n",
       "\n",
       "    .dataframe thead th {\n",
       "        text-align: right;\n",
       "    }\n",
       "</style>\n",
       "<table border=\"1\" class=\"dataframe\">\n",
       "  <thead>\n",
       "    <tr style=\"text-align: right;\">\n",
       "      <th></th>\n",
       "      <th>id</th>\n",
       "      <th>data_inversa</th>\n",
       "      <th>dia_semana</th>\n",
       "      <th>horario</th>\n",
       "      <th>uf</th>\n",
       "      <th>br</th>\n",
       "      <th>km</th>\n",
       "      <th>municipio</th>\n",
       "      <th>causa_acidente</th>\n",
       "      <th>tipo_acidente</th>\n",
       "      <th>...</th>\n",
       "      <th>feridos_graves</th>\n",
       "      <th>ilesos</th>\n",
       "      <th>ignorados</th>\n",
       "      <th>feridos</th>\n",
       "      <th>veiculos</th>\n",
       "      <th>latitude</th>\n",
       "      <th>longitude</th>\n",
       "      <th>regional</th>\n",
       "      <th>delegacia</th>\n",
       "      <th>uop</th>\n",
       "    </tr>\n",
       "  </thead>\n",
       "  <tbody>\n",
       "    <tr>\n",
       "      <th>1171</th>\n",
       "      <td>184100.0</td>\n",
       "      <td>2019-01-08</td>\n",
       "      <td>terça-feira</td>\n",
       "      <td>21:25:00</td>\n",
       "      <td>RS</td>\n",
       "      <td>NaN</td>\n",
       "      <td>NaN</td>\n",
       "      <td>SAO BORJA</td>\n",
       "      <td>Pista Escorregadia</td>\n",
       "      <td>Colisão traseira</td>\n",
       "      <td>...</td>\n",
       "      <td>0</td>\n",
       "      <td>2</td>\n",
       "      <td>1</td>\n",
       "      <td>0</td>\n",
       "      <td>2</td>\n",
       "      <td>-28,66158775</td>\n",
       "      <td>-55,99882414</td>\n",
       "      <td>SR-RS</td>\n",
       "      <td>DEL9/12</td>\n",
       "      <td>UOP01/RS</td>\n",
       "    </tr>\n",
       "    <tr>\n",
       "      <th>1629</th>\n",
       "      <td>184669.0</td>\n",
       "      <td>2019-01-11</td>\n",
       "      <td>sexta-feira</td>\n",
       "      <td>20:36:00</td>\n",
       "      <td>CE</td>\n",
       "      <td>NaN</td>\n",
       "      <td>NaN</td>\n",
       "      <td>ITAITINGA</td>\n",
       "      <td>Falta de Atenção à Condução</td>\n",
       "      <td>Colisão com objeto estático</td>\n",
       "      <td>...</td>\n",
       "      <td>0</td>\n",
       "      <td>4</td>\n",
       "      <td>0</td>\n",
       "      <td>0</td>\n",
       "      <td>2</td>\n",
       "      <td>-3,9240005</td>\n",
       "      <td>-38,5144729</td>\n",
       "      <td>SR-CE</td>\n",
       "      <td>DEL16/1</td>\n",
       "      <td>UOP02/CE</td>\n",
       "    </tr>\n",
       "    <tr>\n",
       "      <th>1683</th>\n",
       "      <td>184736.0</td>\n",
       "      <td>2019-01-12</td>\n",
       "      <td>sábado</td>\n",
       "      <td>03:00:00</td>\n",
       "      <td>PR</td>\n",
       "      <td>NaN</td>\n",
       "      <td>NaN</td>\n",
       "      <td>FAZENDA RIO GRANDE</td>\n",
       "      <td>Falta de Atenção à Condução</td>\n",
       "      <td>Capotamento</td>\n",
       "      <td>...</td>\n",
       "      <td>0</td>\n",
       "      <td>1</td>\n",
       "      <td>0</td>\n",
       "      <td>0</td>\n",
       "      <td>1</td>\n",
       "      <td>-25,71329112</td>\n",
       "      <td>-49,31824197</td>\n",
       "      <td>SR-PR</td>\n",
       "      <td>DEL7/1</td>\n",
       "      <td>UOP03/PR</td>\n",
       "    </tr>\n",
       "    <tr>\n",
       "      <th>2343</th>\n",
       "      <td>185538.0</td>\n",
       "      <td>2019-01-16</td>\n",
       "      <td>quarta-feira</td>\n",
       "      <td>08:40:00</td>\n",
       "      <td>GO</td>\n",
       "      <td>NaN</td>\n",
       "      <td>NaN</td>\n",
       "      <td>CATALAO</td>\n",
       "      <td>Falta de Atenção à Condução</td>\n",
       "      <td>Colisão transversal</td>\n",
       "      <td>...</td>\n",
       "      <td>0</td>\n",
       "      <td>1</td>\n",
       "      <td>0</td>\n",
       "      <td>1</td>\n",
       "      <td>2</td>\n",
       "      <td>-18,10702393</td>\n",
       "      <td>-47,8894043</td>\n",
       "      <td>SR-GO</td>\n",
       "      <td>DEL1/6</td>\n",
       "      <td>UOP01/GO</td>\n",
       "    </tr>\n",
       "    <tr>\n",
       "      <th>2712</th>\n",
       "      <td>186005.0</td>\n",
       "      <td>2019-01-18</td>\n",
       "      <td>sexta-feira</td>\n",
       "      <td>16:45:00</td>\n",
       "      <td>CE</td>\n",
       "      <td>NaN</td>\n",
       "      <td>NaN</td>\n",
       "      <td>FORTALEZA</td>\n",
       "      <td>Defeito Mecânico no Veículo</td>\n",
       "      <td>Colisão com objeto estático</td>\n",
       "      <td>...</td>\n",
       "      <td>0</td>\n",
       "      <td>3</td>\n",
       "      <td>2</td>\n",
       "      <td>0</td>\n",
       "      <td>3</td>\n",
       "      <td>-3,74484893</td>\n",
       "      <td>-38,58854413</td>\n",
       "      <td>SR-CE</td>\n",
       "      <td>CE</td>\n",
       "      <td>SRPRF/CE</td>\n",
       "    </tr>\n",
       "    <tr>\n",
       "      <th>...</th>\n",
       "      <td>...</td>\n",
       "      <td>...</td>\n",
       "      <td>...</td>\n",
       "      <td>...</td>\n",
       "      <td>...</td>\n",
       "      <td>...</td>\n",
       "      <td>...</td>\n",
       "      <td>...</td>\n",
       "      <td>...</td>\n",
       "      <td>...</td>\n",
       "      <td>...</td>\n",
       "      <td>...</td>\n",
       "      <td>...</td>\n",
       "      <td>...</td>\n",
       "      <td>...</td>\n",
       "      <td>...</td>\n",
       "      <td>...</td>\n",
       "      <td>...</td>\n",
       "      <td>...</td>\n",
       "      <td>...</td>\n",
       "      <td>...</td>\n",
       "    </tr>\n",
       "    <tr>\n",
       "      <th>319309</th>\n",
       "      <td>366313.0</td>\n",
       "      <td>2021-06-17</td>\n",
       "      <td>quinta-feira</td>\n",
       "      <td>21:00:00</td>\n",
       "      <td>SP</td>\n",
       "      <td>NaN</td>\n",
       "      <td>NaN</td>\n",
       "      <td>SAO LOURENCO DA SERRA</td>\n",
       "      <td>Frear bruscamente</td>\n",
       "      <td>Colisão traseira</td>\n",
       "      <td>...</td>\n",
       "      <td>0</td>\n",
       "      <td>2</td>\n",
       "      <td>0</td>\n",
       "      <td>0</td>\n",
       "      <td>2</td>\n",
       "      <td>-23,86213995</td>\n",
       "      <td>-46,94718508</td>\n",
       "      <td>SR-SP</td>\n",
       "      <td>UOP01</td>\n",
       "      <td>DEL04</td>\n",
       "    </tr>\n",
       "    <tr>\n",
       "      <th>319379</th>\n",
       "      <td>366389.0</td>\n",
       "      <td>2021-06-25</td>\n",
       "      <td>sexta-feira</td>\n",
       "      <td>14:00:00</td>\n",
       "      <td>RJ</td>\n",
       "      <td>NaN</td>\n",
       "      <td>NaN</td>\n",
       "      <td>TANGUA</td>\n",
       "      <td>Reação tardia ou ineficiente do condutor</td>\n",
       "      <td>Colisão transversal</td>\n",
       "      <td>...</td>\n",
       "      <td>1</td>\n",
       "      <td>1</td>\n",
       "      <td>0</td>\n",
       "      <td>1</td>\n",
       "      <td>2</td>\n",
       "      <td>-22,735125</td>\n",
       "      <td>-42,719902</td>\n",
       "      <td>SR-RJ</td>\n",
       "      <td>UOP03</td>\n",
       "      <td>DEL02</td>\n",
       "    </tr>\n",
       "    <tr>\n",
       "      <th>319717</th>\n",
       "      <td>366765.0</td>\n",
       "      <td>2021-06-27</td>\n",
       "      <td>domingo</td>\n",
       "      <td>08:09:00</td>\n",
       "      <td>SP</td>\n",
       "      <td>NaN</td>\n",
       "      <td>NaN</td>\n",
       "      <td>EMBU DAS ARTES</td>\n",
       "      <td>Reação tardia ou ineficiente do condutor</td>\n",
       "      <td>Colisão com objeto</td>\n",
       "      <td>...</td>\n",
       "      <td>0</td>\n",
       "      <td>2</td>\n",
       "      <td>0</td>\n",
       "      <td>0</td>\n",
       "      <td>1</td>\n",
       "      <td>-23,65651401</td>\n",
       "      <td>-46,85200095</td>\n",
       "      <td>SR-SP</td>\n",
       "      <td>DEL04</td>\n",
       "      <td>SP</td>\n",
       "    </tr>\n",
       "    <tr>\n",
       "      <th>319891</th>\n",
       "      <td>366957.0</td>\n",
       "      <td>2021-06-28</td>\n",
       "      <td>segunda-feira</td>\n",
       "      <td>06:00:00</td>\n",
       "      <td>RJ</td>\n",
       "      <td>NaN</td>\n",
       "      <td>NaN</td>\n",
       "      <td>ANGRA DOS REIS</td>\n",
       "      <td>Ingestão de álcool e/ou substâncias psicoativa...</td>\n",
       "      <td>Saída de leito carroçável</td>\n",
       "      <td>...</td>\n",
       "      <td>0</td>\n",
       "      <td>1</td>\n",
       "      <td>0</td>\n",
       "      <td>4</td>\n",
       "      <td>1</td>\n",
       "      <td>-23,02147898</td>\n",
       "      <td>-44,52344494</td>\n",
       "      <td>SR-RJ</td>\n",
       "      <td>UOP02</td>\n",
       "      <td>DEL03</td>\n",
       "    </tr>\n",
       "    <tr>\n",
       "      <th>320094</th>\n",
       "      <td>367188.0</td>\n",
       "      <td>2021-06-29</td>\n",
       "      <td>terça-feira</td>\n",
       "      <td>07:20:00</td>\n",
       "      <td>PR</td>\n",
       "      <td>NaN</td>\n",
       "      <td>NaN</td>\n",
       "      <td>FOZ DO IGUACU</td>\n",
       "      <td>Neblina</td>\n",
       "      <td>Colisão com objeto</td>\n",
       "      <td>...</td>\n",
       "      <td>0</td>\n",
       "      <td>1</td>\n",
       "      <td>0</td>\n",
       "      <td>0</td>\n",
       "      <td>1</td>\n",
       "      <td>-25,50982809</td>\n",
       "      <td>-54,59753461</td>\n",
       "      <td>SR-PR</td>\n",
       "      <td>UOP03</td>\n",
       "      <td>DEL05</td>\n",
       "    </tr>\n",
       "  </tbody>\n",
       "</table>\n",
       "<p>597 rows × 30 columns</p>\n",
       "</div>"
      ],
      "text/plain": [
       "              id data_inversa     dia_semana   horario  uf  br   km  \\\n",
       "1171    184100.0   2019-01-08    terça-feira  21:25:00  RS NaN  NaN   \n",
       "1629    184669.0   2019-01-11    sexta-feira  20:36:00  CE NaN  NaN   \n",
       "1683    184736.0   2019-01-12         sábado  03:00:00  PR NaN  NaN   \n",
       "2343    185538.0   2019-01-16   quarta-feira  08:40:00  GO NaN  NaN   \n",
       "2712    186005.0   2019-01-18    sexta-feira  16:45:00  CE NaN  NaN   \n",
       "...          ...          ...            ...       ...  ..  ..  ...   \n",
       "319309  366313.0   2021-06-17   quinta-feira  21:00:00  SP NaN  NaN   \n",
       "319379  366389.0   2021-06-25    sexta-feira  14:00:00  RJ NaN  NaN   \n",
       "319717  366765.0   2021-06-27        domingo  08:09:00  SP NaN  NaN   \n",
       "319891  366957.0   2021-06-28  segunda-feira  06:00:00  RJ NaN  NaN   \n",
       "320094  367188.0   2021-06-29    terça-feira  07:20:00  PR NaN  NaN   \n",
       "\n",
       "                    municipio  \\\n",
       "1171                SAO BORJA   \n",
       "1629                ITAITINGA   \n",
       "1683       FAZENDA RIO GRANDE   \n",
       "2343                  CATALAO   \n",
       "2712                FORTALEZA   \n",
       "...                       ...   \n",
       "319309  SAO LOURENCO DA SERRA   \n",
       "319379                 TANGUA   \n",
       "319717         EMBU DAS ARTES   \n",
       "319891         ANGRA DOS REIS   \n",
       "320094          FOZ DO IGUACU   \n",
       "\n",
       "                                           causa_acidente  \\\n",
       "1171                                   Pista Escorregadia   \n",
       "1629                          Falta de Atenção à Condução   \n",
       "1683                          Falta de Atenção à Condução   \n",
       "2343                          Falta de Atenção à Condução   \n",
       "2712                          Defeito Mecânico no Veículo   \n",
       "...                                                   ...   \n",
       "319309                                  Frear bruscamente   \n",
       "319379           Reação tardia ou ineficiente do condutor   \n",
       "319717           Reação tardia ou ineficiente do condutor   \n",
       "319891  Ingestão de álcool e/ou substâncias psicoativa...   \n",
       "320094                                            Neblina   \n",
       "\n",
       "                      tipo_acidente  ... feridos_graves ilesos ignorados  \\\n",
       "1171               Colisão traseira  ...              0      2         1   \n",
       "1629    Colisão com objeto estático  ...              0      4         0   \n",
       "1683                    Capotamento  ...              0      1         0   \n",
       "2343            Colisão transversal  ...              0      1         0   \n",
       "2712    Colisão com objeto estático  ...              0      3         2   \n",
       "...                             ...  ...            ...    ...       ...   \n",
       "319309             Colisão traseira  ...              0      2         0   \n",
       "319379          Colisão transversal  ...              1      1         0   \n",
       "319717           Colisão com objeto  ...              0      2         0   \n",
       "319891    Saída de leito carroçável  ...              0      1         0   \n",
       "320094           Colisão com objeto  ...              0      1         0   \n",
       "\n",
       "       feridos veiculos      latitude     longitude  regional  delegacia  \\\n",
       "1171         0        2  -28,66158775  -55,99882414     SR-RS    DEL9/12   \n",
       "1629         0        2    -3,9240005   -38,5144729     SR-CE    DEL16/1   \n",
       "1683         0        1  -25,71329112  -49,31824197     SR-PR     DEL7/1   \n",
       "2343         1        2  -18,10702393   -47,8894043     SR-GO     DEL1/6   \n",
       "2712         0        3   -3,74484893  -38,58854413     SR-CE         CE   \n",
       "...        ...      ...           ...           ...       ...        ...   \n",
       "319309       0        2  -23,86213995  -46,94718508     SR-SP      UOP01   \n",
       "319379       1        2    -22,735125    -42,719902     SR-RJ      UOP03   \n",
       "319717       0        1  -23,65651401  -46,85200095     SR-SP      DEL04   \n",
       "319891       4        1  -23,02147898  -44,52344494     SR-RJ      UOP02   \n",
       "320094       0        1  -25,50982809  -54,59753461     SR-PR      UOP03   \n",
       "\n",
       "             uop  \n",
       "1171    UOP01/RS  \n",
       "1629    UOP02/CE  \n",
       "1683    UOP03/PR  \n",
       "2343    UOP01/GO  \n",
       "2712    SRPRF/CE  \n",
       "...          ...  \n",
       "319309     DEL04  \n",
       "319379     DEL02  \n",
       "319717        SP  \n",
       "319891     DEL03  \n",
       "320094     DEL05  \n",
       "\n",
       "[597 rows x 30 columns]"
      ]
     },
     "execution_count": 10,
     "metadata": {},
     "output_type": "execute_result"
    }
   ],
   "source": [
    "ocorrencias[ocorrencias['km'].isnull()]"
   ]
  },
  {
   "cell_type": "markdown",
   "metadata": {
    "cell_id": "00013-7d1f1ead-d569-4bf8-b5f2-8036ad6ad967",
    "deepnote_cell_type": "markdown",
    "tags": []
   },
   "source": [
    "Nas duas células acima, vimos que as colunas `km` e `br` possuem 597 valores NaN, como elas são apenas 0.18% do dataset, decidimos descartá-las."
   ]
  },
  {
   "cell_type": "code",
   "execution_count": 16,
   "metadata": {
    "cell_id": "00009-4af19c1a-46bf-453f-b817-705fc74cbb05",
    "deepnote_cell_type": "code",
    "deepnote_to_be_reexecuted": false,
    "execution_millis": 282,
    "execution_start": 1634478022274,
    "source_hash": "c7ef087e",
    "tags": []
   },
   "outputs": [
    {
     "data": {
      "text/plain": [
       "id                            0\n",
       "data_inversa                  0\n",
       "dia_semana                    0\n",
       "horario                       0\n",
       "uf                            0\n",
       "br                            0\n",
       "km                            0\n",
       "municipio                     0\n",
       "causa_acidente                0\n",
       "tipo_acidente                 0\n",
       "classificacao_acidente        0\n",
       "fase_dia                      0\n",
       "sentido_via                   0\n",
       "condicao_metereologica        0\n",
       "tipo_pista                    0\n",
       "tracado_via                   0\n",
       "uso_solo                      0\n",
       "pessoas                       0\n",
       "mortos                        0\n",
       "feridos_leves                 0\n",
       "feridos_graves                0\n",
       "ilesos                        0\n",
       "ignorados                     0\n",
       "feridos                       0\n",
       "veiculos                      0\n",
       "latitude                      0\n",
       "longitude                     0\n",
       "regional                      0\n",
       "delegacia                     0\n",
       "uop                       11047\n",
       "dtype: int64"
      ]
     },
     "execution_count": 16,
     "metadata": {},
     "output_type": "execute_result"
    }
   ],
   "source": [
    "ocorrencias.dropna(subset=['km', 'br'], inplace=True)\n",
    "ocorrencias.isnull().sum()"
   ]
  },
  {
   "cell_type": "markdown",
   "metadata": {},
   "source": [
    "Agora podemos ver que não existem mais valores nulos nas colunas `km` e `br`."
   ]
  },
  {
   "cell_type": "markdown",
   "metadata": {
    "cell_id": "00014-ba8ee493-0983-43b6-ac70-211065136b9d",
    "deepnote_cell_type": "markdown",
    "tags": []
   },
   "source": [
    "Para transformarmos a coluna `km` para float, primeiro trocamos a vírgula pelo ponto, para que o Python reconheca como float."
   ]
  },
  {
   "cell_type": "code",
   "execution_count": 17,
   "metadata": {
    "cell_id": "00010-f43ae7fc-26d9-4a4d-8792-db564dda035a",
    "deepnote_cell_type": "code",
    "deepnote_to_be_reexecuted": false,
    "execution_millis": 366,
    "execution_start": 1634478161798,
    "source_hash": "b4ee99ba",
    "tags": []
   },
   "outputs": [
    {
     "name": "stdout",
     "output_type": "stream",
     "text": [
      "<class 'pandas.core.frame.DataFrame'>\n",
      "Int64Index: 320156 entries, 0 to 320752\n",
      "Data columns (total 30 columns):\n",
      " #   Column                  Non-Null Count   Dtype  \n",
      "---  ------                  --------------   -----  \n",
      " 0   id                      320156 non-null  float64\n",
      " 1   data_inversa            320156 non-null  object \n",
      " 2   dia_semana              320156 non-null  object \n",
      " 3   horario                 320156 non-null  object \n",
      " 4   uf                      320156 non-null  object \n",
      " 5   br                      320156 non-null  int64  \n",
      " 6   km                      320156 non-null  float64\n",
      " 7   municipio               320156 non-null  object \n",
      " 8   causa_acidente          320156 non-null  object \n",
      " 9   tipo_acidente           320156 non-null  object \n",
      " 10  classificacao_acidente  320156 non-null  object \n",
      " 11  fase_dia                320156 non-null  object \n",
      " 12  sentido_via             320156 non-null  object \n",
      " 13  condicao_metereologica  320156 non-null  object \n",
      " 14  tipo_pista              320156 non-null  object \n",
      " 15  tracado_via             320156 non-null  object \n",
      " 16  uso_solo                320156 non-null  object \n",
      " 17  pessoas                 320156 non-null  int64  \n",
      " 18  mortos                  320156 non-null  int64  \n",
      " 19  feridos_leves           320156 non-null  int64  \n",
      " 20  feridos_graves          320156 non-null  int64  \n",
      " 21  ilesos                  320156 non-null  int64  \n",
      " 22  ignorados               320156 non-null  int64  \n",
      " 23  feridos                 320156 non-null  int64  \n",
      " 24  veiculos                320156 non-null  int64  \n",
      " 25  latitude                320156 non-null  object \n",
      " 26  longitude               320156 non-null  object \n",
      " 27  regional                320156 non-null  object \n",
      " 28  delegacia               320156 non-null  object \n",
      " 29  uop                     309109 non-null  object \n",
      "dtypes: float64(2), int64(9), object(19)\n",
      "memory usage: 75.7+ MB\n"
     ]
    }
   ],
   "source": [
    "def replace_comma(value):\n",
    "    return value.replace(',', '.')\n",
    "\n",
    "ocorrencias['km'] = ocorrencias['km'].apply(replace_comma)\n",
    "ocorrencias['km'] = ocorrencias['km'].astype(float)\n",
    "ocorrencias['br'] = ocorrencias['br'].astype(int)\n",
    "\n",
    "ocorrencias.info()"
   ]
  },
  {
   "cell_type": "markdown",
   "metadata": {
    "cell_id": "00016-1137cf51-ef79-4964-ada2-877434baa410",
    "deepnote_cell_type": "markdown",
    "tags": []
   },
   "source": [
    "Nesta parte trasformamos a data inversa para o formato brasileiro."
   ]
  },
  {
   "cell_type": "code",
   "execution_count": 17,
   "metadata": {
    "cell_id": "00006-bcc82676-3ea7-4d19-b154-ddead7f0863a",
    "deepnote_cell_type": "code",
    "deepnote_to_be_reexecuted": false,
    "execution_millis": 2399,
    "execution_start": 1634478191909,
    "source_hash": "805cb858",
    "tags": []
   },
   "outputs": [
    {
     "data": {
      "text/html": [
       "<div>\n",
       "<style scoped>\n",
       "    .dataframe tbody tr th:only-of-type {\n",
       "        vertical-align: middle;\n",
       "    }\n",
       "\n",
       "    .dataframe tbody tr th {\n",
       "        vertical-align: top;\n",
       "    }\n",
       "\n",
       "    .dataframe thead th {\n",
       "        text-align: right;\n",
       "    }\n",
       "</style>\n",
       "<table border=\"1\" class=\"dataframe\">\n",
       "  <thead>\n",
       "    <tr style=\"text-align: right;\">\n",
       "      <th></th>\n",
       "      <th>data_inversa</th>\n",
       "      <th>data</th>\n",
       "    </tr>\n",
       "  </thead>\n",
       "  <tbody>\n",
       "    <tr>\n",
       "      <th>0</th>\n",
       "      <td>2017-01-01</td>\n",
       "      <td>01/01/2017</td>\n",
       "    </tr>\n",
       "    <tr>\n",
       "      <th>1</th>\n",
       "      <td>2017-01-01</td>\n",
       "      <td>01/01/2017</td>\n",
       "    </tr>\n",
       "    <tr>\n",
       "      <th>2</th>\n",
       "      <td>2017-01-01</td>\n",
       "      <td>01/01/2017</td>\n",
       "    </tr>\n",
       "    <tr>\n",
       "      <th>3</th>\n",
       "      <td>2017-01-01</td>\n",
       "      <td>01/01/2017</td>\n",
       "    </tr>\n",
       "    <tr>\n",
       "      <th>4</th>\n",
       "      <td>2017-01-01</td>\n",
       "      <td>01/01/2017</td>\n",
       "    </tr>\n",
       "    <tr>\n",
       "      <th>...</th>\n",
       "      <td>...</td>\n",
       "      <td>...</td>\n",
       "    </tr>\n",
       "    <tr>\n",
       "      <th>320748</th>\n",
       "      <td>2018-12-24</td>\n",
       "      <td>24/12/2018</td>\n",
       "    </tr>\n",
       "    <tr>\n",
       "      <th>320749</th>\n",
       "      <td>2018-12-12</td>\n",
       "      <td>12/12/2018</td>\n",
       "    </tr>\n",
       "    <tr>\n",
       "      <th>320750</th>\n",
       "      <td>2018-11-15</td>\n",
       "      <td>15/11/2018</td>\n",
       "    </tr>\n",
       "    <tr>\n",
       "      <th>320751</th>\n",
       "      <td>2018-11-23</td>\n",
       "      <td>23/11/2018</td>\n",
       "    </tr>\n",
       "    <tr>\n",
       "      <th>320752</th>\n",
       "      <td>2018-10-01</td>\n",
       "      <td>01/10/2018</td>\n",
       "    </tr>\n",
       "  </tbody>\n",
       "</table>\n",
       "<p>320753 rows × 2 columns</p>\n",
       "</div>"
      ],
      "text/plain": [
       "       data_inversa        data\n",
       "0        2017-01-01  01/01/2017\n",
       "1        2017-01-01  01/01/2017\n",
       "2        2017-01-01  01/01/2017\n",
       "3        2017-01-01  01/01/2017\n",
       "4        2017-01-01  01/01/2017\n",
       "...             ...         ...\n",
       "320748   2018-12-24  24/12/2018\n",
       "320749   2018-12-12  12/12/2018\n",
       "320750   2018-11-15  15/11/2018\n",
       "320751   2018-11-23  23/11/2018\n",
       "320752   2018-10-01  01/10/2018\n",
       "\n",
       "[320753 rows x 2 columns]"
      ]
     },
     "execution_count": 17,
     "metadata": {},
     "output_type": "execute_result"
    }
   ],
   "source": [
    "def convert_date(date):\n",
    "    return date.strftime('%d/%m/%Y')\n",
    "\n",
    "ocorrencias['data'] = pd.to_datetime(ocorrencias['data_inversa']).apply(convert_date)\n",
    "ocorrencias[['data_inversa', 'data']]"
   ]
  },
  {
   "cell_type": "markdown",
   "metadata": {
    "cell_id": "00020-c1867a8f-0700-4ac8-ac04-5d504ea715ab",
    "deepnote_cell_type": "markdown",
    "tags": []
   },
   "source": [
    "Decidimos criar uma coluna `ano`, que torna possível realizarmos a contagem anual e plotar um gráfico de série histórica."
   ]
  },
  {
   "cell_type": "code",
   "execution_count": 18,
   "metadata": {
    "cell_id": "00016-4a34e8ea-7759-4f83-9c35-40e31dbba23b",
    "deepnote_cell_type": "code",
    "deepnote_to_be_reexecuted": false,
    "execution_millis": 4734,
    "execution_start": 1634478724967,
    "source_hash": "a164b313",
    "tags": []
   },
   "outputs": [
    {
     "data": {
      "text/html": [
       "<div>\n",
       "<style scoped>\n",
       "    .dataframe tbody tr th:only-of-type {\n",
       "        vertical-align: middle;\n",
       "    }\n",
       "\n",
       "    .dataframe tbody tr th {\n",
       "        vertical-align: top;\n",
       "    }\n",
       "\n",
       "    .dataframe thead th {\n",
       "        text-align: right;\n",
       "    }\n",
       "</style>\n",
       "<table border=\"1\" class=\"dataframe\">\n",
       "  <thead>\n",
       "    <tr style=\"text-align: right;\">\n",
       "      <th></th>\n",
       "      <th>data</th>\n",
       "      <th>ano</th>\n",
       "      <th>horario</th>\n",
       "    </tr>\n",
       "  </thead>\n",
       "  <tbody>\n",
       "    <tr>\n",
       "      <th>0</th>\n",
       "      <td>01/01/2017</td>\n",
       "      <td>2017</td>\n",
       "      <td>00:00:00</td>\n",
       "    </tr>\n",
       "    <tr>\n",
       "      <th>1</th>\n",
       "      <td>01/01/2017</td>\n",
       "      <td>2017</td>\n",
       "      <td>00:01:00</td>\n",
       "    </tr>\n",
       "    <tr>\n",
       "      <th>2</th>\n",
       "      <td>01/01/2017</td>\n",
       "      <td>2017</td>\n",
       "      <td>00:00:00</td>\n",
       "    </tr>\n",
       "    <tr>\n",
       "      <th>3</th>\n",
       "      <td>01/01/2017</td>\n",
       "      <td>2017</td>\n",
       "      <td>00:00:00</td>\n",
       "    </tr>\n",
       "    <tr>\n",
       "      <th>4</th>\n",
       "      <td>01/01/2017</td>\n",
       "      <td>2017</td>\n",
       "      <td>00:00:00</td>\n",
       "    </tr>\n",
       "    <tr>\n",
       "      <th>...</th>\n",
       "      <td>...</td>\n",
       "      <td>...</td>\n",
       "      <td>...</td>\n",
       "    </tr>\n",
       "    <tr>\n",
       "      <th>320748</th>\n",
       "      <td>24/12/2018</td>\n",
       "      <td>2018</td>\n",
       "      <td>09:15:00</td>\n",
       "    </tr>\n",
       "    <tr>\n",
       "      <th>320749</th>\n",
       "      <td>12/12/2018</td>\n",
       "      <td>2018</td>\n",
       "      <td>07:00:00</td>\n",
       "    </tr>\n",
       "    <tr>\n",
       "      <th>320750</th>\n",
       "      <td>15/11/2018</td>\n",
       "      <td>2018</td>\n",
       "      <td>10:48:00</td>\n",
       "    </tr>\n",
       "    <tr>\n",
       "      <th>320751</th>\n",
       "      <td>23/11/2018</td>\n",
       "      <td>2018</td>\n",
       "      <td>19:30:00</td>\n",
       "    </tr>\n",
       "    <tr>\n",
       "      <th>320752</th>\n",
       "      <td>01/10/2018</td>\n",
       "      <td>2018</td>\n",
       "      <td>04:31:00</td>\n",
       "    </tr>\n",
       "  </tbody>\n",
       "</table>\n",
       "<p>320753 rows × 3 columns</p>\n",
       "</div>"
      ],
      "text/plain": [
       "              data   ano   horario\n",
       "0       01/01/2017  2017  00:00:00\n",
       "1       01/01/2017  2017  00:01:00\n",
       "2       01/01/2017  2017  00:00:00\n",
       "3       01/01/2017  2017  00:00:00\n",
       "4       01/01/2017  2017  00:00:00\n",
       "...            ...   ...       ...\n",
       "320748  24/12/2018  2018  09:15:00\n",
       "320749  12/12/2018  2018  07:00:00\n",
       "320750  15/11/2018  2018  10:48:00\n",
       "320751  23/11/2018  2018  19:30:00\n",
       "320752  01/10/2018  2018  04:31:00\n",
       "\n",
       "[320753 rows x 3 columns]"
      ]
     },
     "execution_count": 18,
     "metadata": {},
     "output_type": "execute_result"
    }
   ],
   "source": [
    "ocorrencias['ano'] = [datetime.strptime(data, '%d/%m/%Y').year for data in ocorrencias['data']]\n",
    "ocorrencias[['data', 'ano','horario']]"
   ]
  },
  {
   "cell_type": "markdown",
   "metadata": {
    "cell_id": "00022-c79c0de1-3f99-488f-944d-78f6578b3af9",
    "deepnote_cell_type": "markdown",
    "tags": []
   },
   "source": [
    "Decidimos também criar a coluna `periodo` para indicar o turno do dia daquela ocorrência, por meio da **discretização** dos horários em `manhã`, `tarde`, `noite` e `madrugada` . Assim podemos descobrir quais os períodos que ocorrem mais e menos acidentes."
   ]
  },
  {
   "cell_type": "code",
   "execution_count": 12,
   "metadata": {
    "cell_id": "00017-870d2873-f4c9-4622-b997-1467b7fe5132",
    "deepnote_cell_type": "code",
    "deepnote_to_be_reexecuted": false,
    "execution_millis": 2820,
    "execution_start": 1634479173545,
    "source_hash": "330f2139",
    "tags": []
   },
   "outputs": [
    {
     "data": {
      "text/html": [
       "<div>\n",
       "<style scoped>\n",
       "    .dataframe tbody tr th:only-of-type {\n",
       "        vertical-align: middle;\n",
       "    }\n",
       "\n",
       "    .dataframe tbody tr th {\n",
       "        vertical-align: top;\n",
       "    }\n",
       "\n",
       "    .dataframe thead th {\n",
       "        text-align: right;\n",
       "    }\n",
       "</style>\n",
       "<table border=\"1\" class=\"dataframe\">\n",
       "  <thead>\n",
       "    <tr style=\"text-align: right;\">\n",
       "      <th></th>\n",
       "      <th>horario</th>\n",
       "      <th>periodo</th>\n",
       "    </tr>\n",
       "  </thead>\n",
       "  <tbody>\n",
       "    <tr>\n",
       "      <th>0</th>\n",
       "      <td>00:00:00</td>\n",
       "      <td>Madrugada</td>\n",
       "    </tr>\n",
       "    <tr>\n",
       "      <th>1</th>\n",
       "      <td>00:01:00</td>\n",
       "      <td>Madrugada</td>\n",
       "    </tr>\n",
       "    <tr>\n",
       "      <th>2</th>\n",
       "      <td>00:00:00</td>\n",
       "      <td>Madrugada</td>\n",
       "    </tr>\n",
       "    <tr>\n",
       "      <th>3</th>\n",
       "      <td>00:00:00</td>\n",
       "      <td>Madrugada</td>\n",
       "    </tr>\n",
       "    <tr>\n",
       "      <th>4</th>\n",
       "      <td>00:00:00</td>\n",
       "      <td>Madrugada</td>\n",
       "    </tr>\n",
       "    <tr>\n",
       "      <th>...</th>\n",
       "      <td>...</td>\n",
       "      <td>...</td>\n",
       "    </tr>\n",
       "    <tr>\n",
       "      <th>320748</th>\n",
       "      <td>09:15:00</td>\n",
       "      <td>Manha</td>\n",
       "    </tr>\n",
       "    <tr>\n",
       "      <th>320749</th>\n",
       "      <td>07:00:00</td>\n",
       "      <td>Manha</td>\n",
       "    </tr>\n",
       "    <tr>\n",
       "      <th>320750</th>\n",
       "      <td>10:48:00</td>\n",
       "      <td>Manha</td>\n",
       "    </tr>\n",
       "    <tr>\n",
       "      <th>320751</th>\n",
       "      <td>19:30:00</td>\n",
       "      <td>Noite</td>\n",
       "    </tr>\n",
       "    <tr>\n",
       "      <th>320752</th>\n",
       "      <td>04:31:00</td>\n",
       "      <td>Madrugada</td>\n",
       "    </tr>\n",
       "  </tbody>\n",
       "</table>\n",
       "<p>320753 rows × 2 columns</p>\n",
       "</div>"
      ],
      "text/plain": [
       "         horario    periodo\n",
       "0       00:00:00  Madrugada\n",
       "1       00:01:00  Madrugada\n",
       "2       00:00:00  Madrugada\n",
       "3       00:00:00  Madrugada\n",
       "4       00:00:00  Madrugada\n",
       "...          ...        ...\n",
       "320748  09:15:00      Manha\n",
       "320749  07:00:00      Manha\n",
       "320750  10:48:00      Manha\n",
       "320751  19:30:00      Noite\n",
       "320752  04:31:00  Madrugada\n",
       "\n",
       "[320753 rows x 2 columns]"
      ]
     },
     "execution_count": 12,
     "metadata": {},
     "output_type": "execute_result"
    }
   ],
   "source": [
    "def periodo(linha):\n",
    "  horario = linha['horario']\n",
    "  if '06:00:00' <= horario <= '11:59:00': return 'Manha'\n",
    "  elif '12:00:00' <= horario <= '17:59:00': return 'Tarde'\n",
    "  elif '18:00:00' <= horario <= '23:59:00': return 'Noite'\n",
    "  elif '00:00:00' <= horario <= '05:59:00': return 'Madrugada'\n",
    "  else: return ''\n",
    "\n",
    "ocorrencias['periodo'] = ocorrencias.apply(periodo, axis=1)\n",
    "ocorrencias[['horario','periodo']]"
   ]
  },
  {
   "cell_type": "markdown",
   "metadata": {
    "cell_id": "00024-d4f560d7-2517-466f-8c4f-33a20221ad49",
    "deepnote_cell_type": "markdown",
    "tags": []
   },
   "source": [
    "Checando se todos os UF estão formatados corretamente."
   ]
  },
  {
   "cell_type": "code",
   "execution_count": 22,
   "metadata": {
    "cell_id": "00017-213d3f58-ecf4-496e-a161-e90b2565d0a8",
    "deepnote_cell_type": "code",
    "deepnote_to_be_reexecuted": false,
    "execution_millis": 7,
    "execution_start": 1634479215673,
    "source_hash": "c0cc9188",
    "tags": []
   },
   "outputs": [
    {
     "data": {
      "text/plain": [
       "array(['SP', 'PR', 'SC', 'CE', 'MG', 'MS', 'GO', 'RS', 'RJ', 'PB', 'RN',\n",
       "       'PE', 'SE', 'DF', 'TO', 'MT', 'ES', 'RO', 'PA', 'AL', 'AM', 'MA',\n",
       "       'BA', 'PI', 'AP', 'RR', 'AC'], dtype=object)"
      ]
     },
     "execution_count": 22,
     "metadata": {},
     "output_type": "execute_result"
    }
   ],
   "source": [
    "ocorrencias['uf'].unique()"
   ]
  },
  {
   "cell_type": "markdown",
   "metadata": {
    "cell_id": "00027-11b0fb55-9762-4719-b75d-cdbd696a3622",
    "deepnote_cell_type": "markdown",
    "tags": []
   },
   "source": [
    "Agora os dados estão prontos para serem utilizados para plotarmos os gráficos."
   ]
  },
  {
   "cell_type": "markdown",
   "metadata": {
    "cell_id": "00028-1f6ae45d-0662-4e6e-afde-70763a45c60e",
    "deepnote_cell_type": "markdown",
    "tags": []
   },
   "source": [
    "<a id=\"viz\"/>"
   ]
  },
  {
   "cell_type": "markdown",
   "metadata": {
    "cell_id": "00029-af5f58c5-7910-4a2f-9442-8310cf7055cd",
    "deepnote_cell_type": "markdown",
    "tags": []
   },
   "source": [
    "## 3. Visualizações"
   ]
  },
  {
   "cell_type": "markdown",
   "metadata": {
    "cell_id": "00020-daebb992-7352-4331-a582-a9717658b37d",
    "deepnote_cell_type": "markdown",
    "deepnote_to_be_reexecuted": false,
    "execution_millis": 4,
    "execution_start": 1634302903501,
    "source_hash": "de7b9425",
    "tags": []
   },
   "source": [
    "#### 3.1 Qual período do dia acontecem mais acidentes?"
   ]
  },
  {
   "cell_type": "code",
   "execution_count": 14,
   "metadata": {
    "cell_id": "00021-cb20b676-69a0-4540-b01c-2efa6c8a795f",
    "deepnote_cell_type": "code",
    "deepnote_to_be_reexecuted": false,
    "execution_millis": 180,
    "execution_start": 1634479574514,
    "source_hash": "f0d0a909",
    "tags": []
   },
   "outputs": [
    {
     "data": {
      "image/png": "[encoded data removed]",
      "text/plain": [
       "<Figure size 720x444.984 with 1 Axes>"
      ]
     },
     "metadata": {
      "needs_background": "light"
     },
     "output_type": "display_data"
    }
   ],
   "source": [
    "periodo_count = ocorrencias['periodo'].value_counts()\n",
    "periodo_labels = periodo_count.keys()\n",
    "periodo_values = periodo_count.values\n",
    "\n",
    "plt.figure(figsize=(10, 10/1.6180339))\n",
    "sns.barplot(x=periodo_labels[::-1], y=periodo_values[::-1], palette='Blues')\n",
    "plt.title('Ocorrências cumulativas por período do dia')\n",
    "plt.xlabel('Período')\n",
    "plt.ylabel('Acidentes');"
   ]
  },
  {
   "cell_type": "markdown",
   "metadata": {
    "cell_id": "00032-37ba22fa-1d0a-494f-a508-210e2dea0c1f",
    "deepnote_cell_type": "markdown",
    "tags": []
   },
   "source": [
    "Nota-se que o período que ocorre mais acidentes é a tarde, com manhã e noite com números similares e a madrugada ficou com o menor número de ocorrências, o que faz sentido, visto que a maioria das pessoas está em casa."
   ]
  },
  {
   "cell_type": "markdown",
   "metadata": {
    "cell_id": "00021-bc19c928-dee3-4bd4-b859-06c861c762f2",
    "deepnote_cell_type": "markdown",
    "deepnote_to_be_reexecuted": false,
    "execution_millis": 3,
    "execution_start": 1634302921290,
    "source_hash": "3a5201c7",
    "tags": []
   },
   "source": [
    "#### 3.2 O número de acidentes no país está em alta? "
   ]
  },
  {
   "cell_type": "code",
   "execution_count": 20,
   "metadata": {
    "cell_id": "00022-b42fb672-94df-4992-8818-c4672ad3dc4c",
    "deepnote_cell_type": "code",
    "deepnote_to_be_reexecuted": false,
    "execution_millis": 293,
    "execution_start": 1634481065279,
    "source_hash": "47b71a48",
    "tags": []
   },
   "outputs": [
    {
     "data": {
      "image/png": "[encoded data removed]",
      "text/plain": [
       "<Figure size 576x355.988 with 1 Axes>"
      ]
     },
     "metadata": {
      "needs_background": "light"
     },
     "output_type": "display_data"
    }
   ],
   "source": [
    "anos_count = ocorrencias['ano'].value_counts()\n",
    "anos_y = anos_count.values\n",
    "\n",
    "plt.figure(figsize=(8, 8/1.6180339))\n",
    "sns.lineplot(x=['2017', '2018', '2019', '2020', '2021'], y=anos_y)\n",
    "plt.title('Série histórica de ocorrências')\n",
    "plt.xlabel('Ano')\n",
    "plt.ylabel('Acidentes');"
   ]
  },
  {
   "cell_type": "markdown",
   "metadata": {
    "cell_id": "00035-80912de6-3027-460d-8b66-2586e46df21a",
    "deepnote_cell_type": "markdown",
    "tags": []
   },
   "source": [
    "Nota-se que os números apresentam uma têndencia de queda desde 2017, com uma redução significativa de 2017 para 2018, e uma leve queda de 2018 até 2020. É importante ressaltar que os números de 2021 estão incompletos, pois o ano ainda não acabou."
   ]
  },
  {
   "cell_type": "markdown",
   "metadata": {
    "cell_id": "00036-52a8f943-49a6-44f7-b50d-bc77ed89ce09",
    "deepnote_cell_type": "markdown",
    "tags": []
   },
   "source": [
    "#### 3.3 Quais dias da semana mais ocorrem acidentes?"
   ]
  },
  {
   "cell_type": "code",
   "execution_count": 21,
   "metadata": {
    "cell_id": "00024-01f56c50-f278-4bd8-a5ac-ac8569d7ca33",
    "deepnote_cell_type": "code",
    "deepnote_to_be_reexecuted": false,
    "execution_millis": 305,
    "execution_start": 1634481548983,
    "source_hash": "607145da",
    "tags": []
   },
   "outputs": [
    {
     "data": {
      "image/png": "[encoded data removed]",
      "text/plain": [
       "<Figure size 720x444.984 with 1 Axes>"
      ]
     },
     "metadata": {
      "needs_background": "light"
     },
     "output_type": "display_data"
    }
   ],
   "source": [
    "dia_semana_count = ocorrencias['dia_semana'].value_counts()\n",
    "dia_semana_x = ['segunda-feira', 'terça-feira', 'quarta-feira', \n",
    "                'quinta-feira', 'sexta-feira','sábado', 'domingo']\n",
    "\n",
    "#ordenando o dict de segunda a domingo\n",
    "count_semanal = {}\n",
    "for dia in dia_semana_x:\n",
    "    count_semanal[dia] = dia_semana_count[dia]\n",
    "\n",
    "plt.figure(figsize=(10, 10/1.6180339))\n",
    "sns.lineplot(x=list(count_semanal.keys()), y=list(count_semanal.values()), palette='Blues')\n",
    "plt.title('Acidentes cumulativos por dia da semana')\n",
    "plt.xlabel('Dia da semana')\n",
    "plt.ylabel('Acidentes');"
   ]
  },
  {
   "cell_type": "markdown",
   "metadata": {
    "cell_id": "00038-4c450ba9-36e7-49b0-ac3c-eb97f8794cd7",
    "deepnote_cell_type": "markdown",
    "tags": []
   },
   "source": [
    "Nota-se que há um aumento expressivo de acidentes durante o fim de semana. Imaginamos que isso ocorra pois muitas pessoas pegam a estrada para irem visitar outros lugares (praias, balneários etc.) em seus dias de descanso."
   ]
  },
  {
   "cell_type": "markdown",
   "metadata": {
    "cell_id": "00025-a80ffcf9-73b6-436b-b67d-792edb23eea9",
    "deepnote_cell_type": "markdown",
    "deepnote_to_be_reexecuted": false,
    "execution_millis": 4,
    "execution_start": 1634302946126,
    "source_hash": "8a072f4",
    "tags": []
   },
   "source": [
    "#### 3.4 Qual o estado com maior ocorrência de acidentes?"
   ]
  },
  {
   "cell_type": "code",
   "execution_count": 7,
   "metadata": {
    "cell_id": "00026-08c1a99f-75b8-4d7d-b11d-994c7fdf2788",
    "deepnote_cell_type": "code",
    "deepnote_to_be_reexecuted": false,
    "execution_millis": 441,
    "execution_start": 1634481439229,
    "source_hash": "62e3539",
    "tags": []
   },
   "outputs": [
    {
     "data": {
      "image/png": "[encoded data removed]",
      "text/plain": [
       "<Figure size 1080x667.064 with 1 Axes>"
      ]
     },
     "metadata": {
      "needs_background": "light"
     },
     "output_type": "display_data"
    }
   ],
   "source": [
    "uf_count = ocorrencias['uf'].value_counts()\n",
    "uf_labels = uf_count.keys()\n",
    "uf_value = uf_count.values\n",
    "\n",
    "plt.figure(figsize=(15,15/1.6190339))\n",
    "sns.barplot(x=uf_labels[::-1], y=uf_value[::-1], palette='Blues')\n",
    "plt.title('Acidentes cumulativos por UF')\n",
    "plt.xlabel('UF')\n",
    "plt.ylabel('Acidentes');"
   ]
  },
  {
   "cell_type": "markdown",
   "metadata": {
    "cell_id": "00041-d5c35b2f-a2d4-4985-af7b-94963f28c415",
    "deepnote_cell_type": "markdown",
    "tags": []
   },
   "source": [
    "Nota-se que os estados com mais ocorrências, com grande margem, são Minas Gerais, Santa Catarina e Paraná. Vê-se também que, os estados do Norte, apesar de terem maior parte do território brasileiro, não registram muitas ocorrências, ficando nas últimas posições. Acreditamos que isso pode ter haver com o fato de serem regiões menos desenvolvidas, menos conectadas e com menor densidade populacional."
   ]
  },
  {
   "cell_type": "markdown",
   "metadata": {
    "cell_id": "00046-0aef0dd6-b0e9-4b81-a076-94fdccae712e",
    "deepnote_cell_type": "markdown",
    "tags": []
   },
   "source": [
    "#### 3.5 Qual a gravidade dos acidentes em cada estado?"
   ]
  },
  {
   "cell_type": "code",
   "execution_count": 29,
   "metadata": {
    "cell_id": "00038-00ff9287-d77a-4497-9136-d471030a748f",
    "deepnote_cell_type": "code",
    "deepnote_to_be_reexecuted": false,
    "execution_millis": 839,
    "execution_start": 1634314181972,
    "source_hash": "4fa8ea9c",
    "tags": []
   },
   "outputs": [
    {
     "data": {
      "image/png": "[encoded data removed]",
      "text/plain": [
       "<Figure size 1800x864 with 1 Axes>"
      ]
     },
     "metadata": {
      "needs_background": "light"
     },
     "output_type": "display_data"
    }
   ],
   "source": [
    "table = pd.crosstab(ocorrencias['uf'], ocorrencias['classificacao_acidente'])\n",
    "table.plot(kind='bar', width=.8, color=['green', 'blue', 'lime'], \n",
    "           title='Ocorrências acumuladas por UF e gravidade do acidente', figsize=(25, 12), fontsize=10)\n",
    "plt.legend(title='')\n",
    "plt.xlabel('UF')\n",
    "plt.ylabel('Ocorrências');"
   ]
  },
  {
   "cell_type": "markdown",
   "metadata": {
    "cell_id": "00035-16f7edc5-d15a-4896-84f8-eda990c28922",
    "deepnote_cell_type": "markdown",
    "tags": []
   },
   "source": [
    "O gráfico mostra a quantidade de acidentes sem vítima, com vítimas feridas e com vítimas fatais em cada estado brasileiro. Os estados que mais ocorreram acidentes foram Minas Gerais, Santa Catarina e Paraná. \n",
    "\n",
    "Na maioria dos acidentes houveram vítimas feridas, mas que não tem muitas vítimas fatais.\n",
    "\n",
    "**OBS**: Antes da plotagem desse gráfico tinhamos a hipótese de que São Paulo seria o estado que teria mais acidentes, por ser mais populoso e consequentemente possuir mais veículos, mas não é o que o gráfico indica."
   ]
  },
  {
   "cell_type": "markdown",
   "metadata": {
    "cell_id": "00041-9b0261cc-8e3c-4fc2-9adc-dbe5963edad1",
    "deepnote_cell_type": "markdown",
    "tags": []
   },
   "source": [
    "#### 3.6 Qual o número de ocorrências anuais para cada estado?"
   ]
  },
  {
   "cell_type": "code",
   "execution_count": 48,
   "metadata": {},
   "outputs": [
    {
     "data": {
      "image/png": "[encoded data removed]",
      "text/plain": [
       "<Figure size 2160x1112.46 with 1 Axes>"
      ]
     },
     "metadata": {
      "needs_background": "light"
     },
     "output_type": "display_data"
    }
   ],
   "source": [
    "table = pd.crosstab(ocorrencias['uf'], ocorrencias['ano'])\n",
    "table.plot(kind='bar', width=.8, title='Ocorrências anuais por UF', \n",
    "           figsize=(30, 25/1.6180339), fontsize=12)\n",
    "plt.legend(title='')\n",
    "plt.xlabel('UF')\n",
    "plt.ylabel('Ocorrências');"
   ]
  },
  {
   "cell_type": "markdown",
   "metadata": {
    "cell_id": "00043-7a433887-2cf3-4375-8fd9-9078072e0163",
    "deepnote_cell_type": "markdown",
    "tags": []
   },
   "source": [
    "- No ano de 2017 os estados que mais ocorreram acidentes foram Minas Gerais, Paraná e Santa Catarina.\n",
    "- No ano de 2018 os estados que mais ocorreram acidentes foram Minas Gerais, Santa Catarina e Paraná.\n",
    "- No ano de 2019 os estados que mais ocorreram acidentes foram Minas Gerais, Santa Catarina e Paraná.\n",
    "- No ano de 2020 os estados que mais ocorreram acidentes foram Minas Gerais, Santa Catarina e Paraná.\n",
    "- No ano de 2021 (até junho) os estados que mais ocorreram acidentes foram Minas Gerais, Santa Catarina e Paraná.\n",
    "\n",
    "E novamente é possível observar a tendência de queda na grande maioria das UFs.\n",
    "\n",
    "**OBS**: A visualização fica melhor abrindo o gráfico em outra aba. "
   ]
  },
  {
   "cell_type": "markdown",
   "metadata": {
    "cell_id": "00043-2098a40c-d538-4302-9fbb-f1837d2cd290",
    "deepnote_cell_type": "markdown",
    "tags": []
   },
   "source": [
    "#### 3.7 Quais as correlações entre as features númericas dos acidentes no Brasil?"
   ]
  },
  {
   "cell_type": "code",
   "execution_count": 73,
   "metadata": {
    "cell_id": "00036-4feea142-ec82-4199-9cda-70a69c4193bb",
    "deepnote_cell_type": "code",
    "deepnote_to_be_reexecuted": false,
    "execution_millis": 890,
    "execution_start": 1634483563304,
    "source_hash": "976a9592",
    "tags": []
   },
   "outputs": [
    {
     "data": {
      "image/png": "[encoded data removed]",
      "text/plain": [
       "<Figure size 1080x667.477 with 2 Axes>"
      ]
     },
     "metadata": {
      "image/png": {
       "height": 552,
       "width": 854
      },
      "needs_background": "light"
     },
     "output_type": "display_data"
    }
   ],
   "source": [
    "numericals = ['pessoas', 'veiculos', 'mortos', 'feridos', 'feridos_leves', 'feridos_graves', 'ilesos', 'ignorados']\n",
    "ocorrencias_corr = ocorrencias[numericals].corr()\n",
    "plt.figure(figsize=(15, 15/1.6180339))\n",
    "sns.heatmap(ocorrencias_corr, annot=True, linewidths=.5, cmap='Blues')\n",
    "plt.title('Matriz de correlação');"
   ]
  },
  {
   "cell_type": "markdown",
   "metadata": {
    "cell_id": "00037-080756e3-7f8b-43b0-983f-c95ef54e4bd2",
    "deepnote_cell_type": "markdown",
    "tags": []
   },
   "source": [
    "Com a matriz acima é possível observar que existe uma forte correlação entre \"feridos\" e \"feridos_leves\", indicando que a maioria dos feridos possuem ferimentos leves. Além de existir correlação forte entre \"ilesos\" e \"pessoas\", o que nos sugere que a maioria das pessoas envolvidas em acidentes saem sem danos físicos. Também observa-se uma correlação entre \"feridos\" e \"pessoas\", indicando que na maioria dos acidentes existem feridos."
   ]
  },
  {
   "cell_type": "markdown",
   "metadata": {
    "cell_id": "00028-1f6ae45d-0662-4e6e-afde-70763a45c60e",
    "deepnote_cell_type": "markdown",
    "tags": []
   },
   "source": [
    "<a id=\"estatisticas\"/>"
   ]
  },
  {
   "cell_type": "markdown",
   "metadata": {
    "cell_id": "00042-bae9bced-baef-4ade-95db-27cb37f00081",
    "deepnote_cell_type": "markdown",
    "tags": []
   },
   "source": [
    "## 4. Estatísticas"
   ]
  },
  {
   "cell_type": "code",
   "execution_count": 49,
   "metadata": {
    "cell_id": "00035-54a94e45-5e48-4787-9d8c-ea314fc46bc3",
    "deepnote_cell_type": "code",
    "deepnote_to_be_reexecuted": false,
    "execution_millis": 113,
    "execution_start": 1634477774709,
    "source_hash": "ac24af49",
    "tags": []
   },
   "outputs": [
    {
     "data": {
      "text/html": [
       "<div>\n",
       "<style scoped>\n",
       "    .dataframe tbody tr th:only-of-type {\n",
       "        vertical-align: middle;\n",
       "    }\n",
       "\n",
       "    .dataframe tbody tr th {\n",
       "        vertical-align: top;\n",
       "    }\n",
       "\n",
       "    .dataframe thead th {\n",
       "        text-align: right;\n",
       "    }\n",
       "</style>\n",
       "<table border=\"1\" class=\"dataframe\">\n",
       "  <thead>\n",
       "    <tr style=\"text-align: right;\">\n",
       "      <th></th>\n",
       "      <th>pessoas</th>\n",
       "      <th>veiculos</th>\n",
       "      <th>mortos</th>\n",
       "      <th>feridos</th>\n",
       "      <th>feridos_leves</th>\n",
       "      <th>feridos_graves</th>\n",
       "      <th>ilesos</th>\n",
       "      <th>ignorados</th>\n",
       "    </tr>\n",
       "  </thead>\n",
       "  <tbody>\n",
       "    <tr>\n",
       "      <th>count</th>\n",
       "      <td>320753.000000</td>\n",
       "      <td>320753.000000</td>\n",
       "      <td>320753.000000</td>\n",
       "      <td>320753.000000</td>\n",
       "      <td>320753.000000</td>\n",
       "      <td>320753.000000</td>\n",
       "      <td>320753.000000</td>\n",
       "      <td>320753.000000</td>\n",
       "    </tr>\n",
       "    <tr>\n",
       "      <th>mean</th>\n",
       "      <td>2.338510</td>\n",
       "      <td>1.640948</td>\n",
       "      <td>0.076732</td>\n",
       "      <td>1.077368</td>\n",
       "      <td>0.826892</td>\n",
       "      <td>0.250476</td>\n",
       "      <td>1.048536</td>\n",
       "      <td>0.135874</td>\n",
       "    </tr>\n",
       "    <tr>\n",
       "      <th>std</th>\n",
       "      <td>1.835522</td>\n",
       "      <td>0.734762</td>\n",
       "      <td>0.329213</td>\n",
       "      <td>1.202247</td>\n",
       "      <td>1.072218</td>\n",
       "      <td>0.594930</td>\n",
       "      <td>1.420751</td>\n",
       "      <td>0.412977</td>\n",
       "    </tr>\n",
       "    <tr>\n",
       "      <th>min</th>\n",
       "      <td>1.000000</td>\n",
       "      <td>1.000000</td>\n",
       "      <td>0.000000</td>\n",
       "      <td>0.000000</td>\n",
       "      <td>0.000000</td>\n",
       "      <td>0.000000</td>\n",
       "      <td>0.000000</td>\n",
       "      <td>0.000000</td>\n",
       "    </tr>\n",
       "    <tr>\n",
       "      <th>25%</th>\n",
       "      <td>1.000000</td>\n",
       "      <td>1.000000</td>\n",
       "      <td>0.000000</td>\n",
       "      <td>0.000000</td>\n",
       "      <td>0.000000</td>\n",
       "      <td>0.000000</td>\n",
       "      <td>0.000000</td>\n",
       "      <td>0.000000</td>\n",
       "    </tr>\n",
       "    <tr>\n",
       "      <th>50%</th>\n",
       "      <td>2.000000</td>\n",
       "      <td>2.000000</td>\n",
       "      <td>0.000000</td>\n",
       "      <td>1.000000</td>\n",
       "      <td>1.000000</td>\n",
       "      <td>0.000000</td>\n",
       "      <td>1.000000</td>\n",
       "      <td>0.000000</td>\n",
       "    </tr>\n",
       "    <tr>\n",
       "      <th>75%</th>\n",
       "      <td>3.000000</td>\n",
       "      <td>2.000000</td>\n",
       "      <td>0.000000</td>\n",
       "      <td>1.000000</td>\n",
       "      <td>1.000000</td>\n",
       "      <td>0.000000</td>\n",
       "      <td>1.000000</td>\n",
       "      <td>0.000000</td>\n",
       "    </tr>\n",
       "    <tr>\n",
       "      <th>max</th>\n",
       "      <td>80.000000</td>\n",
       "      <td>23.000000</td>\n",
       "      <td>21.000000</td>\n",
       "      <td>66.000000</td>\n",
       "      <td>58.000000</td>\n",
       "      <td>28.000000</td>\n",
       "      <td>73.000000</td>\n",
       "      <td>16.000000</td>\n",
       "    </tr>\n",
       "  </tbody>\n",
       "</table>\n",
       "</div>"
      ],
      "text/plain": [
       "             pessoas       veiculos         mortos        feridos  \\\n",
       "count  320753.000000  320753.000000  320753.000000  320753.000000   \n",
       "mean        2.338510       1.640948       0.076732       1.077368   \n",
       "std         1.835522       0.734762       0.329213       1.202247   \n",
       "min         1.000000       1.000000       0.000000       0.000000   \n",
       "25%         1.000000       1.000000       0.000000       0.000000   \n",
       "50%         2.000000       2.000000       0.000000       1.000000   \n",
       "75%         3.000000       2.000000       0.000000       1.000000   \n",
       "max        80.000000      23.000000      21.000000      66.000000   \n",
       "\n",
       "       feridos_leves  feridos_graves         ilesos      ignorados  \n",
       "count  320753.000000   320753.000000  320753.000000  320753.000000  \n",
       "mean        0.826892        0.250476       1.048536       0.135874  \n",
       "std         1.072218        0.594930       1.420751       0.412977  \n",
       "min         0.000000        0.000000       0.000000       0.000000  \n",
       "25%         0.000000        0.000000       0.000000       0.000000  \n",
       "50%         1.000000        0.000000       1.000000       0.000000  \n",
       "75%         1.000000        0.000000       1.000000       0.000000  \n",
       "max        58.000000       28.000000      73.000000      16.000000  "
      ]
     },
     "execution_count": 49,
     "metadata": {},
     "output_type": "execute_result"
    }
   ],
   "source": [
    "numericals = ['pessoas', 'veiculos', 'mortos', 'feridos', 'feridos_leves', 'feridos_graves', 'ilesos', 'ignorados']\n",
    "ocorrencias[numericals].describe()"
   ]
  },
  {
   "cell_type": "code",
   "execution_count": 57,
   "metadata": {},
   "outputs": [
    {
     "data": {
      "text/plain": [
       "0    2\n",
       "dtype: int64"
      ]
     },
     "execution_count": 57,
     "metadata": {},
     "output_type": "execute_result"
    }
   ],
   "source": [
    "ocorrencias['pessoas'].mode()"
   ]
  },
  {
   "cell_type": "markdown",
   "metadata": {
    "cell_id": "00040-d8c3a0a4-de16-4489-959c-f621046ff53b",
    "deepnote_cell_type": "markdown",
    "tags": []
   },
   "source": [
    "- Observa-se que as ocorrências envolvem, em média, 2.33 pessoas, 1.6 veículo, 1.07 pessoa ferida e 0.32 mortos. \n",
    "- A moda e mediana de pessoas envolvidas é de 2 pessoas, com o máximo chegando até 80 pessoas.\n",
    "- O número máximo de mortes em um acidente foi de 21 pessoas, e o de feridos chegou a 66 pessoas."
   ]
  },
  {
   "cell_type": "markdown",
   "metadata": {
    "cell_id": "00028-1f6ae45d-0662-4e6e-afde-70763a45c60e",
    "deepnote_cell_type": "markdown",
    "tags": []
   },
   "source": [
    "<a id=\"norm\"/>"
   ]
  },
  {
   "cell_type": "markdown",
   "metadata": {
    "cell_id": "00057-3a6cfaaf-ed6a-4328-ae00-f774527aa254",
    "deepnote_cell_type": "markdown",
    "tags": []
   },
   "source": [
    "## 5. Normalização"
   ]
  },
  {
   "cell_type": "markdown",
   "metadata": {},
   "source": [
    "Optamos por normalizar os dados para o intervalo [0, 1] utilizando a classe `MinMaxScaler` do sci-kit learn."
   ]
  },
  {
   "cell_type": "code",
   "execution_count": 37,
   "metadata": {},
   "outputs": [
    {
     "data": {
      "text/html": [
       "<div>\n",
       "<style scoped>\n",
       "    .dataframe tbody tr th:only-of-type {\n",
       "        vertical-align: middle;\n",
       "    }\n",
       "\n",
       "    .dataframe tbody tr th {\n",
       "        vertical-align: top;\n",
       "    }\n",
       "\n",
       "    .dataframe thead th {\n",
       "        text-align: right;\n",
       "    }\n",
       "</style>\n",
       "<table border=\"1\" class=\"dataframe\">\n",
       "  <thead>\n",
       "    <tr style=\"text-align: right;\">\n",
       "      <th></th>\n",
       "      <th>pessoas</th>\n",
       "      <th>veiculos</th>\n",
       "      <th>mortos</th>\n",
       "      <th>feridos</th>\n",
       "      <th>feridos_leves</th>\n",
       "      <th>feridos_graves</th>\n",
       "      <th>ilesos</th>\n",
       "      <th>ignorados</th>\n",
       "    </tr>\n",
       "  </thead>\n",
       "  <tbody>\n",
       "    <tr>\n",
       "      <th>0</th>\n",
       "      <td>0.000000</td>\n",
       "      <td>0.0</td>\n",
       "      <td>0.0</td>\n",
       "      <td>0.015152</td>\n",
       "      <td>0.000000</td>\n",
       "      <td>0.035714</td>\n",
       "      <td>0.000000</td>\n",
       "      <td>0.0</td>\n",
       "    </tr>\n",
       "    <tr>\n",
       "      <th>1</th>\n",
       "      <td>0.000000</td>\n",
       "      <td>0.0</td>\n",
       "      <td>0.0</td>\n",
       "      <td>0.000000</td>\n",
       "      <td>0.000000</td>\n",
       "      <td>0.000000</td>\n",
       "      <td>0.013699</td>\n",
       "      <td>0.0</td>\n",
       "    </tr>\n",
       "    <tr>\n",
       "      <th>2</th>\n",
       "      <td>0.012658</td>\n",
       "      <td>0.0</td>\n",
       "      <td>0.0</td>\n",
       "      <td>0.030303</td>\n",
       "      <td>0.034483</td>\n",
       "      <td>0.000000</td>\n",
       "      <td>0.000000</td>\n",
       "      <td>0.0</td>\n",
       "    </tr>\n",
       "    <tr>\n",
       "      <th>3</th>\n",
       "      <td>0.000000</td>\n",
       "      <td>0.0</td>\n",
       "      <td>0.0</td>\n",
       "      <td>0.015152</td>\n",
       "      <td>0.000000</td>\n",
       "      <td>0.035714</td>\n",
       "      <td>0.000000</td>\n",
       "      <td>0.0</td>\n",
       "    </tr>\n",
       "    <tr>\n",
       "      <th>4</th>\n",
       "      <td>0.000000</td>\n",
       "      <td>0.0</td>\n",
       "      <td>0.0</td>\n",
       "      <td>0.015152</td>\n",
       "      <td>0.017241</td>\n",
       "      <td>0.000000</td>\n",
       "      <td>0.000000</td>\n",
       "      <td>0.0</td>\n",
       "    </tr>\n",
       "  </tbody>\n",
       "</table>\n",
       "</div>"
      ],
      "text/plain": [
       "    pessoas  veiculos  mortos   feridos  feridos_leves  feridos_graves  \\\n",
       "0  0.000000       0.0     0.0  0.015152       0.000000        0.035714   \n",
       "1  0.000000       0.0     0.0  0.000000       0.000000        0.000000   \n",
       "2  0.012658       0.0     0.0  0.030303       0.034483        0.000000   \n",
       "3  0.000000       0.0     0.0  0.015152       0.000000        0.035714   \n",
       "4  0.000000       0.0     0.0  0.015152       0.017241        0.000000   \n",
       "\n",
       "     ilesos  ignorados  \n",
       "0  0.000000        0.0  \n",
       "1  0.013699        0.0  \n",
       "2  0.000000        0.0  \n",
       "3  0.000000        0.0  \n",
       "4  0.000000        0.0  "
      ]
     },
     "execution_count": 37,
     "metadata": {},
     "output_type": "execute_result"
    }
   ],
   "source": [
    "numericals = ['pessoas', 'veiculos', 'mortos', 'feridos', 'feridos_leves', 'feridos_graves', 'ilesos', 'ignorados']\n",
    "\n",
    "scaler = MinMaxScaler()\n",
    "scaled_data = scaler.fit_transform(X=ocorrencias[numericals])\n",
    "\n",
    "ocorrencias_scaled = pd.DataFrame(scaled_data,columns=numericals)\n",
    "ocorrencias_scaled.head()"
   ]
  },
  {
   "cell_type": "code",
   "execution_count": 38,
   "metadata": {},
   "outputs": [
    {
     "data": {
      "text/html": [
       "<div>\n",
       "<style scoped>\n",
       "    .dataframe tbody tr th:only-of-type {\n",
       "        vertical-align: middle;\n",
       "    }\n",
       "\n",
       "    .dataframe tbody tr th {\n",
       "        vertical-align: top;\n",
       "    }\n",
       "\n",
       "    .dataframe thead th {\n",
       "        text-align: right;\n",
       "    }\n",
       "</style>\n",
       "<table border=\"1\" class=\"dataframe\">\n",
       "  <thead>\n",
       "    <tr style=\"text-align: right;\">\n",
       "      <th></th>\n",
       "      <th>pessoas</th>\n",
       "      <th>veiculos</th>\n",
       "      <th>mortos</th>\n",
       "      <th>feridos</th>\n",
       "      <th>feridos_leves</th>\n",
       "      <th>feridos_graves</th>\n",
       "      <th>ilesos</th>\n",
       "      <th>ignorados</th>\n",
       "    </tr>\n",
       "  </thead>\n",
       "  <tbody>\n",
       "    <tr>\n",
       "      <th>count</th>\n",
       "      <td>320753.000000</td>\n",
       "      <td>320753.000000</td>\n",
       "      <td>320753.000000</td>\n",
       "      <td>320753.000000</td>\n",
       "      <td>320753.000000</td>\n",
       "      <td>320753.000000</td>\n",
       "      <td>320753.000000</td>\n",
       "      <td>320753.000000</td>\n",
       "    </tr>\n",
       "    <tr>\n",
       "      <th>mean</th>\n",
       "      <td>0.016943</td>\n",
       "      <td>0.029134</td>\n",
       "      <td>0.003654</td>\n",
       "      <td>0.016324</td>\n",
       "      <td>0.014257</td>\n",
       "      <td>0.008946</td>\n",
       "      <td>0.014364</td>\n",
       "      <td>0.008492</td>\n",
       "    </tr>\n",
       "    <tr>\n",
       "      <th>std</th>\n",
       "      <td>0.023234</td>\n",
       "      <td>0.033398</td>\n",
       "      <td>0.015677</td>\n",
       "      <td>0.018216</td>\n",
       "      <td>0.018487</td>\n",
       "      <td>0.021247</td>\n",
       "      <td>0.019462</td>\n",
       "      <td>0.025811</td>\n",
       "    </tr>\n",
       "    <tr>\n",
       "      <th>min</th>\n",
       "      <td>0.000000</td>\n",
       "      <td>0.000000</td>\n",
       "      <td>0.000000</td>\n",
       "      <td>0.000000</td>\n",
       "      <td>0.000000</td>\n",
       "      <td>0.000000</td>\n",
       "      <td>0.000000</td>\n",
       "      <td>0.000000</td>\n",
       "    </tr>\n",
       "    <tr>\n",
       "      <th>25%</th>\n",
       "      <td>0.000000</td>\n",
       "      <td>0.000000</td>\n",
       "      <td>0.000000</td>\n",
       "      <td>0.000000</td>\n",
       "      <td>0.000000</td>\n",
       "      <td>0.000000</td>\n",
       "      <td>0.000000</td>\n",
       "      <td>0.000000</td>\n",
       "    </tr>\n",
       "    <tr>\n",
       "      <th>50%</th>\n",
       "      <td>0.012658</td>\n",
       "      <td>0.045455</td>\n",
       "      <td>0.000000</td>\n",
       "      <td>0.015152</td>\n",
       "      <td>0.017241</td>\n",
       "      <td>0.000000</td>\n",
       "      <td>0.013699</td>\n",
       "      <td>0.000000</td>\n",
       "    </tr>\n",
       "    <tr>\n",
       "      <th>75%</th>\n",
       "      <td>0.025316</td>\n",
       "      <td>0.045455</td>\n",
       "      <td>0.000000</td>\n",
       "      <td>0.015152</td>\n",
       "      <td>0.017241</td>\n",
       "      <td>0.000000</td>\n",
       "      <td>0.013699</td>\n",
       "      <td>0.000000</td>\n",
       "    </tr>\n",
       "    <tr>\n",
       "      <th>max</th>\n",
       "      <td>1.000000</td>\n",
       "      <td>1.000000</td>\n",
       "      <td>1.000000</td>\n",
       "      <td>1.000000</td>\n",
       "      <td>1.000000</td>\n",
       "      <td>1.000000</td>\n",
       "      <td>1.000000</td>\n",
       "      <td>1.000000</td>\n",
       "    </tr>\n",
       "  </tbody>\n",
       "</table>\n",
       "</div>"
      ],
      "text/plain": [
       "             pessoas       veiculos         mortos        feridos  \\\n",
       "count  320753.000000  320753.000000  320753.000000  320753.000000   \n",
       "mean        0.016943       0.029134       0.003654       0.016324   \n",
       "std         0.023234       0.033398       0.015677       0.018216   \n",
       "min         0.000000       0.000000       0.000000       0.000000   \n",
       "25%         0.000000       0.000000       0.000000       0.000000   \n",
       "50%         0.012658       0.045455       0.000000       0.015152   \n",
       "75%         0.025316       0.045455       0.000000       0.015152   \n",
       "max         1.000000       1.000000       1.000000       1.000000   \n",
       "\n",
       "       feridos_leves  feridos_graves         ilesos      ignorados  \n",
       "count  320753.000000   320753.000000  320753.000000  320753.000000  \n",
       "mean        0.014257        0.008946       0.014364       0.008492  \n",
       "std         0.018487        0.021247       0.019462       0.025811  \n",
       "min         0.000000        0.000000       0.000000       0.000000  \n",
       "25%         0.000000        0.000000       0.000000       0.000000  \n",
       "50%         0.017241        0.000000       0.013699       0.000000  \n",
       "75%         0.017241        0.000000       0.013699       0.000000  \n",
       "max         1.000000        1.000000       1.000000       1.000000  "
      ]
     },
     "execution_count": 38,
     "metadata": {},
     "output_type": "execute_result"
    }
   ],
   "source": [
    "ocorrencias_scaled.describe()"
   ]
  },
  {
   "cell_type": "markdown",
   "metadata": {},
   "source": [
    "Nota-se que agora todas as colunas numéricas tem como minímo e máximo 0 e 1, respectivamente."
   ]
  }
 ],
 "metadata": {
  "deepnote": {
   "is_reactive": false
  },
  "deepnote_execution_queue": [],
  "deepnote_notebook_id": "25613d28-b5f8-47b6-a127-942a392c6997",
  "kernelspec": {
   "display_name": "Python 3",
   "language": "python",
   "name": "python3"
  },
  "language_info": {
   "codemirror_mode": {
    "name": "ipython",
    "version": 3
   },
   "file_extension": ".py",
   "mimetype": "text/x-python",
   "name": "python",
   "nbconvert_exporter": "python",
   "pygments_lexer": "ipython3",
   "version": "3.8.10"
  }
 },
 "nbformat": 4,
 "nbformat_minor": 2
}
