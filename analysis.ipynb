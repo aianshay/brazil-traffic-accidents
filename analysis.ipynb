{
 "cells": [
  {
   "cell_type": "code",
   "metadata": {
    "tags": [],
    "cell_id": "00000-d5eb1e40-4ec0-4578-9ec7-6b39e4d6f279",
    "deepnote_to_be_reexecuted": false,
    "source_hash": "de20a961",
    "execution_start": 1634302625803,
    "execution_millis": 2345,
    "deepnote_cell_type": "code"
   },
   "source": "# Start writing code here...\n\nimport pandas as pd\nimport matplotlib.pyplot as plt\nimport seaborn as sns\nimport glob",
   "execution_count": 1,
   "outputs": []
  },
  {
   "cell_type": "code",
   "metadata": {
    "tags": [],
    "cell_id": "00002-5bb85bd9-d658-48d3-823b-d45d265d5c75",
    "deepnote_to_be_reexecuted": false,
    "source_hash": "a7171a7c",
    "execution_start": 1634302628166,
    "execution_millis": 2614,
    "deepnote_cell_type": "code"
   },
   "source": "files = glob.glob(\"por_ocorrencia/ocorrencias_final/*.csv\")\ndfs = [pd.read_csv(f, sep=\";\", encoding = \"ISO-8859-1\") for f in files]\n\nocorrencias = pd.concat(dfs,ignore_index=True)",
   "execution_count": 2,
   "outputs": []
  },
  {
   "cell_type": "code",
   "metadata": {
    "tags": [],
    "cell_id": "00005-52736f1b-80bc-46e5-b48a-fb8137dcf20b",
    "deepnote_to_be_reexecuted": false,
    "source_hash": "a847d4d5",
    "execution_start": 1634302630793,
    "execution_millis": 155,
    "deepnote_cell_type": "code"
   },
   "source": "ocorrencias.head(100)",
   "execution_count": 3,
   "outputs": [
    {
     "output_type": "execute_result",
     "execution_count": 3,
     "data": {
      "application/vnd.deepnote.dataframe.v2+json": {
       "row_count": 100,
       "column_count": 30,
       "columns": [
        {
         "name": "id",
         "dtype": "float64",
         "stats": {
          "unique_count": 100,
          "nan_count": 0,
          "min": "182210.0",
          "max": "182333.0",
          "histogram": [
           {
            "bin_start": 182210,
            "bin_end": 182222.3,
            "count": 9
           },
           {
            "bin_start": 182222.3,
            "bin_end": 182234.6,
            "count": 10
           },
           {
            "bin_start": 182234.6,
            "bin_end": 182246.9,
            "count": 10
           },
           {
            "bin_start": 182246.9,
            "bin_end": 182259.2,
            "count": 10
           },
           {
            "bin_start": 182259.2,
            "bin_end": 182271.5,
            "count": 9
           },
           {
            "bin_start": 182271.5,
            "bin_end": 182283.8,
            "count": 9
           },
           {
            "bin_start": 182283.8,
            "bin_end": 182296.1,
            "count": 12
           },
           {
            "bin_start": 182296.1,
            "bin_end": 182308.4,
            "count": 10
           },
           {
            "bin_start": 182308.4,
            "bin_end": 182320.7,
            "count": 11
           },
           {
            "bin_start": 182320.7,
            "bin_end": 182333,
            "count": 10
           }
          ]
         }
        },
        {
         "name": "data_inversa",
         "dtype": "object",
         "stats": {
          "unique_count": 1,
          "nan_count": 0,
          "categories": [
           {
            "name": "2019-01-01",
            "count": 100
           }
          ]
         }
        },
        {
         "name": "dia_semana",
         "dtype": "object",
         "stats": {
          "unique_count": 1,
          "nan_count": 0,
          "categories": [
           {
            "name": "terça-feira",
            "count": 100
           }
          ]
         }
        },
        {
         "name": "horario",
         "dtype": "object",
         "stats": {
          "unique_count": 71,
          "nan_count": 0,
          "categories": [
           {
            "name": "01:30:00",
            "count": 3
           },
           {
            "name": "03:50:00",
            "count": 3
           },
           {
            "name": "69 others",
            "count": 94
           }
          ]
         }
        },
        {
         "name": "uf",
         "dtype": "object",
         "stats": {
          "unique_count": 24,
          "nan_count": 0,
          "categories": [
           {
            "name": "MG",
            "count": 16
           },
           {
            "name": "SC",
            "count": 13
           },
           {
            "name": "22 others",
            "count": 71
           }
          ]
         }
        },
        {
         "name": "br",
         "dtype": "float64",
         "stats": {
          "unique_count": 34,
          "nan_count": 0,
          "min": "10.0",
          "max": "470.0",
          "histogram": [
           {
            "bin_start": 10,
            "bin_end": 56,
            "count": 18
           },
           {
            "bin_start": 56,
            "bin_end": 102,
            "count": 23
           },
           {
            "bin_start": 102,
            "bin_end": 148,
            "count": 5
           },
           {
            "bin_start": 148,
            "bin_end": 194,
            "count": 8
           },
           {
            "bin_start": 194,
            "bin_end": 240,
            "count": 2
           },
           {
            "bin_start": 240,
            "bin_end": 286,
            "count": 11
           },
           {
            "bin_start": 286,
            "bin_end": 332,
            "count": 9
           },
           {
            "bin_start": 332,
            "bin_end": 378,
            "count": 10
           },
           {
            "bin_start": 378,
            "bin_end": 424,
            "count": 9
           },
           {
            "bin_start": 424,
            "bin_end": 470,
            "count": 5
           }
          ]
         }
        },
        {
         "name": "km",
         "dtype": "object",
         "stats": {
          "unique_count": 99,
          "nan_count": 0,
          "categories": [
           {
            "name": "16",
            "count": 2
           },
           {
            "name": "218",
            "count": 1
           },
           {
            "name": "97 others",
            "count": 97
           }
          ]
         }
        },
        {
         "name": "municipio",
         "dtype": "object",
         "stats": {
          "unique_count": 82,
          "nan_count": 0,
          "categories": [
           {
            "name": "GOIANIA",
            "count": 3
           },
           {
            "name": "UBERLANDIA",
            "count": 3
           },
           {
            "name": "80 others",
            "count": 94
           }
          ]
         }
        },
        {
         "name": "causa_acidente",
         "dtype": "object",
         "stats": {
          "unique_count": 15,
          "nan_count": 0,
          "categories": [
           {
            "name": "Falta de Atenção à Condução",
            "count": 35
           },
           {
            "name": "Ingestão de Álcool",
            "count": 15
           },
           {
            "name": "13 others",
            "count": 50
           }
          ]
         }
        },
        {
         "name": "tipo_acidente",
         "dtype": "object",
         "stats": {
          "unique_count": 13,
          "nan_count": 0,
          "categories": [
           {
            "name": "Saída de leito carroçável",
            "count": 26
           },
           {
            "name": "Colisão com objeto estático",
            "count": 13
           },
           {
            "name": "11 others",
            "count": 61
           }
          ]
         }
        },
        {
         "name": "classificacao_acidente",
         "dtype": "object",
         "stats": {
          "unique_count": 3,
          "nan_count": 0,
          "categories": [
           {
            "name": "Com Vítimas Feridas",
            "count": 77
           },
           {
            "name": "Sem Vítimas",
            "count": 14
           },
           {
            "name": "Com Vítimas Fatais",
            "count": 9
           }
          ]
         }
        },
        {
         "name": "fase_dia",
         "dtype": "object",
         "stats": {
          "unique_count": 3,
          "nan_count": 0,
          "categories": [
           {
            "name": "Pleno dia",
            "count": 65
           },
           {
            "name": "Plena Noite",
            "count": 27
           },
           {
            "name": "Amanhecer",
            "count": 8
           }
          ]
         }
        },
        {
         "name": "sentido_via",
         "dtype": "object",
         "stats": {
          "unique_count": 2,
          "nan_count": 0,
          "categories": [
           {
            "name": "Decrescente",
            "count": 52
           },
           {
            "name": "Crescente",
            "count": 48
           }
          ]
         }
        },
        {
         "name": "condicao_metereologica",
         "dtype": "object",
         "stats": {
          "unique_count": 8,
          "nan_count": 0,
          "categories": [
           {
            "name": "Céu Claro",
            "count": 52
           },
           {
            "name": "Nublado",
            "count": 17
           },
           {
            "name": "6 others",
            "count": 31
           }
          ]
         }
        },
        {
         "name": "tipo_pista",
         "dtype": "object",
         "stats": {
          "unique_count": 3,
          "nan_count": 0,
          "categories": [
           {
            "name": "Simples",
            "count": 53
           },
           {
            "name": "Dupla",
            "count": 43
           },
           {
            "name": "Múltipla",
            "count": 4
           }
          ]
         }
        },
        {
         "name": "tracado_via",
         "dtype": "object",
         "stats": {
          "unique_count": 7,
          "nan_count": 0,
          "categories": [
           {
            "name": "Reta",
            "count": 59
           },
           {
            "name": "Curva",
            "count": 20
           },
           {
            "name": "5 others",
            "count": 21
           }
          ]
         }
        },
        {
         "name": "uso_solo",
         "dtype": "object",
         "stats": {
          "unique_count": 2,
          "nan_count": 0,
          "categories": [
           {
            "name": "Não",
            "count": 66
           },
           {
            "name": "Sim",
            "count": 34
           }
          ]
         }
        },
        {
         "name": "pessoas",
         "dtype": "int64",
         "stats": {
          "unique_count": 7,
          "nan_count": 0,
          "min": "1",
          "max": "7",
          "histogram": [
           {
            "bin_start": 1,
            "bin_end": 1.6,
            "count": 28
           },
           {
            "bin_start": 1.6,
            "bin_end": 2.2,
            "count": 35
           },
           {
            "bin_start": 2.2,
            "bin_end": 2.8,
            "count": 0
           },
           {
            "bin_start": 2.8,
            "bin_end": 3.4,
            "count": 19
           },
           {
            "bin_start": 3.4,
            "bin_end": 4,
            "count": 0
           },
           {
            "bin_start": 4,
            "bin_end": 4.6,
            "count": 9
           },
           {
            "bin_start": 4.6,
            "bin_end": 5.2,
            "count": 5
           },
           {
            "bin_start": 5.2,
            "bin_end": 5.8,
            "count": 0
           },
           {
            "bin_start": 5.8,
            "bin_end": 6.3999999999999995,
            "count": 3
           },
           {
            "bin_start": 6.3999999999999995,
            "bin_end": 7,
            "count": 1
           }
          ]
         }
        },
        {
         "name": "mortos",
         "dtype": "int64",
         "stats": {
          "unique_count": 3,
          "nan_count": 0,
          "min": "0",
          "max": "2",
          "histogram": [
           {
            "bin_start": 0,
            "bin_end": 0.2,
            "count": 91
           },
           {
            "bin_start": 0.2,
            "bin_end": 0.4,
            "count": 0
           },
           {
            "bin_start": 0.4,
            "bin_end": 0.6000000000000001,
            "count": 0
           },
           {
            "bin_start": 0.6000000000000001,
            "bin_end": 0.8,
            "count": 0
           },
           {
            "bin_start": 0.8,
            "bin_end": 1,
            "count": 0
           },
           {
            "bin_start": 1,
            "bin_end": 1.2000000000000002,
            "count": 8
           },
           {
            "bin_start": 1.2000000000000002,
            "bin_end": 1.4000000000000001,
            "count": 0
           },
           {
            "bin_start": 1.4000000000000001,
            "bin_end": 1.6,
            "count": 0
           },
           {
            "bin_start": 1.6,
            "bin_end": 1.8,
            "count": 0
           },
           {
            "bin_start": 1.8,
            "bin_end": 2,
            "count": 1
           }
          ]
         }
        },
        {
         "name": "feridos_leves",
         "dtype": "int64",
         "stats": {
          "unique_count": 5,
          "nan_count": 0,
          "min": "0",
          "max": "4",
          "histogram": [
           {
            "bin_start": 0,
            "bin_end": 0.4,
            "count": 38
           },
           {
            "bin_start": 0.4,
            "bin_end": 0.8,
            "count": 0
           },
           {
            "bin_start": 0.8,
            "bin_end": 1.2000000000000002,
            "count": 37
           },
           {
            "bin_start": 1.2000000000000002,
            "bin_end": 1.6,
            "count": 0
           },
           {
            "bin_start": 1.6,
            "bin_end": 2,
            "count": 0
           },
           {
            "bin_start": 2,
            "bin_end": 2.4000000000000004,
            "count": 18
           },
           {
            "bin_start": 2.4000000000000004,
            "bin_end": 2.8000000000000003,
            "count": 0
           },
           {
            "bin_start": 2.8000000000000003,
            "bin_end": 3.2,
            "count": 2
           },
           {
            "bin_start": 3.2,
            "bin_end": 3.6,
            "count": 0
           },
           {
            "bin_start": 3.6,
            "bin_end": 4,
            "count": 5
           }
          ]
         }
        },
        {
         "name": "feridos_graves",
         "dtype": "int64",
         "stats": {
          "unique_count": 4,
          "nan_count": 0,
          "min": "0",
          "max": "3",
          "histogram": [
           {
            "bin_start": 0,
            "bin_end": 0.3,
            "count": 70
           },
           {
            "bin_start": 0.3,
            "bin_end": 0.6,
            "count": 0
           },
           {
            "bin_start": 0.6,
            "bin_end": 0.8999999999999999,
            "count": 0
           },
           {
            "bin_start": 0.8999999999999999,
            "bin_end": 1.2,
            "count": 24
           },
           {
            "bin_start": 1.2,
            "bin_end": 1.5,
            "count": 0
           },
           {
            "bin_start": 1.5,
            "bin_end": 1.7999999999999998,
            "count": 0
           },
           {
            "bin_start": 1.7999999999999998,
            "bin_end": 2.1,
            "count": 5
           },
           {
            "bin_start": 2.1,
            "bin_end": 2.4,
            "count": 0
           },
           {
            "bin_start": 2.4,
            "bin_end": 2.6999999999999997,
            "count": 0
           },
           {
            "bin_start": 2.6999999999999997,
            "bin_end": 3,
            "count": 1
           }
          ]
         }
        },
        {
         "name": "ilesos",
         "dtype": "int64",
         "stats": {
          "unique_count": 6,
          "nan_count": 0,
          "min": "0",
          "max": "6",
          "histogram": [
           {
            "bin_start": 0,
            "bin_end": 0.6,
            "count": 49
           },
           {
            "bin_start": 0.6,
            "bin_end": 1.2,
            "count": 32
           },
           {
            "bin_start": 1.2,
            "bin_end": 1.7999999999999998,
            "count": 0
           },
           {
            "bin_start": 1.7999999999999998,
            "bin_end": 2.4,
            "count": 14
           },
           {
            "bin_start": 2.4,
            "bin_end": 3,
            "count": 0
           },
           {
            "bin_start": 3,
            "bin_end": 3.5999999999999996,
            "count": 1
           },
           {
            "bin_start": 3.5999999999999996,
            "bin_end": 4.2,
            "count": 3
           },
           {
            "bin_start": 4.2,
            "bin_end": 4.8,
            "count": 0
           },
           {
            "bin_start": 4.8,
            "bin_end": 5.3999999999999995,
            "count": 0
           },
           {
            "bin_start": 5.3999999999999995,
            "bin_end": 6,
            "count": 1
           }
          ]
         }
        },
        {
         "name": "ignorados",
         "dtype": "int64",
         "stats": {
          "unique_count": 4,
          "nan_count": 0,
          "min": "0",
          "max": "3",
          "histogram": [
           {
            "bin_start": 0,
            "bin_end": 0.3,
            "count": 89
           },
           {
            "bin_start": 0.3,
            "bin_end": 0.6,
            "count": 0
           },
           {
            "bin_start": 0.6,
            "bin_end": 0.8999999999999999,
            "count": 0
           },
           {
            "bin_start": 0.8999999999999999,
            "bin_end": 1.2,
            "count": 9
           },
           {
            "bin_start": 1.2,
            "bin_end": 1.5,
            "count": 0
           },
           {
            "bin_start": 1.5,
            "bin_end": 1.7999999999999998,
            "count": 0
           },
           {
            "bin_start": 1.7999999999999998,
            "bin_end": 2.1,
            "count": 1
           },
           {
            "bin_start": 2.1,
            "bin_end": 2.4,
            "count": 0
           },
           {
            "bin_start": 2.4,
            "bin_end": 2.6999999999999997,
            "count": 0
           },
           {
            "bin_start": 2.6999999999999997,
            "bin_end": 3,
            "count": 1
           }
          ]
         }
        },
        {
         "name": "feridos",
         "dtype": "int64",
         "stats": {
          "unique_count": 6,
          "nan_count": 0,
          "min": "0",
          "max": "5",
          "histogram": [
           {
            "bin_start": 0,
            "bin_end": 0.5,
            "count": 18
           },
           {
            "bin_start": 0.5,
            "bin_end": 1,
            "count": 0
           },
           {
            "bin_start": 1,
            "bin_end": 1.5,
            "count": 45
           },
           {
            "bin_start": 1.5,
            "bin_end": 2,
            "count": 0
           },
           {
            "bin_start": 2,
            "bin_end": 2.5,
            "count": 28
           },
           {
            "bin_start": 2.5,
            "bin_end": 3,
            "count": 0
           },
           {
            "bin_start": 3,
            "bin_end": 3.5,
            "count": 2
           },
           {
            "bin_start": 3.5,
            "bin_end": 4,
            "count": 0
           },
           {
            "bin_start": 4,
            "bin_end": 4.5,
            "count": 6
           },
           {
            "bin_start": 4.5,
            "bin_end": 5,
            "count": 1
           }
          ]
         }
        },
        {
         "name": "veiculos",
         "dtype": "int64",
         "stats": {
          "unique_count": 5,
          "nan_count": 0,
          "min": "1",
          "max": "5",
          "histogram": [
           {
            "bin_start": 1,
            "bin_end": 1.4,
            "count": 58
           },
           {
            "bin_start": 1.4,
            "bin_end": 1.8,
            "count": 0
           },
           {
            "bin_start": 1.8,
            "bin_end": 2.2,
            "count": 37
           },
           {
            "bin_start": 2.2,
            "bin_end": 2.6,
            "count": 0
           },
           {
            "bin_start": 2.6,
            "bin_end": 3,
            "count": 0
           },
           {
            "bin_start": 3,
            "bin_end": 3.4000000000000004,
            "count": 3
           },
           {
            "bin_start": 3.4000000000000004,
            "bin_end": 3.8000000000000003,
            "count": 0
           },
           {
            "bin_start": 3.8000000000000003,
            "bin_end": 4.2,
            "count": 1
           },
           {
            "bin_start": 4.2,
            "bin_end": 4.6,
            "count": 0
           },
           {
            "bin_start": 4.6,
            "bin_end": 5,
            "count": 1
           }
          ]
         }
        },
        {
         "name": "latitude",
         "dtype": "object",
         "stats": {
          "unique_count": 99,
          "nan_count": 0,
          "categories": [
           {
            "name": "-20,1093",
            "count": 2
           },
           {
            "name": "-23,46052014",
            "count": 1
           },
           {
            "name": "97 others",
            "count": 97
           }
          ]
         }
        },
        {
         "name": "longitude",
         "dtype": "object",
         "stats": {
          "unique_count": 99,
          "nan_count": 0,
          "categories": [
           {
            "name": "-44,3169",
            "count": 2
           },
           {
            "name": "-46,48772478",
            "count": 1
           },
           {
            "name": "97 others",
            "count": 97
           }
          ]
         }
        },
        {
         "name": "regional",
         "dtype": "object",
         "stats": {
          "unique_count": 24,
          "nan_count": 0,
          "categories": [
           {
            "name": "SR-MG",
            "count": 16
           },
           {
            "name": "SR-SC",
            "count": 13
           },
           {
            "name": "22 others",
            "count": 71
           }
          ]
         }
        },
        {
         "name": "delegacia",
         "dtype": "object",
         "stats": {
          "unique_count": 65,
          "nan_count": 0,
          "categories": [
           {
            "name": "DEL4/1",
            "count": 4
           },
           {
            "name": "DEL7/3",
            "count": 3
           },
           {
            "name": "63 others",
            "count": 93
           }
          ]
         }
        },
        {
         "name": "uop",
         "dtype": "object",
         "stats": {
          "unique_count": 49,
          "nan_count": 7,
          "categories": [
           {
            "name": "UOP01/MG",
            "count": 8
           },
           {
            "name": "48 others",
            "count": 85
           },
           {
            "name": "Missing",
            "count": 7
           }
          ]
         }
        },
        {
         "name": "_deepnote_index_column",
         "dtype": "int64"
        }
       ],
       "rows_top": [
        {
         "id": 182210,
         "data_inversa": "2019-01-01",
         "dia_semana": "terça-feira",
         "horario": "01:30:00",
         "uf": "SP",
         "br": 116,
         "km": "218",
         "municipio": "GUARULHOS",
         "causa_acidente": "Falta de Atenção à Condução",
         "tipo_acidente": "Colisão com objeto estático",
         "classificacao_acidente": "Com Vítimas Feridas",
         "fase_dia": "Plena Noite",
         "sentido_via": "Crescente",
         "condicao_metereologica": "Céu Claro",
         "tipo_pista": "Múltipla",
         "tracado_via": "Curva",
         "uso_solo": "Sim",
         "pessoas": 4,
         "mortos": 0,
         "feridos_leves": 4,
         "feridos_graves": 0,
         "ilesos": 0,
         "ignorados": 0,
         "feridos": 4,
         "veiculos": 1,
         "latitude": "-23,46052014",
         "longitude": "-46,48772478",
         "regional": "SR-SP",
         "delegacia": "DEL6/1",
         "uop": "UOP01/SP",
         "_deepnote_index_column": 0
        },
        {
         "id": 182211,
         "data_inversa": "2019-01-01",
         "dia_semana": "terça-feira",
         "horario": "01:30:00",
         "uf": "PR",
         "br": 373,
         "km": "177,3",
         "municipio": "PONTA GROSSA",
         "causa_acidente": "Falta de Atenção à Condução",
         "tipo_acidente": "Colisão traseira",
         "classificacao_acidente": "Com Vítimas Feridas",
         "fase_dia": "Plena Noite",
         "sentido_via": "Crescente",
         "condicao_metereologica": "Nublado",
         "tipo_pista": "Dupla",
         "tracado_via": "Reta",
         "uso_solo": "Sim",
         "pessoas": 1,
         "mortos": 0,
         "feridos_leves": 1,
         "feridos_graves": 0,
         "ilesos": 0,
         "ignorados": 0,
         "feridos": 1,
         "veiculos": 1,
         "latitude": "-25,05533957",
         "longitude": "-50,22776753",
         "regional": "SR-PR",
         "delegacia": "DEL7/3",
         "uop": "UOP01/PR",
         "_deepnote_index_column": 1
        },
        {
         "id": 182212,
         "data_inversa": "2019-01-01",
         "dia_semana": "terça-feira",
         "horario": "00:45:00",
         "uf": "SC",
         "br": 101,
         "km": "16",
         "municipio": "GARUVA",
         "causa_acidente": "Animais na Pista",
         "tipo_acidente": "Colisão com objeto estático",
         "classificacao_acidente": "Com Vítimas Feridas",
         "fase_dia": "Plena Noite",
         "sentido_via": "Decrescente",
         "condicao_metereologica": "Céu Claro",
         "tipo_pista": "Dupla",
         "tracado_via": "Reta",
         "uso_solo": "Sim",
         "pessoas": 1,
         "mortos": 0,
         "feridos_leves": 1,
         "feridos_graves": 0,
         "ilesos": 0,
         "ignorados": 0,
         "feridos": 1,
         "veiculos": 1,
         "latitude": "-26,1216",
         "longitude": "-48,8826",
         "regional": "SR-SC",
         "delegacia": "DEL8/3",
         "uop": "UOP01/SC",
         "_deepnote_index_column": 2
        },
        {
         "id": 182214,
         "data_inversa": "2019-01-01",
         "dia_semana": "terça-feira",
         "horario": "00:00:00",
         "uf": "CE",
         "br": 20,
         "km": "429,5",
         "municipio": "FORTALEZA",
         "causa_acidente": "Ingestão de Substâncias Psicoativas",
         "tipo_acidente": "Colisão com objeto estático",
         "classificacao_acidente": "Com Vítimas Feridas",
         "fase_dia": "Plena Noite",
         "sentido_via": "Decrescente",
         "condicao_metereologica": "Nublado",
         "tipo_pista": "Dupla",
         "tracado_via": "Viaduto",
         "uso_solo": "Sim",
         "pessoas": 1,
         "mortos": 0,
         "feridos_leves": 0,
         "feridos_graves": 1,
         "ilesos": 0,
         "ignorados": 0,
         "feridos": 1,
         "veiculos": 1,
         "latitude": "-3,76999",
         "longitude": "-38,670063",
         "regional": "SR-CE",
         "delegacia": "DEL16/1",
         "uop": "UOP02/CE",
         "_deepnote_index_column": 3
        },
        {
         "id": 182215,
         "data_inversa": "2019-01-01",
         "dia_semana": "terça-feira",
         "horario": "01:00:00",
         "uf": "MG",
         "br": 381,
         "km": "327",
         "municipio": "NOVA ERA",
         "causa_acidente": "Falta de Atenção à Condução",
         "tipo_acidente": "Colisão transversal",
         "classificacao_acidente": "Com Vítimas Feridas",
         "fase_dia": "Plena Noite",
         "sentido_via": "Decrescente",
         "condicao_metereologica": "Nublado",
         "tipo_pista": "Simples",
         "tracado_via": "Interseção de vias",
         "uso_solo": "Não",
         "pessoas": 2,
         "mortos": 0,
         "feridos_leves": 0,
         "feridos_graves": 1,
         "ilesos": 1,
         "ignorados": 0,
         "feridos": 1,
         "veiculos": 2,
         "latitude": "-19,7609",
         "longitude": "-43,0306",
         "regional": "SR-MG",
         "delegacia": "DEL4/3",
         "uop": "UOP01/MG",
         "_deepnote_index_column": 4
        },
        {
         "id": 182216,
         "data_inversa": "2019-01-01",
         "dia_semana": "terça-feira",
         "horario": "01:50:00",
         "uf": "SC",
         "br": 470,
         "km": "42,6",
         "municipio": "GASPAR",
         "causa_acidente": "Ingestão de Substâncias Psicoativas",
         "tipo_acidente": "Saída de leito carroçável",
         "classificacao_acidente": "Com Vítimas Feridas",
         "fase_dia": "Plena Noite",
         "sentido_via": "Decrescente",
         "condicao_metereologica": "Céu Claro",
         "tipo_pista": "Simples",
         "tracado_via": "Reta",
         "uso_solo": "Sim",
         "pessoas": 1,
         "mortos": 0,
         "feridos_leves": 1,
         "feridos_graves": 0,
         "ilesos": 0,
         "ignorados": 0,
         "feridos": 1,
         "veiculos": 1,
         "latitude": "-26,875719",
         "longitude": "-49,003746",
         "regional": "SR-SC",
         "delegacia": "DEL8/4",
         "uop": "UOP01/SC",
         "_deepnote_index_column": 5
        },
        {
         "id": 182217,
         "data_inversa": "2019-01-01",
         "dia_semana": "terça-feira",
         "horario": "01:30:00",
         "uf": "MS",
         "br": 163,
         "km": "721,5",
         "municipio": "COXIM",
         "causa_acidente": "Animais na Pista",
         "tipo_acidente": "Atropelamento de Animal",
         "classificacao_acidente": "Sem Vítimas",
         "fase_dia": "Plena Noite",
         "sentido_via": "Crescente",
         "condicao_metereologica": "Céu Claro",
         "tipo_pista": "Simples",
         "tracado_via": "Reta",
         "uso_solo": "Não",
         "pessoas": 1,
         "mortos": 0,
         "feridos_leves": 0,
         "feridos_graves": 0,
         "ilesos": 0,
         "ignorados": 1,
         "feridos": 0,
         "veiculos": 1,
         "latitude": "-18,575739",
         "longitude": "-54,76353",
         "regional": "SR-MS",
         "delegacia": "DEL3/6",
         "uop": "UOP01/MS",
         "_deepnote_index_column": 6
        },
        {
         "id": 182219,
         "data_inversa": "2019-01-01",
         "dia_semana": "terça-feira",
         "horario": "00:50:00",
         "uf": "GO",
         "br": 50,
         "km": "280,3",
         "municipio": "CATALAO",
         "causa_acidente": "Desobediência às normas de trânsito pelo condutor",
         "tipo_acidente": "Colisão transversal",
         "classificacao_acidente": "Com Vítimas Feridas",
         "fase_dia": "Plena Noite",
         "sentido_via": "Decrescente",
         "condicao_metereologica": "Céu Claro",
         "tipo_pista": "Dupla",
         "tracado_via": "Reta",
         "uso_solo": "Sim",
         "pessoas": 3,
         "mortos": 0,
         "feridos_leves": 1,
         "feridos_graves": 0,
         "ilesos": 2,
         "ignorados": 0,
         "feridos": 1,
         "veiculos": 2,
         "latitude": "-18,1784",
         "longitude": "-47,9362",
         "regional": "SR-GO",
         "delegacia": "DEL1/6",
         "uop": "UOP01/GO",
         "_deepnote_index_column": 7
        },
        {
         "id": 182220,
         "data_inversa": "2019-01-01",
         "dia_semana": "terça-feira",
         "horario": "02:25:00",
         "uf": "GO",
         "br": 60,
         "km": "172",
         "municipio": "GOIANIA",
         "causa_acidente": "Desobediência às normas de trânsito pelo pedestre",
         "tipo_acidente": "Atropelamento de Pedestre",
         "classificacao_acidente": "Com Vítimas Fatais",
         "fase_dia": "Plena Noite",
         "sentido_via": "Decrescente",
         "condicao_metereologica": "Chuva",
         "tipo_pista": "Dupla",
         "tracado_via": "Reta",
         "uso_solo": "Não",
         "pessoas": 3,
         "mortos": 1,
         "feridos_leves": 0,
         "feridos_graves": 0,
         "ilesos": 0,
         "ignorados": 2,
         "feridos": 0,
         "veiculos": 1,
         "latitude": "-16,738",
         "longitude": "-49,4076",
         "regional": "SR-GO",
         "delegacia": "DEL1/1",
         "uop": "UOP02/GO",
         "_deepnote_index_column": 8
        },
        {
         "id": 182223,
         "data_inversa": "2019-01-01",
         "dia_semana": "terça-feira",
         "horario": "02:15:00",
         "uf": "RS",
         "br": 386,
         "km": "73,7",
         "municipio": "BOA VISTA DAS MISSOES",
         "causa_acidente": "Ingestão de Álcool",
         "tipo_acidente": "Colisão frontal",
         "classificacao_acidente": "Com Vítimas Feridas",
         "fase_dia": "Plena Noite",
         "sentido_via": "Decrescente",
         "condicao_metereologica": "Nublado",
         "tipo_pista": "Simples",
         "tracado_via": "Curva",
         "uso_solo": "Sim",
         "pessoas": 4,
         "mortos": 0,
         "feridos_leves": 2,
         "feridos_graves": 2,
         "ilesos": 0,
         "ignorados": 0,
         "feridos": 4,
         "veiculos": 2,
         "latitude": "-27,693541",
         "longitude": "-53,300945",
         "regional": "SR-RS",
         "delegacia": "DEL08",
         "uop": "UOP02/RS",
         "_deepnote_index_column": 9
        },
        {
         "id": 182225,
         "data_inversa": "2019-01-01",
         "dia_semana": "terça-feira",
         "horario": "02:00:00",
         "uf": "MG",
         "br": 50,
         "km": "77,3",
         "municipio": "UBERLANDIA",
         "causa_acidente": "Desobediência às normas de trânsito pelo condutor",
         "tipo_acidente": "Colisão frontal",
         "classificacao_acidente": "Com Vítimas Feridas",
         "fase_dia": "Plena Noite",
         "sentido_via": "Crescente",
         "condicao_metereologica": "Chuva",
         "tipo_pista": "Dupla",
         "tracado_via": "Interseção de vias",
         "uso_solo": "Não",
         "pessoas": 3,
         "mortos": 0,
         "feridos_leves": 0,
         "feridos_graves": 2,
         "ilesos": 1,
         "ignorados": 0,
         "feridos": 2,
         "veiculos": 2,
         "latitude": "-18,9444",
         "longitude": "-48,2185",
         "regional": "SR-MG",
         "delegacia": "DEL4/15",
         "uop": "UOP01/MG",
         "_deepnote_index_column": 10
        },
        {
         "id": 182226,
         "data_inversa": "2019-01-01",
         "dia_semana": "terça-feira",
         "horario": "02:10:00",
         "uf": "SP",
         "br": 101,
         "km": "39,5",
         "municipio": "UBATUBA",
         "causa_acidente": "Ingestão de Álcool",
         "tipo_acidente": "Colisão frontal",
         "classificacao_acidente": "Com Vítimas Feridas",
         "fase_dia": "Plena Noite",
         "sentido_via": "Decrescente",
         "condicao_metereologica": "Céu Claro",
         "tipo_pista": "Simples",
         "tracado_via": "Reta",
         "uso_solo": "Sim",
         "pessoas": 4,
         "mortos": 0,
         "feridos_leves": 4,
         "feridos_graves": 0,
         "ilesos": 0,
         "ignorados": 0,
         "feridos": 4,
         "veiculos": 2,
         "latitude": "-23,41331965",
         "longitude": "-45,03313065",
         "regional": "SR-SP",
         "delegacia": "DEL6",
         "uop": "UOP03/SP",
         "_deepnote_index_column": 11
        },
        {
         "id": 182227,
         "data_inversa": "2019-01-01",
         "dia_semana": "terça-feira",
         "horario": "02:30:00",
         "uf": "PR",
         "br": 376,
         "km": "7,5",
         "municipio": "MARINGA",
         "causa_acidente": "Ingestão de Álcool",
         "tipo_acidente": "Colisão com objeto estático",
         "classificacao_acidente": "Com Vítimas Feridas",
         "fase_dia": "Plena Noite",
         "sentido_via": "Decrescente",
         "condicao_metereologica": "Céu Claro",
         "tipo_pista": "Dupla",
         "tracado_via": "Curva",
         "uso_solo": "Não",
         "pessoas": 2,
         "mortos": 0,
         "feridos_leves": 1,
         "feridos_graves": 0,
         "ilesos": 1,
         "ignorados": 0,
         "feridos": 1,
         "veiculos": 1,
         "latitude": "-23,37199185",
         "longitude": "-51,92399383",
         "regional": "SR-PR",
         "delegacia": "DEL7/7",
         "uop": "UOP04/PR",
         "_deepnote_index_column": 12
        },
        {
         "id": 182228,
         "data_inversa": "2019-01-01",
         "dia_semana": "terça-feira",
         "horario": "03:05:00",
         "uf": "MG",
         "br": 381,
         "km": "487,6",
         "municipio": "BETIM",
         "causa_acidente": "Velocidade Incompatível",
         "tipo_acidente": "Colisão com objeto estático",
         "classificacao_acidente": "Com Vítimas Feridas",
         "fase_dia": "Plena Noite",
         "sentido_via": "Crescente",
         "condicao_metereologica": "Nublado",
         "tipo_pista": "Dupla",
         "tracado_via": "Não Informado",
         "uso_solo": "Sim",
         "pessoas": 1,
         "mortos": 0,
         "feridos_leves": 1,
         "feridos_graves": 0,
         "ilesos": 0,
         "ignorados": 0,
         "feridos": 1,
         "veiculos": 1,
         "latitude": "-19,9572",
         "longitude": "-44,1243",
         "regional": "SR-MG",
         "delegacia": "DEL4/1",
         "uop": "UOP03/MG",
         "_deepnote_index_column": 13
        },
        {
         "id": 182230,
         "data_inversa": "2019-01-01",
         "dia_semana": "terça-feira",
         "horario": "03:50:00",
         "uf": "RJ",
         "br": 40,
         "km": "97",
         "municipio": "DUQUE DE CAXIAS",
         "causa_acidente": "Velocidade Incompatível",
         "tipo_acidente": "Colisão com objeto estático",
         "classificacao_acidente": "Com Vítimas Feridas",
         "fase_dia": "Plena Noite",
         "sentido_via": "Decrescente",
         "condicao_metereologica": "Garoa/Chuvisco",
         "tipo_pista": "Simples",
         "tracado_via": "Curva",
         "uso_solo": "Não",
         "pessoas": 2,
         "mortos": 0,
         "feridos_leves": 2,
         "feridos_graves": 0,
         "ilesos": 0,
         "ignorados": 0,
         "feridos": 2,
         "veiculos": 1,
         "latitude": "-22,5853",
         "longitude": "-43,271",
         "regional": "SR-RJ",
         "delegacia": "DEL5/6",
         "uop": "UOP03/RJ",
         "_deepnote_index_column": 14
        },
        {
         "id": 182231,
         "data_inversa": "2019-01-01",
         "dia_semana": "terça-feira",
         "horario": "02:40:00",
         "uf": "SC",
         "br": 282,
         "km": "599,3",
         "municipio": "CUNHA PORA",
         "causa_acidente": "Ingestão de álcool e/ou substâncias psicoativas pelo pedestre",
         "tipo_acidente": "Colisão com objeto estático",
         "classificacao_acidente": "Com Vítimas Feridas",
         "fase_dia": "Plena Noite",
         "sentido_via": "Decrescente",
         "condicao_metereologica": "Céu Claro",
         "tipo_pista": "Simples",
         "tracado_via": "Não Informado",
         "uso_solo": "Não",
         "pessoas": 2,
         "mortos": 0,
         "feridos_leves": 0,
         "feridos_graves": 2,
         "ilesos": 0,
         "ignorados": 0,
         "feridos": 2,
         "veiculos": 1,
         "latitude": "-26,820206",
         "longitude": "-53,155052",
         "regional": "SR-SC",
         "delegacia": "DEL7",
         "uop": "UOP02/SC",
         "_deepnote_index_column": 15
        }
       ],
       "rows_bottom": [
        {
         "id": 182313,
         "data_inversa": "2019-01-01",
         "dia_semana": "terça-feira",
         "horario": "12:45:00",
         "uf": "RO",
         "br": 364,
         "km": "707",
         "municipio": "PORTO VELHO",
         "causa_acidente": "Falta de Atenção à Condução",
         "tipo_acidente": "Colisão traseira",
         "classificacao_acidente": "Com Vítimas Feridas",
         "fase_dia": "Pleno dia",
         "sentido_via": "Crescente",
         "condicao_metereologica": "Garoa/Chuvisco",
         "tipo_pista": "Simples",
         "tracado_via": "Reta",
         "uso_solo": "Sim",
         "pessoas": 4,
         "mortos": 0,
         "feridos_leves": 2,
         "feridos_graves": 0,
         "ilesos": 2,
         "ignorados": 0,
         "feridos": 2,
         "veiculos": 2,
         "latitude": "-8,7966492",
         "longitude": "-63,83889914",
         "regional": "SR-RO",
         "delegacia": "DEL21/1",
         "uop": "UOP01/RO",
         "_deepnote_index_column": 83
        },
        {
         "id": 182314,
         "data_inversa": "2019-01-01",
         "dia_semana": "terça-feira",
         "horario": "15:00:00",
         "uf": "SC",
         "br": 470,
         "km": "126,6",
         "municipio": "LONTRAS",
         "causa_acidente": "Desobediência às normas de trânsito pelo condutor",
         "tipo_acidente": "Colisão transversal",
         "classificacao_acidente": "Com Vítimas Feridas",
         "fase_dia": "Pleno dia",
         "sentido_via": "Decrescente",
         "condicao_metereologica": "Céu Claro",
         "tipo_pista": "Simples",
         "tracado_via": "Rotatória",
         "uso_solo": "Sim",
         "pessoas": 3,
         "mortos": 0,
         "feridos_leves": 1,
         "feridos_graves": 0,
         "ilesos": 2,
         "ignorados": 0,
         "feridos": 1,
         "veiculos": 2,
         "latitude": "-27,129",
         "longitude": "-49,538277",
         "regional": "SR-SC",
         "delegacia": "DEL8/4",
         "uop": "UOP02/SC",
         "_deepnote_index_column": 84
        },
        {
         "id": 182316,
         "data_inversa": "2019-01-01",
         "dia_semana": "terça-feira",
         "horario": "15:15:00",
         "uf": "RS",
         "br": 101,
         "km": "8",
         "municipio": "TORRES",
         "causa_acidente": "Falta de Atenção à Condução",
         "tipo_acidente": "Tombamento",
         "classificacao_acidente": "Sem Vítimas",
         "fase_dia": "Pleno dia",
         "sentido_via": "Crescente",
         "condicao_metereologica": "Céu Claro",
         "tipo_pista": "Dupla",
         "tracado_via": "Reta",
         "uso_solo": "Sim",
         "pessoas": 1,
         "mortos": 0,
         "feridos_leves": 0,
         "feridos_graves": 0,
         "ilesos": 1,
         "ignorados": 0,
         "feridos": 0,
         "veiculos": 1,
         "latitude": "-29,360483",
         "longitude": "-49,807865",
         "regional": "SR-RS",
         "delegacia": "DEL9/3",
         "uop": "UOP03/RS",
         "_deepnote_index_column": 85
        },
        {
         "id": 182317,
         "data_inversa": "2019-01-01",
         "dia_semana": "terça-feira",
         "horario": "15:20:00",
         "uf": "GO",
         "br": 70,
         "km": "1,1",
         "municipio": "AGUAS LINDAS DE GOIAS",
         "causa_acidente": "Falta de Atenção à Condução",
         "tipo_acidente": "Capotamento",
         "classificacao_acidente": "Com Vítimas Feridas",
         "fase_dia": "Pleno dia",
         "sentido_via": "Decrescente",
         "condicao_metereologica": "Nublado",
         "tipo_pista": "Dupla",
         "tracado_via": "Não Informado",
         "uso_solo": "Não",
         "pessoas": 5,
         "mortos": 0,
         "feridos_leves": 3,
         "feridos_graves": 1,
         "ilesos": 1,
         "ignorados": 0,
         "feridos": 4,
         "veiculos": 1,
         "latitude": "-15,7481",
         "longitude": "-48,2635",
         "regional": "SR-DF",
         "delegacia": "UOP06/DF",
         "uop": "nan",
         "_deepnote_index_column": 86
        },
        {
         "id": 182318,
         "data_inversa": "2019-01-01",
         "dia_semana": "terça-feira",
         "horario": "15:45:00",
         "uf": "SC",
         "br": 282,
         "km": "178,5",
         "municipio": "BOCAINA DO SUL",
         "causa_acidente": "Não guardar distância de segurança",
         "tipo_acidente": "Colisão traseira",
         "classificacao_acidente": "Com Vítimas Feridas",
         "fase_dia": "Pleno dia",
         "sentido_via": "Decrescente",
         "condicao_metereologica": "Sol",
         "tipo_pista": "Simples",
         "tracado_via": "Reta",
         "uso_solo": "Não",
         "pessoas": 5,
         "mortos": 0,
         "feridos_leves": 2,
         "feridos_graves": 0,
         "ilesos": 0,
         "ignorados": 3,
         "feridos": 2,
         "veiculos": 2,
         "latitude": "-27,741562",
         "longitude": "-49,920628",
         "regional": "SR-SC",
         "delegacia": "DEL8/5",
         "uop": "UOP01/SC",
         "_deepnote_index_column": 87
        },
        {
         "id": 182319,
         "data_inversa": "2019-01-01",
         "dia_semana": "terça-feira",
         "horario": "16:00:00",
         "uf": "ES",
         "br": 101,
         "km": "77,1",
         "municipio": "SAO MATEUS",
         "causa_acidente": "Falta de Atenção à Condução",
         "tipo_acidente": "Colisão traseira",
         "classificacao_acidente": "Com Vítimas Feridas",
         "fase_dia": "Pleno dia",
         "sentido_via": "Decrescente",
         "condicao_metereologica": "Céu Claro",
         "tipo_pista": "Simples",
         "tracado_via": "Desvio Temporário",
         "uso_solo": "Não",
         "pessoas": 3,
         "mortos": 0,
         "feridos_leves": 1,
         "feridos_graves": 1,
         "ilesos": 1,
         "ignorados": 0,
         "feridos": 2,
         "veiculos": 2,
         "latitude": "-18,720545",
         "longitude": "-39,865883",
         "regional": "SR-ES",
         "delegacia": "DEL12/4",
         "uop": "UOP02/ES",
         "_deepnote_index_column": 88
        },
        {
         "id": 182320,
         "data_inversa": "2019-01-01",
         "dia_semana": "terça-feira",
         "horario": "15:20:00",
         "uf": "PR",
         "br": 277,
         "km": "5",
         "municipio": "PARANAGUA",
         "causa_acidente": "Falta de Atenção à Condução",
         "tipo_acidente": "Queda de ocupante de veículo",
         "classificacao_acidente": "Com Vítimas Feridas",
         "fase_dia": "Pleno dia",
         "sentido_via": "Decrescente",
         "condicao_metereologica": "Céu Claro",
         "tipo_pista": "Dupla",
         "tracado_via": "Reta",
         "uso_solo": "Sim",
         "pessoas": 2,
         "mortos": 0,
         "feridos_leves": 2,
         "feridos_graves": 0,
         "ilesos": 0,
         "ignorados": 0,
         "feridos": 2,
         "veiculos": 1,
         "latitude": "-25,56722039",
         "longitude": "-48,58154297",
         "regional": "SR-PR",
         "delegacia": "DEL7/1",
         "uop": "UOP07/PR",
         "_deepnote_index_column": 89
        },
        {
         "id": 182321,
         "data_inversa": "2019-01-01",
         "dia_semana": "terça-feira",
         "horario": "15:30:00",
         "uf": "RS",
         "br": 290,
         "km": "85,8",
         "municipio": "PORTO ALEGRE",
         "causa_acidente": "Ingestão de Álcool",
         "tipo_acidente": "Atropelamento de Pedestre",
         "classificacao_acidente": "Com Vítimas Feridas",
         "fase_dia": "Pleno dia",
         "sentido_via": "Crescente",
         "condicao_metereologica": "Céu Claro",
         "tipo_pista": "Simples",
         "tracado_via": "Viaduto",
         "uso_solo": "Não",
         "pessoas": 3,
         "mortos": 0,
         "feridos_leves": 0,
         "feridos_graves": 1,
         "ilesos": 2,
         "ignorados": 0,
         "feridos": 1,
         "veiculos": 1,
         "latitude": "-29,9683194",
         "longitude": "-51,11509323",
         "regional": "SR-RS",
         "delegacia": "DEL9/1",
         "uop": "UOP01/RS",
         "_deepnote_index_column": 90
        },
        {
         "id": 182323,
         "data_inversa": "2019-01-01",
         "dia_semana": "terça-feira",
         "horario": "15:30:00",
         "uf": "MG",
         "br": 381,
         "km": "518,4",
         "municipio": "IGARAPE",
         "causa_acidente": "Velocidade Incompatível",
         "tipo_acidente": "Saída de leito carroçável",
         "classificacao_acidente": "Com Vítimas Feridas",
         "fase_dia": "Pleno dia",
         "sentido_via": "Decrescente",
         "condicao_metereologica": "Chuva",
         "tipo_pista": "Dupla",
         "tracado_via": "Curva",
         "uso_solo": "Não",
         "pessoas": 1,
         "mortos": 0,
         "feridos_leves": 1,
         "feridos_graves": 0,
         "ilesos": 0,
         "ignorados": 0,
         "feridos": 1,
         "veiculos": 1,
         "latitude": "-20,1093",
         "longitude": "-44,3169",
         "regional": "SR-MG",
         "delegacia": "DEL4/1",
         "uop": "UOP03/MG",
         "_deepnote_index_column": 91
        },
        {
         "id": 182324,
         "data_inversa": "2019-01-01",
         "dia_semana": "terça-feira",
         "horario": "14:00:00",
         "uf": "RJ",
         "br": 40,
         "km": "99",
         "municipio": "DUQUE DE CAXIAS",
         "causa_acidente": "Velocidade Incompatível",
         "tipo_acidente": "Saída de leito carroçável",
         "classificacao_acidente": "Sem Vítimas",
         "fase_dia": "Pleno dia",
         "sentido_via": "Crescente",
         "condicao_metereologica": "Chuva",
         "tipo_pista": "Simples",
         "tracado_via": "Reta",
         "uso_solo": "Não",
         "pessoas": 1,
         "mortos": 0,
         "feridos_leves": 0,
         "feridos_graves": 0,
         "ilesos": 0,
         "ignorados": 1,
         "feridos": 0,
         "veiculos": 1,
         "latitude": "-22,5850008",
         "longitude": "-43,27699861",
         "regional": "SR-RJ",
         "delegacia": "DEL5/6",
         "uop": "UOP03/RJ",
         "_deepnote_index_column": 92
        },
        {
         "id": 182326,
         "data_inversa": "2019-01-01",
         "dia_semana": "terça-feira",
         "horario": "16:15:00",
         "uf": "PR",
         "br": 277,
         "km": "517",
         "municipio": "GUARANIACU",
         "causa_acidente": "Falta de Atenção à Condução",
         "tipo_acidente": "Saída de leito carroçável",
         "classificacao_acidente": "Com Vítimas Feridas",
         "fase_dia": "Pleno dia",
         "sentido_via": "Decrescente",
         "condicao_metereologica": "Sol",
         "tipo_pista": "Simples",
         "tracado_via": "Curva",
         "uso_solo": "Não",
         "pessoas": 1,
         "mortos": 0,
         "feridos_leves": 1,
         "feridos_graves": 0,
         "ilesos": 0,
         "ignorados": 0,
         "feridos": 1,
         "veiculos": 1,
         "latitude": "-25,11172569",
         "longitude": "-52,84466853",
         "regional": "SR-PR",
         "delegacia": "DEL7/4",
         "uop": "UOP02/PR",
         "_deepnote_index_column": 93
        },
        {
         "id": 182327,
         "data_inversa": "2019-01-01",
         "dia_semana": "terça-feira",
         "horario": "15:00:00",
         "uf": "BA",
         "br": 324,
         "km": "523",
         "municipio": "FEIRA DE SANTANA",
         "causa_acidente": "Falta de Atenção à Condução",
         "tipo_acidente": "Colisão lateral",
         "classificacao_acidente": "Com Vítimas Feridas",
         "fase_dia": "Pleno dia",
         "sentido_via": "Crescente",
         "condicao_metereologica": "Céu Claro",
         "tipo_pista": "Dupla",
         "tracado_via": "Reta",
         "uso_solo": "Sim",
         "pessoas": 7,
         "mortos": 0,
         "feridos_leves": 4,
         "feridos_graves": 0,
         "ilesos": 2,
         "ignorados": 1,
         "feridos": 4,
         "veiculos": 2,
         "latitude": "-12,30509196",
         "longitude": "-38,89232701",
         "regional": "SR-BA",
         "delegacia": "DEL10/1",
         "uop": "UOP01/BA",
         "_deepnote_index_column": 94
        },
        {
         "id": 182328,
         "data_inversa": "2019-01-01",
         "dia_semana": "terça-feira",
         "horario": "13:00:00",
         "uf": "MG",
         "br": 381,
         "km": "532",
         "municipio": "ITATIAIUCU",
         "causa_acidente": "Pista Escorregadia",
         "tipo_acidente": "Queda de ocupante de veículo",
         "classificacao_acidente": "Com Vítimas Feridas",
         "fase_dia": "Pleno dia",
         "sentido_via": "Decrescente",
         "condicao_metereologica": "Chuva",
         "tipo_pista": "Dupla",
         "tracado_via": "Curva",
         "uso_solo": "Não",
         "pessoas": 2,
         "mortos": 0,
         "feridos_leves": 2,
         "feridos_graves": 0,
         "ilesos": 0,
         "ignorados": 0,
         "feridos": 2,
         "veiculos": 1,
         "latitude": "-20,1709",
         "longitude": "-44,3729",
         "regional": "SR-MG",
         "delegacia": "DEL4/4",
         "uop": "UOP03/MG",
         "_deepnote_index_column": 95
        },
        {
         "id": 182329,
         "data_inversa": "2019-01-01",
         "dia_semana": "terça-feira",
         "horario": "15:45:00",
         "uf": "MG",
         "br": 381,
         "km": "518,3",
         "municipio": "IGARAPE",
         "causa_acidente": "Falta de Atenção à Condução",
         "tipo_acidente": "Colisão com objeto estático",
         "classificacao_acidente": "Com Vítimas Feridas",
         "fase_dia": "Pleno dia",
         "sentido_via": "Decrescente",
         "condicao_metereologica": "Nublado",
         "tipo_pista": "Dupla",
         "tracado_via": "Curva",
         "uso_solo": "Não",
         "pessoas": 3,
         "mortos": 0,
         "feridos_leves": 2,
         "feridos_graves": 0,
         "ilesos": 1,
         "ignorados": 0,
         "feridos": 2,
         "veiculos": 1,
         "latitude": "-20,1093",
         "longitude": "-44,3169",
         "regional": "SR-MG",
         "delegacia": "DEL4/1",
         "uop": "UOP03/MG",
         "_deepnote_index_column": 96
        },
        {
         "id": 182330,
         "data_inversa": "2019-01-01",
         "dia_semana": "terça-feira",
         "horario": "14:00:00",
         "uf": "MA",
         "br": 10,
         "km": "252,9",
         "municipio": "IMPERATRIZ",
         "causa_acidente": "Falta de Atenção à Condução",
         "tipo_acidente": "Tombamento",
         "classificacao_acidente": "Com Vítimas Feridas",
         "fase_dia": "Pleno dia",
         "sentido_via": "Crescente",
         "condicao_metereologica": "Sol",
         "tipo_pista": "Simples",
         "tracado_via": "Reta",
         "uso_solo": "Não",
         "pessoas": 1,
         "mortos": 0,
         "feridos_leves": 1,
         "feridos_graves": 0,
         "ilesos": 0,
         "ignorados": 0,
         "feridos": 1,
         "veiculos": 1,
         "latitude": "-5,53562",
         "longitude": "-47,469585",
         "regional": "SR-MA",
         "delegacia": "DEL18/4",
         "uop": "UOP01/MA",
         "_deepnote_index_column": 97
        },
        {
         "id": 182332,
         "data_inversa": "2019-01-01",
         "dia_semana": "terça-feira",
         "horario": "16:45:00",
         "uf": "GO",
         "br": 20,
         "km": "117,2",
         "municipio": "FLORES DE GOIAS",
         "causa_acidente": "Falta de Atenção à Condução",
         "tipo_acidente": "Saída de leito carroçável",
         "classificacao_acidente": "Com Vítimas Feridas",
         "fase_dia": "Pleno dia",
         "sentido_via": "Crescente",
         "condicao_metereologica": "Garoa/Chuvisco",
         "tipo_pista": "Simples",
         "tracado_via": "Reta",
         "uso_solo": "Não",
         "pessoas": 2,
         "mortos": 0,
         "feridos_leves": 2,
         "feridos_graves": 0,
         "ilesos": 0,
         "ignorados": 0,
         "feridos": 2,
         "veiculos": 1,
         "latitude": "-14,880402",
         "longitude": "-46,853172",
         "regional": "SR-DF",
         "delegacia": "UOP02/DEL02/DF",
         "uop": "nan",
         "_deepnote_index_column": 98
        },
        {
         "id": 182333,
         "data_inversa": "2019-01-01",
         "dia_semana": "terça-feira",
         "horario": "16:40:00",
         "uf": "GO",
         "br": 50,
         "km": "175,5",
         "municipio": "CAMPO ALEGRE DE GOIAS",
         "causa_acidente": "Defeito Mecânico no Veículo",
         "tipo_acidente": "Saída de leito carroçável",
         "classificacao_acidente": "Com Vítimas Feridas",
         "fase_dia": "Pleno dia",
         "sentido_via": "Decrescente",
         "condicao_metereologica": "Nublado",
         "tipo_pista": "Dupla",
         "tracado_via": "Curva",
         "uso_solo": "Não",
         "pessoas": 2,
         "mortos": 0,
         "feridos_leves": 2,
         "feridos_graves": 0,
         "ilesos": 0,
         "ignorados": 0,
         "feridos": 2,
         "veiculos": 1,
         "latitude": "-17,3721",
         "longitude": "-47,7879",
         "regional": "SR-GO",
         "delegacia": "DEL1/6",
         "uop": "UOP01/GO",
         "_deepnote_index_column": 99
        }
       ]
      },
      "text/plain": "          id data_inversa   dia_semana   horario  uf     br     km  \\\n0   182210.0   2019-01-01  terça-feira  01:30:00  SP  116.0    218   \n1   182211.0   2019-01-01  terça-feira  01:30:00  PR  373.0  177,3   \n2   182212.0   2019-01-01  terça-feira  00:45:00  SC  101.0     16   \n3   182214.0   2019-01-01  terça-feira  00:00:00  CE   20.0  429,5   \n4   182215.0   2019-01-01  terça-feira  01:00:00  MG  381.0    327   \n..       ...          ...          ...       ...  ..    ...    ...   \n95  182328.0   2019-01-01  terça-feira  13:00:00  MG  381.0    532   \n96  182329.0   2019-01-01  terça-feira  15:45:00  MG  381.0  518,3   \n97  182330.0   2019-01-01  terça-feira  14:00:00  MA   10.0  252,9   \n98  182332.0   2019-01-01  terça-feira  16:45:00  GO   20.0  117,2   \n99  182333.0   2019-01-01  terça-feira  16:40:00  GO   50.0  175,5   \n\n                municipio                       causa_acidente  \\\n0               GUARULHOS          Falta de Atenção à Condução   \n1            PONTA GROSSA          Falta de Atenção à Condução   \n2                  GARUVA                     Animais na Pista   \n3               FORTALEZA  Ingestão de Substâncias Psicoativas   \n4                NOVA ERA          Falta de Atenção à Condução   \n..                    ...                                  ...   \n95             ITATIAIUCU                   Pista Escorregadia   \n96                IGARAPE          Falta de Atenção à Condução   \n97             IMPERATRIZ          Falta de Atenção à Condução   \n98        FLORES DE GOIAS          Falta de Atenção à Condução   \n99  CAMPO ALEGRE DE GOIAS          Defeito Mecânico no Veículo   \n\n                   tipo_acidente  ... feridos_graves ilesos ignorados feridos  \\\n0    Colisão com objeto estático  ...              0      0         0       4   \n1               Colisão traseira  ...              0      0         0       1   \n2    Colisão com objeto estático  ...              0      0         0       1   \n3    Colisão com objeto estático  ...              1      0         0       1   \n4            Colisão transversal  ...              1      1         0       1   \n..                           ...  ...            ...    ...       ...     ...   \n95  Queda de ocupante de veículo  ...              0      0         0       2   \n96   Colisão com objeto estático  ...              0      1         0       2   \n97                    Tombamento  ...              0      0         0       1   \n98     Saída de leito carroçável  ...              0      0         0       2   \n99     Saída de leito carroçável  ...              0      0         0       2   \n\n   veiculos      latitude     longitude  regional       delegacia       uop  \n0         1  -23,46052014  -46,48772478     SR-SP          DEL6/1  UOP01/SP  \n1         1  -25,05533957  -50,22776753     SR-PR          DEL7/3  UOP01/PR  \n2         1      -26,1216      -48,8826     SR-SC          DEL8/3  UOP01/SC  \n3         1      -3,76999    -38,670063     SR-CE         DEL16/1  UOP02/CE  \n4         2      -19,7609      -43,0306     SR-MG          DEL4/3  UOP01/MG  \n..      ...           ...           ...       ...             ...       ...  \n95        1      -20,1709      -44,3729     SR-MG          DEL4/4  UOP03/MG  \n96        1      -20,1093      -44,3169     SR-MG          DEL4/1  UOP03/MG  \n97        1      -5,53562    -47,469585     SR-MA         DEL18/4  UOP01/MA  \n98        1    -14,880402    -46,853172     SR-DF  UOP02/DEL02/DF       NaN  \n99        1      -17,3721      -47,7879     SR-GO          DEL1/6  UOP01/GO  \n\n[100 rows x 30 columns]",
      "text/html": "<div>\n<style scoped>\n    .dataframe tbody tr th:only-of-type {\n        vertical-align: middle;\n    }\n\n    .dataframe tbody tr th {\n        vertical-align: top;\n    }\n\n    .dataframe thead th {\n        text-align: right;\n    }\n</style>\n<table border=\"1\" class=\"dataframe\">\n  <thead>\n    <tr style=\"text-align: right;\">\n      <th></th>\n      <th>id</th>\n      <th>data_inversa</th>\n      <th>dia_semana</th>\n      <th>horario</th>\n      <th>uf</th>\n      <th>br</th>\n      <th>km</th>\n      <th>municipio</th>\n      <th>causa_acidente</th>\n      <th>tipo_acidente</th>\n      <th>...</th>\n      <th>feridos_graves</th>\n      <th>ilesos</th>\n      <th>ignorados</th>\n      <th>feridos</th>\n      <th>veiculos</th>\n      <th>latitude</th>\n      <th>longitude</th>\n      <th>regional</th>\n      <th>delegacia</th>\n      <th>uop</th>\n    </tr>\n  </thead>\n  <tbody>\n    <tr>\n      <th>0</th>\n      <td>182210.0</td>\n      <td>2019-01-01</td>\n      <td>terça-feira</td>\n      <td>01:30:00</td>\n      <td>SP</td>\n      <td>116.0</td>\n      <td>218</td>\n      <td>GUARULHOS</td>\n      <td>Falta de Atenção à Condução</td>\n      <td>Colisão com objeto estático</td>\n      <td>...</td>\n      <td>0</td>\n      <td>0</td>\n      <td>0</td>\n      <td>4</td>\n      <td>1</td>\n      <td>-23,46052014</td>\n      <td>-46,48772478</td>\n      <td>SR-SP</td>\n      <td>DEL6/1</td>\n      <td>UOP01/SP</td>\n    </tr>\n    <tr>\n      <th>1</th>\n      <td>182211.0</td>\n      <td>2019-01-01</td>\n      <td>terça-feira</td>\n      <td>01:30:00</td>\n      <td>PR</td>\n      <td>373.0</td>\n      <td>177,3</td>\n      <td>PONTA GROSSA</td>\n      <td>Falta de Atenção à Condução</td>\n      <td>Colisão traseira</td>\n      <td>...</td>\n      <td>0</td>\n      <td>0</td>\n      <td>0</td>\n      <td>1</td>\n      <td>1</td>\n      <td>-25,05533957</td>\n      <td>-50,22776753</td>\n      <td>SR-PR</td>\n      <td>DEL7/3</td>\n      <td>UOP01/PR</td>\n    </tr>\n    <tr>\n      <th>2</th>\n      <td>182212.0</td>\n      <td>2019-01-01</td>\n      <td>terça-feira</td>\n      <td>00:45:00</td>\n      <td>SC</td>\n      <td>101.0</td>\n      <td>16</td>\n      <td>GARUVA</td>\n      <td>Animais na Pista</td>\n      <td>Colisão com objeto estático</td>\n      <td>...</td>\n      <td>0</td>\n      <td>0</td>\n      <td>0</td>\n      <td>1</td>\n      <td>1</td>\n      <td>-26,1216</td>\n      <td>-48,8826</td>\n      <td>SR-SC</td>\n      <td>DEL8/3</td>\n      <td>UOP01/SC</td>\n    </tr>\n    <tr>\n      <th>3</th>\n      <td>182214.0</td>\n      <td>2019-01-01</td>\n      <td>terça-feira</td>\n      <td>00:00:00</td>\n      <td>CE</td>\n      <td>20.0</td>\n      <td>429,5</td>\n      <td>FORTALEZA</td>\n      <td>Ingestão de Substâncias Psicoativas</td>\n      <td>Colisão com objeto estático</td>\n      <td>...</td>\n      <td>1</td>\n      <td>0</td>\n      <td>0</td>\n      <td>1</td>\n      <td>1</td>\n      <td>-3,76999</td>\n      <td>-38,670063</td>\n      <td>SR-CE</td>\n      <td>DEL16/1</td>\n      <td>UOP02/CE</td>\n    </tr>\n    <tr>\n      <th>4</th>\n      <td>182215.0</td>\n      <td>2019-01-01</td>\n      <td>terça-feira</td>\n      <td>01:00:00</td>\n      <td>MG</td>\n      <td>381.0</td>\n      <td>327</td>\n      <td>NOVA ERA</td>\n      <td>Falta de Atenção à Condução</td>\n      <td>Colisão transversal</td>\n      <td>...</td>\n      <td>1</td>\n      <td>1</td>\n      <td>0</td>\n      <td>1</td>\n      <td>2</td>\n      <td>-19,7609</td>\n      <td>-43,0306</td>\n      <td>SR-MG</td>\n      <td>DEL4/3</td>\n      <td>UOP01/MG</td>\n    </tr>\n    <tr>\n      <th>...</th>\n      <td>...</td>\n      <td>...</td>\n      <td>...</td>\n      <td>...</td>\n      <td>...</td>\n      <td>...</td>\n      <td>...</td>\n      <td>...</td>\n      <td>...</td>\n      <td>...</td>\n      <td>...</td>\n      <td>...</td>\n      <td>...</td>\n      <td>...</td>\n      <td>...</td>\n      <td>...</td>\n      <td>...</td>\n      <td>...</td>\n      <td>...</td>\n      <td>...</td>\n      <td>...</td>\n    </tr>\n    <tr>\n      <th>95</th>\n      <td>182328.0</td>\n      <td>2019-01-01</td>\n      <td>terça-feira</td>\n      <td>13:00:00</td>\n      <td>MG</td>\n      <td>381.0</td>\n      <td>532</td>\n      <td>ITATIAIUCU</td>\n      <td>Pista Escorregadia</td>\n      <td>Queda de ocupante de veículo</td>\n      <td>...</td>\n      <td>0</td>\n      <td>0</td>\n      <td>0</td>\n      <td>2</td>\n      <td>1</td>\n      <td>-20,1709</td>\n      <td>-44,3729</td>\n      <td>SR-MG</td>\n      <td>DEL4/4</td>\n      <td>UOP03/MG</td>\n    </tr>\n    <tr>\n      <th>96</th>\n      <td>182329.0</td>\n      <td>2019-01-01</td>\n      <td>terça-feira</td>\n      <td>15:45:00</td>\n      <td>MG</td>\n      <td>381.0</td>\n      <td>518,3</td>\n      <td>IGARAPE</td>\n      <td>Falta de Atenção à Condução</td>\n      <td>Colisão com objeto estático</td>\n      <td>...</td>\n      <td>0</td>\n      <td>1</td>\n      <td>0</td>\n      <td>2</td>\n      <td>1</td>\n      <td>-20,1093</td>\n      <td>-44,3169</td>\n      <td>SR-MG</td>\n      <td>DEL4/1</td>\n      <td>UOP03/MG</td>\n    </tr>\n    <tr>\n      <th>97</th>\n      <td>182330.0</td>\n      <td>2019-01-01</td>\n      <td>terça-feira</td>\n      <td>14:00:00</td>\n      <td>MA</td>\n      <td>10.0</td>\n      <td>252,9</td>\n      <td>IMPERATRIZ</td>\n      <td>Falta de Atenção à Condução</td>\n      <td>Tombamento</td>\n      <td>...</td>\n      <td>0</td>\n      <td>0</td>\n      <td>0</td>\n      <td>1</td>\n      <td>1</td>\n      <td>-5,53562</td>\n      <td>-47,469585</td>\n      <td>SR-MA</td>\n      <td>DEL18/4</td>\n      <td>UOP01/MA</td>\n    </tr>\n    <tr>\n      <th>98</th>\n      <td>182332.0</td>\n      <td>2019-01-01</td>\n      <td>terça-feira</td>\n      <td>16:45:00</td>\n      <td>GO</td>\n      <td>20.0</td>\n      <td>117,2</td>\n      <td>FLORES DE GOIAS</td>\n      <td>Falta de Atenção à Condução</td>\n      <td>Saída de leito carroçável</td>\n      <td>...</td>\n      <td>0</td>\n      <td>0</td>\n      <td>0</td>\n      <td>2</td>\n      <td>1</td>\n      <td>-14,880402</td>\n      <td>-46,853172</td>\n      <td>SR-DF</td>\n      <td>UOP02/DEL02/DF</td>\n      <td>NaN</td>\n    </tr>\n    <tr>\n      <th>99</th>\n      <td>182333.0</td>\n      <td>2019-01-01</td>\n      <td>terça-feira</td>\n      <td>16:40:00</td>\n      <td>GO</td>\n      <td>50.0</td>\n      <td>175,5</td>\n      <td>CAMPO ALEGRE DE GOIAS</td>\n      <td>Defeito Mecânico no Veículo</td>\n      <td>Saída de leito carroçável</td>\n      <td>...</td>\n      <td>0</td>\n      <td>0</td>\n      <td>0</td>\n      <td>2</td>\n      <td>1</td>\n      <td>-17,3721</td>\n      <td>-47,7879</td>\n      <td>SR-GO</td>\n      <td>DEL1/6</td>\n      <td>UOP01/GO</td>\n    </tr>\n  </tbody>\n</table>\n<p>100 rows × 30 columns</p>\n</div>"
     },
     "metadata": {}
    }
   ]
  },
  {
   "cell_type": "code",
   "metadata": {
    "tags": [],
    "cell_id": "00003-929cc53b-7278-4585-bbc7-51b9e9c43068",
    "deepnote_to_be_reexecuted": false,
    "source_hash": "84f58da1",
    "execution_start": 1634302630951,
    "execution_millis": 1,
    "deepnote_cell_type": "code"
   },
   "source": "lines, columns = ocorrencias.shape\nprint(f'The dataset has {lines} ocurrences and {columns} columns.')",
   "execution_count": 4,
   "outputs": [
    {
     "name": "stdout",
     "text": "The dataset has 320753 ocurrences and 30 columns.\n",
     "output_type": "stream"
    }
   ]
  },
  {
   "cell_type": "markdown",
   "source": "## 1 - Definicao de tipos",
   "metadata": {
    "tags": [],
    "cell_id": "00003-9f68402e-a880-44ff-bea2-1dfb9580183b",
    "deepnote_cell_type": "markdown"
   }
  },
  {
   "cell_type": "code",
   "metadata": {
    "tags": [],
    "cell_id": "00003-daf485a6-c2a4-4723-8698-54c3e0489ae1",
    "deepnote_to_be_reexecuted": false,
    "source_hash": "3ba45a24",
    "execution_start": 1634302630959,
    "execution_millis": 270,
    "deepnote_cell_type": "code"
   },
   "source": "ocorrencias.info()",
   "execution_count": 5,
   "outputs": [
    {
     "name": "stdout",
     "text": "<class 'pandas.core.frame.DataFrame'>\nRangeIndex: 320753 entries, 0 to 320752\nData columns (total 30 columns):\n #   Column                  Non-Null Count   Dtype  \n---  ------                  --------------   -----  \n 0   id                      320753 non-null  float64\n 1   data_inversa            320753 non-null  object \n 2   dia_semana              320753 non-null  object \n 3   horario                 320753 non-null  object \n 4   uf                      320753 non-null  object \n 5   br                      320156 non-null  float64\n 6   km                      320156 non-null  object \n 7   municipio               320753 non-null  object \n 8   causa_acidente          320753 non-null  object \n 9   tipo_acidente           320753 non-null  object \n 10  classificacao_acidente  320753 non-null  object \n 11  fase_dia                320753 non-null  object \n 12  sentido_via             320753 non-null  object \n 13  condicao_metereologica  320753 non-null  object \n 14  tipo_pista              320753 non-null  object \n 15  tracado_via             320753 non-null  object \n 16  uso_solo                320753 non-null  object \n 17  pessoas                 320753 non-null  int64  \n 18  mortos                  320753 non-null  int64  \n 19  feridos_leves           320753 non-null  int64  \n 20  feridos_graves          320753 non-null  int64  \n 21  ilesos                  320753 non-null  int64  \n 22  ignorados               320753 non-null  int64  \n 23  feridos                 320753 non-null  int64  \n 24  veiculos                320753 non-null  int64  \n 25  latitude                320753 non-null  object \n 26  longitude               320753 non-null  object \n 27  regional                320753 non-null  object \n 28  delegacia               320753 non-null  object \n 29  uop                     309663 non-null  object \ndtypes: float64(2), int64(8), object(20)\nmemory usage: 73.4+ MB\n",
     "output_type": "stream"
    }
   ]
  },
  {
   "cell_type": "code",
   "metadata": {
    "tags": [],
    "cell_id": "00006-4592e57b-7d68-4a7a-9aae-cd78005f4cd3",
    "deepnote_to_be_reexecuted": false,
    "source_hash": "a3297621",
    "execution_start": 1634302631232,
    "execution_millis": 62,
    "deepnote_cell_type": "code"
   },
   "source": "ocorrencias['data_inversa'].value_counts()",
   "execution_count": 6,
   "outputs": [
    {
     "output_type": "execute_result",
     "execution_count": 6,
     "data": {
      "text/plain": "2017-12-23    449\n2017-02-25    409\n2017-12-22    397\n2017-05-19    390\n2017-09-30    366\n             ... \n2018-05-26     83\n2020-03-26     77\n2018-05-29     75\n2020-03-25     72\n2020-03-23     70\nName: data_inversa, Length: 1642, dtype: int64"
     },
     "metadata": {}
    }
   ]
  },
  {
   "cell_type": "code",
   "metadata": {
    "tags": [],
    "cell_id": "00008-f37d7c37-5457-43de-b31f-e0d9eb4ac75e",
    "deepnote_to_be_reexecuted": false,
    "source_hash": "88d01a87",
    "execution_start": 1634302631304,
    "execution_millis": 293,
    "deepnote_cell_type": "code"
   },
   "source": "ocorrencias[ocorrencias['km'].isnull()]",
   "execution_count": 7,
   "outputs": [
    {
     "output_type": "execute_result",
     "execution_count": 7,
     "data": {
      "application/vnd.deepnote.dataframe.v2+json": {
       "row_count": 597,
       "column_count": 30,
       "columns": [
        {
         "name": "id",
         "dtype": "float64",
         "stats": {
          "unique_count": 597,
          "nan_count": 0,
          "min": "160.0",
          "max": "367188.0",
          "histogram": [
           {
            "bin_start": 160,
            "bin_end": 36862.8,
            "count": 52
           },
           {
            "bin_start": 36862.8,
            "bin_end": 73565.6,
            "count": 46
           },
           {
            "bin_start": 73565.6,
            "bin_end": 110268.40000000001,
            "count": 53
           },
           {
            "bin_start": 110268.40000000001,
            "bin_end": 146971.2,
            "count": 54
           },
           {
            "bin_start": 146971.2,
            "bin_end": 183674,
            "count": 52
           },
           {
            "bin_start": 183674,
            "bin_end": 220376.80000000002,
            "count": 55
           },
           {
            "bin_start": 220376.80000000002,
            "bin_end": 257079.60000000003,
            "count": 40
           },
           {
            "bin_start": 257079.60000000003,
            "bin_end": 293782.4,
            "count": 61
           },
           {
            "bin_start": 293782.4,
            "bin_end": 330485.2,
            "count": 93
           },
           {
            "bin_start": 330485.2,
            "bin_end": 367188,
            "count": 91
           }
          ]
         }
        },
        {
         "name": "data_inversa",
         "dtype": "object",
         "stats": {
          "unique_count": 495,
          "nan_count": 0,
          "categories": [
           {
            "name": "2019-04-21",
            "count": 3
           },
           {
            "name": "2019-05-20",
            "count": 3
           },
           {
            "name": "493 others",
            "count": 591
           }
          ]
         }
        },
        {
         "name": "dia_semana",
         "dtype": "object",
         "stats": {
          "unique_count": 7,
          "nan_count": 0,
          "categories": [
           {
            "name": "sexta-feira",
            "count": 100
           },
           {
            "name": "quinta-feira",
            "count": 92
           },
           {
            "name": "5 others",
            "count": 405
           }
          ]
         }
        },
        {
         "name": "horario",
         "dtype": "object",
         "stats": {
          "unique_count": 242,
          "nan_count": 0,
          "categories": [
           {
            "name": "13:00:00",
            "count": 10
           },
           {
            "name": "18:30:00",
            "count": 10
           },
           {
            "name": "240 others",
            "count": 577
           }
          ]
         }
        },
        {
         "name": "uf",
         "dtype": "object",
         "stats": {
          "unique_count": 27,
          "nan_count": 0,
          "categories": [
           {
            "name": "PR",
            "count": 70
           },
           {
            "name": "RS",
            "count": 60
           },
           {
            "name": "25 others",
            "count": 467
           }
          ]
         }
        },
        {
         "name": "br",
         "dtype": "float64",
         "stats": {
          "unique_count": 0,
          "nan_count": 597,
          "min": null,
          "max": null,
          "histogram": [
           {
            "bin_start": 0,
            "bin_end": 0.1,
            "count": 0
           },
           {
            "bin_start": 0.1,
            "bin_end": 0.2,
            "count": 0
           },
           {
            "bin_start": 0.2,
            "bin_end": 0.30000000000000004,
            "count": 0
           },
           {
            "bin_start": 0.30000000000000004,
            "bin_end": 0.4,
            "count": 0
           },
           {
            "bin_start": 0.4,
            "bin_end": 0.5,
            "count": 0
           },
           {
            "bin_start": 0.5,
            "bin_end": 0.6000000000000001,
            "count": 0
           },
           {
            "bin_start": 0.6000000000000001,
            "bin_end": 0.7000000000000001,
            "count": 0
           },
           {
            "bin_start": 0.7000000000000001,
            "bin_end": 0.8,
            "count": 0
           },
           {
            "bin_start": 0.8,
            "bin_end": 0.9,
            "count": 0
           },
           {
            "bin_start": 0.9,
            "bin_end": 1,
            "count": 0
           }
          ]
         }
        },
        {
         "name": "km",
         "dtype": "object",
         "stats": {
          "unique_count": 0,
          "nan_count": 597,
          "categories": [
           {
            "name": "Missing",
            "count": 597
           }
          ]
         }
        },
        {
         "name": "municipio",
         "dtype": "object",
         "stats": {
          "unique_count": 312,
          "nan_count": 0,
          "categories": [
           {
            "name": "CANOAS",
            "count": 20
           },
           {
            "name": "FOZ DO IGUACU",
            "count": 14
           },
           {
            "name": "310 others",
            "count": 563
           }
          ]
         }
        },
        {
         "name": "causa_acidente",
         "dtype": "object",
         "stats": {
          "unique_count": 48,
          "nan_count": 0,
          "categories": [
           {
            "name": "Falta de Atenção à Condução",
            "count": 196
           },
           {
            "name": "Desobediência às normas de trânsito pelo condutor",
            "count": 69
           },
           {
            "name": "46 others",
            "count": 332
           }
          ]
         }
        },
        {
         "name": "tipo_acidente",
         "dtype": "object",
         "stats": {
          "unique_count": 19,
          "nan_count": 0,
          "categories": [
           {
            "name": "Colisão transversal",
            "count": 101
           },
           {
            "name": "Colisão com objeto estático",
            "count": 90
           },
           {
            "name": "17 others",
            "count": 406
           }
          ]
         }
        },
        {
         "name": "classificacao_acidente",
         "dtype": "object",
         "stats": {
          "unique_count": 3,
          "nan_count": 0,
          "categories": [
           {
            "name": "Com Vítimas Feridas",
            "count": 315
           },
           {
            "name": "Sem Vítimas",
            "count": 271
           },
           {
            "name": "Com Vítimas Fatais",
            "count": 11
           }
          ]
         }
        },
        {
         "name": "fase_dia",
         "dtype": "object",
         "stats": {
          "unique_count": 4,
          "nan_count": 0,
          "categories": [
           {
            "name": "Pleno dia",
            "count": 356
           },
           {
            "name": "Plena Noite",
            "count": 191
           },
           {
            "name": "2 others",
            "count": 50
           }
          ]
         }
        },
        {
         "name": "sentido_via",
         "dtype": "object",
         "stats": {
          "unique_count": 1,
          "nan_count": 0,
          "categories": [
           {
            "name": "Não Informado",
            "count": 597
           }
          ]
         }
        },
        {
         "name": "condicao_metereologica",
         "dtype": "object",
         "stats": {
          "unique_count": 7,
          "nan_count": 0,
          "categories": [
           {
            "name": "Céu Claro",
            "count": 401
           },
           {
            "name": "Nublado",
            "count": 77
           },
           {
            "name": "5 others",
            "count": 119
           }
          ]
         }
        },
        {
         "name": "tipo_pista",
         "dtype": "object",
         "stats": {
          "unique_count": 3,
          "nan_count": 0,
          "categories": [
           {
            "name": "Simples",
            "count": 435
           },
           {
            "name": "Dupla",
            "count": 134
           },
           {
            "name": "Múltipla",
            "count": 28
           }
          ]
         }
        },
        {
         "name": "tracado_via",
         "dtype": "object",
         "stats": {
          "unique_count": 10,
          "nan_count": 0,
          "categories": [
           {
            "name": "Reta",
            "count": 340
           },
           {
            "name": "Curva",
            "count": 85
           },
           {
            "name": "8 others",
            "count": 172
           }
          ]
         }
        },
        {
         "name": "uso_solo",
         "dtype": "object",
         "stats": {
          "unique_count": 2,
          "nan_count": 0,
          "categories": [
           {
            "name": "Sim",
            "count": 373
           },
           {
            "name": "Não",
            "count": 224
           }
          ]
         }
        },
        {
         "name": "pessoas",
         "dtype": "int64",
         "stats": {
          "unique_count": 7,
          "nan_count": 0,
          "min": "1",
          "max": "8",
          "histogram": [
           {
            "bin_start": 1,
            "bin_end": 1.7,
            "count": 135
           },
           {
            "bin_start": 1.7,
            "bin_end": 2.4,
            "count": 263
           },
           {
            "bin_start": 2.4,
            "bin_end": 3.0999999999999996,
            "count": 117
           },
           {
            "bin_start": 3.0999999999999996,
            "bin_end": 3.8,
            "count": 0
           },
           {
            "bin_start": 3.8,
            "bin_end": 4.5,
            "count": 48
           },
           {
            "bin_start": 4.5,
            "bin_end": 5.199999999999999,
            "count": 23
           },
           {
            "bin_start": 5.199999999999999,
            "bin_end": 5.8999999999999995,
            "count": 0
           },
           {
            "bin_start": 5.8999999999999995,
            "bin_end": 6.6,
            "count": 8
           },
           {
            "bin_start": 6.6,
            "bin_end": 7.3,
            "count": 0
           },
           {
            "bin_start": 7.3,
            "bin_end": 8,
            "count": 3
           }
          ]
         }
        },
        {
         "name": "mortos",
         "dtype": "int64",
         "stats": {
          "unique_count": 3,
          "nan_count": 0,
          "min": "0",
          "max": "2",
          "histogram": [
           {
            "bin_start": 0,
            "bin_end": 0.2,
            "count": 586
           },
           {
            "bin_start": 0.2,
            "bin_end": 0.4,
            "count": 0
           },
           {
            "bin_start": 0.4,
            "bin_end": 0.6000000000000001,
            "count": 0
           },
           {
            "bin_start": 0.6000000000000001,
            "bin_end": 0.8,
            "count": 0
           },
           {
            "bin_start": 0.8,
            "bin_end": 1,
            "count": 0
           },
           {
            "bin_start": 1,
            "bin_end": 1.2000000000000002,
            "count": 10
           },
           {
            "bin_start": 1.2000000000000002,
            "bin_end": 1.4000000000000001,
            "count": 0
           },
           {
            "bin_start": 1.4000000000000001,
            "bin_end": 1.6,
            "count": 0
           },
           {
            "bin_start": 1.6,
            "bin_end": 1.8,
            "count": 0
           },
           {
            "bin_start": 1.8,
            "bin_end": 2,
            "count": 1
           }
          ]
         }
        },
        {
         "name": "feridos_leves",
         "dtype": "int64",
         "stats": {
          "unique_count": 5,
          "nan_count": 0,
          "min": "0",
          "max": "4",
          "histogram": [
           {
            "bin_start": 0,
            "bin_end": 0.4,
            "count": 346
           },
           {
            "bin_start": 0.4,
            "bin_end": 0.8,
            "count": 0
           },
           {
            "bin_start": 0.8,
            "bin_end": 1.2000000000000002,
            "count": 207
           },
           {
            "bin_start": 1.2000000000000002,
            "bin_end": 1.6,
            "count": 0
           },
           {
            "bin_start": 1.6,
            "bin_end": 2,
            "count": 0
           },
           {
            "bin_start": 2,
            "bin_end": 2.4000000000000004,
            "count": 33
           },
           {
            "bin_start": 2.4000000000000004,
            "bin_end": 2.8000000000000003,
            "count": 0
           },
           {
            "bin_start": 2.8000000000000003,
            "bin_end": 3.2,
            "count": 7
           },
           {
            "bin_start": 3.2,
            "bin_end": 3.6,
            "count": 0
           },
           {
            "bin_start": 3.6,
            "bin_end": 4,
            "count": 4
           }
          ]
         }
        },
        {
         "name": "feridos_graves",
         "dtype": "int64",
         "stats": {
          "unique_count": 4,
          "nan_count": 0,
          "min": "0",
          "max": "3",
          "histogram": [
           {
            "bin_start": 0,
            "bin_end": 0.3,
            "count": 513
           },
           {
            "bin_start": 0.3,
            "bin_end": 0.6,
            "count": 0
           },
           {
            "bin_start": 0.6,
            "bin_end": 0.8999999999999999,
            "count": 0
           },
           {
            "bin_start": 0.8999999999999999,
            "bin_end": 1.2,
            "count": 78
           },
           {
            "bin_start": 1.2,
            "bin_end": 1.5,
            "count": 0
           },
           {
            "bin_start": 1.5,
            "bin_end": 1.7999999999999998,
            "count": 0
           },
           {
            "bin_start": 1.7999999999999998,
            "bin_end": 2.1,
            "count": 5
           },
           {
            "bin_start": 2.1,
            "bin_end": 2.4,
            "count": 0
           },
           {
            "bin_start": 2.4,
            "bin_end": 2.6999999999999997,
            "count": 0
           },
           {
            "bin_start": 2.6999999999999997,
            "bin_end": 3,
            "count": 1
           }
          ]
         }
        },
        {
         "name": "ilesos",
         "dtype": "int64",
         "stats": {
          "unique_count": 7,
          "nan_count": 0,
          "min": "0",
          "max": "6",
          "histogram": [
           {
            "bin_start": 0,
            "bin_end": 0.6,
            "count": 122
           },
           {
            "bin_start": 0.6,
            "bin_end": 1.2,
            "count": 235
           },
           {
            "bin_start": 1.2,
            "bin_end": 1.7999999999999998,
            "count": 0
           },
           {
            "bin_start": 1.7999999999999998,
            "bin_end": 2.4,
            "count": 156
           },
           {
            "bin_start": 2.4,
            "bin_end": 3,
            "count": 0
           },
           {
            "bin_start": 3,
            "bin_end": 3.5999999999999996,
            "count": 58
           },
           {
            "bin_start": 3.5999999999999996,
            "bin_end": 4.2,
            "count": 20
           },
           {
            "bin_start": 4.2,
            "bin_end": 4.8,
            "count": 0
           },
           {
            "bin_start": 4.8,
            "bin_end": 5.3999999999999995,
            "count": 4
           },
           {
            "bin_start": 5.3999999999999995,
            "bin_end": 6,
            "count": 2
           }
          ]
         }
        },
        {
         "name": "ignorados",
         "dtype": "int64",
         "stats": {
          "unique_count": 6,
          "nan_count": 0,
          "min": "0",
          "max": "6",
          "histogram": [
           {
            "bin_start": 0,
            "bin_end": 0.6,
            "count": 489
           },
           {
            "bin_start": 0.6,
            "bin_end": 1.2,
            "count": 85
           },
           {
            "bin_start": 1.2,
            "bin_end": 1.7999999999999998,
            "count": 0
           },
           {
            "bin_start": 1.7999999999999998,
            "bin_end": 2.4,
            "count": 14
           },
           {
            "bin_start": 2.4,
            "bin_end": 3,
            "count": 0
           },
           {
            "bin_start": 3,
            "bin_end": 3.5999999999999996,
            "count": 6
           },
           {
            "bin_start": 3.5999999999999996,
            "bin_end": 4.2,
            "count": 2
           },
           {
            "bin_start": 4.2,
            "bin_end": 4.8,
            "count": 0
           },
           {
            "bin_start": 4.8,
            "bin_end": 5.3999999999999995,
            "count": 0
           },
           {
            "bin_start": 5.3999999999999995,
            "bin_end": 6,
            "count": 1
           }
          ]
         }
        },
        {
         "name": "feridos",
         "dtype": "int64",
         "stats": {
          "unique_count": 7,
          "nan_count": 0,
          "min": "0",
          "max": "6",
          "histogram": [
           {
            "bin_start": 0,
            "bin_end": 0.6,
            "count": 282
           },
           {
            "bin_start": 0.6,
            "bin_end": 1.2,
            "count": 254
           },
           {
            "bin_start": 1.2,
            "bin_end": 1.7999999999999998,
            "count": 0
           },
           {
            "bin_start": 1.7999999999999998,
            "bin_end": 2.4,
            "count": 46
           },
           {
            "bin_start": 2.4,
            "bin_end": 3,
            "count": 0
           },
           {
            "bin_start": 3,
            "bin_end": 3.5999999999999996,
            "count": 8
           },
           {
            "bin_start": 3.5999999999999996,
            "bin_end": 4.2,
            "count": 5
           },
           {
            "bin_start": 4.2,
            "bin_end": 4.8,
            "count": 0
           },
           {
            "bin_start": 4.8,
            "bin_end": 5.3999999999999995,
            "count": 1
           },
           {
            "bin_start": 5.3999999999999995,
            "bin_end": 6,
            "count": 1
           }
          ]
         }
        },
        {
         "name": "veiculos",
         "dtype": "int64",
         "stats": {
          "unique_count": 5,
          "nan_count": 0,
          "min": "1",
          "max": "7",
          "histogram": [
           {
            "bin_start": 1,
            "bin_end": 1.6,
            "count": 251
           },
           {
            "bin_start": 1.6,
            "bin_end": 2.2,
            "count": 318
           },
           {
            "bin_start": 2.2,
            "bin_end": 2.8,
            "count": 0
           },
           {
            "bin_start": 2.8,
            "bin_end": 3.4,
            "count": 24
           },
           {
            "bin_start": 3.4,
            "bin_end": 4,
            "count": 0
           },
           {
            "bin_start": 4,
            "bin_end": 4.6,
            "count": 3
           },
           {
            "bin_start": 4.6,
            "bin_end": 5.2,
            "count": 0
           },
           {
            "bin_start": 5.2,
            "bin_end": 5.8,
            "count": 0
           },
           {
            "bin_start": 5.8,
            "bin_end": 6.3999999999999995,
            "count": 0
           },
           {
            "bin_start": 6.3999999999999995,
            "bin_end": 7,
            "count": 1
           }
          ]
         }
        },
        {
         "name": "latitude",
         "dtype": "object",
         "stats": {
          "unique_count": 593,
          "nan_count": 0,
          "categories": [
           {
            "name": "-24,8386",
            "count": 3
           },
           {
            "name": "-29,96058",
            "count": 2
           },
           {
            "name": "591 others",
            "count": 592
           }
          ]
         }
        },
        {
         "name": "longitude",
         "dtype": "object",
         "stats": {
          "unique_count": 592,
          "nan_count": 0,
          "categories": [
           {
            "name": "-51,17603",
            "count": 3
           },
           {
            "name": "-53,3091",
            "count": 3
           },
           {
            "name": "590 others",
            "count": 591
           }
          ]
         }
        },
        {
         "name": "regional",
         "dtype": "object",
         "stats": {
          "unique_count": 28,
          "nan_count": 0,
          "categories": [
           {
            "name": "SR-PR",
            "count": 74
           },
           {
            "name": "SR-RS",
            "count": 60
           },
           {
            "name": "26 others",
            "count": 463
           }
          ]
         }
        },
        {
         "name": "delegacia",
         "dtype": "object",
         "stats": {
          "unique_count": 157,
          "nan_count": 0,
          "categories": [
           {
            "name": "UOP01",
            "count": 119
           },
           {
            "name": "UOP03",
            "count": 30
           },
           {
            "name": "155 others",
            "count": 448
           }
          ]
         }
        },
        {
         "name": "uop",
         "dtype": "object",
         "stats": {
          "unique_count": 103,
          "nan_count": 43,
          "categories": [
           {
            "name": "DEL01",
            "count": 54
           },
           {
            "name": "102 others",
            "count": 500
           },
           {
            "name": "Missing",
            "count": 43
           }
          ]
         }
        },
        {
         "name": "_deepnote_index_column",
         "dtype": "int64"
        }
       ],
       "rows_top": [
        {
         "id": 184100,
         "data_inversa": "2019-01-08",
         "dia_semana": "terça-feira",
         "horario": "21:25:00",
         "uf": "RS",
         "br": "nan",
         "km": "nan",
         "municipio": "SAO BORJA",
         "causa_acidente": "Pista Escorregadia",
         "tipo_acidente": "Colisão traseira",
         "classificacao_acidente": "Sem Vítimas",
         "fase_dia": "Plena Noite",
         "sentido_via": "Não Informado",
         "condicao_metereologica": "Céu Claro",
         "tipo_pista": "Simples",
         "tracado_via": "Interseção de vias",
         "uso_solo": "Sim",
         "pessoas": 3,
         "mortos": 0,
         "feridos_leves": 0,
         "feridos_graves": 0,
         "ilesos": 2,
         "ignorados": 1,
         "feridos": 0,
         "veiculos": 2,
         "latitude": "-28,66158775",
         "longitude": "-55,99882414",
         "regional": "SR-RS",
         "delegacia": "DEL9/12",
         "uop": "UOP01/RS",
         "_deepnote_index_column": 1171
        },
        {
         "id": 184669,
         "data_inversa": "2019-01-11",
         "dia_semana": "sexta-feira",
         "horario": "20:36:00",
         "uf": "CE",
         "br": "nan",
         "km": "nan",
         "municipio": "ITAITINGA",
         "causa_acidente": "Falta de Atenção à Condução",
         "tipo_acidente": "Colisão com objeto estático",
         "classificacao_acidente": "Sem Vítimas",
         "fase_dia": "Plena Noite",
         "sentido_via": "Não Informado",
         "condicao_metereologica": "Céu Claro",
         "tipo_pista": "Simples",
         "tracado_via": "Interseção de vias",
         "uso_solo": "Sim",
         "pessoas": 4,
         "mortos": 0,
         "feridos_leves": 0,
         "feridos_graves": 0,
         "ilesos": 4,
         "ignorados": 0,
         "feridos": 0,
         "veiculos": 2,
         "latitude": "-3,9240005",
         "longitude": "-38,5144729",
         "regional": "SR-CE",
         "delegacia": "DEL16/1",
         "uop": "UOP02/CE",
         "_deepnote_index_column": 1629
        },
        {
         "id": 184736,
         "data_inversa": "2019-01-12",
         "dia_semana": "sábado",
         "horario": "03:00:00",
         "uf": "PR",
         "br": "nan",
         "km": "nan",
         "municipio": "FAZENDA RIO GRANDE",
         "causa_acidente": "Falta de Atenção à Condução",
         "tipo_acidente": "Capotamento",
         "classificacao_acidente": "Sem Vítimas",
         "fase_dia": "Plena Noite",
         "sentido_via": "Não Informado",
         "condicao_metereologica": "Chuva",
         "tipo_pista": "Simples",
         "tracado_via": "Reta",
         "uso_solo": "Não",
         "pessoas": 1,
         "mortos": 0,
         "feridos_leves": 0,
         "feridos_graves": 0,
         "ilesos": 1,
         "ignorados": 0,
         "feridos": 0,
         "veiculos": 1,
         "latitude": "-25,71329112",
         "longitude": "-49,31824197",
         "regional": "SR-PR",
         "delegacia": "DEL7/1",
         "uop": "UOP03/PR",
         "_deepnote_index_column": 1683
        },
        {
         "id": 185538,
         "data_inversa": "2019-01-16",
         "dia_semana": "quarta-feira",
         "horario": "08:40:00",
         "uf": "GO",
         "br": "nan",
         "km": "nan",
         "municipio": "CATALAO",
         "causa_acidente": "Falta de Atenção à Condução",
         "tipo_acidente": "Colisão transversal",
         "classificacao_acidente": "Com Vítimas Feridas",
         "fase_dia": "Pleno dia",
         "sentido_via": "Não Informado",
         "condicao_metereologica": "Sol",
         "tipo_pista": "Simples",
         "tracado_via": "Não Informado",
         "uso_solo": "Não",
         "pessoas": 2,
         "mortos": 0,
         "feridos_leves": 1,
         "feridos_graves": 0,
         "ilesos": 1,
         "ignorados": 0,
         "feridos": 1,
         "veiculos": 2,
         "latitude": "-18,10702393",
         "longitude": "-47,8894043",
         "regional": "SR-GO",
         "delegacia": "DEL1/6",
         "uop": "UOP01/GO",
         "_deepnote_index_column": 2343
        },
        {
         "id": 186005,
         "data_inversa": "2019-01-18",
         "dia_semana": "sexta-feira",
         "horario": "16:45:00",
         "uf": "CE",
         "br": "nan",
         "km": "nan",
         "municipio": "FORTALEZA",
         "causa_acidente": "Defeito Mecânico no Veículo",
         "tipo_acidente": "Colisão com objeto estático",
         "classificacao_acidente": "Sem Vítimas",
         "fase_dia": "Pleno dia",
         "sentido_via": "Não Informado",
         "condicao_metereologica": "Nublado",
         "tipo_pista": "Simples",
         "tracado_via": "Não Informado",
         "uso_solo": "Sim",
         "pessoas": 5,
         "mortos": 0,
         "feridos_leves": 0,
         "feridos_graves": 0,
         "ilesos": 3,
         "ignorados": 2,
         "feridos": 0,
         "veiculos": 3,
         "latitude": "-3,74484893",
         "longitude": "-38,58854413",
         "regional": "SR-CE",
         "delegacia": "CE",
         "uop": "SRPRF/CE",
         "_deepnote_index_column": 2712
        },
        {
         "id": 186459,
         "data_inversa": "2019-01-20",
         "dia_semana": "domingo",
         "horario": "18:10:00",
         "uf": "MG",
         "br": "nan",
         "km": "nan",
         "municipio": "ARAUJOS",
         "causa_acidente": "Ingestão de Álcool",
         "tipo_acidente": "Colisão com objeto estático",
         "classificacao_acidente": "Sem Vítimas",
         "fase_dia": "Pleno dia",
         "sentido_via": "Não Informado",
         "condicao_metereologica": "Céu Claro",
         "tipo_pista": "Simples",
         "tracado_via": "Reta",
         "uso_solo": "Não",
         "pessoas": 2,
         "mortos": 0,
         "feridos_leves": 0,
         "feridos_graves": 0,
         "ilesos": 2,
         "ignorados": 0,
         "feridos": 0,
         "veiculos": 1,
         "latitude": "-19,78723",
         "longitude": "-45,23089",
         "regional": "SR-MG",
         "delegacia": "DEL4/8",
         "uop": "UOP03/MG",
         "_deepnote_index_column": 3100
        },
        {
         "id": 189455,
         "data_inversa": "2019-02-05",
         "dia_semana": "terça-feira",
         "horario": "09:05:00",
         "uf": "SP",
         "br": "nan",
         "km": "nan",
         "municipio": "ITAPECERICA DA SERRA",
         "causa_acidente": "Defeito Mecânico no Veículo",
         "tipo_acidente": "Colisão com objeto estático",
         "classificacao_acidente": "Com Vítimas Feridas",
         "fase_dia": "Pleno dia",
         "sentido_via": "Não Informado",
         "condicao_metereologica": "Céu Claro",
         "tipo_pista": "Simples",
         "tracado_via": "Curva",
         "uso_solo": "Sim",
         "pessoas": 2,
         "mortos": 0,
         "feridos_leves": 2,
         "feridos_graves": 0,
         "ilesos": 0,
         "ignorados": 0,
         "feridos": 2,
         "veiculos": 1,
         "latitude": "-23,70884",
         "longitude": "-46,87323",
         "regional": "SR-SP",
         "delegacia": "DEL6/4",
         "uop": "UOP01/SP",
         "_deepnote_index_column": 5660
        },
        {
         "id": 189852,
         "data_inversa": "2019-02-07",
         "dia_semana": "quinta-feira",
         "horario": "07:30:00",
         "uf": "SP",
         "br": "nan",
         "km": "nan",
         "municipio": "MAIRIPORA",
         "causa_acidente": "Falta de Atenção à Condução",
         "tipo_acidente": "Colisão lateral",
         "classificacao_acidente": "Com Vítimas Feridas",
         "fase_dia": "Pleno dia",
         "sentido_via": "Não Informado",
         "condicao_metereologica": "Céu Claro",
         "tipo_pista": "Simples",
         "tracado_via": "Reta",
         "uso_solo": "Sim",
         "pessoas": 2,
         "mortos": 0,
         "feridos_leves": 1,
         "feridos_graves": 0,
         "ilesos": 1,
         "ignorados": 0,
         "feridos": 1,
         "veiculos": 2,
         "latitude": "-23,30947",
         "longitude": "-46,58958",
         "regional": "SR-SP",
         "delegacia": "DEL6/3",
         "uop": "UOP02/SP",
         "_deepnote_index_column": 5980
        },
        {
         "id": 190369,
         "data_inversa": "2019-02-09",
         "dia_semana": "sábado",
         "horario": "21:00:00",
         "uf": "RJ",
         "br": "nan",
         "km": "nan",
         "municipio": "RIO BONITO",
         "causa_acidente": "Desobediência às normas de trânsito pelo condutor",
         "tipo_acidente": "Colisão lateral",
         "classificacao_acidente": "Com Vítimas Feridas",
         "fase_dia": "Plena Noite",
         "sentido_via": "Não Informado",
         "condicao_metereologica": "Céu Claro",
         "tipo_pista": "Simples",
         "tracado_via": "Reta",
         "uso_solo": "Sim",
         "pessoas": 3,
         "mortos": 0,
         "feridos_leves": 1,
         "feridos_graves": 0,
         "ilesos": 2,
         "ignorados": 0,
         "feridos": 1,
         "veiculos": 2,
         "latitude": "-22,7203",
         "longitude": "-42,68042",
         "regional": "SR-RJ",
         "delegacia": "DEL5/2",
         "uop": "UOP02/RJ",
         "_deepnote_index_column": 6431
        },
        {
         "id": 193010,
         "data_inversa": "2019-02-23",
         "dia_semana": "sábado",
         "horario": "03:00:00",
         "uf": "MG",
         "br": "nan",
         "km": "nan",
         "municipio": "UBERABA",
         "causa_acidente": "Agressão Externa",
         "tipo_acidente": "Incêndio",
         "classificacao_acidente": "Sem Vítimas",
         "fase_dia": "Plena Noite",
         "sentido_via": "Não Informado",
         "condicao_metereologica": "Nublado",
         "tipo_pista": "Dupla",
         "tracado_via": "Reta",
         "uso_solo": "Não",
         "pessoas": 1,
         "mortos": 0,
         "feridos_leves": 0,
         "feridos_graves": 0,
         "ilesos": 1,
         "ignorados": 0,
         "feridos": 0,
         "veiculos": 1,
         "latitude": "-19,4515",
         "longitude": "-48,0611",
         "regional": "SR-MG",
         "delegacia": "DEL13",
         "uop": "UOP01/MG",
         "_deepnote_index_column": 8722
        },
        {
         "id": 198964,
         "data_inversa": "2019-03-23",
         "dia_semana": "sábado",
         "horario": "18:00:00",
         "uf": "PR",
         "br": "nan",
         "km": "nan",
         "municipio": "CORONEL VIVIDA",
         "causa_acidente": "Velocidade Incompatível",
         "tipo_acidente": "Saída de leito carroçável",
         "classificacao_acidente": "Com Vítimas Feridas",
         "fase_dia": "Pleno dia",
         "sentido_via": "Não Informado",
         "condicao_metereologica": "Céu Claro",
         "tipo_pista": "Simples",
         "tracado_via": "Reta",
         "uso_solo": "Não",
         "pessoas": 1,
         "mortos": 0,
         "feridos_leves": 1,
         "feridos_graves": 0,
         "ilesos": 0,
         "ignorados": 0,
         "feridos": 1,
         "veiculos": 1,
         "latitude": "-26,01606",
         "longitude": "-52,5746",
         "regional": "SR-PR",
         "delegacia": "DEL7/2",
         "uop": "UOP01/PR",
         "_deepnote_index_column": 13942
        },
        {
         "id": 199547,
         "data_inversa": "2019-03-27",
         "dia_semana": "quarta-feira",
         "horario": "14:00:00",
         "uf": "RS",
         "br": "nan",
         "km": "nan",
         "municipio": "CANOAS",
         "causa_acidente": "Desobediência às normas de trânsito pelo condutor",
         "tipo_acidente": "Colisão transversal",
         "classificacao_acidente": "Com Vítimas Feridas",
         "fase_dia": "Pleno dia",
         "sentido_via": "Não Informado",
         "condicao_metereologica": "Céu Claro",
         "tipo_pista": "Múltipla",
         "tracado_via": "Interseção de vias",
         "uso_solo": "Sim",
         "pessoas": 2,
         "mortos": 0,
         "feridos_leves": 1,
         "feridos_graves": 0,
         "ilesos": 1,
         "ignorados": 0,
         "feridos": 1,
         "veiculos": 2,
         "latitude": "-29,90396",
         "longitude": "-51,17663",
         "regional": "SR-RS",
         "delegacia": "DEL9/1",
         "uop": "UOP01/RS",
         "_deepnote_index_column": 14459
        },
        {
         "id": 199734,
         "data_inversa": "2019-03-28",
         "dia_semana": "quinta-feira",
         "horario": "14:45:00",
         "uf": "RS",
         "br": "nan",
         "km": "nan",
         "municipio": "MONTENEGRO",
         "causa_acidente": "Objeto estático sobre o leito carroçável",
         "tipo_acidente": "Colisão com objeto estático",
         "classificacao_acidente": "Com Vítimas Feridas",
         "fase_dia": "Pleno dia",
         "sentido_via": "Não Informado",
         "condicao_metereologica": "Céu Claro",
         "tipo_pista": "Simples",
         "tracado_via": "Reta",
         "uso_solo": "Não",
         "pessoas": 2,
         "mortos": 0,
         "feridos_leves": 1,
         "feridos_graves": 0,
         "ilesos": 1,
         "ignorados": 0,
         "feridos": 1,
         "veiculos": 1,
         "latitude": "-29,69745",
         "longitude": "-51,54633",
         "regional": "SR-RS",
         "delegacia": "DEL9/1",
         "uop": "UOP02/RS",
         "_deepnote_index_column": 14620
        },
        {
         "id": 201034,
         "data_inversa": "2019-04-04",
         "dia_semana": "quinta-feira",
         "horario": "07:00:00",
         "uf": "RS",
         "br": "nan",
         "km": "nan",
         "municipio": "CANOAS",
         "causa_acidente": "Falta de Atenção à Condução",
         "tipo_acidente": "Colisão lateral",
         "classificacao_acidente": "Com Vítimas Feridas",
         "fase_dia": "Pleno dia",
         "sentido_via": "Não Informado",
         "condicao_metereologica": "Céu Claro",
         "tipo_pista": "Múltipla",
         "tracado_via": "Interseção de vias",
         "uso_solo": "Sim",
         "pessoas": 2,
         "mortos": 0,
         "feridos_leves": 1,
         "feridos_graves": 0,
         "ilesos": 1,
         "ignorados": 0,
         "feridos": 1,
         "veiculos": 2,
         "latitude": "-29,91376",
         "longitude": "-51,17773",
         "regional": "SR-RS",
         "delegacia": "DEL9/1",
         "uop": "UOP01/RS",
         "_deepnote_index_column": 15765
        },
        {
         "id": 201267,
         "data_inversa": "2019-04-05",
         "dia_semana": "sexta-feira",
         "horario": "07:10:00",
         "uf": "RR",
         "br": "nan",
         "km": "nan",
         "municipio": "BOA VISTA",
         "causa_acidente": "Falta de Atenção à Condução",
         "tipo_acidente": "Colisão lateral",
         "classificacao_acidente": "Sem Vítimas",
         "fase_dia": "Pleno dia",
         "sentido_via": "Não Informado",
         "condicao_metereologica": "Céu Claro",
         "tipo_pista": "Dupla",
         "tracado_via": "Reta",
         "uso_solo": "Sim",
         "pessoas": 4,
         "mortos": 0,
         "feridos_leves": 0,
         "feridos_graves": 0,
         "ilesos": 4,
         "ignorados": 0,
         "feridos": 0,
         "veiculos": 2,
         "latitude": "2,800895",
         "longitude": "-60,69457",
         "regional": "SR-RR",
         "delegacia": "UOP01/RR",
         "uop": "nan",
         "_deepnote_index_column": 15975
        },
        {
         "id": 201740,
         "data_inversa": "2019-04-07",
         "dia_semana": "domingo",
         "horario": "06:10:00",
         "uf": "RS",
         "br": "nan",
         "km": "nan",
         "municipio": "CANOAS",
         "causa_acidente": "Falta de Atenção à Condução",
         "tipo_acidente": "Colisão com objeto estático",
         "classificacao_acidente": "Com Vítimas Feridas",
         "fase_dia": "Amanhecer",
         "sentido_via": "Não Informado",
         "condicao_metereologica": "Ignorado",
         "tipo_pista": "Simples",
         "tracado_via": "Reta",
         "uso_solo": "Sim",
         "pessoas": 2,
         "mortos": 0,
         "feridos_leves": 2,
         "feridos_graves": 0,
         "ilesos": 0,
         "ignorados": 0,
         "feridos": 2,
         "veiculos": 1,
         "latitude": "-29,96906",
         "longitude": "-51,16744",
         "regional": "SR-RS",
         "delegacia": "DEL9/1",
         "uop": "UOP01/RS",
         "_deepnote_index_column": 16404
        }
       ],
       "rows_bottom": [
        {
         "id": 361996,
         "data_inversa": "2021-06-04",
         "dia_semana": "sexta-feira",
         "horario": "15:15:00",
         "uf": "RO",
         "br": "nan",
         "km": "nan",
         "municipio": "ARIQUEMES",
         "causa_acidente": "Acessar a via sem observar a presença dos outros veículos",
         "tipo_acidente": "Colisão lateral mesmo sentido",
         "classificacao_acidente": "Sem Vítimas",
         "fase_dia": "Pleno dia",
         "sentido_via": "Não Informado",
         "condicao_metereologica": "Céu Claro",
         "tipo_pista": "Simples",
         "tracado_via": "Reta",
         "uso_solo": "Sim",
         "pessoas": 5,
         "mortos": 0,
         "feridos_leves": 0,
         "feridos_graves": 0,
         "ilesos": 5,
         "ignorados": 0,
         "feridos": 0,
         "veiculos": 2,
         "latitude": "-9,92084187",
         "longitude": "-63,06367993",
         "regional": "SR-RO",
         "delegacia": "UOP01",
         "uop": "DEL03",
         "_deepnote_index_column": 315481
        },
        {
         "id": 362060,
         "data_inversa": "2021-06-04",
         "dia_semana": "sexta-feira",
         "horario": "19:25:00",
         "uf": "PR",
         "br": "nan",
         "km": "nan",
         "municipio": "CASCAVEL",
         "causa_acidente": "Acessar a via sem observar a presença dos outros veículos",
         "tipo_acidente": "Colisão transversal",
         "classificacao_acidente": "Com Vítimas Feridas",
         "fase_dia": "Plena Noite",
         "sentido_via": "Não Informado",
         "condicao_metereologica": "Céu Claro",
         "tipo_pista": "Simples",
         "tracado_via": "Reta",
         "uso_solo": "Sim",
         "pessoas": 2,
         "mortos": 0,
         "feridos_leves": 1,
         "feridos_graves": 0,
         "ilesos": 1,
         "ignorados": 0,
         "feridos": 1,
         "veiculos": 2,
         "latitude": "-24,86961742",
         "longitude": "-53,34205627",
         "regional": "SR-PR",
         "delegacia": "UOP01",
         "uop": "DEL04",
         "_deepnote_index_column": 315535
        },
        {
         "id": 363342,
         "data_inversa": "2021-06-10",
         "dia_semana": "quinta-feira",
         "horario": "20:50:00",
         "uf": "AL",
         "br": "nan",
         "km": "nan",
         "municipio": "PALMEIRA DOS INDIOS",
         "causa_acidente": "Velocidade Incompatível",
         "tipo_acidente": "Colisão frontal",
         "classificacao_acidente": "Sem Vítimas",
         "fase_dia": "Plena Noite",
         "sentido_via": "Não Informado",
         "condicao_metereologica": "Nublado",
         "tipo_pista": "Simples",
         "tracado_via": "Reta",
         "uso_solo": "Não",
         "pessoas": 4,
         "mortos": 0,
         "feridos_leves": 0,
         "feridos_graves": 0,
         "ilesos": 4,
         "ignorados": 0,
         "feridos": 0,
         "veiculos": 2,
         "latitude": "-9,399642",
         "longitude": "-36,664005",
         "regional": "SR-AL",
         "delegacia": "UOP02",
         "uop": "DEL03",
         "_deepnote_index_column": 316670
        },
        {
         "id": 363481,
         "data_inversa": "2021-06-11",
         "dia_semana": "sexta-feira",
         "horario": "13:15:00",
         "uf": "MG",
         "br": "nan",
         "km": "nan",
         "municipio": "ITAOBIM",
         "causa_acidente": "Acesso irregular",
         "tipo_acidente": "Colisão lateral sentido oposto",
         "classificacao_acidente": "Sem Vítimas",
         "fase_dia": "Pleno dia",
         "sentido_via": "Não Informado",
         "condicao_metereologica": "Céu Claro",
         "tipo_pista": "Simples",
         "tracado_via": "Interseção de vias",
         "uso_solo": "Sim",
         "pessoas": 3,
         "mortos": 0,
         "feridos_leves": 0,
         "feridos_graves": 0,
         "ilesos": 3,
         "ignorados": 0,
         "feridos": 0,
         "veiculos": 2,
         "latitude": "-16,56210173",
         "longitude": "-41,50831288",
         "regional": "SR-MG",
         "delegacia": "UOP02",
         "uop": "DEL11",
         "_deepnote_index_column": 316793
        },
        {
         "id": 363644,
         "data_inversa": "2021-06-12",
         "dia_semana": "sábado",
         "horario": "09:15:00",
         "uf": "PR",
         "br": "nan",
         "km": "nan",
         "municipio": "CASCAVEL",
         "causa_acidente": "Acessar a via sem observar a presença dos outros veículos",
         "tipo_acidente": "Saída de leito carroçável",
         "classificacao_acidente": "Com Vítimas Feridas",
         "fase_dia": "Pleno dia",
         "sentido_via": "Não Informado",
         "condicao_metereologica": "Sol",
         "tipo_pista": "Simples",
         "tracado_via": "Interseção de vias",
         "uso_solo": "Não",
         "pessoas": 3,
         "mortos": 0,
         "feridos_leves": 1,
         "feridos_graves": 0,
         "ilesos": 1,
         "ignorados": 1,
         "feridos": 1,
         "veiculos": 2,
         "latitude": "-24,8631734",
         "longitude": "-53,33672589",
         "regional": "SR-PR",
         "delegacia": "UOP01",
         "uop": "DEL04",
         "_deepnote_index_column": 316940
        },
        {
         "id": 363728,
         "data_inversa": "2021-06-12",
         "dia_semana": "sábado",
         "horario": "16:08:00",
         "uf": "PB",
         "br": "nan",
         "km": "nan",
         "municipio": "CAMPINA GRANDE",
         "causa_acidente": "Frear bruscamente",
         "tipo_acidente": "Colisão traseira",
         "classificacao_acidente": "Sem Vítimas",
         "fase_dia": "Pleno dia",
         "sentido_via": "Não Informado",
         "condicao_metereologica": "Céu Claro",
         "tipo_pista": "Simples",
         "tracado_via": "Não Informado",
         "uso_solo": "Sim",
         "pessoas": 4,
         "mortos": 0,
         "feridos_leves": 0,
         "feridos_graves": 0,
         "ilesos": 2,
         "ignorados": 2,
         "feridos": 0,
         "veiculos": 2,
         "latitude": "-7,29298",
         "longitude": "-35,887876",
         "regional": "SR-PB",
         "delegacia": "UOP03",
         "uop": "DEL02",
         "_deepnote_index_column": 317012
        },
        {
         "id": 363912,
         "data_inversa": "2021-06-13",
         "dia_semana": "domingo",
         "horario": "15:10:00",
         "uf": "GO",
         "br": "nan",
         "km": "nan",
         "municipio": "LUZIANIA",
         "causa_acidente": "Problema com o freio",
         "tipo_acidente": "Colisão com objeto",
         "classificacao_acidente": "Sem Vítimas",
         "fase_dia": "Pleno dia",
         "sentido_via": "Não Informado",
         "condicao_metereologica": "Céu Claro",
         "tipo_pista": "Dupla",
         "tracado_via": "Reta",
         "uso_solo": "Sim",
         "pessoas": 2,
         "mortos": 0,
         "feridos_leves": 0,
         "feridos_graves": 0,
         "ilesos": 2,
         "ignorados": 0,
         "feridos": 0,
         "veiculos": 1,
         "latitude": "-16,20960124",
         "longitude": "-47,92796558",
         "regional": "SR-DF",
         "delegacia": "UOP01",
         "uop": "DEL01",
         "_deepnote_index_column": 317175
        },
        {
         "id": 364023,
         "data_inversa": "2021-06-13",
         "dia_semana": "domingo",
         "horario": "19:05:00",
         "uf": "RO",
         "br": "nan",
         "km": "nan",
         "municipio": "ARIQUEMES",
         "causa_acidente": "Condutor deixou de manter distância do veículo da frente",
         "tipo_acidente": "Colisão traseira",
         "classificacao_acidente": "Sem Vítimas",
         "fase_dia": "Plena Noite",
         "sentido_via": "Não Informado",
         "condicao_metereologica": "Céu Claro",
         "tipo_pista": "Simples",
         "tracado_via": "Reta",
         "uso_solo": "Sim",
         "pessoas": 4,
         "mortos": 0,
         "feridos_leves": 0,
         "feridos_graves": 0,
         "ilesos": 3,
         "ignorados": 1,
         "feridos": 0,
         "veiculos": 2,
         "latitude": "-9,91888671",
         "longitude": "-63,06061685",
         "regional": "SR-RO",
         "delegacia": "UOP01",
         "uop": "DEL03",
         "_deepnote_index_column": 317273
        },
        {
         "id": 364029,
         "data_inversa": "2021-06-13",
         "dia_semana": "domingo",
         "horario": "20:38:00",
         "uf": "RO",
         "br": "nan",
         "km": "nan",
         "municipio": "ARIQUEMES",
         "causa_acidente": "Transitar na contramão",
         "tipo_acidente": "Colisão lateral sentido oposto",
         "classificacao_acidente": "Com Vítimas Feridas",
         "fase_dia": "Plena Noite",
         "sentido_via": "Não Informado",
         "condicao_metereologica": "Céu Claro",
         "tipo_pista": "Simples",
         "tracado_via": "Reta",
         "uso_solo": "Sim",
         "pessoas": 4,
         "mortos": 0,
         "feridos_leves": 1,
         "feridos_graves": 1,
         "ilesos": 2,
         "ignorados": 0,
         "feridos": 2,
         "veiculos": 2,
         "latitude": "-9,8812355",
         "longitude": "-63,0570759",
         "regional": "SR-RO",
         "delegacia": "UOP01",
         "uop": "DEL03",
         "_deepnote_index_column": 317278
        },
        {
         "id": 364339,
         "data_inversa": "2021-06-15",
         "dia_semana": "terça-feira",
         "horario": "11:30:00",
         "uf": "RJ",
         "br": "nan",
         "km": "nan",
         "municipio": "ITAGUAI",
         "causa_acidente": "Desrespeitar a preferência no cruzamento",
         "tipo_acidente": "Colisão frontal",
         "classificacao_acidente": "Com Vítimas Feridas",
         "fase_dia": "Pleno dia",
         "sentido_via": "Não Informado",
         "condicao_metereologica": "Céu Claro",
         "tipo_pista": "Simples",
         "tracado_via": "Reta",
         "uso_solo": "Sim",
         "pessoas": 2,
         "mortos": 0,
         "feridos_leves": 1,
         "feridos_graves": 0,
         "ilesos": 1,
         "ignorados": 0,
         "feridos": 1,
         "veiculos": 2,
         "latitude": "-22,87666944",
         "longitude": "-43,81927382",
         "regional": "SR-RJ",
         "delegacia": "UOP04",
         "uop": "DEL01",
         "_deepnote_index_column": 317557
        },
        {
         "id": 365050,
         "data_inversa": "2021-06-19",
         "dia_semana": "sábado",
         "horario": "04:00:00",
         "uf": "CE",
         "br": "nan",
         "km": "nan",
         "municipio": "CAUCAIA",
         "causa_acidente": "Conversão proibida",
         "tipo_acidente": "Saída de leito carroçável",
         "classificacao_acidente": "Sem Vítimas",
         "fase_dia": "Plena Noite",
         "sentido_via": "Não Informado",
         "condicao_metereologica": "Céu Claro",
         "tipo_pista": "Dupla",
         "tracado_via": "Curva",
         "uso_solo": "Sim",
         "pessoas": 2,
         "mortos": 0,
         "feridos_leves": 0,
         "feridos_graves": 0,
         "ilesos": 0,
         "ignorados": 2,
         "feridos": 0,
         "veiculos": 1,
         "latitude": "-3,70363443",
         "longitude": "-38,63441225",
         "regional": "SR-CE",
         "delegacia": "UOP01",
         "uop": "DEL01",
         "_deepnote_index_column": 318186
        },
        {
         "id": 365108,
         "data_inversa": "2021-06-19",
         "dia_semana": "sábado",
         "horario": "11:40:00",
         "uf": "MT",
         "br": "nan",
         "km": "nan",
         "municipio": "NOVA LACERDA",
         "causa_acidente": "Afundamento ou ondulação no pavimento",
         "tipo_acidente": "Tombamento",
         "classificacao_acidente": "Sem Vítimas",
         "fase_dia": "Pleno dia",
         "sentido_via": "Não Informado",
         "condicao_metereologica": "Céu Claro",
         "tipo_pista": "Simples",
         "tracado_via": "Reta",
         "uso_solo": "Não",
         "pessoas": 1,
         "mortos": 0,
         "feridos_leves": 0,
         "feridos_graves": 0,
         "ilesos": 1,
         "ignorados": 0,
         "feridos": 0,
         "veiculos": 1,
         "latitude": "-14,37282944",
         "longitude": "-59,53268789",
         "regional": "SR-MT",
         "delegacia": "UOP01",
         "uop": "DEL04",
         "_deepnote_index_column": 318235
        },
        {
         "id": 366313,
         "data_inversa": "2021-06-17",
         "dia_semana": "quinta-feira",
         "horario": "21:00:00",
         "uf": "SP",
         "br": "nan",
         "km": "nan",
         "municipio": "SAO LOURENCO DA SERRA",
         "causa_acidente": "Frear bruscamente",
         "tipo_acidente": "Colisão traseira",
         "classificacao_acidente": "Sem Vítimas",
         "fase_dia": "Plena Noite",
         "sentido_via": "Não Informado",
         "condicao_metereologica": "Nublado",
         "tipo_pista": "Dupla",
         "tracado_via": "Reta",
         "uso_solo": "Sim",
         "pessoas": 2,
         "mortos": 0,
         "feridos_leves": 0,
         "feridos_graves": 0,
         "ilesos": 2,
         "ignorados": 0,
         "feridos": 0,
         "veiculos": 2,
         "latitude": "-23,86213995",
         "longitude": "-46,94718508",
         "regional": "SR-SP",
         "delegacia": "UOP01",
         "uop": "DEL04",
         "_deepnote_index_column": 319309
        },
        {
         "id": 366389,
         "data_inversa": "2021-06-25",
         "dia_semana": "sexta-feira",
         "horario": "14:00:00",
         "uf": "RJ",
         "br": "nan",
         "km": "nan",
         "municipio": "TANGUA",
         "causa_acidente": "Reação tardia ou ineficiente do condutor",
         "tipo_acidente": "Colisão transversal",
         "classificacao_acidente": "Com Vítimas Feridas",
         "fase_dia": "Pleno dia",
         "sentido_via": "Não Informado",
         "condicao_metereologica": "Sol",
         "tipo_pista": "Simples",
         "tracado_via": "Reta",
         "uso_solo": "Sim",
         "pessoas": 2,
         "mortos": 0,
         "feridos_leves": 0,
         "feridos_graves": 1,
         "ilesos": 1,
         "ignorados": 0,
         "feridos": 1,
         "veiculos": 2,
         "latitude": "-22,735125",
         "longitude": "-42,719902",
         "regional": "SR-RJ",
         "delegacia": "UOP03",
         "uop": "DEL02",
         "_deepnote_index_column": 319379
        },
        {
         "id": 366765,
         "data_inversa": "2021-06-27",
         "dia_semana": "domingo",
         "horario": "08:09:00",
         "uf": "SP",
         "br": "nan",
         "km": "nan",
         "municipio": "EMBU DAS ARTES",
         "causa_acidente": "Reação tardia ou ineficiente do condutor",
         "tipo_acidente": "Colisão com objeto",
         "classificacao_acidente": "Sem Vítimas",
         "fase_dia": "Pleno dia",
         "sentido_via": "Não Informado",
         "condicao_metereologica": "Céu Claro",
         "tipo_pista": "Simples",
         "tracado_via": "Reta",
         "uso_solo": "Sim",
         "pessoas": 2,
         "mortos": 0,
         "feridos_leves": 0,
         "feridos_graves": 0,
         "ilesos": 2,
         "ignorados": 0,
         "feridos": 0,
         "veiculos": 1,
         "latitude": "-23,65651401",
         "longitude": "-46,85200095",
         "regional": "SR-SP",
         "delegacia": "DEL04",
         "uop": "SP",
         "_deepnote_index_column": 319717
        },
        {
         "id": 366957,
         "data_inversa": "2021-06-28",
         "dia_semana": "segunda-feira",
         "horario": "06:00:00",
         "uf": "RJ",
         "br": "nan",
         "km": "nan",
         "municipio": "ANGRA DOS REIS",
         "causa_acidente": "Ingestão de álcool e/ou substâncias psicoativas pelo pedestre",
         "tipo_acidente": "Saída de leito carroçável",
         "classificacao_acidente": "Com Vítimas Feridas",
         "fase_dia": "Pleno dia",
         "sentido_via": "Não Informado",
         "condicao_metereologica": "Céu Claro",
         "tipo_pista": "Simples",
         "tracado_via": "Reta",
         "uso_solo": "Sim",
         "pessoas": 5,
         "mortos": 0,
         "feridos_leves": 4,
         "feridos_graves": 0,
         "ilesos": 1,
         "ignorados": 0,
         "feridos": 4,
         "veiculos": 1,
         "latitude": "-23,02147898",
         "longitude": "-44,52344494",
         "regional": "SR-RJ",
         "delegacia": "UOP02",
         "uop": "DEL03",
         "_deepnote_index_column": 319891
        },
        {
         "id": 367188,
         "data_inversa": "2021-06-29",
         "dia_semana": "terça-feira",
         "horario": "07:20:00",
         "uf": "PR",
         "br": "nan",
         "km": "nan",
         "municipio": "FOZ DO IGUACU",
         "causa_acidente": "Neblina",
         "tipo_acidente": "Colisão com objeto",
         "classificacao_acidente": "Sem Vítimas",
         "fase_dia": "Amanhecer",
         "sentido_via": "Não Informado",
         "condicao_metereologica": "Nevoeiro/Neblina",
         "tipo_pista": "Simples",
         "tracado_via": "Curva",
         "uso_solo": "Sim",
         "pessoas": 1,
         "mortos": 0,
         "feridos_leves": 0,
         "feridos_graves": 0,
         "ilesos": 1,
         "ignorados": 0,
         "feridos": 0,
         "veiculos": 1,
         "latitude": "-25,50982809",
         "longitude": "-54,59753461",
         "regional": "SR-PR",
         "delegacia": "UOP03",
         "uop": "DEL05",
         "_deepnote_index_column": 320094
        }
       ]
      },
      "text/plain": "              id data_inversa     dia_semana   horario  uf  br   km  \\\n1171    184100.0   2019-01-08    terça-feira  21:25:00  RS NaN  NaN   \n1629    184669.0   2019-01-11    sexta-feira  20:36:00  CE NaN  NaN   \n1683    184736.0   2019-01-12         sábado  03:00:00  PR NaN  NaN   \n2343    185538.0   2019-01-16   quarta-feira  08:40:00  GO NaN  NaN   \n2712    186005.0   2019-01-18    sexta-feira  16:45:00  CE NaN  NaN   \n...          ...          ...            ...       ...  ..  ..  ...   \n319309  366313.0   2021-06-17   quinta-feira  21:00:00  SP NaN  NaN   \n319379  366389.0   2021-06-25    sexta-feira  14:00:00  RJ NaN  NaN   \n319717  366765.0   2021-06-27        domingo  08:09:00  SP NaN  NaN   \n319891  366957.0   2021-06-28  segunda-feira  06:00:00  RJ NaN  NaN   \n320094  367188.0   2021-06-29    terça-feira  07:20:00  PR NaN  NaN   \n\n                    municipio  \\\n1171                SAO BORJA   \n1629                ITAITINGA   \n1683       FAZENDA RIO GRANDE   \n2343                  CATALAO   \n2712                FORTALEZA   \n...                       ...   \n319309  SAO LOURENCO DA SERRA   \n319379                 TANGUA   \n319717         EMBU DAS ARTES   \n319891         ANGRA DOS REIS   \n320094          FOZ DO IGUACU   \n\n                                           causa_acidente  \\\n1171                                   Pista Escorregadia   \n1629                          Falta de Atenção à Condução   \n1683                          Falta de Atenção à Condução   \n2343                          Falta de Atenção à Condução   \n2712                          Defeito Mecânico no Veículo   \n...                                                   ...   \n319309                                  Frear bruscamente   \n319379           Reação tardia ou ineficiente do condutor   \n319717           Reação tardia ou ineficiente do condutor   \n319891  Ingestão de álcool e/ou substâncias psicoativa...   \n320094                                            Neblina   \n\n                      tipo_acidente  ... feridos_graves ilesos ignorados  \\\n1171               Colisão traseira  ...              0      2         1   \n1629    Colisão com objeto estático  ...              0      4         0   \n1683                    Capotamento  ...              0      1         0   \n2343            Colisão transversal  ...              0      1         0   \n2712    Colisão com objeto estático  ...              0      3         2   \n...                             ...  ...            ...    ...       ...   \n319309             Colisão traseira  ...              0      2         0   \n319379          Colisão transversal  ...              1      1         0   \n319717           Colisão com objeto  ...              0      2         0   \n319891    Saída de leito carroçável  ...              0      1         0   \n320094           Colisão com objeto  ...              0      1         0   \n\n       feridos veiculos      latitude     longitude  regional  delegacia  \\\n1171         0        2  -28,66158775  -55,99882414     SR-RS    DEL9/12   \n1629         0        2    -3,9240005   -38,5144729     SR-CE    DEL16/1   \n1683         0        1  -25,71329112  -49,31824197     SR-PR     DEL7/1   \n2343         1        2  -18,10702393   -47,8894043     SR-GO     DEL1/6   \n2712         0        3   -3,74484893  -38,58854413     SR-CE         CE   \n...        ...      ...           ...           ...       ...        ...   \n319309       0        2  -23,86213995  -46,94718508     SR-SP      UOP01   \n319379       1        2    -22,735125    -42,719902     SR-RJ      UOP03   \n319717       0        1  -23,65651401  -46,85200095     SR-SP      DEL04   \n319891       4        1  -23,02147898  -44,52344494     SR-RJ      UOP02   \n320094       0        1  -25,50982809  -54,59753461     SR-PR      UOP03   \n\n             uop  \n1171    UOP01/RS  \n1629    UOP02/CE  \n1683    UOP03/PR  \n2343    UOP01/GO  \n2712    SRPRF/CE  \n...          ...  \n319309     DEL04  \n319379     DEL02  \n319717        SP  \n319891     DEL03  \n320094     DEL05  \n\n[597 rows x 30 columns]",
      "text/html": "<div>\n<style scoped>\n    .dataframe tbody tr th:only-of-type {\n        vertical-align: middle;\n    }\n\n    .dataframe tbody tr th {\n        vertical-align: top;\n    }\n\n    .dataframe thead th {\n        text-align: right;\n    }\n</style>\n<table border=\"1\" class=\"dataframe\">\n  <thead>\n    <tr style=\"text-align: right;\">\n      <th></th>\n      <th>id</th>\n      <th>data_inversa</th>\n      <th>dia_semana</th>\n      <th>horario</th>\n      <th>uf</th>\n      <th>br</th>\n      <th>km</th>\n      <th>municipio</th>\n      <th>causa_acidente</th>\n      <th>tipo_acidente</th>\n      <th>...</th>\n      <th>feridos_graves</th>\n      <th>ilesos</th>\n      <th>ignorados</th>\n      <th>feridos</th>\n      <th>veiculos</th>\n      <th>latitude</th>\n      <th>longitude</th>\n      <th>regional</th>\n      <th>delegacia</th>\n      <th>uop</th>\n    </tr>\n  </thead>\n  <tbody>\n    <tr>\n      <th>1171</th>\n      <td>184100.0</td>\n      <td>2019-01-08</td>\n      <td>terça-feira</td>\n      <td>21:25:00</td>\n      <td>RS</td>\n      <td>NaN</td>\n      <td>NaN</td>\n      <td>SAO BORJA</td>\n      <td>Pista Escorregadia</td>\n      <td>Colisão traseira</td>\n      <td>...</td>\n      <td>0</td>\n      <td>2</td>\n      <td>1</td>\n      <td>0</td>\n      <td>2</td>\n      <td>-28,66158775</td>\n      <td>-55,99882414</td>\n      <td>SR-RS</td>\n      <td>DEL9/12</td>\n      <td>UOP01/RS</td>\n    </tr>\n    <tr>\n      <th>1629</th>\n      <td>184669.0</td>\n      <td>2019-01-11</td>\n      <td>sexta-feira</td>\n      <td>20:36:00</td>\n      <td>CE</td>\n      <td>NaN</td>\n      <td>NaN</td>\n      <td>ITAITINGA</td>\n      <td>Falta de Atenção à Condução</td>\n      <td>Colisão com objeto estático</td>\n      <td>...</td>\n      <td>0</td>\n      <td>4</td>\n      <td>0</td>\n      <td>0</td>\n      <td>2</td>\n      <td>-3,9240005</td>\n      <td>-38,5144729</td>\n      <td>SR-CE</td>\n      <td>DEL16/1</td>\n      <td>UOP02/CE</td>\n    </tr>\n    <tr>\n      <th>1683</th>\n      <td>184736.0</td>\n      <td>2019-01-12</td>\n      <td>sábado</td>\n      <td>03:00:00</td>\n      <td>PR</td>\n      <td>NaN</td>\n      <td>NaN</td>\n      <td>FAZENDA RIO GRANDE</td>\n      <td>Falta de Atenção à Condução</td>\n      <td>Capotamento</td>\n      <td>...</td>\n      <td>0</td>\n      <td>1</td>\n      <td>0</td>\n      <td>0</td>\n      <td>1</td>\n      <td>-25,71329112</td>\n      <td>-49,31824197</td>\n      <td>SR-PR</td>\n      <td>DEL7/1</td>\n      <td>UOP03/PR</td>\n    </tr>\n    <tr>\n      <th>2343</th>\n      <td>185538.0</td>\n      <td>2019-01-16</td>\n      <td>quarta-feira</td>\n      <td>08:40:00</td>\n      <td>GO</td>\n      <td>NaN</td>\n      <td>NaN</td>\n      <td>CATALAO</td>\n      <td>Falta de Atenção à Condução</td>\n      <td>Colisão transversal</td>\n      <td>...</td>\n      <td>0</td>\n      <td>1</td>\n      <td>0</td>\n      <td>1</td>\n      <td>2</td>\n      <td>-18,10702393</td>\n      <td>-47,8894043</td>\n      <td>SR-GO</td>\n      <td>DEL1/6</td>\n      <td>UOP01/GO</td>\n    </tr>\n    <tr>\n      <th>2712</th>\n      <td>186005.0</td>\n      <td>2019-01-18</td>\n      <td>sexta-feira</td>\n      <td>16:45:00</td>\n      <td>CE</td>\n      <td>NaN</td>\n      <td>NaN</td>\n      <td>FORTALEZA</td>\n      <td>Defeito Mecânico no Veículo</td>\n      <td>Colisão com objeto estático</td>\n      <td>...</td>\n      <td>0</td>\n      <td>3</td>\n      <td>2</td>\n      <td>0</td>\n      <td>3</td>\n      <td>-3,74484893</td>\n      <td>-38,58854413</td>\n      <td>SR-CE</td>\n      <td>CE</td>\n      <td>SRPRF/CE</td>\n    </tr>\n    <tr>\n      <th>...</th>\n      <td>...</td>\n      <td>...</td>\n      <td>...</td>\n      <td>...</td>\n      <td>...</td>\n      <td>...</td>\n      <td>...</td>\n      <td>...</td>\n      <td>...</td>\n      <td>...</td>\n      <td>...</td>\n      <td>...</td>\n      <td>...</td>\n      <td>...</td>\n      <td>...</td>\n      <td>...</td>\n      <td>...</td>\n      <td>...</td>\n      <td>...</td>\n      <td>...</td>\n      <td>...</td>\n    </tr>\n    <tr>\n      <th>319309</th>\n      <td>366313.0</td>\n      <td>2021-06-17</td>\n      <td>quinta-feira</td>\n      <td>21:00:00</td>\n      <td>SP</td>\n      <td>NaN</td>\n      <td>NaN</td>\n      <td>SAO LOURENCO DA SERRA</td>\n      <td>Frear bruscamente</td>\n      <td>Colisão traseira</td>\n      <td>...</td>\n      <td>0</td>\n      <td>2</td>\n      <td>0</td>\n      <td>0</td>\n      <td>2</td>\n      <td>-23,86213995</td>\n      <td>-46,94718508</td>\n      <td>SR-SP</td>\n      <td>UOP01</td>\n      <td>DEL04</td>\n    </tr>\n    <tr>\n      <th>319379</th>\n      <td>366389.0</td>\n      <td>2021-06-25</td>\n      <td>sexta-feira</td>\n      <td>14:00:00</td>\n      <td>RJ</td>\n      <td>NaN</td>\n      <td>NaN</td>\n      <td>TANGUA</td>\n      <td>Reação tardia ou ineficiente do condutor</td>\n      <td>Colisão transversal</td>\n      <td>...</td>\n      <td>1</td>\n      <td>1</td>\n      <td>0</td>\n      <td>1</td>\n      <td>2</td>\n      <td>-22,735125</td>\n      <td>-42,719902</td>\n      <td>SR-RJ</td>\n      <td>UOP03</td>\n      <td>DEL02</td>\n    </tr>\n    <tr>\n      <th>319717</th>\n      <td>366765.0</td>\n      <td>2021-06-27</td>\n      <td>domingo</td>\n      <td>08:09:00</td>\n      <td>SP</td>\n      <td>NaN</td>\n      <td>NaN</td>\n      <td>EMBU DAS ARTES</td>\n      <td>Reação tardia ou ineficiente do condutor</td>\n      <td>Colisão com objeto</td>\n      <td>...</td>\n      <td>0</td>\n      <td>2</td>\n      <td>0</td>\n      <td>0</td>\n      <td>1</td>\n      <td>-23,65651401</td>\n      <td>-46,85200095</td>\n      <td>SR-SP</td>\n      <td>DEL04</td>\n      <td>SP</td>\n    </tr>\n    <tr>\n      <th>319891</th>\n      <td>366957.0</td>\n      <td>2021-06-28</td>\n      <td>segunda-feira</td>\n      <td>06:00:00</td>\n      <td>RJ</td>\n      <td>NaN</td>\n      <td>NaN</td>\n      <td>ANGRA DOS REIS</td>\n      <td>Ingestão de álcool e/ou substâncias psicoativa...</td>\n      <td>Saída de leito carroçável</td>\n      <td>...</td>\n      <td>0</td>\n      <td>1</td>\n      <td>0</td>\n      <td>4</td>\n      <td>1</td>\n      <td>-23,02147898</td>\n      <td>-44,52344494</td>\n      <td>SR-RJ</td>\n      <td>UOP02</td>\n      <td>DEL03</td>\n    </tr>\n    <tr>\n      <th>320094</th>\n      <td>367188.0</td>\n      <td>2021-06-29</td>\n      <td>terça-feira</td>\n      <td>07:20:00</td>\n      <td>PR</td>\n      <td>NaN</td>\n      <td>NaN</td>\n      <td>FOZ DO IGUACU</td>\n      <td>Neblina</td>\n      <td>Colisão com objeto</td>\n      <td>...</td>\n      <td>0</td>\n      <td>1</td>\n      <td>0</td>\n      <td>0</td>\n      <td>1</td>\n      <td>-25,50982809</td>\n      <td>-54,59753461</td>\n      <td>SR-PR</td>\n      <td>UOP03</td>\n      <td>DEL05</td>\n    </tr>\n  </tbody>\n</table>\n<p>597 rows × 30 columns</p>\n</div>"
     },
     "metadata": {}
    }
   ]
  },
  {
   "cell_type": "code",
   "metadata": {
    "tags": [],
    "cell_id": "00009-abcc2e6a-e79d-439e-98a9-d70ba9d59441",
    "deepnote_to_be_reexecuted": false,
    "source_hash": "b00a762a",
    "execution_start": 1634302631607,
    "execution_millis": 265,
    "deepnote_cell_type": "code"
   },
   "source": "#dropping lines with (null) on KM or BR columns\n\nocorrencias = ocorrencias.query('km != \"(null)\" | br != \"(null)\"')",
   "execution_count": 8,
   "outputs": []
  },
  {
   "cell_type": "code",
   "metadata": {
    "tags": [],
    "cell_id": "00009-4af19c1a-46bf-453f-b817-705fc74cbb05",
    "deepnote_to_be_reexecuted": false,
    "source_hash": "c7ef087e",
    "execution_start": 1634302631908,
    "execution_millis": 514,
    "deepnote_cell_type": "code"
   },
   "source": "ocorrencias.dropna(subset=['km', 'br'], inplace=True)\nocorrencias.isnull().sum()",
   "execution_count": 9,
   "outputs": [
    {
     "output_type": "execute_result",
     "execution_count": 9,
     "data": {
      "text/plain": "id                            0\ndata_inversa                  0\ndia_semana                    0\nhorario                       0\nuf                            0\nbr                            0\nkm                            0\nmunicipio                     0\ncausa_acidente                0\ntipo_acidente                 0\nclassificacao_acidente        0\nfase_dia                      0\nsentido_via                   0\ncondicao_metereologica        0\ntipo_pista                    0\ntracado_via                   0\nuso_solo                      0\npessoas                       0\nmortos                        0\nferidos_leves                 0\nferidos_graves                0\nilesos                        0\nignorados                     0\nferidos                       0\nveiculos                      0\nlatitude                      0\nlongitude                     0\nregional                      0\ndelegacia                     0\nuop                       11047\ndtype: int64"
     },
     "metadata": {}
    }
   ]
  },
  {
   "cell_type": "code",
   "metadata": {
    "tags": [],
    "cell_id": "00010-f43ae7fc-26d9-4a4d-8792-db564dda035a",
    "deepnote_to_be_reexecuted": false,
    "source_hash": "b4ee99ba",
    "execution_start": 1634302632450,
    "execution_millis": 461,
    "deepnote_cell_type": "code"
   },
   "source": "def replace_comma(value):\n    return value.replace(',', '.')\n\nocorrencias['km'] = ocorrencias['km'].apply(replace_comma)\nocorrencias['km'] = ocorrencias['km'].astype(float)\nocorrencias['br'] = ocorrencias['br'].astype(int)\n\nocorrencias.info()",
   "execution_count": 10,
   "outputs": [
    {
     "name": "stdout",
     "text": "<class 'pandas.core.frame.DataFrame'>\nInt64Index: 320156 entries, 0 to 320752\nData columns (total 30 columns):\n #   Column                  Non-Null Count   Dtype  \n---  ------                  --------------   -----  \n 0   id                      320156 non-null  float64\n 1   data_inversa            320156 non-null  object \n 2   dia_semana              320156 non-null  object \n 3   horario                 320156 non-null  object \n 4   uf                      320156 non-null  object \n 5   br                      320156 non-null  int64  \n 6   km                      320156 non-null  float64\n 7   municipio               320156 non-null  object \n 8   causa_acidente          320156 non-null  object \n 9   tipo_acidente           320156 non-null  object \n 10  classificacao_acidente  320156 non-null  object \n 11  fase_dia                320156 non-null  object \n 12  sentido_via             320156 non-null  object \n 13  condicao_metereologica  320156 non-null  object \n 14  tipo_pista              320156 non-null  object \n 15  tracado_via             320156 non-null  object \n 16  uso_solo                320156 non-null  object \n 17  pessoas                 320156 non-null  int64  \n 18  mortos                  320156 non-null  int64  \n 19  feridos_leves           320156 non-null  int64  \n 20  feridos_graves          320156 non-null  int64  \n 21  ilesos                  320156 non-null  int64  \n 22  ignorados               320156 non-null  int64  \n 23  feridos                 320156 non-null  int64  \n 24  veiculos                320156 non-null  int64  \n 25  latitude                320156 non-null  object \n 26  longitude               320156 non-null  object \n 27  regional                320156 non-null  object \n 28  delegacia               320156 non-null  object \n 29  uop                     309109 non-null  object \ndtypes: float64(2), int64(9), object(19)\nmemory usage: 75.7+ MB\n",
     "output_type": "stream"
    }
   ]
  },
  {
   "cell_type": "code",
   "metadata": {
    "tags": [],
    "cell_id": "00006-bcc82676-3ea7-4d19-b154-ddead7f0863a",
    "deepnote_to_be_reexecuted": false,
    "source_hash": "805cb858",
    "execution_start": 1634302632912,
    "execution_millis": 2739,
    "deepnote_cell_type": "code"
   },
   "source": "def convert_date(date):\n    return date.strftime('%d/%m/%Y')\n\nocorrencias['data'] = pd.to_datetime(ocorrencias['data_inversa']).apply(convert_date)\nocorrencias[['data_inversa', 'data']]",
   "execution_count": 11,
   "outputs": [
    {
     "output_type": "execute_result",
     "execution_count": 11,
     "data": {
      "application/vnd.deepnote.dataframe.v2+json": {
       "row_count": 320156,
       "column_count": 2,
       "columns": [
        {
         "name": "data_inversa",
         "dtype": "object"
        },
        {
         "name": "data",
         "dtype": "object"
        },
        {
         "name": "_deepnote_index_column",
         "dtype": "int64"
        }
       ],
       "rows_top": [
        {
         "data_inversa": "2019-01-01",
         "data": "01/01/2019",
         "_deepnote_index_column": 0
        },
        {
         "data_inversa": "2019-01-01",
         "data": "01/01/2019",
         "_deepnote_index_column": 1
        },
        {
         "data_inversa": "2019-01-01",
         "data": "01/01/2019",
         "_deepnote_index_column": 2
        },
        {
         "data_inversa": "2019-01-01",
         "data": "01/01/2019",
         "_deepnote_index_column": 3
        },
        {
         "data_inversa": "2019-01-01",
         "data": "01/01/2019",
         "_deepnote_index_column": 4
        },
        {
         "data_inversa": "2019-01-01",
         "data": "01/01/2019",
         "_deepnote_index_column": 5
        },
        {
         "data_inversa": "2019-01-01",
         "data": "01/01/2019",
         "_deepnote_index_column": 6
        },
        {
         "data_inversa": "2019-01-01",
         "data": "01/01/2019",
         "_deepnote_index_column": 7
        },
        {
         "data_inversa": "2019-01-01",
         "data": "01/01/2019",
         "_deepnote_index_column": 8
        },
        {
         "data_inversa": "2019-01-01",
         "data": "01/01/2019",
         "_deepnote_index_column": 9
        },
        {
         "data_inversa": "2019-01-01",
         "data": "01/01/2019",
         "_deepnote_index_column": 10
        },
        {
         "data_inversa": "2019-01-01",
         "data": "01/01/2019",
         "_deepnote_index_column": 11
        },
        {
         "data_inversa": "2019-01-01",
         "data": "01/01/2019",
         "_deepnote_index_column": 12
        },
        {
         "data_inversa": "2019-01-01",
         "data": "01/01/2019",
         "_deepnote_index_column": 13
        },
        {
         "data_inversa": "2019-01-01",
         "data": "01/01/2019",
         "_deepnote_index_column": 14
        },
        {
         "data_inversa": "2019-01-01",
         "data": "01/01/2019",
         "_deepnote_index_column": 15
        },
        {
         "data_inversa": "2019-01-01",
         "data": "01/01/2019",
         "_deepnote_index_column": 16
        },
        {
         "data_inversa": "2019-01-01",
         "data": "01/01/2019",
         "_deepnote_index_column": 17
        },
        {
         "data_inversa": "2019-01-01",
         "data": "01/01/2019",
         "_deepnote_index_column": 18
        },
        {
         "data_inversa": "2019-01-01",
         "data": "01/01/2019",
         "_deepnote_index_column": 19
        },
        {
         "data_inversa": "2019-01-01",
         "data": "01/01/2019",
         "_deepnote_index_column": 20
        },
        {
         "data_inversa": "2019-01-01",
         "data": "01/01/2019",
         "_deepnote_index_column": 21
        },
        {
         "data_inversa": "2019-01-01",
         "data": "01/01/2019",
         "_deepnote_index_column": 22
        },
        {
         "data_inversa": "2019-01-01",
         "data": "01/01/2019",
         "_deepnote_index_column": 23
        },
        {
         "data_inversa": "2019-01-01",
         "data": "01/01/2019",
         "_deepnote_index_column": 24
        },
        {
         "data_inversa": "2019-01-01",
         "data": "01/01/2019",
         "_deepnote_index_column": 25
        },
        {
         "data_inversa": "2019-01-01",
         "data": "01/01/2019",
         "_deepnote_index_column": 26
        },
        {
         "data_inversa": "2019-01-01",
         "data": "01/01/2019",
         "_deepnote_index_column": 27
        },
        {
         "data_inversa": "2019-01-01",
         "data": "01/01/2019",
         "_deepnote_index_column": 28
        },
        {
         "data_inversa": "2019-01-01",
         "data": "01/01/2019",
         "_deepnote_index_column": 29
        },
        {
         "data_inversa": "2019-01-01",
         "data": "01/01/2019",
         "_deepnote_index_column": 30
        },
        {
         "data_inversa": "2019-01-01",
         "data": "01/01/2019",
         "_deepnote_index_column": 31
        },
        {
         "data_inversa": "2019-01-01",
         "data": "01/01/2019",
         "_deepnote_index_column": 32
        },
        {
         "data_inversa": "2019-01-01",
         "data": "01/01/2019",
         "_deepnote_index_column": 33
        },
        {
         "data_inversa": "2019-01-01",
         "data": "01/01/2019",
         "_deepnote_index_column": 34
        },
        {
         "data_inversa": "2019-01-01",
         "data": "01/01/2019",
         "_deepnote_index_column": 35
        },
        {
         "data_inversa": "2019-01-01",
         "data": "01/01/2019",
         "_deepnote_index_column": 36
        },
        {
         "data_inversa": "2019-01-01",
         "data": "01/01/2019",
         "_deepnote_index_column": 37
        },
        {
         "data_inversa": "2019-01-01",
         "data": "01/01/2019",
         "_deepnote_index_column": 38
        },
        {
         "data_inversa": "2019-01-01",
         "data": "01/01/2019",
         "_deepnote_index_column": 39
        },
        {
         "data_inversa": "2019-01-01",
         "data": "01/01/2019",
         "_deepnote_index_column": 40
        },
        {
         "data_inversa": "2019-01-01",
         "data": "01/01/2019",
         "_deepnote_index_column": 41
        },
        {
         "data_inversa": "2019-01-01",
         "data": "01/01/2019",
         "_deepnote_index_column": 42
        },
        {
         "data_inversa": "2019-01-01",
         "data": "01/01/2019",
         "_deepnote_index_column": 43
        },
        {
         "data_inversa": "2019-01-01",
         "data": "01/01/2019",
         "_deepnote_index_column": 44
        },
        {
         "data_inversa": "2019-01-01",
         "data": "01/01/2019",
         "_deepnote_index_column": 45
        },
        {
         "data_inversa": "2019-01-01",
         "data": "01/01/2019",
         "_deepnote_index_column": 46
        },
        {
         "data_inversa": "2019-01-01",
         "data": "01/01/2019",
         "_deepnote_index_column": 47
        },
        {
         "data_inversa": "2019-01-01",
         "data": "01/01/2019",
         "_deepnote_index_column": 48
        },
        {
         "data_inversa": "2019-01-01",
         "data": "01/01/2019",
         "_deepnote_index_column": 49
        },
        {
         "data_inversa": "2019-01-01",
         "data": "01/01/2019",
         "_deepnote_index_column": 50
        },
        {
         "data_inversa": "2019-01-01",
         "data": "01/01/2019",
         "_deepnote_index_column": 51
        },
        {
         "data_inversa": "2019-01-01",
         "data": "01/01/2019",
         "_deepnote_index_column": 52
        },
        {
         "data_inversa": "2019-01-01",
         "data": "01/01/2019",
         "_deepnote_index_column": 53
        },
        {
         "data_inversa": "2019-01-01",
         "data": "01/01/2019",
         "_deepnote_index_column": 54
        },
        {
         "data_inversa": "2019-01-01",
         "data": "01/01/2019",
         "_deepnote_index_column": 55
        },
        {
         "data_inversa": "2019-01-01",
         "data": "01/01/2019",
         "_deepnote_index_column": 56
        },
        {
         "data_inversa": "2019-01-01",
         "data": "01/01/2019",
         "_deepnote_index_column": 57
        },
        {
         "data_inversa": "2019-01-01",
         "data": "01/01/2019",
         "_deepnote_index_column": 58
        },
        {
         "data_inversa": "2019-01-01",
         "data": "01/01/2019",
         "_deepnote_index_column": 59
        },
        {
         "data_inversa": "2019-01-01",
         "data": "01/01/2019",
         "_deepnote_index_column": 60
        },
        {
         "data_inversa": "2019-01-01",
         "data": "01/01/2019",
         "_deepnote_index_column": 61
        },
        {
         "data_inversa": "2019-01-01",
         "data": "01/01/2019",
         "_deepnote_index_column": 62
        },
        {
         "data_inversa": "2019-01-01",
         "data": "01/01/2019",
         "_deepnote_index_column": 63
        },
        {
         "data_inversa": "2019-01-01",
         "data": "01/01/2019",
         "_deepnote_index_column": 64
        },
        {
         "data_inversa": "2019-01-01",
         "data": "01/01/2019",
         "_deepnote_index_column": 65
        },
        {
         "data_inversa": "2019-01-01",
         "data": "01/01/2019",
         "_deepnote_index_column": 66
        },
        {
         "data_inversa": "2019-01-01",
         "data": "01/01/2019",
         "_deepnote_index_column": 67
        },
        {
         "data_inversa": "2019-01-01",
         "data": "01/01/2019",
         "_deepnote_index_column": 68
        },
        {
         "data_inversa": "2019-01-01",
         "data": "01/01/2019",
         "_deepnote_index_column": 69
        },
        {
         "data_inversa": "2019-01-01",
         "data": "01/01/2019",
         "_deepnote_index_column": 70
        },
        {
         "data_inversa": "2019-01-01",
         "data": "01/01/2019",
         "_deepnote_index_column": 71
        },
        {
         "data_inversa": "2019-01-01",
         "data": "01/01/2019",
         "_deepnote_index_column": 72
        },
        {
         "data_inversa": "2019-01-01",
         "data": "01/01/2019",
         "_deepnote_index_column": 73
        },
        {
         "data_inversa": "2019-01-01",
         "data": "01/01/2019",
         "_deepnote_index_column": 74
        },
        {
         "data_inversa": "2019-01-01",
         "data": "01/01/2019",
         "_deepnote_index_column": 75
        },
        {
         "data_inversa": "2019-01-01",
         "data": "01/01/2019",
         "_deepnote_index_column": 76
        },
        {
         "data_inversa": "2019-01-01",
         "data": "01/01/2019",
         "_deepnote_index_column": 77
        },
        {
         "data_inversa": "2019-01-01",
         "data": "01/01/2019",
         "_deepnote_index_column": 78
        },
        {
         "data_inversa": "2019-01-01",
         "data": "01/01/2019",
         "_deepnote_index_column": 79
        },
        {
         "data_inversa": "2019-01-01",
         "data": "01/01/2019",
         "_deepnote_index_column": 80
        },
        {
         "data_inversa": "2019-01-01",
         "data": "01/01/2019",
         "_deepnote_index_column": 81
        },
        {
         "data_inversa": "2019-01-01",
         "data": "01/01/2019",
         "_deepnote_index_column": 82
        },
        {
         "data_inversa": "2019-01-01",
         "data": "01/01/2019",
         "_deepnote_index_column": 83
        },
        {
         "data_inversa": "2019-01-01",
         "data": "01/01/2019",
         "_deepnote_index_column": 84
        },
        {
         "data_inversa": "2019-01-01",
         "data": "01/01/2019",
         "_deepnote_index_column": 85
        },
        {
         "data_inversa": "2019-01-01",
         "data": "01/01/2019",
         "_deepnote_index_column": 86
        },
        {
         "data_inversa": "2019-01-01",
         "data": "01/01/2019",
         "_deepnote_index_column": 87
        },
        {
         "data_inversa": "2019-01-01",
         "data": "01/01/2019",
         "_deepnote_index_column": 88
        },
        {
         "data_inversa": "2019-01-01",
         "data": "01/01/2019",
         "_deepnote_index_column": 89
        },
        {
         "data_inversa": "2019-01-01",
         "data": "01/01/2019",
         "_deepnote_index_column": 90
        },
        {
         "data_inversa": "2019-01-01",
         "data": "01/01/2019",
         "_deepnote_index_column": 91
        },
        {
         "data_inversa": "2019-01-01",
         "data": "01/01/2019",
         "_deepnote_index_column": 92
        },
        {
         "data_inversa": "2019-01-01",
         "data": "01/01/2019",
         "_deepnote_index_column": 93
        },
        {
         "data_inversa": "2019-01-01",
         "data": "01/01/2019",
         "_deepnote_index_column": 94
        },
        {
         "data_inversa": "2019-01-01",
         "data": "01/01/2019",
         "_deepnote_index_column": 95
        },
        {
         "data_inversa": "2019-01-01",
         "data": "01/01/2019",
         "_deepnote_index_column": 96
        },
        {
         "data_inversa": "2019-01-01",
         "data": "01/01/2019",
         "_deepnote_index_column": 97
        },
        {
         "data_inversa": "2019-01-01",
         "data": "01/01/2019",
         "_deepnote_index_column": 98
        },
        {
         "data_inversa": "2019-01-01",
         "data": "01/01/2019",
         "_deepnote_index_column": 99
        },
        {
         "data_inversa": "2019-01-01",
         "data": "01/01/2019",
         "_deepnote_index_column": 100
        },
        {
         "data_inversa": "2019-01-01",
         "data": "01/01/2019",
         "_deepnote_index_column": 101
        },
        {
         "data_inversa": "2019-01-01",
         "data": "01/01/2019",
         "_deepnote_index_column": 102
        },
        {
         "data_inversa": "2019-01-01",
         "data": "01/01/2019",
         "_deepnote_index_column": 103
        },
        {
         "data_inversa": "2019-01-01",
         "data": "01/01/2019",
         "_deepnote_index_column": 104
        },
        {
         "data_inversa": "2019-01-01",
         "data": "01/01/2019",
         "_deepnote_index_column": 105
        },
        {
         "data_inversa": "2019-01-01",
         "data": "01/01/2019",
         "_deepnote_index_column": 106
        },
        {
         "data_inversa": "2019-01-01",
         "data": "01/01/2019",
         "_deepnote_index_column": 107
        },
        {
         "data_inversa": "2019-01-01",
         "data": "01/01/2019",
         "_deepnote_index_column": 108
        },
        {
         "data_inversa": "2019-01-01",
         "data": "01/01/2019",
         "_deepnote_index_column": 109
        },
        {
         "data_inversa": "2019-01-01",
         "data": "01/01/2019",
         "_deepnote_index_column": 110
        },
        {
         "data_inversa": "2019-01-01",
         "data": "01/01/2019",
         "_deepnote_index_column": 111
        },
        {
         "data_inversa": "2019-01-01",
         "data": "01/01/2019",
         "_deepnote_index_column": 112
        },
        {
         "data_inversa": "2019-01-01",
         "data": "01/01/2019",
         "_deepnote_index_column": 113
        },
        {
         "data_inversa": "2019-01-01",
         "data": "01/01/2019",
         "_deepnote_index_column": 114
        },
        {
         "data_inversa": "2019-01-01",
         "data": "01/01/2019",
         "_deepnote_index_column": 115
        },
        {
         "data_inversa": "2019-01-01",
         "data": "01/01/2019",
         "_deepnote_index_column": 116
        },
        {
         "data_inversa": "2019-01-01",
         "data": "01/01/2019",
         "_deepnote_index_column": 117
        },
        {
         "data_inversa": "2019-01-01",
         "data": "01/01/2019",
         "_deepnote_index_column": 118
        },
        {
         "data_inversa": "2019-01-01",
         "data": "01/01/2019",
         "_deepnote_index_column": 119
        },
        {
         "data_inversa": "2019-01-01",
         "data": "01/01/2019",
         "_deepnote_index_column": 120
        },
        {
         "data_inversa": "2019-01-01",
         "data": "01/01/2019",
         "_deepnote_index_column": 121
        },
        {
         "data_inversa": "2019-01-01",
         "data": "01/01/2019",
         "_deepnote_index_column": 122
        },
        {
         "data_inversa": "2019-01-01",
         "data": "01/01/2019",
         "_deepnote_index_column": 123
        },
        {
         "data_inversa": "2019-01-01",
         "data": "01/01/2019",
         "_deepnote_index_column": 124
        },
        {
         "data_inversa": "2019-01-01",
         "data": "01/01/2019",
         "_deepnote_index_column": 125
        },
        {
         "data_inversa": "2019-01-01",
         "data": "01/01/2019",
         "_deepnote_index_column": 126
        },
        {
         "data_inversa": "2019-01-01",
         "data": "01/01/2019",
         "_deepnote_index_column": 127
        },
        {
         "data_inversa": "2019-01-01",
         "data": "01/01/2019",
         "_deepnote_index_column": 128
        },
        {
         "data_inversa": "2019-01-01",
         "data": "01/01/2019",
         "_deepnote_index_column": 129
        },
        {
         "data_inversa": "2019-01-01",
         "data": "01/01/2019",
         "_deepnote_index_column": 130
        },
        {
         "data_inversa": "2019-01-01",
         "data": "01/01/2019",
         "_deepnote_index_column": 131
        },
        {
         "data_inversa": "2019-01-01",
         "data": "01/01/2019",
         "_deepnote_index_column": 132
        },
        {
         "data_inversa": "2019-01-01",
         "data": "01/01/2019",
         "_deepnote_index_column": 133
        },
        {
         "data_inversa": "2019-01-01",
         "data": "01/01/2019",
         "_deepnote_index_column": 134
        },
        {
         "data_inversa": "2019-01-01",
         "data": "01/01/2019",
         "_deepnote_index_column": 135
        },
        {
         "data_inversa": "2019-01-01",
         "data": "01/01/2019",
         "_deepnote_index_column": 136
        },
        {
         "data_inversa": "2019-01-01",
         "data": "01/01/2019",
         "_deepnote_index_column": 137
        },
        {
         "data_inversa": "2019-01-01",
         "data": "01/01/2019",
         "_deepnote_index_column": 138
        },
        {
         "data_inversa": "2019-01-01",
         "data": "01/01/2019",
         "_deepnote_index_column": 139
        },
        {
         "data_inversa": "2019-01-01",
         "data": "01/01/2019",
         "_deepnote_index_column": 140
        },
        {
         "data_inversa": "2019-01-01",
         "data": "01/01/2019",
         "_deepnote_index_column": 141
        },
        {
         "data_inversa": "2019-01-01",
         "data": "01/01/2019",
         "_deepnote_index_column": 142
        },
        {
         "data_inversa": "2019-01-01",
         "data": "01/01/2019",
         "_deepnote_index_column": 143
        },
        {
         "data_inversa": "2019-01-01",
         "data": "01/01/2019",
         "_deepnote_index_column": 144
        },
        {
         "data_inversa": "2019-01-01",
         "data": "01/01/2019",
         "_deepnote_index_column": 145
        },
        {
         "data_inversa": "2019-01-01",
         "data": "01/01/2019",
         "_deepnote_index_column": 146
        },
        {
         "data_inversa": "2019-01-01",
         "data": "01/01/2019",
         "_deepnote_index_column": 147
        },
        {
         "data_inversa": "2019-01-01",
         "data": "01/01/2019",
         "_deepnote_index_column": 148
        },
        {
         "data_inversa": "2019-01-01",
         "data": "01/01/2019",
         "_deepnote_index_column": 149
        },
        {
         "data_inversa": "2019-01-01",
         "data": "01/01/2019",
         "_deepnote_index_column": 150
        },
        {
         "data_inversa": "2019-01-01",
         "data": "01/01/2019",
         "_deepnote_index_column": 151
        },
        {
         "data_inversa": "2019-01-01",
         "data": "01/01/2019",
         "_deepnote_index_column": 152
        },
        {
         "data_inversa": "2019-01-01",
         "data": "01/01/2019",
         "_deepnote_index_column": 153
        },
        {
         "data_inversa": "2019-01-01",
         "data": "01/01/2019",
         "_deepnote_index_column": 154
        },
        {
         "data_inversa": "2019-01-01",
         "data": "01/01/2019",
         "_deepnote_index_column": 155
        },
        {
         "data_inversa": "2019-01-01",
         "data": "01/01/2019",
         "_deepnote_index_column": 156
        },
        {
         "data_inversa": "2019-01-01",
         "data": "01/01/2019",
         "_deepnote_index_column": 157
        },
        {
         "data_inversa": "2019-01-01",
         "data": "01/01/2019",
         "_deepnote_index_column": 158
        },
        {
         "data_inversa": "2019-01-01",
         "data": "01/01/2019",
         "_deepnote_index_column": 159
        },
        {
         "data_inversa": "2019-01-01",
         "data": "01/01/2019",
         "_deepnote_index_column": 160
        },
        {
         "data_inversa": "2019-01-01",
         "data": "01/01/2019",
         "_deepnote_index_column": 161
        },
        {
         "data_inversa": "2019-01-01",
         "data": "01/01/2019",
         "_deepnote_index_column": 162
        },
        {
         "data_inversa": "2019-01-01",
         "data": "01/01/2019",
         "_deepnote_index_column": 163
        },
        {
         "data_inversa": "2019-01-01",
         "data": "01/01/2019",
         "_deepnote_index_column": 164
        },
        {
         "data_inversa": "2019-01-01",
         "data": "01/01/2019",
         "_deepnote_index_column": 165
        },
        {
         "data_inversa": "2019-01-01",
         "data": "01/01/2019",
         "_deepnote_index_column": 166
        },
        {
         "data_inversa": "2019-01-01",
         "data": "01/01/2019",
         "_deepnote_index_column": 167
        },
        {
         "data_inversa": "2019-01-01",
         "data": "01/01/2019",
         "_deepnote_index_column": 168
        },
        {
         "data_inversa": "2019-01-01",
         "data": "01/01/2019",
         "_deepnote_index_column": 169
        },
        {
         "data_inversa": "2019-01-01",
         "data": "01/01/2019",
         "_deepnote_index_column": 170
        },
        {
         "data_inversa": "2019-01-01",
         "data": "01/01/2019",
         "_deepnote_index_column": 171
        },
        {
         "data_inversa": "2019-01-01",
         "data": "01/01/2019",
         "_deepnote_index_column": 172
        },
        {
         "data_inversa": "2019-01-01",
         "data": "01/01/2019",
         "_deepnote_index_column": 173
        },
        {
         "data_inversa": "2019-01-01",
         "data": "01/01/2019",
         "_deepnote_index_column": 174
        },
        {
         "data_inversa": "2019-01-01",
         "data": "01/01/2019",
         "_deepnote_index_column": 175
        },
        {
         "data_inversa": "2019-01-01",
         "data": "01/01/2019",
         "_deepnote_index_column": 176
        },
        {
         "data_inversa": "2019-01-01",
         "data": "01/01/2019",
         "_deepnote_index_column": 177
        },
        {
         "data_inversa": "2019-01-01",
         "data": "01/01/2019",
         "_deepnote_index_column": 178
        },
        {
         "data_inversa": "2019-01-01",
         "data": "01/01/2019",
         "_deepnote_index_column": 179
        },
        {
         "data_inversa": "2019-01-01",
         "data": "01/01/2019",
         "_deepnote_index_column": 180
        },
        {
         "data_inversa": "2019-01-01",
         "data": "01/01/2019",
         "_deepnote_index_column": 181
        },
        {
         "data_inversa": "2019-01-01",
         "data": "01/01/2019",
         "_deepnote_index_column": 182
        },
        {
         "data_inversa": "2019-01-02",
         "data": "02/01/2019",
         "_deepnote_index_column": 183
        },
        {
         "data_inversa": "2019-01-01",
         "data": "01/01/2019",
         "_deepnote_index_column": 184
        },
        {
         "data_inversa": "2019-01-01",
         "data": "01/01/2019",
         "_deepnote_index_column": 185
        },
        {
         "data_inversa": "2019-01-02",
         "data": "02/01/2019",
         "_deepnote_index_column": 186
        },
        {
         "data_inversa": "2019-01-01",
         "data": "01/01/2019",
         "_deepnote_index_column": 187
        },
        {
         "data_inversa": "2019-01-02",
         "data": "02/01/2019",
         "_deepnote_index_column": 188
        },
        {
         "data_inversa": "2019-01-02",
         "data": "02/01/2019",
         "_deepnote_index_column": 189
        },
        {
         "data_inversa": "2019-01-01",
         "data": "01/01/2019",
         "_deepnote_index_column": 190
        },
        {
         "data_inversa": "2019-01-01",
         "data": "01/01/2019",
         "_deepnote_index_column": 191
        },
        {
         "data_inversa": "2019-01-02",
         "data": "02/01/2019",
         "_deepnote_index_column": 192
        },
        {
         "data_inversa": "2019-01-01",
         "data": "01/01/2019",
         "_deepnote_index_column": 193
        },
        {
         "data_inversa": "2019-01-01",
         "data": "01/01/2019",
         "_deepnote_index_column": 194
        },
        {
         "data_inversa": "2019-01-02",
         "data": "02/01/2019",
         "_deepnote_index_column": 195
        },
        {
         "data_inversa": "2019-01-02",
         "data": "02/01/2019",
         "_deepnote_index_column": 196
        },
        {
         "data_inversa": "2019-01-02",
         "data": "02/01/2019",
         "_deepnote_index_column": 197
        },
        {
         "data_inversa": "2019-01-02",
         "data": "02/01/2019",
         "_deepnote_index_column": 198
        },
        {
         "data_inversa": "2019-01-02",
         "data": "02/01/2019",
         "_deepnote_index_column": 199
        },
        {
         "data_inversa": "2019-01-02",
         "data": "02/01/2019",
         "_deepnote_index_column": 200
        },
        {
         "data_inversa": "2019-01-01",
         "data": "01/01/2019",
         "_deepnote_index_column": 201
        },
        {
         "data_inversa": "2019-01-02",
         "data": "02/01/2019",
         "_deepnote_index_column": 202
        },
        {
         "data_inversa": "2019-01-02",
         "data": "02/01/2019",
         "_deepnote_index_column": 203
        },
        {
         "data_inversa": "2019-01-02",
         "data": "02/01/2019",
         "_deepnote_index_column": 204
        },
        {
         "data_inversa": "2019-01-02",
         "data": "02/01/2019",
         "_deepnote_index_column": 205
        },
        {
         "data_inversa": "2019-01-01",
         "data": "01/01/2019",
         "_deepnote_index_column": 206
        },
        {
         "data_inversa": "2019-01-02",
         "data": "02/01/2019",
         "_deepnote_index_column": 207
        },
        {
         "data_inversa": "2019-01-02",
         "data": "02/01/2019",
         "_deepnote_index_column": 208
        },
        {
         "data_inversa": "2019-01-02",
         "data": "02/01/2019",
         "_deepnote_index_column": 209
        },
        {
         "data_inversa": "2019-01-02",
         "data": "02/01/2019",
         "_deepnote_index_column": 210
        },
        {
         "data_inversa": "2019-01-02",
         "data": "02/01/2019",
         "_deepnote_index_column": 211
        },
        {
         "data_inversa": "2019-01-02",
         "data": "02/01/2019",
         "_deepnote_index_column": 212
        },
        {
         "data_inversa": "2019-01-02",
         "data": "02/01/2019",
         "_deepnote_index_column": 213
        },
        {
         "data_inversa": "2019-01-02",
         "data": "02/01/2019",
         "_deepnote_index_column": 214
        },
        {
         "data_inversa": "2019-01-02",
         "data": "02/01/2019",
         "_deepnote_index_column": 215
        },
        {
         "data_inversa": "2019-01-02",
         "data": "02/01/2019",
         "_deepnote_index_column": 216
        },
        {
         "data_inversa": "2019-01-02",
         "data": "02/01/2019",
         "_deepnote_index_column": 217
        },
        {
         "data_inversa": "2019-01-01",
         "data": "01/01/2019",
         "_deepnote_index_column": 218
        },
        {
         "data_inversa": "2019-01-02",
         "data": "02/01/2019",
         "_deepnote_index_column": 219
        },
        {
         "data_inversa": "2019-01-02",
         "data": "02/01/2019",
         "_deepnote_index_column": 220
        },
        {
         "data_inversa": "2019-01-02",
         "data": "02/01/2019",
         "_deepnote_index_column": 221
        },
        {
         "data_inversa": "2019-01-02",
         "data": "02/01/2019",
         "_deepnote_index_column": 222
        },
        {
         "data_inversa": "2019-01-02",
         "data": "02/01/2019",
         "_deepnote_index_column": 223
        },
        {
         "data_inversa": "2019-01-02",
         "data": "02/01/2019",
         "_deepnote_index_column": 224
        },
        {
         "data_inversa": "2019-01-02",
         "data": "02/01/2019",
         "_deepnote_index_column": 225
        },
        {
         "data_inversa": "2019-01-02",
         "data": "02/01/2019",
         "_deepnote_index_column": 226
        },
        {
         "data_inversa": "2019-01-01",
         "data": "01/01/2019",
         "_deepnote_index_column": 227
        },
        {
         "data_inversa": "2019-01-02",
         "data": "02/01/2019",
         "_deepnote_index_column": 228
        },
        {
         "data_inversa": "2019-01-02",
         "data": "02/01/2019",
         "_deepnote_index_column": 229
        },
        {
         "data_inversa": "2019-01-02",
         "data": "02/01/2019",
         "_deepnote_index_column": 230
        },
        {
         "data_inversa": "2019-01-02",
         "data": "02/01/2019",
         "_deepnote_index_column": 231
        },
        {
         "data_inversa": "2019-01-02",
         "data": "02/01/2019",
         "_deepnote_index_column": 232
        },
        {
         "data_inversa": "2019-01-02",
         "data": "02/01/2019",
         "_deepnote_index_column": 233
        },
        {
         "data_inversa": "2019-01-02",
         "data": "02/01/2019",
         "_deepnote_index_column": 234
        },
        {
         "data_inversa": "2019-01-02",
         "data": "02/01/2019",
         "_deepnote_index_column": 235
        },
        {
         "data_inversa": "2019-01-02",
         "data": "02/01/2019",
         "_deepnote_index_column": 236
        },
        {
         "data_inversa": "2019-01-02",
         "data": "02/01/2019",
         "_deepnote_index_column": 237
        },
        {
         "data_inversa": "2019-01-02",
         "data": "02/01/2019",
         "_deepnote_index_column": 238
        },
        {
         "data_inversa": "2019-01-02",
         "data": "02/01/2019",
         "_deepnote_index_column": 239
        },
        {
         "data_inversa": "2019-01-02",
         "data": "02/01/2019",
         "_deepnote_index_column": 240
        },
        {
         "data_inversa": "2019-01-02",
         "data": "02/01/2019",
         "_deepnote_index_column": 241
        },
        {
         "data_inversa": "2019-01-02",
         "data": "02/01/2019",
         "_deepnote_index_column": 242
        },
        {
         "data_inversa": "2019-01-02",
         "data": "02/01/2019",
         "_deepnote_index_column": 243
        },
        {
         "data_inversa": "2019-01-02",
         "data": "02/01/2019",
         "_deepnote_index_column": 244
        },
        {
         "data_inversa": "2019-01-02",
         "data": "02/01/2019",
         "_deepnote_index_column": 245
        },
        {
         "data_inversa": "2019-01-02",
         "data": "02/01/2019",
         "_deepnote_index_column": 246
        },
        {
         "data_inversa": "2019-01-02",
         "data": "02/01/2019",
         "_deepnote_index_column": 247
        },
        {
         "data_inversa": "2019-01-02",
         "data": "02/01/2019",
         "_deepnote_index_column": 248
        },
        {
         "data_inversa": "2019-01-02",
         "data": "02/01/2019",
         "_deepnote_index_column": 249
        }
       ],
       "rows_bottom": [
        {
         "data_inversa": "2021-06-30",
         "data": "30/06/2021",
         "_deepnote_index_column": 320503
        },
        {
         "data_inversa": "2021-04-20",
         "data": "20/04/2021",
         "_deepnote_index_column": 320504
        },
        {
         "data_inversa": "2021-06-20",
         "data": "20/06/2021",
         "_deepnote_index_column": 320505
        },
        {
         "data_inversa": "2021-05-16",
         "data": "16/05/2021",
         "_deepnote_index_column": 320506
        },
        {
         "data_inversa": "2021-03-07",
         "data": "07/03/2021",
         "_deepnote_index_column": 320507
        },
        {
         "data_inversa": "2021-06-18",
         "data": "18/06/2021",
         "_deepnote_index_column": 320508
        },
        {
         "data_inversa": "2021-06-30",
         "data": "30/06/2021",
         "_deepnote_index_column": 320509
        },
        {
         "data_inversa": "2021-06-04",
         "data": "04/06/2021",
         "_deepnote_index_column": 320510
        },
        {
         "data_inversa": "2021-05-30",
         "data": "30/05/2021",
         "_deepnote_index_column": 320511
        },
        {
         "data_inversa": "2021-05-16",
         "data": "16/05/2021",
         "_deepnote_index_column": 320512
        },
        {
         "data_inversa": "2021-06-14",
         "data": "14/06/2021",
         "_deepnote_index_column": 320513
        },
        {
         "data_inversa": "2021-06-30",
         "data": "30/06/2021",
         "_deepnote_index_column": 320514
        },
        {
         "data_inversa": "2021-06-26",
         "data": "26/06/2021",
         "_deepnote_index_column": 320515
        },
        {
         "data_inversa": "2021-06-11",
         "data": "11/06/2021",
         "_deepnote_index_column": 320516
        },
        {
         "data_inversa": "2021-06-11",
         "data": "11/06/2021",
         "_deepnote_index_column": 320517
        },
        {
         "data_inversa": "2021-05-26",
         "data": "26/05/2021",
         "_deepnote_index_column": 320518
        },
        {
         "data_inversa": "2021-06-03",
         "data": "03/06/2021",
         "_deepnote_index_column": 320519
        },
        {
         "data_inversa": "2021-06-11",
         "data": "11/06/2021",
         "_deepnote_index_column": 320520
        },
        {
         "data_inversa": "2021-06-15",
         "data": "15/06/2021",
         "_deepnote_index_column": 320521
        },
        {
         "data_inversa": "2021-06-28",
         "data": "28/06/2021",
         "_deepnote_index_column": 320522
        },
        {
         "data_inversa": "2021-05-19",
         "data": "19/05/2021",
         "_deepnote_index_column": 320523
        },
        {
         "data_inversa": "2021-06-24",
         "data": "24/06/2021",
         "_deepnote_index_column": 320524
        },
        {
         "data_inversa": "2021-05-19",
         "data": "19/05/2021",
         "_deepnote_index_column": 320525
        },
        {
         "data_inversa": "2021-06-20",
         "data": "20/06/2021",
         "_deepnote_index_column": 320526
        },
        {
         "data_inversa": "2021-06-28",
         "data": "28/06/2021",
         "_deepnote_index_column": 320527
        },
        {
         "data_inversa": "2021-03-24",
         "data": "24/03/2021",
         "_deepnote_index_column": 320528
        },
        {
         "data_inversa": "2021-06-28",
         "data": "28/06/2021",
         "_deepnote_index_column": 320529
        },
        {
         "data_inversa": "2021-06-16",
         "data": "16/06/2021",
         "_deepnote_index_column": 320530
        },
        {
         "data_inversa": "2021-04-05",
         "data": "05/04/2021",
         "_deepnote_index_column": 320531
        },
        {
         "data_inversa": "2021-06-24",
         "data": "24/06/2021",
         "_deepnote_index_column": 320532
        },
        {
         "data_inversa": "2021-05-19",
         "data": "19/05/2021",
         "_deepnote_index_column": 320533
        },
        {
         "data_inversa": "2021-05-30",
         "data": "30/05/2021",
         "_deepnote_index_column": 320534
        },
        {
         "data_inversa": "2021-01-19",
         "data": "19/01/2021",
         "_deepnote_index_column": 320535
        },
        {
         "data_inversa": "2021-06-25",
         "data": "25/06/2021",
         "_deepnote_index_column": 320536
        },
        {
         "data_inversa": "2021-06-25",
         "data": "25/06/2021",
         "_deepnote_index_column": 320537
        },
        {
         "data_inversa": "2021-05-08",
         "data": "08/05/2021",
         "_deepnote_index_column": 320538
        },
        {
         "data_inversa": "2021-06-29",
         "data": "29/06/2021",
         "_deepnote_index_column": 320539
        },
        {
         "data_inversa": "2021-05-09",
         "data": "09/05/2021",
         "_deepnote_index_column": 320540
        },
        {
         "data_inversa": "2021-06-29",
         "data": "29/06/2021",
         "_deepnote_index_column": 320541
        },
        {
         "data_inversa": "2021-06-04",
         "data": "04/06/2021",
         "_deepnote_index_column": 320542
        },
        {
         "data_inversa": "2021-06-25",
         "data": "25/06/2021",
         "_deepnote_index_column": 320543
        },
        {
         "data_inversa": "2021-05-05",
         "data": "05/05/2021",
         "_deepnote_index_column": 320544
        },
        {
         "data_inversa": "2021-05-24",
         "data": "24/05/2021",
         "_deepnote_index_column": 320545
        },
        {
         "data_inversa": "2021-05-16",
         "data": "16/05/2021",
         "_deepnote_index_column": 320546
        },
        {
         "data_inversa": "2021-04-25",
         "data": "25/04/2021",
         "_deepnote_index_column": 320547
        },
        {
         "data_inversa": "2021-06-29",
         "data": "29/06/2021",
         "_deepnote_index_column": 320548
        },
        {
         "data_inversa": "2021-05-29",
         "data": "29/05/2021",
         "_deepnote_index_column": 320549
        },
        {
         "data_inversa": "2021-05-23",
         "data": "23/05/2021",
         "_deepnote_index_column": 320550
        },
        {
         "data_inversa": "2021-06-26",
         "data": "26/06/2021",
         "_deepnote_index_column": 320551
        },
        {
         "data_inversa": "2021-05-14",
         "data": "14/05/2021",
         "_deepnote_index_column": 320552
        },
        {
         "data_inversa": "2021-06-20",
         "data": "20/06/2021",
         "_deepnote_index_column": 320553
        },
        {
         "data_inversa": "2021-06-05",
         "data": "05/06/2021",
         "_deepnote_index_column": 320554
        },
        {
         "data_inversa": "2021-06-07",
         "data": "07/06/2021",
         "_deepnote_index_column": 320555
        },
        {
         "data_inversa": "2021-05-27",
         "data": "27/05/2021",
         "_deepnote_index_column": 320556
        },
        {
         "data_inversa": "2021-05-09",
         "data": "09/05/2021",
         "_deepnote_index_column": 320557
        },
        {
         "data_inversa": "2021-06-30",
         "data": "30/06/2021",
         "_deepnote_index_column": 320558
        },
        {
         "data_inversa": "2021-06-25",
         "data": "25/06/2021",
         "_deepnote_index_column": 320559
        },
        {
         "data_inversa": "2021-06-20",
         "data": "20/06/2021",
         "_deepnote_index_column": 320560
        },
        {
         "data_inversa": "2021-05-16",
         "data": "16/05/2021",
         "_deepnote_index_column": 320561
        },
        {
         "data_inversa": "2021-05-16",
         "data": "16/05/2021",
         "_deepnote_index_column": 320562
        },
        {
         "data_inversa": "2021-06-27",
         "data": "27/06/2021",
         "_deepnote_index_column": 320563
        },
        {
         "data_inversa": "2021-06-23",
         "data": "23/06/2021",
         "_deepnote_index_column": 320564
        },
        {
         "data_inversa": "2021-06-27",
         "data": "27/06/2021",
         "_deepnote_index_column": 320565
        },
        {
         "data_inversa": "2021-06-17",
         "data": "17/06/2021",
         "_deepnote_index_column": 320566
        },
        {
         "data_inversa": "2021-04-12",
         "data": "12/04/2021",
         "_deepnote_index_column": 320567
        },
        {
         "data_inversa": "2021-06-05",
         "data": "05/06/2021",
         "_deepnote_index_column": 320568
        },
        {
         "data_inversa": "2021-05-14",
         "data": "14/05/2021",
         "_deepnote_index_column": 320569
        },
        {
         "data_inversa": "2021-04-09",
         "data": "09/04/2021",
         "_deepnote_index_column": 320570
        },
        {
         "data_inversa": "2021-06-21",
         "data": "21/06/2021",
         "_deepnote_index_column": 320571
        },
        {
         "data_inversa": "2021-05-26",
         "data": "26/05/2021",
         "_deepnote_index_column": 320572
        },
        {
         "data_inversa": "2021-06-21",
         "data": "21/06/2021",
         "_deepnote_index_column": 320573
        },
        {
         "data_inversa": "2021-05-30",
         "data": "30/05/2021",
         "_deepnote_index_column": 320574
        },
        {
         "data_inversa": "2021-06-27",
         "data": "27/06/2021",
         "_deepnote_index_column": 320575
        },
        {
         "data_inversa": "2021-06-17",
         "data": "17/06/2021",
         "_deepnote_index_column": 320576
        },
        {
         "data_inversa": "2021-05-18",
         "data": "18/05/2021",
         "_deepnote_index_column": 320577
        },
        {
         "data_inversa": "2021-06-11",
         "data": "11/06/2021",
         "_deepnote_index_column": 320578
        },
        {
         "data_inversa": "2021-06-03",
         "data": "03/06/2021",
         "_deepnote_index_column": 320579
        },
        {
         "data_inversa": "2021-04-24",
         "data": "24/04/2021",
         "_deepnote_index_column": 320580
        },
        {
         "data_inversa": "2021-05-23",
         "data": "23/05/2021",
         "_deepnote_index_column": 320581
        },
        {
         "data_inversa": "2021-05-22",
         "data": "22/05/2021",
         "_deepnote_index_column": 320582
        },
        {
         "data_inversa": "2021-06-25",
         "data": "25/06/2021",
         "_deepnote_index_column": 320583
        },
        {
         "data_inversa": "2021-06-12",
         "data": "12/06/2021",
         "_deepnote_index_column": 320584
        },
        {
         "data_inversa": "2021-06-15",
         "data": "15/06/2021",
         "_deepnote_index_column": 320585
        },
        {
         "data_inversa": "2021-06-26",
         "data": "26/06/2021",
         "_deepnote_index_column": 320586
        },
        {
         "data_inversa": "2021-06-19",
         "data": "19/06/2021",
         "_deepnote_index_column": 320587
        },
        {
         "data_inversa": "2021-04-26",
         "data": "26/04/2021",
         "_deepnote_index_column": 320588
        },
        {
         "data_inversa": "2021-06-14",
         "data": "14/06/2021",
         "_deepnote_index_column": 320589
        },
        {
         "data_inversa": "2021-04-30",
         "data": "30/04/2021",
         "_deepnote_index_column": 320590
        },
        {
         "data_inversa": "2021-06-28",
         "data": "28/06/2021",
         "_deepnote_index_column": 320591
        },
        {
         "data_inversa": "2021-06-28",
         "data": "28/06/2021",
         "_deepnote_index_column": 320592
        },
        {
         "data_inversa": "2021-06-09",
         "data": "09/06/2021",
         "_deepnote_index_column": 320593
        },
        {
         "data_inversa": "2021-06-13",
         "data": "13/06/2021",
         "_deepnote_index_column": 320594
        },
        {
         "data_inversa": "2021-06-24",
         "data": "24/06/2021",
         "_deepnote_index_column": 320595
        },
        {
         "data_inversa": "2021-05-27",
         "data": "27/05/2021",
         "_deepnote_index_column": 320596
        },
        {
         "data_inversa": "2021-06-05",
         "data": "05/06/2021",
         "_deepnote_index_column": 320597
        },
        {
         "data_inversa": "2021-05-16",
         "data": "16/05/2021",
         "_deepnote_index_column": 320598
        },
        {
         "data_inversa": "2021-06-29",
         "data": "29/06/2021",
         "_deepnote_index_column": 320599
        },
        {
         "data_inversa": "2021-06-05",
         "data": "05/06/2021",
         "_deepnote_index_column": 320600
        },
        {
         "data_inversa": "2021-06-29",
         "data": "29/06/2021",
         "_deepnote_index_column": 320601
        },
        {
         "data_inversa": "2021-06-07",
         "data": "07/06/2021",
         "_deepnote_index_column": 320602
        },
        {
         "data_inversa": "2021-06-06",
         "data": "06/06/2021",
         "_deepnote_index_column": 320603
        },
        {
         "data_inversa": "2021-06-21",
         "data": "21/06/2021",
         "_deepnote_index_column": 320604
        },
        {
         "data_inversa": "2021-06-04",
         "data": "04/06/2021",
         "_deepnote_index_column": 320605
        },
        {
         "data_inversa": "2021-06-26",
         "data": "26/06/2021",
         "_deepnote_index_column": 320606
        },
        {
         "data_inversa": "2021-06-21",
         "data": "21/06/2021",
         "_deepnote_index_column": 320607
        },
        {
         "data_inversa": "2021-05-22",
         "data": "22/05/2021",
         "_deepnote_index_column": 320608
        },
        {
         "data_inversa": "2021-06-11",
         "data": "11/06/2021",
         "_deepnote_index_column": 320609
        },
        {
         "data_inversa": "2021-05-31",
         "data": "31/05/2021",
         "_deepnote_index_column": 320610
        },
        {
         "data_inversa": "2021-06-15",
         "data": "15/06/2021",
         "_deepnote_index_column": 320611
        },
        {
         "data_inversa": "2021-05-12",
         "data": "12/05/2021",
         "_deepnote_index_column": 320612
        },
        {
         "data_inversa": "2021-06-13",
         "data": "13/06/2021",
         "_deepnote_index_column": 320613
        },
        {
         "data_inversa": "2021-06-20",
         "data": "20/06/2021",
         "_deepnote_index_column": 320614
        },
        {
         "data_inversa": "2021-05-29",
         "data": "29/05/2021",
         "_deepnote_index_column": 320615
        },
        {
         "data_inversa": "2021-06-26",
         "data": "26/06/2021",
         "_deepnote_index_column": 320616
        },
        {
         "data_inversa": "2021-06-18",
         "data": "18/06/2021",
         "_deepnote_index_column": 320617
        },
        {
         "data_inversa": "2021-06-06",
         "data": "06/06/2021",
         "_deepnote_index_column": 320618
        },
        {
         "data_inversa": "2021-06-24",
         "data": "24/06/2021",
         "_deepnote_index_column": 320619
        },
        {
         "data_inversa": "2021-06-04",
         "data": "04/06/2021",
         "_deepnote_index_column": 320620
        },
        {
         "data_inversa": "2021-03-02",
         "data": "02/03/2021",
         "_deepnote_index_column": 320621
        },
        {
         "data_inversa": "2021-06-18",
         "data": "18/06/2021",
         "_deepnote_index_column": 320622
        },
        {
         "data_inversa": "2021-06-10",
         "data": "10/06/2021",
         "_deepnote_index_column": 320623
        },
        {
         "data_inversa": "2021-06-18",
         "data": "18/06/2021",
         "_deepnote_index_column": 320624
        },
        {
         "data_inversa": "2021-06-07",
         "data": "07/06/2021",
         "_deepnote_index_column": 320625
        },
        {
         "data_inversa": "2021-06-23",
         "data": "23/06/2021",
         "_deepnote_index_column": 320626
        },
        {
         "data_inversa": "2021-04-04",
         "data": "04/04/2021",
         "_deepnote_index_column": 320627
        },
        {
         "data_inversa": "2021-06-22",
         "data": "22/06/2021",
         "_deepnote_index_column": 320628
        },
        {
         "data_inversa": "2021-06-07",
         "data": "07/06/2021",
         "_deepnote_index_column": 320629
        },
        {
         "data_inversa": "2021-06-20",
         "data": "20/06/2021",
         "_deepnote_index_column": 320630
        },
        {
         "data_inversa": "2021-06-27",
         "data": "27/06/2021",
         "_deepnote_index_column": 320631
        },
        {
         "data_inversa": "2021-06-14",
         "data": "14/06/2021",
         "_deepnote_index_column": 320632
        },
        {
         "data_inversa": "2021-06-30",
         "data": "30/06/2021",
         "_deepnote_index_column": 320633
        },
        {
         "data_inversa": "2021-06-20",
         "data": "20/06/2021",
         "_deepnote_index_column": 320634
        },
        {
         "data_inversa": "2021-06-16",
         "data": "16/06/2021",
         "_deepnote_index_column": 320635
        },
        {
         "data_inversa": "2021-06-22",
         "data": "22/06/2021",
         "_deepnote_index_column": 320636
        },
        {
         "data_inversa": "2021-06-24",
         "data": "24/06/2021",
         "_deepnote_index_column": 320637
        },
        {
         "data_inversa": "2021-05-12",
         "data": "12/05/2021",
         "_deepnote_index_column": 320638
        },
        {
         "data_inversa": "2021-06-25",
         "data": "25/06/2021",
         "_deepnote_index_column": 320639
        },
        {
         "data_inversa": "2021-06-28",
         "data": "28/06/2021",
         "_deepnote_index_column": 320640
        },
        {
         "data_inversa": "2021-06-24",
         "data": "24/06/2021",
         "_deepnote_index_column": 320641
        },
        {
         "data_inversa": "2021-03-09",
         "data": "09/03/2021",
         "_deepnote_index_column": 320642
        },
        {
         "data_inversa": "2021-06-09",
         "data": "09/06/2021",
         "_deepnote_index_column": 320643
        },
        {
         "data_inversa": "2021-06-19",
         "data": "19/06/2021",
         "_deepnote_index_column": 320644
        },
        {
         "data_inversa": "2021-02-16",
         "data": "16/02/2021",
         "_deepnote_index_column": 320645
        },
        {
         "data_inversa": "2021-06-13",
         "data": "13/06/2021",
         "_deepnote_index_column": 320646
        },
        {
         "data_inversa": "2021-06-24",
         "data": "24/06/2021",
         "_deepnote_index_column": 320647
        },
        {
         "data_inversa": "2021-06-12",
         "data": "12/06/2021",
         "_deepnote_index_column": 320648
        },
        {
         "data_inversa": "2021-06-20",
         "data": "20/06/2021",
         "_deepnote_index_column": 320649
        },
        {
         "data_inversa": "2021-06-28",
         "data": "28/06/2021",
         "_deepnote_index_column": 320650
        },
        {
         "data_inversa": "2021-06-25",
         "data": "25/06/2021",
         "_deepnote_index_column": 320651
        },
        {
         "data_inversa": "2021-06-30",
         "data": "30/06/2021",
         "_deepnote_index_column": 320652
        },
        {
         "data_inversa": "2021-05-04",
         "data": "04/05/2021",
         "_deepnote_index_column": 320653
        },
        {
         "data_inversa": "2021-05-29",
         "data": "29/05/2021",
         "_deepnote_index_column": 320654
        },
        {
         "data_inversa": "2021-06-23",
         "data": "23/06/2021",
         "_deepnote_index_column": 320655
        },
        {
         "data_inversa": "2021-06-25",
         "data": "25/06/2021",
         "_deepnote_index_column": 320656
        },
        {
         "data_inversa": "2021-06-05",
         "data": "05/06/2021",
         "_deepnote_index_column": 320657
        },
        {
         "data_inversa": "2021-06-05",
         "data": "05/06/2021",
         "_deepnote_index_column": 320658
        },
        {
         "data_inversa": "2021-06-29",
         "data": "29/06/2021",
         "_deepnote_index_column": 320659
        },
        {
         "data_inversa": "2021-05-28",
         "data": "28/05/2021",
         "_deepnote_index_column": 320660
        },
        {
         "data_inversa": "2021-06-29",
         "data": "29/06/2021",
         "_deepnote_index_column": 320661
        },
        {
         "data_inversa": "2021-06-02",
         "data": "02/06/2021",
         "_deepnote_index_column": 320662
        },
        {
         "data_inversa": "2021-05-13",
         "data": "13/05/2021",
         "_deepnote_index_column": 320663
        },
        {
         "data_inversa": "2021-06-22",
         "data": "22/06/2021",
         "_deepnote_index_column": 320664
        },
        {
         "data_inversa": "2021-06-25",
         "data": "25/06/2021",
         "_deepnote_index_column": 320665
        },
        {
         "data_inversa": "2021-05-04",
         "data": "04/05/2021",
         "_deepnote_index_column": 320666
        },
        {
         "data_inversa": "2021-04-06",
         "data": "06/04/2021",
         "_deepnote_index_column": 320667
        },
        {
         "data_inversa": "2021-03-15",
         "data": "15/03/2021",
         "_deepnote_index_column": 320668
        },
        {
         "data_inversa": "2021-05-15",
         "data": "15/05/2021",
         "_deepnote_index_column": 320669
        },
        {
         "data_inversa": "2021-06-08",
         "data": "08/06/2021",
         "_deepnote_index_column": 320670
        },
        {
         "data_inversa": "2021-06-08",
         "data": "08/06/2021",
         "_deepnote_index_column": 320671
        },
        {
         "data_inversa": "2021-06-18",
         "data": "18/06/2021",
         "_deepnote_index_column": 320672
        },
        {
         "data_inversa": "2021-06-23",
         "data": "23/06/2021",
         "_deepnote_index_column": 320673
        },
        {
         "data_inversa": "2021-06-16",
         "data": "16/06/2021",
         "_deepnote_index_column": 320674
        },
        {
         "data_inversa": "2021-04-30",
         "data": "30/04/2021",
         "_deepnote_index_column": 320675
        },
        {
         "data_inversa": "2021-06-19",
         "data": "19/06/2021",
         "_deepnote_index_column": 320676
        },
        {
         "data_inversa": "2021-04-05",
         "data": "05/04/2021",
         "_deepnote_index_column": 320677
        },
        {
         "data_inversa": "2021-01-03",
         "data": "03/01/2021",
         "_deepnote_index_column": 320678
        },
        {
         "data_inversa": "2021-06-24",
         "data": "24/06/2021",
         "_deepnote_index_column": 320679
        },
        {
         "data_inversa": "2021-06-13",
         "data": "13/06/2021",
         "_deepnote_index_column": 320680
        },
        {
         "data_inversa": "2021-02-24",
         "data": "24/02/2021",
         "_deepnote_index_column": 320681
        },
        {
         "data_inversa": "2021-05-31",
         "data": "31/05/2021",
         "_deepnote_index_column": 320682
        },
        {
         "data_inversa": "2021-06-05",
         "data": "05/06/2021",
         "_deepnote_index_column": 320683
        },
        {
         "data_inversa": "2021-05-15",
         "data": "15/05/2021",
         "_deepnote_index_column": 320684
        },
        {
         "data_inversa": "2021-06-13",
         "data": "13/06/2021",
         "_deepnote_index_column": 320685
        },
        {
         "data_inversa": "2021-06-08",
         "data": "08/06/2021",
         "_deepnote_index_column": 320686
        },
        {
         "data_inversa": "2021-06-02",
         "data": "02/06/2021",
         "_deepnote_index_column": 320687
        },
        {
         "data_inversa": "2021-05-22",
         "data": "22/05/2021",
         "_deepnote_index_column": 320688
        },
        {
         "data_inversa": "2021-06-21",
         "data": "21/06/2021",
         "_deepnote_index_column": 320689
        },
        {
         "data_inversa": "2021-01-07",
         "data": "07/01/2021",
         "_deepnote_index_column": 320690
        },
        {
         "data_inversa": "2021-01-06",
         "data": "06/01/2021",
         "_deepnote_index_column": 320691
        },
        {
         "data_inversa": "2021-05-30",
         "data": "30/05/2021",
         "_deepnote_index_column": 320692
        },
        {
         "data_inversa": "2021-02-05",
         "data": "05/02/2021",
         "_deepnote_index_column": 320693
        },
        {
         "data_inversa": "2021-06-06",
         "data": "06/06/2021",
         "_deepnote_index_column": 320694
        },
        {
         "data_inversa": "2021-06-01",
         "data": "01/06/2021",
         "_deepnote_index_column": 320695
        },
        {
         "data_inversa": "2021-06-14",
         "data": "14/06/2021",
         "_deepnote_index_column": 320696
        },
        {
         "data_inversa": "2021-06-18",
         "data": "18/06/2021",
         "_deepnote_index_column": 320697
        },
        {
         "data_inversa": "2021-04-23",
         "data": "23/04/2021",
         "_deepnote_index_column": 320698
        },
        {
         "data_inversa": "2021-06-02",
         "data": "02/06/2021",
         "_deepnote_index_column": 320699
        },
        {
         "data_inversa": "2021-03-19",
         "data": "19/03/2021",
         "_deepnote_index_column": 320700
        },
        {
         "data_inversa": "2021-05-20",
         "data": "20/05/2021",
         "_deepnote_index_column": 320701
        },
        {
         "data_inversa": "2021-06-03",
         "data": "03/06/2021",
         "_deepnote_index_column": 320702
        },
        {
         "data_inversa": "2021-06-03",
         "data": "03/06/2021",
         "_deepnote_index_column": 320703
        },
        {
         "data_inversa": "2021-05-10",
         "data": "10/05/2021",
         "_deepnote_index_column": 320704
        },
        {
         "data_inversa": "2021-03-19",
         "data": "19/03/2021",
         "_deepnote_index_column": 320705
        },
        {
         "data_inversa": "2021-06-18",
         "data": "18/06/2021",
         "_deepnote_index_column": 320706
        },
        {
         "data_inversa": "2021-03-12",
         "data": "12/03/2021",
         "_deepnote_index_column": 320707
        },
        {
         "data_inversa": "2021-06-12",
         "data": "12/06/2021",
         "_deepnote_index_column": 320708
        },
        {
         "data_inversa": "2021-05-23",
         "data": "23/05/2021",
         "_deepnote_index_column": 320709
        },
        {
         "data_inversa": "2021-06-08",
         "data": "08/06/2021",
         "_deepnote_index_column": 320710
        },
        {
         "data_inversa": "2021-06-20",
         "data": "20/06/2021",
         "_deepnote_index_column": 320711
        },
        {
         "data_inversa": "2021-06-25",
         "data": "25/06/2021",
         "_deepnote_index_column": 320712
        },
        {
         "data_inversa": "2021-05-31",
         "data": "31/05/2021",
         "_deepnote_index_column": 320713
        },
        {
         "data_inversa": "2021-06-19",
         "data": "19/06/2021",
         "_deepnote_index_column": 320714
        },
        {
         "data_inversa": "2021-06-12",
         "data": "12/06/2021",
         "_deepnote_index_column": 320715
        },
        {
         "data_inversa": "2021-06-28",
         "data": "28/06/2021",
         "_deepnote_index_column": 320716
        },
        {
         "data_inversa": "2021-06-29",
         "data": "29/06/2021",
         "_deepnote_index_column": 320717
        },
        {
         "data_inversa": "2021-06-21",
         "data": "21/06/2021",
         "_deepnote_index_column": 320718
        },
        {
         "data_inversa": "2021-06-01",
         "data": "01/06/2021",
         "_deepnote_index_column": 320719
        },
        {
         "data_inversa": "2021-06-13",
         "data": "13/06/2021",
         "_deepnote_index_column": 320720
        },
        {
         "data_inversa": "2021-06-13",
         "data": "13/06/2021",
         "_deepnote_index_column": 320721
        },
        {
         "data_inversa": "2021-06-23",
         "data": "23/06/2021",
         "_deepnote_index_column": 320722
        },
        {
         "data_inversa": "2021-06-20",
         "data": "20/06/2021",
         "_deepnote_index_column": 320723
        },
        {
         "data_inversa": "2021-06-18",
         "data": "18/06/2021",
         "_deepnote_index_column": 320724
        },
        {
         "data_inversa": "2021-05-31",
         "data": "31/05/2021",
         "_deepnote_index_column": 320725
        },
        {
         "data_inversa": "2021-03-17",
         "data": "17/03/2021",
         "_deepnote_index_column": 320726
        },
        {
         "data_inversa": "2021-06-22",
         "data": "22/06/2021",
         "_deepnote_index_column": 320727
        },
        {
         "data_inversa": "2021-06-18",
         "data": "18/06/2021",
         "_deepnote_index_column": 320728
        },
        {
         "data_inversa": "2021-04-25",
         "data": "25/04/2021",
         "_deepnote_index_column": 320729
        },
        {
         "data_inversa": "2021-05-29",
         "data": "29/05/2021",
         "_deepnote_index_column": 320730
        },
        {
         "data_inversa": "2021-05-29",
         "data": "29/05/2021",
         "_deepnote_index_column": 320731
        },
        {
         "data_inversa": "2021-05-10",
         "data": "10/05/2021",
         "_deepnote_index_column": 320732
        },
        {
         "data_inversa": "2021-05-25",
         "data": "25/05/2021",
         "_deepnote_index_column": 320733
        },
        {
         "data_inversa": "2021-04-06",
         "data": "06/04/2021",
         "_deepnote_index_column": 320734
        },
        {
         "data_inversa": "2021-06-01",
         "data": "01/06/2021",
         "_deepnote_index_column": 320735
        },
        {
         "data_inversa": "2021-06-08",
         "data": "08/06/2021",
         "_deepnote_index_column": 320736
        },
        {
         "data_inversa": "2021-06-07",
         "data": "07/06/2021",
         "_deepnote_index_column": 320737
        },
        {
         "data_inversa": "2021-05-12",
         "data": "12/05/2021",
         "_deepnote_index_column": 320738
        },
        {
         "data_inversa": "2021-06-30",
         "data": "30/06/2021",
         "_deepnote_index_column": 320739
        },
        {
         "data_inversa": "2021-06-30",
         "data": "30/06/2021",
         "_deepnote_index_column": 320740
        },
        {
         "data_inversa": "2021-06-08",
         "data": "08/06/2021",
         "_deepnote_index_column": 320741
        },
        {
         "data_inversa": "2021-06-20",
         "data": "20/06/2021",
         "_deepnote_index_column": 320742
        },
        {
         "data_inversa": "2021-06-24",
         "data": "24/06/2021",
         "_deepnote_index_column": 320743
        },
        {
         "data_inversa": "2021-01-25",
         "data": "25/01/2021",
         "_deepnote_index_column": 320744
        },
        {
         "data_inversa": "2021-05-27",
         "data": "27/05/2021",
         "_deepnote_index_column": 320745
        },
        {
         "data_inversa": "2021-05-26",
         "data": "26/05/2021",
         "_deepnote_index_column": 320746
        },
        {
         "data_inversa": "2021-02-15",
         "data": "15/02/2021",
         "_deepnote_index_column": 320747
        },
        {
         "data_inversa": "2021-06-16",
         "data": "16/06/2021",
         "_deepnote_index_column": 320748
        },
        {
         "data_inversa": "2021-06-28",
         "data": "28/06/2021",
         "_deepnote_index_column": 320749
        },
        {
         "data_inversa": "2021-06-13",
         "data": "13/06/2021",
         "_deepnote_index_column": 320750
        },
        {
         "data_inversa": "2021-06-02",
         "data": "02/06/2021",
         "_deepnote_index_column": 320751
        },
        {
         "data_inversa": "2021-01-01",
         "data": "01/01/2021",
         "_deepnote_index_column": 320752
        }
       ]
      },
      "text/plain": "       data_inversa        data\n0        2019-01-01  01/01/2019\n1        2019-01-01  01/01/2019\n2        2019-01-01  01/01/2019\n3        2019-01-01  01/01/2019\n4        2019-01-01  01/01/2019\n...             ...         ...\n320748   2021-06-16  16/06/2021\n320749   2021-06-28  28/06/2021\n320750   2021-06-13  13/06/2021\n320751   2021-06-02  02/06/2021\n320752   2021-01-01  01/01/2021\n\n[320156 rows x 2 columns]",
      "text/html": "<div>\n<style scoped>\n    .dataframe tbody tr th:only-of-type {\n        vertical-align: middle;\n    }\n\n    .dataframe tbody tr th {\n        vertical-align: top;\n    }\n\n    .dataframe thead th {\n        text-align: right;\n    }\n</style>\n<table border=\"1\" class=\"dataframe\">\n  <thead>\n    <tr style=\"text-align: right;\">\n      <th></th>\n      <th>data_inversa</th>\n      <th>data</th>\n    </tr>\n  </thead>\n  <tbody>\n    <tr>\n      <th>0</th>\n      <td>2019-01-01</td>\n      <td>01/01/2019</td>\n    </tr>\n    <tr>\n      <th>1</th>\n      <td>2019-01-01</td>\n      <td>01/01/2019</td>\n    </tr>\n    <tr>\n      <th>2</th>\n      <td>2019-01-01</td>\n      <td>01/01/2019</td>\n    </tr>\n    <tr>\n      <th>3</th>\n      <td>2019-01-01</td>\n      <td>01/01/2019</td>\n    </tr>\n    <tr>\n      <th>4</th>\n      <td>2019-01-01</td>\n      <td>01/01/2019</td>\n    </tr>\n    <tr>\n      <th>...</th>\n      <td>...</td>\n      <td>...</td>\n    </tr>\n    <tr>\n      <th>320748</th>\n      <td>2021-06-16</td>\n      <td>16/06/2021</td>\n    </tr>\n    <tr>\n      <th>320749</th>\n      <td>2021-06-28</td>\n      <td>28/06/2021</td>\n    </tr>\n    <tr>\n      <th>320750</th>\n      <td>2021-06-13</td>\n      <td>13/06/2021</td>\n    </tr>\n    <tr>\n      <th>320751</th>\n      <td>2021-06-02</td>\n      <td>02/06/2021</td>\n    </tr>\n    <tr>\n      <th>320752</th>\n      <td>2021-01-01</td>\n      <td>01/01/2021</td>\n    </tr>\n  </tbody>\n</table>\n<p>320156 rows × 2 columns</p>\n</div>"
     },
     "metadata": {}
    }
   ]
  },
  {
   "cell_type": "code",
   "metadata": {
    "tags": [],
    "cell_id": "00012-d1134d6d-2371-49d8-9238-3b66b4eb34d1",
    "deepnote_to_be_reexecuted": false,
    "source_hash": "6e0c5466",
    "execution_start": 1634302635653,
    "execution_millis": 6845,
    "deepnote_cell_type": "code"
   },
   "source": "!pip3 install holidays",
   "execution_count": 12,
   "outputs": [
    {
     "name": "stdout",
     "text": "Collecting holidays\n  Downloading holidays-0.11.3.1-py3-none-any.whl (155 kB)\n\u001b[K     |████████████████████████████████| 155 kB 30.4 MB/s \n\u001b[?25hCollecting convertdate>=2.3.0\n  Downloading convertdate-2.3.2-py3-none-any.whl (47 kB)\n\u001b[K     |████████████████████████████████| 47 kB 10.9 MB/s \n\u001b[?25hCollecting korean-lunar-calendar\n  Downloading korean_lunar_calendar-0.2.1-py3-none-any.whl (8.0 kB)\nRequirement already satisfied: python-dateutil in /shared-libs/python3.7/py-core/lib/python3.7/site-packages (from holidays) (2.8.2)\nCollecting hijri-converter\n  Downloading hijri_converter-2.2.2-py3-none-any.whl (13 kB)\nRequirement already satisfied: pytz>=2014.10 in /shared-libs/python3.7/py/lib/python3.7/site-packages (from convertdate>=2.3.0->holidays) (2021.3)\nCollecting pymeeus<=1,>=0.3.13\n  Downloading PyMeeus-0.5.11.tar.gz (5.4 MB)\n\u001b[K     |████████████████████████████████| 5.4 MB 27.1 MB/s \n\u001b[?25hRequirement already satisfied: six>=1.5 in /shared-libs/python3.7/py-core/lib/python3.7/site-packages (from python-dateutil->holidays) (1.16.0)\nBuilding wheels for collected packages: pymeeus\n  Building wheel for pymeeus (setup.py) ... \u001b[?25ldone\n\u001b[?25h  Created wheel for pymeeus: filename=PyMeeus-0.5.11-py3-none-any.whl size=730984 sha256=42274ffd8ba17365441f80224ab16a3c33e7b868a6c3861b31f5c51749aff3cf\n  Stored in directory: /root/.cache/pip/wheels/33/6b/a6/1d9dae2323750f635654952afc74aa8f2d982cded163f43895\nSuccessfully built pymeeus\nInstalling collected packages: pymeeus, korean-lunar-calendar, hijri-converter, convertdate, holidays\nSuccessfully installed convertdate-2.3.2 hijri-converter-2.2.2 holidays-0.11.3.1 korean-lunar-calendar-0.2.1 pymeeus-0.5.11\n\u001b[33mWARNING: You are using pip version 21.2.4; however, version 21.3 is available.\nYou should consider upgrading via the '/root/venv/bin/python -m pip install --upgrade pip' command.\u001b[0m\n",
     "output_type": "stream"
    }
   ]
  },
  {
   "cell_type": "code",
   "metadata": {
    "tags": [],
    "cell_id": "00008-40b7c378-d998-4f4f-a4c4-8efd7551130f",
    "deepnote_to_be_reexecuted": false,
    "source_hash": "bc0f2438",
    "execution_start": 1634302642503,
    "execution_millis": 16356,
    "deepnote_cell_type": "code"
   },
   "source": "import holidays\n\nbrazil_holidays = holidays.Brazil()\nocorrencias['feriado'] = [1 if data in brazil_holidays else 0 for data in ocorrencias['data']]\nocorrencias[['feriado', 'data']]",
   "execution_count": 13,
   "outputs": [
    {
     "output_type": "execute_result",
     "execution_count": 13,
     "data": {
      "application/vnd.deepnote.dataframe.v2+json": {
       "row_count": 320156,
       "column_count": 2,
       "columns": [
        {
         "name": "feriado",
         "dtype": "int64"
        },
        {
         "name": "data",
         "dtype": "object"
        },
        {
         "name": "_deepnote_index_column",
         "dtype": "int64"
        }
       ],
       "rows_top": [
        {
         "feriado": 1,
         "data": "01/01/2019",
         "_deepnote_index_column": 0
        },
        {
         "feriado": 1,
         "data": "01/01/2019",
         "_deepnote_index_column": 1
        },
        {
         "feriado": 1,
         "data": "01/01/2019",
         "_deepnote_index_column": 2
        },
        {
         "feriado": 1,
         "data": "01/01/2019",
         "_deepnote_index_column": 3
        },
        {
         "feriado": 1,
         "data": "01/01/2019",
         "_deepnote_index_column": 4
        },
        {
         "feriado": 1,
         "data": "01/01/2019",
         "_deepnote_index_column": 5
        },
        {
         "feriado": 1,
         "data": "01/01/2019",
         "_deepnote_index_column": 6
        },
        {
         "feriado": 1,
         "data": "01/01/2019",
         "_deepnote_index_column": 7
        },
        {
         "feriado": 1,
         "data": "01/01/2019",
         "_deepnote_index_column": 8
        },
        {
         "feriado": 1,
         "data": "01/01/2019",
         "_deepnote_index_column": 9
        },
        {
         "feriado": 1,
         "data": "01/01/2019",
         "_deepnote_index_column": 10
        },
        {
         "feriado": 1,
         "data": "01/01/2019",
         "_deepnote_index_column": 11
        },
        {
         "feriado": 1,
         "data": "01/01/2019",
         "_deepnote_index_column": 12
        },
        {
         "feriado": 1,
         "data": "01/01/2019",
         "_deepnote_index_column": 13
        },
        {
         "feriado": 1,
         "data": "01/01/2019",
         "_deepnote_index_column": 14
        },
        {
         "feriado": 1,
         "data": "01/01/2019",
         "_deepnote_index_column": 15
        },
        {
         "feriado": 1,
         "data": "01/01/2019",
         "_deepnote_index_column": 16
        },
        {
         "feriado": 1,
         "data": "01/01/2019",
         "_deepnote_index_column": 17
        },
        {
         "feriado": 1,
         "data": "01/01/2019",
         "_deepnote_index_column": 18
        },
        {
         "feriado": 1,
         "data": "01/01/2019",
         "_deepnote_index_column": 19
        },
        {
         "feriado": 1,
         "data": "01/01/2019",
         "_deepnote_index_column": 20
        },
        {
         "feriado": 1,
         "data": "01/01/2019",
         "_deepnote_index_column": 21
        },
        {
         "feriado": 1,
         "data": "01/01/2019",
         "_deepnote_index_column": 22
        },
        {
         "feriado": 1,
         "data": "01/01/2019",
         "_deepnote_index_column": 23
        },
        {
         "feriado": 1,
         "data": "01/01/2019",
         "_deepnote_index_column": 24
        },
        {
         "feriado": 1,
         "data": "01/01/2019",
         "_deepnote_index_column": 25
        },
        {
         "feriado": 1,
         "data": "01/01/2019",
         "_deepnote_index_column": 26
        },
        {
         "feriado": 1,
         "data": "01/01/2019",
         "_deepnote_index_column": 27
        },
        {
         "feriado": 1,
         "data": "01/01/2019",
         "_deepnote_index_column": 28
        },
        {
         "feriado": 1,
         "data": "01/01/2019",
         "_deepnote_index_column": 29
        },
        {
         "feriado": 1,
         "data": "01/01/2019",
         "_deepnote_index_column": 30
        },
        {
         "feriado": 1,
         "data": "01/01/2019",
         "_deepnote_index_column": 31
        },
        {
         "feriado": 1,
         "data": "01/01/2019",
         "_deepnote_index_column": 32
        },
        {
         "feriado": 1,
         "data": "01/01/2019",
         "_deepnote_index_column": 33
        },
        {
         "feriado": 1,
         "data": "01/01/2019",
         "_deepnote_index_column": 34
        },
        {
         "feriado": 1,
         "data": "01/01/2019",
         "_deepnote_index_column": 35
        },
        {
         "feriado": 1,
         "data": "01/01/2019",
         "_deepnote_index_column": 36
        },
        {
         "feriado": 1,
         "data": "01/01/2019",
         "_deepnote_index_column": 37
        },
        {
         "feriado": 1,
         "data": "01/01/2019",
         "_deepnote_index_column": 38
        },
        {
         "feriado": 1,
         "data": "01/01/2019",
         "_deepnote_index_column": 39
        },
        {
         "feriado": 1,
         "data": "01/01/2019",
         "_deepnote_index_column": 40
        },
        {
         "feriado": 1,
         "data": "01/01/2019",
         "_deepnote_index_column": 41
        },
        {
         "feriado": 1,
         "data": "01/01/2019",
         "_deepnote_index_column": 42
        },
        {
         "feriado": 1,
         "data": "01/01/2019",
         "_deepnote_index_column": 43
        },
        {
         "feriado": 1,
         "data": "01/01/2019",
         "_deepnote_index_column": 44
        },
        {
         "feriado": 1,
         "data": "01/01/2019",
         "_deepnote_index_column": 45
        },
        {
         "feriado": 1,
         "data": "01/01/2019",
         "_deepnote_index_column": 46
        },
        {
         "feriado": 1,
         "data": "01/01/2019",
         "_deepnote_index_column": 47
        },
        {
         "feriado": 1,
         "data": "01/01/2019",
         "_deepnote_index_column": 48
        },
        {
         "feriado": 1,
         "data": "01/01/2019",
         "_deepnote_index_column": 49
        },
        {
         "feriado": 1,
         "data": "01/01/2019",
         "_deepnote_index_column": 50
        },
        {
         "feriado": 1,
         "data": "01/01/2019",
         "_deepnote_index_column": 51
        },
        {
         "feriado": 1,
         "data": "01/01/2019",
         "_deepnote_index_column": 52
        },
        {
         "feriado": 1,
         "data": "01/01/2019",
         "_deepnote_index_column": 53
        },
        {
         "feriado": 1,
         "data": "01/01/2019",
         "_deepnote_index_column": 54
        },
        {
         "feriado": 1,
         "data": "01/01/2019",
         "_deepnote_index_column": 55
        },
        {
         "feriado": 1,
         "data": "01/01/2019",
         "_deepnote_index_column": 56
        },
        {
         "feriado": 1,
         "data": "01/01/2019",
         "_deepnote_index_column": 57
        },
        {
         "feriado": 1,
         "data": "01/01/2019",
         "_deepnote_index_column": 58
        },
        {
         "feriado": 1,
         "data": "01/01/2019",
         "_deepnote_index_column": 59
        },
        {
         "feriado": 1,
         "data": "01/01/2019",
         "_deepnote_index_column": 60
        },
        {
         "feriado": 1,
         "data": "01/01/2019",
         "_deepnote_index_column": 61
        },
        {
         "feriado": 1,
         "data": "01/01/2019",
         "_deepnote_index_column": 62
        },
        {
         "feriado": 1,
         "data": "01/01/2019",
         "_deepnote_index_column": 63
        },
        {
         "feriado": 1,
         "data": "01/01/2019",
         "_deepnote_index_column": 64
        },
        {
         "feriado": 1,
         "data": "01/01/2019",
         "_deepnote_index_column": 65
        },
        {
         "feriado": 1,
         "data": "01/01/2019",
         "_deepnote_index_column": 66
        },
        {
         "feriado": 1,
         "data": "01/01/2019",
         "_deepnote_index_column": 67
        },
        {
         "feriado": 1,
         "data": "01/01/2019",
         "_deepnote_index_column": 68
        },
        {
         "feriado": 1,
         "data": "01/01/2019",
         "_deepnote_index_column": 69
        },
        {
         "feriado": 1,
         "data": "01/01/2019",
         "_deepnote_index_column": 70
        },
        {
         "feriado": 1,
         "data": "01/01/2019",
         "_deepnote_index_column": 71
        },
        {
         "feriado": 1,
         "data": "01/01/2019",
         "_deepnote_index_column": 72
        },
        {
         "feriado": 1,
         "data": "01/01/2019",
         "_deepnote_index_column": 73
        },
        {
         "feriado": 1,
         "data": "01/01/2019",
         "_deepnote_index_column": 74
        },
        {
         "feriado": 1,
         "data": "01/01/2019",
         "_deepnote_index_column": 75
        },
        {
         "feriado": 1,
         "data": "01/01/2019",
         "_deepnote_index_column": 76
        },
        {
         "feriado": 1,
         "data": "01/01/2019",
         "_deepnote_index_column": 77
        },
        {
         "feriado": 1,
         "data": "01/01/2019",
         "_deepnote_index_column": 78
        },
        {
         "feriado": 1,
         "data": "01/01/2019",
         "_deepnote_index_column": 79
        },
        {
         "feriado": 1,
         "data": "01/01/2019",
         "_deepnote_index_column": 80
        },
        {
         "feriado": 1,
         "data": "01/01/2019",
         "_deepnote_index_column": 81
        },
        {
         "feriado": 1,
         "data": "01/01/2019",
         "_deepnote_index_column": 82
        },
        {
         "feriado": 1,
         "data": "01/01/2019",
         "_deepnote_index_column": 83
        },
        {
         "feriado": 1,
         "data": "01/01/2019",
         "_deepnote_index_column": 84
        },
        {
         "feriado": 1,
         "data": "01/01/2019",
         "_deepnote_index_column": 85
        },
        {
         "feriado": 1,
         "data": "01/01/2019",
         "_deepnote_index_column": 86
        },
        {
         "feriado": 1,
         "data": "01/01/2019",
         "_deepnote_index_column": 87
        },
        {
         "feriado": 1,
         "data": "01/01/2019",
         "_deepnote_index_column": 88
        },
        {
         "feriado": 1,
         "data": "01/01/2019",
         "_deepnote_index_column": 89
        },
        {
         "feriado": 1,
         "data": "01/01/2019",
         "_deepnote_index_column": 90
        },
        {
         "feriado": 1,
         "data": "01/01/2019",
         "_deepnote_index_column": 91
        },
        {
         "feriado": 1,
         "data": "01/01/2019",
         "_deepnote_index_column": 92
        },
        {
         "feriado": 1,
         "data": "01/01/2019",
         "_deepnote_index_column": 93
        },
        {
         "feriado": 1,
         "data": "01/01/2019",
         "_deepnote_index_column": 94
        },
        {
         "feriado": 1,
         "data": "01/01/2019",
         "_deepnote_index_column": 95
        },
        {
         "feriado": 1,
         "data": "01/01/2019",
         "_deepnote_index_column": 96
        },
        {
         "feriado": 1,
         "data": "01/01/2019",
         "_deepnote_index_column": 97
        },
        {
         "feriado": 1,
         "data": "01/01/2019",
         "_deepnote_index_column": 98
        },
        {
         "feriado": 1,
         "data": "01/01/2019",
         "_deepnote_index_column": 99
        },
        {
         "feriado": 1,
         "data": "01/01/2019",
         "_deepnote_index_column": 100
        },
        {
         "feriado": 1,
         "data": "01/01/2019",
         "_deepnote_index_column": 101
        },
        {
         "feriado": 1,
         "data": "01/01/2019",
         "_deepnote_index_column": 102
        },
        {
         "feriado": 1,
         "data": "01/01/2019",
         "_deepnote_index_column": 103
        },
        {
         "feriado": 1,
         "data": "01/01/2019",
         "_deepnote_index_column": 104
        },
        {
         "feriado": 1,
         "data": "01/01/2019",
         "_deepnote_index_column": 105
        },
        {
         "feriado": 1,
         "data": "01/01/2019",
         "_deepnote_index_column": 106
        },
        {
         "feriado": 1,
         "data": "01/01/2019",
         "_deepnote_index_column": 107
        },
        {
         "feriado": 1,
         "data": "01/01/2019",
         "_deepnote_index_column": 108
        },
        {
         "feriado": 1,
         "data": "01/01/2019",
         "_deepnote_index_column": 109
        },
        {
         "feriado": 1,
         "data": "01/01/2019",
         "_deepnote_index_column": 110
        },
        {
         "feriado": 1,
         "data": "01/01/2019",
         "_deepnote_index_column": 111
        },
        {
         "feriado": 1,
         "data": "01/01/2019",
         "_deepnote_index_column": 112
        },
        {
         "feriado": 1,
         "data": "01/01/2019",
         "_deepnote_index_column": 113
        },
        {
         "feriado": 1,
         "data": "01/01/2019",
         "_deepnote_index_column": 114
        },
        {
         "feriado": 1,
         "data": "01/01/2019",
         "_deepnote_index_column": 115
        },
        {
         "feriado": 1,
         "data": "01/01/2019",
         "_deepnote_index_column": 116
        },
        {
         "feriado": 1,
         "data": "01/01/2019",
         "_deepnote_index_column": 117
        },
        {
         "feriado": 1,
         "data": "01/01/2019",
         "_deepnote_index_column": 118
        },
        {
         "feriado": 1,
         "data": "01/01/2019",
         "_deepnote_index_column": 119
        },
        {
         "feriado": 1,
         "data": "01/01/2019",
         "_deepnote_index_column": 120
        },
        {
         "feriado": 1,
         "data": "01/01/2019",
         "_deepnote_index_column": 121
        },
        {
         "feriado": 1,
         "data": "01/01/2019",
         "_deepnote_index_column": 122
        },
        {
         "feriado": 1,
         "data": "01/01/2019",
         "_deepnote_index_column": 123
        },
        {
         "feriado": 1,
         "data": "01/01/2019",
         "_deepnote_index_column": 124
        },
        {
         "feriado": 1,
         "data": "01/01/2019",
         "_deepnote_index_column": 125
        },
        {
         "feriado": 1,
         "data": "01/01/2019",
         "_deepnote_index_column": 126
        },
        {
         "feriado": 1,
         "data": "01/01/2019",
         "_deepnote_index_column": 127
        },
        {
         "feriado": 1,
         "data": "01/01/2019",
         "_deepnote_index_column": 128
        },
        {
         "feriado": 1,
         "data": "01/01/2019",
         "_deepnote_index_column": 129
        },
        {
         "feriado": 1,
         "data": "01/01/2019",
         "_deepnote_index_column": 130
        },
        {
         "feriado": 1,
         "data": "01/01/2019",
         "_deepnote_index_column": 131
        },
        {
         "feriado": 1,
         "data": "01/01/2019",
         "_deepnote_index_column": 132
        },
        {
         "feriado": 1,
         "data": "01/01/2019",
         "_deepnote_index_column": 133
        },
        {
         "feriado": 1,
         "data": "01/01/2019",
         "_deepnote_index_column": 134
        },
        {
         "feriado": 1,
         "data": "01/01/2019",
         "_deepnote_index_column": 135
        },
        {
         "feriado": 1,
         "data": "01/01/2019",
         "_deepnote_index_column": 136
        },
        {
         "feriado": 1,
         "data": "01/01/2019",
         "_deepnote_index_column": 137
        },
        {
         "feriado": 1,
         "data": "01/01/2019",
         "_deepnote_index_column": 138
        },
        {
         "feriado": 1,
         "data": "01/01/2019",
         "_deepnote_index_column": 139
        },
        {
         "feriado": 1,
         "data": "01/01/2019",
         "_deepnote_index_column": 140
        },
        {
         "feriado": 1,
         "data": "01/01/2019",
         "_deepnote_index_column": 141
        },
        {
         "feriado": 1,
         "data": "01/01/2019",
         "_deepnote_index_column": 142
        },
        {
         "feriado": 1,
         "data": "01/01/2019",
         "_deepnote_index_column": 143
        },
        {
         "feriado": 1,
         "data": "01/01/2019",
         "_deepnote_index_column": 144
        },
        {
         "feriado": 1,
         "data": "01/01/2019",
         "_deepnote_index_column": 145
        },
        {
         "feriado": 1,
         "data": "01/01/2019",
         "_deepnote_index_column": 146
        },
        {
         "feriado": 1,
         "data": "01/01/2019",
         "_deepnote_index_column": 147
        },
        {
         "feriado": 1,
         "data": "01/01/2019",
         "_deepnote_index_column": 148
        },
        {
         "feriado": 1,
         "data": "01/01/2019",
         "_deepnote_index_column": 149
        },
        {
         "feriado": 1,
         "data": "01/01/2019",
         "_deepnote_index_column": 150
        },
        {
         "feriado": 1,
         "data": "01/01/2019",
         "_deepnote_index_column": 151
        },
        {
         "feriado": 1,
         "data": "01/01/2019",
         "_deepnote_index_column": 152
        },
        {
         "feriado": 1,
         "data": "01/01/2019",
         "_deepnote_index_column": 153
        },
        {
         "feriado": 1,
         "data": "01/01/2019",
         "_deepnote_index_column": 154
        },
        {
         "feriado": 1,
         "data": "01/01/2019",
         "_deepnote_index_column": 155
        },
        {
         "feriado": 1,
         "data": "01/01/2019",
         "_deepnote_index_column": 156
        },
        {
         "feriado": 1,
         "data": "01/01/2019",
         "_deepnote_index_column": 157
        },
        {
         "feriado": 1,
         "data": "01/01/2019",
         "_deepnote_index_column": 158
        },
        {
         "feriado": 1,
         "data": "01/01/2019",
         "_deepnote_index_column": 159
        },
        {
         "feriado": 1,
         "data": "01/01/2019",
         "_deepnote_index_column": 160
        },
        {
         "feriado": 1,
         "data": "01/01/2019",
         "_deepnote_index_column": 161
        },
        {
         "feriado": 1,
         "data": "01/01/2019",
         "_deepnote_index_column": 162
        },
        {
         "feriado": 1,
         "data": "01/01/2019",
         "_deepnote_index_column": 163
        },
        {
         "feriado": 1,
         "data": "01/01/2019",
         "_deepnote_index_column": 164
        },
        {
         "feriado": 1,
         "data": "01/01/2019",
         "_deepnote_index_column": 165
        },
        {
         "feriado": 1,
         "data": "01/01/2019",
         "_deepnote_index_column": 166
        },
        {
         "feriado": 1,
         "data": "01/01/2019",
         "_deepnote_index_column": 167
        },
        {
         "feriado": 1,
         "data": "01/01/2019",
         "_deepnote_index_column": 168
        },
        {
         "feriado": 1,
         "data": "01/01/2019",
         "_deepnote_index_column": 169
        },
        {
         "feriado": 1,
         "data": "01/01/2019",
         "_deepnote_index_column": 170
        },
        {
         "feriado": 1,
         "data": "01/01/2019",
         "_deepnote_index_column": 171
        },
        {
         "feriado": 1,
         "data": "01/01/2019",
         "_deepnote_index_column": 172
        },
        {
         "feriado": 1,
         "data": "01/01/2019",
         "_deepnote_index_column": 173
        },
        {
         "feriado": 1,
         "data": "01/01/2019",
         "_deepnote_index_column": 174
        },
        {
         "feriado": 1,
         "data": "01/01/2019",
         "_deepnote_index_column": 175
        },
        {
         "feriado": 1,
         "data": "01/01/2019",
         "_deepnote_index_column": 176
        },
        {
         "feriado": 1,
         "data": "01/01/2019",
         "_deepnote_index_column": 177
        },
        {
         "feriado": 1,
         "data": "01/01/2019",
         "_deepnote_index_column": 178
        },
        {
         "feriado": 1,
         "data": "01/01/2019",
         "_deepnote_index_column": 179
        },
        {
         "feriado": 1,
         "data": "01/01/2019",
         "_deepnote_index_column": 180
        },
        {
         "feriado": 1,
         "data": "01/01/2019",
         "_deepnote_index_column": 181
        },
        {
         "feriado": 1,
         "data": "01/01/2019",
         "_deepnote_index_column": 182
        },
        {
         "feriado": 0,
         "data": "02/01/2019",
         "_deepnote_index_column": 183
        },
        {
         "feriado": 1,
         "data": "01/01/2019",
         "_deepnote_index_column": 184
        },
        {
         "feriado": 1,
         "data": "01/01/2019",
         "_deepnote_index_column": 185
        },
        {
         "feriado": 0,
         "data": "02/01/2019",
         "_deepnote_index_column": 186
        },
        {
         "feriado": 1,
         "data": "01/01/2019",
         "_deepnote_index_column": 187
        },
        {
         "feriado": 0,
         "data": "02/01/2019",
         "_deepnote_index_column": 188
        },
        {
         "feriado": 0,
         "data": "02/01/2019",
         "_deepnote_index_column": 189
        },
        {
         "feriado": 1,
         "data": "01/01/2019",
         "_deepnote_index_column": 190
        },
        {
         "feriado": 1,
         "data": "01/01/2019",
         "_deepnote_index_column": 191
        },
        {
         "feriado": 0,
         "data": "02/01/2019",
         "_deepnote_index_column": 192
        },
        {
         "feriado": 1,
         "data": "01/01/2019",
         "_deepnote_index_column": 193
        },
        {
         "feriado": 1,
         "data": "01/01/2019",
         "_deepnote_index_column": 194
        },
        {
         "feriado": 0,
         "data": "02/01/2019",
         "_deepnote_index_column": 195
        },
        {
         "feriado": 0,
         "data": "02/01/2019",
         "_deepnote_index_column": 196
        },
        {
         "feriado": 0,
         "data": "02/01/2019",
         "_deepnote_index_column": 197
        },
        {
         "feriado": 0,
         "data": "02/01/2019",
         "_deepnote_index_column": 198
        },
        {
         "feriado": 0,
         "data": "02/01/2019",
         "_deepnote_index_column": 199
        },
        {
         "feriado": 0,
         "data": "02/01/2019",
         "_deepnote_index_column": 200
        },
        {
         "feriado": 1,
         "data": "01/01/2019",
         "_deepnote_index_column": 201
        },
        {
         "feriado": 0,
         "data": "02/01/2019",
         "_deepnote_index_column": 202
        },
        {
         "feriado": 0,
         "data": "02/01/2019",
         "_deepnote_index_column": 203
        },
        {
         "feriado": 0,
         "data": "02/01/2019",
         "_deepnote_index_column": 204
        },
        {
         "feriado": 0,
         "data": "02/01/2019",
         "_deepnote_index_column": 205
        },
        {
         "feriado": 1,
         "data": "01/01/2019",
         "_deepnote_index_column": 206
        },
        {
         "feriado": 0,
         "data": "02/01/2019",
         "_deepnote_index_column": 207
        },
        {
         "feriado": 0,
         "data": "02/01/2019",
         "_deepnote_index_column": 208
        },
        {
         "feriado": 0,
         "data": "02/01/2019",
         "_deepnote_index_column": 209
        },
        {
         "feriado": 0,
         "data": "02/01/2019",
         "_deepnote_index_column": 210
        },
        {
         "feriado": 0,
         "data": "02/01/2019",
         "_deepnote_index_column": 211
        },
        {
         "feriado": 0,
         "data": "02/01/2019",
         "_deepnote_index_column": 212
        },
        {
         "feriado": 0,
         "data": "02/01/2019",
         "_deepnote_index_column": 213
        },
        {
         "feriado": 0,
         "data": "02/01/2019",
         "_deepnote_index_column": 214
        },
        {
         "feriado": 0,
         "data": "02/01/2019",
         "_deepnote_index_column": 215
        },
        {
         "feriado": 0,
         "data": "02/01/2019",
         "_deepnote_index_column": 216
        },
        {
         "feriado": 0,
         "data": "02/01/2019",
         "_deepnote_index_column": 217
        },
        {
         "feriado": 1,
         "data": "01/01/2019",
         "_deepnote_index_column": 218
        },
        {
         "feriado": 0,
         "data": "02/01/2019",
         "_deepnote_index_column": 219
        },
        {
         "feriado": 0,
         "data": "02/01/2019",
         "_deepnote_index_column": 220
        },
        {
         "feriado": 0,
         "data": "02/01/2019",
         "_deepnote_index_column": 221
        },
        {
         "feriado": 0,
         "data": "02/01/2019",
         "_deepnote_index_column": 222
        },
        {
         "feriado": 0,
         "data": "02/01/2019",
         "_deepnote_index_column": 223
        },
        {
         "feriado": 0,
         "data": "02/01/2019",
         "_deepnote_index_column": 224
        },
        {
         "feriado": 0,
         "data": "02/01/2019",
         "_deepnote_index_column": 225
        },
        {
         "feriado": 0,
         "data": "02/01/2019",
         "_deepnote_index_column": 226
        },
        {
         "feriado": 1,
         "data": "01/01/2019",
         "_deepnote_index_column": 227
        },
        {
         "feriado": 0,
         "data": "02/01/2019",
         "_deepnote_index_column": 228
        },
        {
         "feriado": 0,
         "data": "02/01/2019",
         "_deepnote_index_column": 229
        },
        {
         "feriado": 0,
         "data": "02/01/2019",
         "_deepnote_index_column": 230
        },
        {
         "feriado": 0,
         "data": "02/01/2019",
         "_deepnote_index_column": 231
        },
        {
         "feriado": 0,
         "data": "02/01/2019",
         "_deepnote_index_column": 232
        },
        {
         "feriado": 0,
         "data": "02/01/2019",
         "_deepnote_index_column": 233
        },
        {
         "feriado": 0,
         "data": "02/01/2019",
         "_deepnote_index_column": 234
        },
        {
         "feriado": 0,
         "data": "02/01/2019",
         "_deepnote_index_column": 235
        },
        {
         "feriado": 0,
         "data": "02/01/2019",
         "_deepnote_index_column": 236
        },
        {
         "feriado": 0,
         "data": "02/01/2019",
         "_deepnote_index_column": 237
        },
        {
         "feriado": 0,
         "data": "02/01/2019",
         "_deepnote_index_column": 238
        },
        {
         "feriado": 0,
         "data": "02/01/2019",
         "_deepnote_index_column": 239
        },
        {
         "feriado": 0,
         "data": "02/01/2019",
         "_deepnote_index_column": 240
        },
        {
         "feriado": 0,
         "data": "02/01/2019",
         "_deepnote_index_column": 241
        },
        {
         "feriado": 0,
         "data": "02/01/2019",
         "_deepnote_index_column": 242
        },
        {
         "feriado": 0,
         "data": "02/01/2019",
         "_deepnote_index_column": 243
        },
        {
         "feriado": 0,
         "data": "02/01/2019",
         "_deepnote_index_column": 244
        },
        {
         "feriado": 0,
         "data": "02/01/2019",
         "_deepnote_index_column": 245
        },
        {
         "feriado": 0,
         "data": "02/01/2019",
         "_deepnote_index_column": 246
        },
        {
         "feriado": 0,
         "data": "02/01/2019",
         "_deepnote_index_column": 247
        },
        {
         "feriado": 0,
         "data": "02/01/2019",
         "_deepnote_index_column": 248
        },
        {
         "feriado": 0,
         "data": "02/01/2019",
         "_deepnote_index_column": 249
        }
       ],
       "rows_bottom": [
        {
         "feriado": 0,
         "data": "30/06/2021",
         "_deepnote_index_column": 320503
        },
        {
         "feriado": 0,
         "data": "20/04/2021",
         "_deepnote_index_column": 320504
        },
        {
         "feriado": 0,
         "data": "20/06/2021",
         "_deepnote_index_column": 320505
        },
        {
         "feriado": 0,
         "data": "16/05/2021",
         "_deepnote_index_column": 320506
        },
        {
         "feriado": 0,
         "data": "07/03/2021",
         "_deepnote_index_column": 320507
        },
        {
         "feriado": 0,
         "data": "18/06/2021",
         "_deepnote_index_column": 320508
        },
        {
         "feriado": 0,
         "data": "30/06/2021",
         "_deepnote_index_column": 320509
        },
        {
         "feriado": 0,
         "data": "04/06/2021",
         "_deepnote_index_column": 320510
        },
        {
         "feriado": 0,
         "data": "30/05/2021",
         "_deepnote_index_column": 320511
        },
        {
         "feriado": 0,
         "data": "16/05/2021",
         "_deepnote_index_column": 320512
        },
        {
         "feriado": 0,
         "data": "14/06/2021",
         "_deepnote_index_column": 320513
        },
        {
         "feriado": 0,
         "data": "30/06/2021",
         "_deepnote_index_column": 320514
        },
        {
         "feriado": 0,
         "data": "26/06/2021",
         "_deepnote_index_column": 320515
        },
        {
         "feriado": 0,
         "data": "11/06/2021",
         "_deepnote_index_column": 320516
        },
        {
         "feriado": 0,
         "data": "11/06/2021",
         "_deepnote_index_column": 320517
        },
        {
         "feriado": 0,
         "data": "26/05/2021",
         "_deepnote_index_column": 320518
        },
        {
         "feriado": 0,
         "data": "03/06/2021",
         "_deepnote_index_column": 320519
        },
        {
         "feriado": 0,
         "data": "11/06/2021",
         "_deepnote_index_column": 320520
        },
        {
         "feriado": 0,
         "data": "15/06/2021",
         "_deepnote_index_column": 320521
        },
        {
         "feriado": 0,
         "data": "28/06/2021",
         "_deepnote_index_column": 320522
        },
        {
         "feriado": 0,
         "data": "19/05/2021",
         "_deepnote_index_column": 320523
        },
        {
         "feriado": 0,
         "data": "24/06/2021",
         "_deepnote_index_column": 320524
        },
        {
         "feriado": 0,
         "data": "19/05/2021",
         "_deepnote_index_column": 320525
        },
        {
         "feriado": 0,
         "data": "20/06/2021",
         "_deepnote_index_column": 320526
        },
        {
         "feriado": 0,
         "data": "28/06/2021",
         "_deepnote_index_column": 320527
        },
        {
         "feriado": 0,
         "data": "24/03/2021",
         "_deepnote_index_column": 320528
        },
        {
         "feriado": 0,
         "data": "28/06/2021",
         "_deepnote_index_column": 320529
        },
        {
         "feriado": 0,
         "data": "16/06/2021",
         "_deepnote_index_column": 320530
        },
        {
         "feriado": 0,
         "data": "05/04/2021",
         "_deepnote_index_column": 320531
        },
        {
         "feriado": 0,
         "data": "24/06/2021",
         "_deepnote_index_column": 320532
        },
        {
         "feriado": 0,
         "data": "19/05/2021",
         "_deepnote_index_column": 320533
        },
        {
         "feriado": 0,
         "data": "30/05/2021",
         "_deepnote_index_column": 320534
        },
        {
         "feriado": 0,
         "data": "19/01/2021",
         "_deepnote_index_column": 320535
        },
        {
         "feriado": 0,
         "data": "25/06/2021",
         "_deepnote_index_column": 320536
        },
        {
         "feriado": 0,
         "data": "25/06/2021",
         "_deepnote_index_column": 320537
        },
        {
         "feriado": 0,
         "data": "08/05/2021",
         "_deepnote_index_column": 320538
        },
        {
         "feriado": 0,
         "data": "29/06/2021",
         "_deepnote_index_column": 320539
        },
        {
         "feriado": 0,
         "data": "09/05/2021",
         "_deepnote_index_column": 320540
        },
        {
         "feriado": 0,
         "data": "29/06/2021",
         "_deepnote_index_column": 320541
        },
        {
         "feriado": 0,
         "data": "04/06/2021",
         "_deepnote_index_column": 320542
        },
        {
         "feriado": 0,
         "data": "25/06/2021",
         "_deepnote_index_column": 320543
        },
        {
         "feriado": 0,
         "data": "05/05/2021",
         "_deepnote_index_column": 320544
        },
        {
         "feriado": 0,
         "data": "24/05/2021",
         "_deepnote_index_column": 320545
        },
        {
         "feriado": 0,
         "data": "16/05/2021",
         "_deepnote_index_column": 320546
        },
        {
         "feriado": 0,
         "data": "25/04/2021",
         "_deepnote_index_column": 320547
        },
        {
         "feriado": 0,
         "data": "29/06/2021",
         "_deepnote_index_column": 320548
        },
        {
         "feriado": 0,
         "data": "29/05/2021",
         "_deepnote_index_column": 320549
        },
        {
         "feriado": 0,
         "data": "23/05/2021",
         "_deepnote_index_column": 320550
        },
        {
         "feriado": 0,
         "data": "26/06/2021",
         "_deepnote_index_column": 320551
        },
        {
         "feriado": 0,
         "data": "14/05/2021",
         "_deepnote_index_column": 320552
        },
        {
         "feriado": 0,
         "data": "20/06/2021",
         "_deepnote_index_column": 320553
        },
        {
         "feriado": 0,
         "data": "05/06/2021",
         "_deepnote_index_column": 320554
        },
        {
         "feriado": 0,
         "data": "07/06/2021",
         "_deepnote_index_column": 320555
        },
        {
         "feriado": 0,
         "data": "27/05/2021",
         "_deepnote_index_column": 320556
        },
        {
         "feriado": 0,
         "data": "09/05/2021",
         "_deepnote_index_column": 320557
        },
        {
         "feriado": 0,
         "data": "30/06/2021",
         "_deepnote_index_column": 320558
        },
        {
         "feriado": 0,
         "data": "25/06/2021",
         "_deepnote_index_column": 320559
        },
        {
         "feriado": 0,
         "data": "20/06/2021",
         "_deepnote_index_column": 320560
        },
        {
         "feriado": 0,
         "data": "16/05/2021",
         "_deepnote_index_column": 320561
        },
        {
         "feriado": 0,
         "data": "16/05/2021",
         "_deepnote_index_column": 320562
        },
        {
         "feriado": 0,
         "data": "27/06/2021",
         "_deepnote_index_column": 320563
        },
        {
         "feriado": 0,
         "data": "23/06/2021",
         "_deepnote_index_column": 320564
        },
        {
         "feriado": 0,
         "data": "27/06/2021",
         "_deepnote_index_column": 320565
        },
        {
         "feriado": 0,
         "data": "17/06/2021",
         "_deepnote_index_column": 320566
        },
        {
         "feriado": 0,
         "data": "12/04/2021",
         "_deepnote_index_column": 320567
        },
        {
         "feriado": 0,
         "data": "05/06/2021",
         "_deepnote_index_column": 320568
        },
        {
         "feriado": 0,
         "data": "14/05/2021",
         "_deepnote_index_column": 320569
        },
        {
         "feriado": 0,
         "data": "09/04/2021",
         "_deepnote_index_column": 320570
        },
        {
         "feriado": 0,
         "data": "21/06/2021",
         "_deepnote_index_column": 320571
        },
        {
         "feriado": 0,
         "data": "26/05/2021",
         "_deepnote_index_column": 320572
        },
        {
         "feriado": 0,
         "data": "21/06/2021",
         "_deepnote_index_column": 320573
        },
        {
         "feriado": 0,
         "data": "30/05/2021",
         "_deepnote_index_column": 320574
        },
        {
         "feriado": 0,
         "data": "27/06/2021",
         "_deepnote_index_column": 320575
        },
        {
         "feriado": 0,
         "data": "17/06/2021",
         "_deepnote_index_column": 320576
        },
        {
         "feriado": 0,
         "data": "18/05/2021",
         "_deepnote_index_column": 320577
        },
        {
         "feriado": 0,
         "data": "11/06/2021",
         "_deepnote_index_column": 320578
        },
        {
         "feriado": 0,
         "data": "03/06/2021",
         "_deepnote_index_column": 320579
        },
        {
         "feriado": 0,
         "data": "24/04/2021",
         "_deepnote_index_column": 320580
        },
        {
         "feriado": 0,
         "data": "23/05/2021",
         "_deepnote_index_column": 320581
        },
        {
         "feriado": 0,
         "data": "22/05/2021",
         "_deepnote_index_column": 320582
        },
        {
         "feriado": 0,
         "data": "25/06/2021",
         "_deepnote_index_column": 320583
        },
        {
         "feriado": 0,
         "data": "12/06/2021",
         "_deepnote_index_column": 320584
        },
        {
         "feriado": 0,
         "data": "15/06/2021",
         "_deepnote_index_column": 320585
        },
        {
         "feriado": 0,
         "data": "26/06/2021",
         "_deepnote_index_column": 320586
        },
        {
         "feriado": 0,
         "data": "19/06/2021",
         "_deepnote_index_column": 320587
        },
        {
         "feriado": 0,
         "data": "26/04/2021",
         "_deepnote_index_column": 320588
        },
        {
         "feriado": 0,
         "data": "14/06/2021",
         "_deepnote_index_column": 320589
        },
        {
         "feriado": 0,
         "data": "30/04/2021",
         "_deepnote_index_column": 320590
        },
        {
         "feriado": 0,
         "data": "28/06/2021",
         "_deepnote_index_column": 320591
        },
        {
         "feriado": 0,
         "data": "28/06/2021",
         "_deepnote_index_column": 320592
        },
        {
         "feriado": 0,
         "data": "09/06/2021",
         "_deepnote_index_column": 320593
        },
        {
         "feriado": 0,
         "data": "13/06/2021",
         "_deepnote_index_column": 320594
        },
        {
         "feriado": 0,
         "data": "24/06/2021",
         "_deepnote_index_column": 320595
        },
        {
         "feriado": 0,
         "data": "27/05/2021",
         "_deepnote_index_column": 320596
        },
        {
         "feriado": 0,
         "data": "05/06/2021",
         "_deepnote_index_column": 320597
        },
        {
         "feriado": 0,
         "data": "16/05/2021",
         "_deepnote_index_column": 320598
        },
        {
         "feriado": 0,
         "data": "29/06/2021",
         "_deepnote_index_column": 320599
        },
        {
         "feriado": 0,
         "data": "05/06/2021",
         "_deepnote_index_column": 320600
        },
        {
         "feriado": 0,
         "data": "29/06/2021",
         "_deepnote_index_column": 320601
        },
        {
         "feriado": 0,
         "data": "07/06/2021",
         "_deepnote_index_column": 320602
        },
        {
         "feriado": 0,
         "data": "06/06/2021",
         "_deepnote_index_column": 320603
        },
        {
         "feriado": 0,
         "data": "21/06/2021",
         "_deepnote_index_column": 320604
        },
        {
         "feriado": 0,
         "data": "04/06/2021",
         "_deepnote_index_column": 320605
        },
        {
         "feriado": 0,
         "data": "26/06/2021",
         "_deepnote_index_column": 320606
        },
        {
         "feriado": 0,
         "data": "21/06/2021",
         "_deepnote_index_column": 320607
        },
        {
         "feriado": 0,
         "data": "22/05/2021",
         "_deepnote_index_column": 320608
        },
        {
         "feriado": 0,
         "data": "11/06/2021",
         "_deepnote_index_column": 320609
        },
        {
         "feriado": 0,
         "data": "31/05/2021",
         "_deepnote_index_column": 320610
        },
        {
         "feriado": 0,
         "data": "15/06/2021",
         "_deepnote_index_column": 320611
        },
        {
         "feriado": 0,
         "data": "12/05/2021",
         "_deepnote_index_column": 320612
        },
        {
         "feriado": 0,
         "data": "13/06/2021",
         "_deepnote_index_column": 320613
        },
        {
         "feriado": 0,
         "data": "20/06/2021",
         "_deepnote_index_column": 320614
        },
        {
         "feriado": 0,
         "data": "29/05/2021",
         "_deepnote_index_column": 320615
        },
        {
         "feriado": 0,
         "data": "26/06/2021",
         "_deepnote_index_column": 320616
        },
        {
         "feriado": 0,
         "data": "18/06/2021",
         "_deepnote_index_column": 320617
        },
        {
         "feriado": 0,
         "data": "06/06/2021",
         "_deepnote_index_column": 320618
        },
        {
         "feriado": 0,
         "data": "24/06/2021",
         "_deepnote_index_column": 320619
        },
        {
         "feriado": 0,
         "data": "04/06/2021",
         "_deepnote_index_column": 320620
        },
        {
         "feriado": 0,
         "data": "02/03/2021",
         "_deepnote_index_column": 320621
        },
        {
         "feriado": 0,
         "data": "18/06/2021",
         "_deepnote_index_column": 320622
        },
        {
         "feriado": 0,
         "data": "10/06/2021",
         "_deepnote_index_column": 320623
        },
        {
         "feriado": 0,
         "data": "18/06/2021",
         "_deepnote_index_column": 320624
        },
        {
         "feriado": 0,
         "data": "07/06/2021",
         "_deepnote_index_column": 320625
        },
        {
         "feriado": 0,
         "data": "23/06/2021",
         "_deepnote_index_column": 320626
        },
        {
         "feriado": 1,
         "data": "04/04/2021",
         "_deepnote_index_column": 320627
        },
        {
         "feriado": 0,
         "data": "22/06/2021",
         "_deepnote_index_column": 320628
        },
        {
         "feriado": 0,
         "data": "07/06/2021",
         "_deepnote_index_column": 320629
        },
        {
         "feriado": 0,
         "data": "20/06/2021",
         "_deepnote_index_column": 320630
        },
        {
         "feriado": 0,
         "data": "27/06/2021",
         "_deepnote_index_column": 320631
        },
        {
         "feriado": 0,
         "data": "14/06/2021",
         "_deepnote_index_column": 320632
        },
        {
         "feriado": 0,
         "data": "30/06/2021",
         "_deepnote_index_column": 320633
        },
        {
         "feriado": 0,
         "data": "20/06/2021",
         "_deepnote_index_column": 320634
        },
        {
         "feriado": 0,
         "data": "16/06/2021",
         "_deepnote_index_column": 320635
        },
        {
         "feriado": 0,
         "data": "22/06/2021",
         "_deepnote_index_column": 320636
        },
        {
         "feriado": 0,
         "data": "24/06/2021",
         "_deepnote_index_column": 320637
        },
        {
         "feriado": 0,
         "data": "12/05/2021",
         "_deepnote_index_column": 320638
        },
        {
         "feriado": 0,
         "data": "25/06/2021",
         "_deepnote_index_column": 320639
        },
        {
         "feriado": 0,
         "data": "28/06/2021",
         "_deepnote_index_column": 320640
        },
        {
         "feriado": 0,
         "data": "24/06/2021",
         "_deepnote_index_column": 320641
        },
        {
         "feriado": 0,
         "data": "09/03/2021",
         "_deepnote_index_column": 320642
        },
        {
         "feriado": 0,
         "data": "09/06/2021",
         "_deepnote_index_column": 320643
        },
        {
         "feriado": 0,
         "data": "19/06/2021",
         "_deepnote_index_column": 320644
        },
        {
         "feriado": 1,
         "data": "16/02/2021",
         "_deepnote_index_column": 320645
        },
        {
         "feriado": 0,
         "data": "13/06/2021",
         "_deepnote_index_column": 320646
        },
        {
         "feriado": 0,
         "data": "24/06/2021",
         "_deepnote_index_column": 320647
        },
        {
         "feriado": 0,
         "data": "12/06/2021",
         "_deepnote_index_column": 320648
        },
        {
         "feriado": 0,
         "data": "20/06/2021",
         "_deepnote_index_column": 320649
        },
        {
         "feriado": 0,
         "data": "28/06/2021",
         "_deepnote_index_column": 320650
        },
        {
         "feriado": 0,
         "data": "25/06/2021",
         "_deepnote_index_column": 320651
        },
        {
         "feriado": 0,
         "data": "30/06/2021",
         "_deepnote_index_column": 320652
        },
        {
         "feriado": 0,
         "data": "04/05/2021",
         "_deepnote_index_column": 320653
        },
        {
         "feriado": 0,
         "data": "29/05/2021",
         "_deepnote_index_column": 320654
        },
        {
         "feriado": 0,
         "data": "23/06/2021",
         "_deepnote_index_column": 320655
        },
        {
         "feriado": 0,
         "data": "25/06/2021",
         "_deepnote_index_column": 320656
        },
        {
         "feriado": 0,
         "data": "05/06/2021",
         "_deepnote_index_column": 320657
        },
        {
         "feriado": 0,
         "data": "05/06/2021",
         "_deepnote_index_column": 320658
        },
        {
         "feriado": 0,
         "data": "29/06/2021",
         "_deepnote_index_column": 320659
        },
        {
         "feriado": 0,
         "data": "28/05/2021",
         "_deepnote_index_column": 320660
        },
        {
         "feriado": 0,
         "data": "29/06/2021",
         "_deepnote_index_column": 320661
        },
        {
         "feriado": 0,
         "data": "02/06/2021",
         "_deepnote_index_column": 320662
        },
        {
         "feriado": 0,
         "data": "13/05/2021",
         "_deepnote_index_column": 320663
        },
        {
         "feriado": 0,
         "data": "22/06/2021",
         "_deepnote_index_column": 320664
        },
        {
         "feriado": 0,
         "data": "25/06/2021",
         "_deepnote_index_column": 320665
        },
        {
         "feriado": 0,
         "data": "04/05/2021",
         "_deepnote_index_column": 320666
        },
        {
         "feriado": 0,
         "data": "06/04/2021",
         "_deepnote_index_column": 320667
        },
        {
         "feriado": 0,
         "data": "15/03/2021",
         "_deepnote_index_column": 320668
        },
        {
         "feriado": 0,
         "data": "15/05/2021",
         "_deepnote_index_column": 320669
        },
        {
         "feriado": 0,
         "data": "08/06/2021",
         "_deepnote_index_column": 320670
        },
        {
         "feriado": 0,
         "data": "08/06/2021",
         "_deepnote_index_column": 320671
        },
        {
         "feriado": 0,
         "data": "18/06/2021",
         "_deepnote_index_column": 320672
        },
        {
         "feriado": 0,
         "data": "23/06/2021",
         "_deepnote_index_column": 320673
        },
        {
         "feriado": 0,
         "data": "16/06/2021",
         "_deepnote_index_column": 320674
        },
        {
         "feriado": 0,
         "data": "30/04/2021",
         "_deepnote_index_column": 320675
        },
        {
         "feriado": 0,
         "data": "19/06/2021",
         "_deepnote_index_column": 320676
        },
        {
         "feriado": 0,
         "data": "05/04/2021",
         "_deepnote_index_column": 320677
        },
        {
         "feriado": 0,
         "data": "03/01/2021",
         "_deepnote_index_column": 320678
        },
        {
         "feriado": 0,
         "data": "24/06/2021",
         "_deepnote_index_column": 320679
        },
        {
         "feriado": 0,
         "data": "13/06/2021",
         "_deepnote_index_column": 320680
        },
        {
         "feriado": 0,
         "data": "24/02/2021",
         "_deepnote_index_column": 320681
        },
        {
         "feriado": 0,
         "data": "31/05/2021",
         "_deepnote_index_column": 320682
        },
        {
         "feriado": 0,
         "data": "05/06/2021",
         "_deepnote_index_column": 320683
        },
        {
         "feriado": 0,
         "data": "15/05/2021",
         "_deepnote_index_column": 320684
        },
        {
         "feriado": 0,
         "data": "13/06/2021",
         "_deepnote_index_column": 320685
        },
        {
         "feriado": 0,
         "data": "08/06/2021",
         "_deepnote_index_column": 320686
        },
        {
         "feriado": 0,
         "data": "02/06/2021",
         "_deepnote_index_column": 320687
        },
        {
         "feriado": 0,
         "data": "22/05/2021",
         "_deepnote_index_column": 320688
        },
        {
         "feriado": 0,
         "data": "21/06/2021",
         "_deepnote_index_column": 320689
        },
        {
         "feriado": 0,
         "data": "07/01/2021",
         "_deepnote_index_column": 320690
        },
        {
         "feriado": 0,
         "data": "06/01/2021",
         "_deepnote_index_column": 320691
        },
        {
         "feriado": 0,
         "data": "30/05/2021",
         "_deepnote_index_column": 320692
        },
        {
         "feriado": 0,
         "data": "05/02/2021",
         "_deepnote_index_column": 320693
        },
        {
         "feriado": 0,
         "data": "06/06/2021",
         "_deepnote_index_column": 320694
        },
        {
         "feriado": 0,
         "data": "01/06/2021",
         "_deepnote_index_column": 320695
        },
        {
         "feriado": 0,
         "data": "14/06/2021",
         "_deepnote_index_column": 320696
        },
        {
         "feriado": 0,
         "data": "18/06/2021",
         "_deepnote_index_column": 320697
        },
        {
         "feriado": 0,
         "data": "23/04/2021",
         "_deepnote_index_column": 320698
        },
        {
         "feriado": 0,
         "data": "02/06/2021",
         "_deepnote_index_column": 320699
        },
        {
         "feriado": 0,
         "data": "19/03/2021",
         "_deepnote_index_column": 320700
        },
        {
         "feriado": 0,
         "data": "20/05/2021",
         "_deepnote_index_column": 320701
        },
        {
         "feriado": 0,
         "data": "03/06/2021",
         "_deepnote_index_column": 320702
        },
        {
         "feriado": 0,
         "data": "03/06/2021",
         "_deepnote_index_column": 320703
        },
        {
         "feriado": 0,
         "data": "10/05/2021",
         "_deepnote_index_column": 320704
        },
        {
         "feriado": 0,
         "data": "19/03/2021",
         "_deepnote_index_column": 320705
        },
        {
         "feriado": 0,
         "data": "18/06/2021",
         "_deepnote_index_column": 320706
        },
        {
         "feriado": 0,
         "data": "12/03/2021",
         "_deepnote_index_column": 320707
        },
        {
         "feriado": 0,
         "data": "12/06/2021",
         "_deepnote_index_column": 320708
        },
        {
         "feriado": 0,
         "data": "23/05/2021",
         "_deepnote_index_column": 320709
        },
        {
         "feriado": 0,
         "data": "08/06/2021",
         "_deepnote_index_column": 320710
        },
        {
         "feriado": 0,
         "data": "20/06/2021",
         "_deepnote_index_column": 320711
        },
        {
         "feriado": 0,
         "data": "25/06/2021",
         "_deepnote_index_column": 320712
        },
        {
         "feriado": 0,
         "data": "31/05/2021",
         "_deepnote_index_column": 320713
        },
        {
         "feriado": 0,
         "data": "19/06/2021",
         "_deepnote_index_column": 320714
        },
        {
         "feriado": 0,
         "data": "12/06/2021",
         "_deepnote_index_column": 320715
        },
        {
         "feriado": 0,
         "data": "28/06/2021",
         "_deepnote_index_column": 320716
        },
        {
         "feriado": 0,
         "data": "29/06/2021",
         "_deepnote_index_column": 320717
        },
        {
         "feriado": 0,
         "data": "21/06/2021",
         "_deepnote_index_column": 320718
        },
        {
         "feriado": 0,
         "data": "01/06/2021",
         "_deepnote_index_column": 320719
        },
        {
         "feriado": 0,
         "data": "13/06/2021",
         "_deepnote_index_column": 320720
        },
        {
         "feriado": 0,
         "data": "13/06/2021",
         "_deepnote_index_column": 320721
        },
        {
         "feriado": 0,
         "data": "23/06/2021",
         "_deepnote_index_column": 320722
        },
        {
         "feriado": 0,
         "data": "20/06/2021",
         "_deepnote_index_column": 320723
        },
        {
         "feriado": 0,
         "data": "18/06/2021",
         "_deepnote_index_column": 320724
        },
        {
         "feriado": 0,
         "data": "31/05/2021",
         "_deepnote_index_column": 320725
        },
        {
         "feriado": 0,
         "data": "17/03/2021",
         "_deepnote_index_column": 320726
        },
        {
         "feriado": 0,
         "data": "22/06/2021",
         "_deepnote_index_column": 320727
        },
        {
         "feriado": 0,
         "data": "18/06/2021",
         "_deepnote_index_column": 320728
        },
        {
         "feriado": 0,
         "data": "25/04/2021",
         "_deepnote_index_column": 320729
        },
        {
         "feriado": 0,
         "data": "29/05/2021",
         "_deepnote_index_column": 320730
        },
        {
         "feriado": 0,
         "data": "29/05/2021",
         "_deepnote_index_column": 320731
        },
        {
         "feriado": 0,
         "data": "10/05/2021",
         "_deepnote_index_column": 320732
        },
        {
         "feriado": 0,
         "data": "25/05/2021",
         "_deepnote_index_column": 320733
        },
        {
         "feriado": 0,
         "data": "06/04/2021",
         "_deepnote_index_column": 320734
        },
        {
         "feriado": 0,
         "data": "01/06/2021",
         "_deepnote_index_column": 320735
        },
        {
         "feriado": 0,
         "data": "08/06/2021",
         "_deepnote_index_column": 320736
        },
        {
         "feriado": 0,
         "data": "07/06/2021",
         "_deepnote_index_column": 320737
        },
        {
         "feriado": 0,
         "data": "12/05/2021",
         "_deepnote_index_column": 320738
        },
        {
         "feriado": 0,
         "data": "30/06/2021",
         "_deepnote_index_column": 320739
        },
        {
         "feriado": 0,
         "data": "30/06/2021",
         "_deepnote_index_column": 320740
        },
        {
         "feriado": 0,
         "data": "08/06/2021",
         "_deepnote_index_column": 320741
        },
        {
         "feriado": 0,
         "data": "20/06/2021",
         "_deepnote_index_column": 320742
        },
        {
         "feriado": 0,
         "data": "24/06/2021",
         "_deepnote_index_column": 320743
        },
        {
         "feriado": 0,
         "data": "25/01/2021",
         "_deepnote_index_column": 320744
        },
        {
         "feriado": 0,
         "data": "27/05/2021",
         "_deepnote_index_column": 320745
        },
        {
         "feriado": 0,
         "data": "26/05/2021",
         "_deepnote_index_column": 320746
        },
        {
         "feriado": 0,
         "data": "15/02/2021",
         "_deepnote_index_column": 320747
        },
        {
         "feriado": 0,
         "data": "16/06/2021",
         "_deepnote_index_column": 320748
        },
        {
         "feriado": 0,
         "data": "28/06/2021",
         "_deepnote_index_column": 320749
        },
        {
         "feriado": 0,
         "data": "13/06/2021",
         "_deepnote_index_column": 320750
        },
        {
         "feriado": 0,
         "data": "02/06/2021",
         "_deepnote_index_column": 320751
        },
        {
         "feriado": 1,
         "data": "01/01/2021",
         "_deepnote_index_column": 320752
        }
       ]
      },
      "text/plain": "        feriado        data\n0             1  01/01/2019\n1             1  01/01/2019\n2             1  01/01/2019\n3             1  01/01/2019\n4             1  01/01/2019\n...         ...         ...\n320748        0  16/06/2021\n320749        0  28/06/2021\n320750        0  13/06/2021\n320751        0  02/06/2021\n320752        1  01/01/2021\n\n[320156 rows x 2 columns]",
      "text/html": "<div>\n<style scoped>\n    .dataframe tbody tr th:only-of-type {\n        vertical-align: middle;\n    }\n\n    .dataframe tbody tr th {\n        vertical-align: top;\n    }\n\n    .dataframe thead th {\n        text-align: right;\n    }\n</style>\n<table border=\"1\" class=\"dataframe\">\n  <thead>\n    <tr style=\"text-align: right;\">\n      <th></th>\n      <th>feriado</th>\n      <th>data</th>\n    </tr>\n  </thead>\n  <tbody>\n    <tr>\n      <th>0</th>\n      <td>1</td>\n      <td>01/01/2019</td>\n    </tr>\n    <tr>\n      <th>1</th>\n      <td>1</td>\n      <td>01/01/2019</td>\n    </tr>\n    <tr>\n      <th>2</th>\n      <td>1</td>\n      <td>01/01/2019</td>\n    </tr>\n    <tr>\n      <th>3</th>\n      <td>1</td>\n      <td>01/01/2019</td>\n    </tr>\n    <tr>\n      <th>4</th>\n      <td>1</td>\n      <td>01/01/2019</td>\n    </tr>\n    <tr>\n      <th>...</th>\n      <td>...</td>\n      <td>...</td>\n    </tr>\n    <tr>\n      <th>320748</th>\n      <td>0</td>\n      <td>16/06/2021</td>\n    </tr>\n    <tr>\n      <th>320749</th>\n      <td>0</td>\n      <td>28/06/2021</td>\n    </tr>\n    <tr>\n      <th>320750</th>\n      <td>0</td>\n      <td>13/06/2021</td>\n    </tr>\n    <tr>\n      <th>320751</th>\n      <td>0</td>\n      <td>02/06/2021</td>\n    </tr>\n    <tr>\n      <th>320752</th>\n      <td>1</td>\n      <td>01/01/2021</td>\n    </tr>\n  </tbody>\n</table>\n<p>320156 rows × 2 columns</p>\n</div>"
     },
     "metadata": {}
    }
   ]
  },
  {
   "cell_type": "code",
   "metadata": {
    "tags": [],
    "cell_id": "00016-4a34e8ea-7759-4f83-9c35-40e31dbba23b",
    "deepnote_to_be_reexecuted": false,
    "source_hash": "6b2cd76f",
    "execution_start": 1634302734135,
    "execution_millis": 2799,
    "deepnote_cell_type": "code"
   },
   "source": "from datetime import datetime\n\nocorrencias['ano'] = [datetime.strptime(data, '%d/%m/%Y').year for data in ocorrencias['data']]\nocorrencias[['data', 'ano','horario']]",
   "execution_count": 15,
   "outputs": [
    {
     "output_type": "execute_result",
     "execution_count": 15,
     "data": {
      "application/vnd.deepnote.dataframe.v2+json": {
       "row_count": 320156,
       "column_count": 3,
       "columns": [
        {
         "name": "data",
         "dtype": "object"
        },
        {
         "name": "ano",
         "dtype": "int64"
        },
        {
         "name": "horario",
         "dtype": "object"
        },
        {
         "name": "_deepnote_index_column",
         "dtype": "int64"
        }
       ],
       "rows_top": [
        {
         "data": "01/01/2019",
         "ano": 2019,
         "horario": "01:30:00",
         "_deepnote_index_column": 0
        },
        {
         "data": "01/01/2019",
         "ano": 2019,
         "horario": "01:30:00",
         "_deepnote_index_column": 1
        },
        {
         "data": "01/01/2019",
         "ano": 2019,
         "horario": "00:45:00",
         "_deepnote_index_column": 2
        },
        {
         "data": "01/01/2019",
         "ano": 2019,
         "horario": "00:00:00",
         "_deepnote_index_column": 3
        },
        {
         "data": "01/01/2019",
         "ano": 2019,
         "horario": "01:00:00",
         "_deepnote_index_column": 4
        },
        {
         "data": "01/01/2019",
         "ano": 2019,
         "horario": "01:50:00",
         "_deepnote_index_column": 5
        },
        {
         "data": "01/01/2019",
         "ano": 2019,
         "horario": "01:30:00",
         "_deepnote_index_column": 6
        },
        {
         "data": "01/01/2019",
         "ano": 2019,
         "horario": "00:50:00",
         "_deepnote_index_column": 7
        },
        {
         "data": "01/01/2019",
         "ano": 2019,
         "horario": "02:25:00",
         "_deepnote_index_column": 8
        },
        {
         "data": "01/01/2019",
         "ano": 2019,
         "horario": "02:15:00",
         "_deepnote_index_column": 9
        },
        {
         "data": "01/01/2019",
         "ano": 2019,
         "horario": "02:00:00",
         "_deepnote_index_column": 10
        },
        {
         "data": "01/01/2019",
         "ano": 2019,
         "horario": "02:10:00",
         "_deepnote_index_column": 11
        },
        {
         "data": "01/01/2019",
         "ano": 2019,
         "horario": "02:30:00",
         "_deepnote_index_column": 12
        },
        {
         "data": "01/01/2019",
         "ano": 2019,
         "horario": "03:05:00",
         "_deepnote_index_column": 13
        },
        {
         "data": "01/01/2019",
         "ano": 2019,
         "horario": "03:50:00",
         "_deepnote_index_column": 14
        },
        {
         "data": "01/01/2019",
         "ano": 2019,
         "horario": "02:40:00",
         "_deepnote_index_column": 15
        },
        {
         "data": "01/01/2019",
         "ano": 2019,
         "horario": "03:00:00",
         "_deepnote_index_column": 16
        },
        {
         "data": "01/01/2019",
         "ano": 2019,
         "horario": "03:30:00",
         "_deepnote_index_column": 17
        },
        {
         "data": "01/01/2019",
         "ano": 2019,
         "horario": "04:00:00",
         "_deepnote_index_column": 18
        },
        {
         "data": "01/01/2019",
         "ano": 2019,
         "horario": "04:00:00",
         "_deepnote_index_column": 19
        },
        {
         "data": "01/01/2019",
         "ano": 2019,
         "horario": "03:50:00",
         "_deepnote_index_column": 20
        },
        {
         "data": "01/01/2019",
         "ano": 2019,
         "horario": "04:40:00",
         "_deepnote_index_column": 21
        },
        {
         "data": "01/01/2019",
         "ano": 2019,
         "horario": "04:50:00",
         "_deepnote_index_column": 22
        },
        {
         "data": "01/01/2019",
         "ano": 2019,
         "horario": "06:15:00",
         "_deepnote_index_column": 23
        },
        {
         "data": "01/01/2019",
         "ano": 2019,
         "horario": "04:50:00",
         "_deepnote_index_column": 24
        },
        {
         "data": "01/01/2019",
         "ano": 2019,
         "horario": "06:00:00",
         "_deepnote_index_column": 25
        },
        {
         "data": "01/01/2019",
         "ano": 2019,
         "horario": "07:00:00",
         "_deepnote_index_column": 26
        },
        {
         "data": "01/01/2019",
         "ano": 2019,
         "horario": "03:00:00",
         "_deepnote_index_column": 27
        },
        {
         "data": "01/01/2019",
         "ano": 2019,
         "horario": "06:30:00",
         "_deepnote_index_column": 28
        },
        {
         "data": "01/01/2019",
         "ano": 2019,
         "horario": "04:20:00",
         "_deepnote_index_column": 29
        },
        {
         "data": "01/01/2019",
         "ano": 2019,
         "horario": "07:00:00",
         "_deepnote_index_column": 30
        },
        {
         "data": "01/01/2019",
         "ano": 2019,
         "horario": "08:05:00",
         "_deepnote_index_column": 31
        },
        {
         "data": "01/01/2019",
         "ano": 2019,
         "horario": "00:20:00",
         "_deepnote_index_column": 32
        },
        {
         "data": "01/01/2019",
         "ano": 2019,
         "horario": "03:50:00",
         "_deepnote_index_column": 33
        },
        {
         "data": "01/01/2019",
         "ano": 2019,
         "horario": "08:20:00",
         "_deepnote_index_column": 34
        },
        {
         "data": "01/01/2019",
         "ano": 2019,
         "horario": "04:00:00",
         "_deepnote_index_column": 35
        },
        {
         "data": "01/01/2019",
         "ano": 2019,
         "horario": "07:45:00",
         "_deepnote_index_column": 36
        },
        {
         "data": "01/01/2019",
         "ano": 2019,
         "horario": "07:20:00",
         "_deepnote_index_column": 37
        },
        {
         "data": "01/01/2019",
         "ano": 2019,
         "horario": "06:00:00",
         "_deepnote_index_column": 38
        },
        {
         "data": "01/01/2019",
         "ano": 2019,
         "horario": "06:15:00",
         "_deepnote_index_column": 39
        },
        {
         "data": "01/01/2019",
         "ano": 2019,
         "horario": "08:50:00",
         "_deepnote_index_column": 40
        },
        {
         "data": "01/01/2019",
         "ano": 2019,
         "horario": "09:40:00",
         "_deepnote_index_column": 41
        },
        {
         "data": "01/01/2019",
         "ano": 2019,
         "horario": "05:00:00",
         "_deepnote_index_column": 42
        },
        {
         "data": "01/01/2019",
         "ano": 2019,
         "horario": "09:30:00",
         "_deepnote_index_column": 43
        },
        {
         "data": "01/01/2019",
         "ano": 2019,
         "horario": "09:28:00",
         "_deepnote_index_column": 44
        },
        {
         "data": "01/01/2019",
         "ano": 2019,
         "horario": "07:30:00",
         "_deepnote_index_column": 45
        },
        {
         "data": "01/01/2019",
         "ano": 2019,
         "horario": "10:00:00",
         "_deepnote_index_column": 46
        },
        {
         "data": "01/01/2019",
         "ano": 2019,
         "horario": "04:15:00",
         "_deepnote_index_column": 47
        },
        {
         "data": "01/01/2019",
         "ano": 2019,
         "horario": "10:15:00",
         "_deepnote_index_column": 48
        },
        {
         "data": "01/01/2019",
         "ano": 2019,
         "horario": "10:00:00",
         "_deepnote_index_column": 49
        },
        {
         "data": "01/01/2019",
         "ano": 2019,
         "horario": "05:30:00",
         "_deepnote_index_column": 50
        },
        {
         "data": "01/01/2019",
         "ano": 2019,
         "horario": "10:00:00",
         "_deepnote_index_column": 51
        },
        {
         "data": "01/01/2019",
         "ano": 2019,
         "horario": "11:20:00",
         "_deepnote_index_column": 52
        },
        {
         "data": "01/01/2019",
         "ano": 2019,
         "horario": "09:00:00",
         "_deepnote_index_column": 53
        },
        {
         "data": "01/01/2019",
         "ano": 2019,
         "horario": "11:00:00",
         "_deepnote_index_column": 54
        },
        {
         "data": "01/01/2019",
         "ano": 2019,
         "horario": "11:50:00",
         "_deepnote_index_column": 55
        },
        {
         "data": "01/01/2019",
         "ano": 2019,
         "horario": "11:25:00",
         "_deepnote_index_column": 56
        },
        {
         "data": "01/01/2019",
         "ano": 2019,
         "horario": "11:45:00",
         "_deepnote_index_column": 57
        },
        {
         "data": "01/01/2019",
         "ano": 2019,
         "horario": "10:45:00",
         "_deepnote_index_column": 58
        },
        {
         "data": "01/01/2019",
         "ano": 2019,
         "horario": "12:10:00",
         "_deepnote_index_column": 59
        },
        {
         "data": "01/01/2019",
         "ano": 2019,
         "horario": "05:30:00",
         "_deepnote_index_column": 60
        },
        {
         "data": "01/01/2019",
         "ano": 2019,
         "horario": "11:20:00",
         "_deepnote_index_column": 61
        },
        {
         "data": "01/01/2019",
         "ano": 2019,
         "horario": "08:30:00",
         "_deepnote_index_column": 62
        },
        {
         "data": "01/01/2019",
         "ano": 2019,
         "horario": "13:10:00",
         "_deepnote_index_column": 63
        },
        {
         "data": "01/01/2019",
         "ano": 2019,
         "horario": "12:10:00",
         "_deepnote_index_column": 64
        },
        {
         "data": "01/01/2019",
         "ano": 2019,
         "horario": "13:20:00",
         "_deepnote_index_column": 65
        },
        {
         "data": "01/01/2019",
         "ano": 2019,
         "horario": "11:30:00",
         "_deepnote_index_column": 66
        },
        {
         "data": "01/01/2019",
         "ano": 2019,
         "horario": "13:00:00",
         "_deepnote_index_column": 67
        },
        {
         "data": "01/01/2019",
         "ano": 2019,
         "horario": "13:40:00",
         "_deepnote_index_column": 68
        },
        {
         "data": "01/01/2019",
         "ano": 2019,
         "horario": "07:00:00",
         "_deepnote_index_column": 69
        },
        {
         "data": "01/01/2019",
         "ano": 2019,
         "horario": "13:40:00",
         "_deepnote_index_column": 70
        },
        {
         "data": "01/01/2019",
         "ano": 2019,
         "horario": "12:30:00",
         "_deepnote_index_column": 71
        },
        {
         "data": "01/01/2019",
         "ano": 2019,
         "horario": "12:00:00",
         "_deepnote_index_column": 72
        },
        {
         "data": "01/01/2019",
         "ano": 2019,
         "horario": "14:00:00",
         "_deepnote_index_column": 73
        },
        {
         "data": "01/01/2019",
         "ano": 2019,
         "horario": "12:45:00",
         "_deepnote_index_column": 74
        },
        {
         "data": "01/01/2019",
         "ano": 2019,
         "horario": "13:40:00",
         "_deepnote_index_column": 75
        },
        {
         "data": "01/01/2019",
         "ano": 2019,
         "horario": "12:10:00",
         "_deepnote_index_column": 76
        },
        {
         "data": "01/01/2019",
         "ano": 2019,
         "horario": "13:50:00",
         "_deepnote_index_column": 77
        },
        {
         "data": "01/01/2019",
         "ano": 2019,
         "horario": "14:40:00",
         "_deepnote_index_column": 78
        },
        {
         "data": "01/01/2019",
         "ano": 2019,
         "horario": "13:15:00",
         "_deepnote_index_column": 79
        },
        {
         "data": "01/01/2019",
         "ano": 2019,
         "horario": "13:50:00",
         "_deepnote_index_column": 80
        },
        {
         "data": "01/01/2019",
         "ano": 2019,
         "horario": "12:20:00",
         "_deepnote_index_column": 81
        },
        {
         "data": "01/01/2019",
         "ano": 2019,
         "horario": "13:45:00",
         "_deepnote_index_column": 82
        },
        {
         "data": "01/01/2019",
         "ano": 2019,
         "horario": "12:45:00",
         "_deepnote_index_column": 83
        },
        {
         "data": "01/01/2019",
         "ano": 2019,
         "horario": "15:00:00",
         "_deepnote_index_column": 84
        },
        {
         "data": "01/01/2019",
         "ano": 2019,
         "horario": "15:15:00",
         "_deepnote_index_column": 85
        },
        {
         "data": "01/01/2019",
         "ano": 2019,
         "horario": "15:20:00",
         "_deepnote_index_column": 86
        },
        {
         "data": "01/01/2019",
         "ano": 2019,
         "horario": "15:45:00",
         "_deepnote_index_column": 87
        },
        {
         "data": "01/01/2019",
         "ano": 2019,
         "horario": "16:00:00",
         "_deepnote_index_column": 88
        },
        {
         "data": "01/01/2019",
         "ano": 2019,
         "horario": "15:20:00",
         "_deepnote_index_column": 89
        },
        {
         "data": "01/01/2019",
         "ano": 2019,
         "horario": "15:30:00",
         "_deepnote_index_column": 90
        },
        {
         "data": "01/01/2019",
         "ano": 2019,
         "horario": "15:30:00",
         "_deepnote_index_column": 91
        },
        {
         "data": "01/01/2019",
         "ano": 2019,
         "horario": "14:00:00",
         "_deepnote_index_column": 92
        },
        {
         "data": "01/01/2019",
         "ano": 2019,
         "horario": "16:15:00",
         "_deepnote_index_column": 93
        },
        {
         "data": "01/01/2019",
         "ano": 2019,
         "horario": "15:00:00",
         "_deepnote_index_column": 94
        },
        {
         "data": "01/01/2019",
         "ano": 2019,
         "horario": "13:00:00",
         "_deepnote_index_column": 95
        },
        {
         "data": "01/01/2019",
         "ano": 2019,
         "horario": "15:45:00",
         "_deepnote_index_column": 96
        },
        {
         "data": "01/01/2019",
         "ano": 2019,
         "horario": "14:00:00",
         "_deepnote_index_column": 97
        },
        {
         "data": "01/01/2019",
         "ano": 2019,
         "horario": "16:45:00",
         "_deepnote_index_column": 98
        },
        {
         "data": "01/01/2019",
         "ano": 2019,
         "horario": "16:40:00",
         "_deepnote_index_column": 99
        },
        {
         "data": "01/01/2019",
         "ano": 2019,
         "horario": "14:45:00",
         "_deepnote_index_column": 100
        },
        {
         "data": "01/01/2019",
         "ano": 2019,
         "horario": "16:40:00",
         "_deepnote_index_column": 101
        },
        {
         "data": "01/01/2019",
         "ano": 2019,
         "horario": "16:50:00",
         "_deepnote_index_column": 102
        },
        {
         "data": "01/01/2019",
         "ano": 2019,
         "horario": "17:15:00",
         "_deepnote_index_column": 103
        },
        {
         "data": "01/01/2019",
         "ano": 2019,
         "horario": "15:45:00",
         "_deepnote_index_column": 104
        },
        {
         "data": "01/01/2019",
         "ano": 2019,
         "horario": "15:40:00",
         "_deepnote_index_column": 105
        },
        {
         "data": "01/01/2019",
         "ano": 2019,
         "horario": "17:30:00",
         "_deepnote_index_column": 106
        },
        {
         "data": "01/01/2019",
         "ano": 2019,
         "horario": "17:00:00",
         "_deepnote_index_column": 107
        },
        {
         "data": "01/01/2019",
         "ano": 2019,
         "horario": "15:45:00",
         "_deepnote_index_column": 108
        },
        {
         "data": "01/01/2019",
         "ano": 2019,
         "horario": "17:55:00",
         "_deepnote_index_column": 109
        },
        {
         "data": "01/01/2019",
         "ano": 2019,
         "horario": "17:30:00",
         "_deepnote_index_column": 110
        },
        {
         "data": "01/01/2019",
         "ano": 2019,
         "horario": "17:30:00",
         "_deepnote_index_column": 111
        },
        {
         "data": "01/01/2019",
         "ano": 2019,
         "horario": "16:35:00",
         "_deepnote_index_column": 112
        },
        {
         "data": "01/01/2019",
         "ano": 2019,
         "horario": "17:10:00",
         "_deepnote_index_column": 113
        },
        {
         "data": "01/01/2019",
         "ano": 2019,
         "horario": "17:03:00",
         "_deepnote_index_column": 114
        },
        {
         "data": "01/01/2019",
         "ano": 2019,
         "horario": "18:30:00",
         "_deepnote_index_column": 115
        },
        {
         "data": "01/01/2019",
         "ano": 2019,
         "horario": "18:10:00",
         "_deepnote_index_column": 116
        },
        {
         "data": "01/01/2019",
         "ano": 2019,
         "horario": "17:50:00",
         "_deepnote_index_column": 117
        },
        {
         "data": "01/01/2019",
         "ano": 2019,
         "horario": "18:00:00",
         "_deepnote_index_column": 118
        },
        {
         "data": "01/01/2019",
         "ano": 2019,
         "horario": "16:30:00",
         "_deepnote_index_column": 119
        },
        {
         "data": "01/01/2019",
         "ano": 2019,
         "horario": "19:00:00",
         "_deepnote_index_column": 120
        },
        {
         "data": "01/01/2019",
         "ano": 2019,
         "horario": "18:50:00",
         "_deepnote_index_column": 121
        },
        {
         "data": "01/01/2019",
         "ano": 2019,
         "horario": "18:30:00",
         "_deepnote_index_column": 122
        },
        {
         "data": "01/01/2019",
         "ano": 2019,
         "horario": "17:00:00",
         "_deepnote_index_column": 123
        },
        {
         "data": "01/01/2019",
         "ano": 2019,
         "horario": "18:35:00",
         "_deepnote_index_column": 124
        },
        {
         "data": "01/01/2019",
         "ano": 2019,
         "horario": "18:45:00",
         "_deepnote_index_column": 125
        },
        {
         "data": "01/01/2019",
         "ano": 2019,
         "horario": "10:00:00",
         "_deepnote_index_column": 126
        },
        {
         "data": "01/01/2019",
         "ano": 2019,
         "horario": "18:20:00",
         "_deepnote_index_column": 127
        },
        {
         "data": "01/01/2019",
         "ano": 2019,
         "horario": "19:10:00",
         "_deepnote_index_column": 128
        },
        {
         "data": "01/01/2019",
         "ano": 2019,
         "horario": "14:52:00",
         "_deepnote_index_column": 129
        },
        {
         "data": "01/01/2019",
         "ano": 2019,
         "horario": "19:00:00",
         "_deepnote_index_column": 130
        },
        {
         "data": "01/01/2019",
         "ano": 2019,
         "horario": "18:40:00",
         "_deepnote_index_column": 131
        },
        {
         "data": "01/01/2019",
         "ano": 2019,
         "horario": "18:00:00",
         "_deepnote_index_column": 132
        },
        {
         "data": "01/01/2019",
         "ano": 2019,
         "horario": "18:20:00",
         "_deepnote_index_column": 133
        },
        {
         "data": "01/01/2019",
         "ano": 2019,
         "horario": "18:30:00",
         "_deepnote_index_column": 134
        },
        {
         "data": "01/01/2019",
         "ano": 2019,
         "horario": "16:30:00",
         "_deepnote_index_column": 135
        },
        {
         "data": "01/01/2019",
         "ano": 2019,
         "horario": "15:45:00",
         "_deepnote_index_column": 136
        },
        {
         "data": "01/01/2019",
         "ano": 2019,
         "horario": "17:15:00",
         "_deepnote_index_column": 137
        },
        {
         "data": "01/01/2019",
         "ano": 2019,
         "horario": "17:59:00",
         "_deepnote_index_column": 138
        },
        {
         "data": "01/01/2019",
         "ano": 2019,
         "horario": "18:20:00",
         "_deepnote_index_column": 139
        },
        {
         "data": "01/01/2019",
         "ano": 2019,
         "horario": "18:00:00",
         "_deepnote_index_column": 140
        },
        {
         "data": "01/01/2019",
         "ano": 2019,
         "horario": "18:20:00",
         "_deepnote_index_column": 141
        },
        {
         "data": "01/01/2019",
         "ano": 2019,
         "horario": "17:00:00",
         "_deepnote_index_column": 142
        },
        {
         "data": "01/01/2019",
         "ano": 2019,
         "horario": "17:30:00",
         "_deepnote_index_column": 143
        },
        {
         "data": "01/01/2019",
         "ano": 2019,
         "horario": "20:00:00",
         "_deepnote_index_column": 144
        },
        {
         "data": "01/01/2019",
         "ano": 2019,
         "horario": "16:55:00",
         "_deepnote_index_column": 145
        },
        {
         "data": "01/01/2019",
         "ano": 2019,
         "horario": "20:25:00",
         "_deepnote_index_column": 146
        },
        {
         "data": "01/01/2019",
         "ano": 2019,
         "horario": "19:30:00",
         "_deepnote_index_column": 147
        },
        {
         "data": "01/01/2019",
         "ano": 2019,
         "horario": "18:25:00",
         "_deepnote_index_column": 148
        },
        {
         "data": "01/01/2019",
         "ano": 2019,
         "horario": "18:05:00",
         "_deepnote_index_column": 149
        },
        {
         "data": "01/01/2019",
         "ano": 2019,
         "horario": "19:10:00",
         "_deepnote_index_column": 150
        },
        {
         "data": "01/01/2019",
         "ano": 2019,
         "horario": "20:35:00",
         "_deepnote_index_column": 151
        },
        {
         "data": "01/01/2019",
         "ano": 2019,
         "horario": "20:20:00",
         "_deepnote_index_column": 152
        },
        {
         "data": "01/01/2019",
         "ano": 2019,
         "horario": "19:15:00",
         "_deepnote_index_column": 153
        },
        {
         "data": "01/01/2019",
         "ano": 2019,
         "horario": "21:10:00",
         "_deepnote_index_column": 154
        },
        {
         "data": "01/01/2019",
         "ano": 2019,
         "horario": "17:20:00",
         "_deepnote_index_column": 155
        },
        {
         "data": "01/01/2019",
         "ano": 2019,
         "horario": "19:50:00",
         "_deepnote_index_column": 156
        },
        {
         "data": "01/01/2019",
         "ano": 2019,
         "horario": "20:20:00",
         "_deepnote_index_column": 157
        },
        {
         "data": "01/01/2019",
         "ano": 2019,
         "horario": "21:40:00",
         "_deepnote_index_column": 158
        },
        {
         "data": "01/01/2019",
         "ano": 2019,
         "horario": "20:20:00",
         "_deepnote_index_column": 159
        },
        {
         "data": "01/01/2019",
         "ano": 2019,
         "horario": "22:10:00",
         "_deepnote_index_column": 160
        },
        {
         "data": "01/01/2019",
         "ano": 2019,
         "horario": "21:55:00",
         "_deepnote_index_column": 161
        },
        {
         "data": "01/01/2019",
         "ano": 2019,
         "horario": "22:00:00",
         "_deepnote_index_column": 162
        },
        {
         "data": "01/01/2019",
         "ano": 2019,
         "horario": "22:35:00",
         "_deepnote_index_column": 163
        },
        {
         "data": "01/01/2019",
         "ano": 2019,
         "horario": "21:20:00",
         "_deepnote_index_column": 164
        },
        {
         "data": "01/01/2019",
         "ano": 2019,
         "horario": "19:30:00",
         "_deepnote_index_column": 165
        }
       ],
       "rows_bottom": [
        {
         "data": "26/06/2021",
         "ano": 2021,
         "horario": "20:10:00",
         "_deepnote_index_column": 320586
        },
        {
         "data": "19/06/2021",
         "ano": 2021,
         "horario": "19:30:00",
         "_deepnote_index_column": 320587
        },
        {
         "data": "26/04/2021",
         "ano": 2021,
         "horario": "12:20:00",
         "_deepnote_index_column": 320588
        },
        {
         "data": "14/06/2021",
         "ano": 2021,
         "horario": "16:34:00",
         "_deepnote_index_column": 320589
        },
        {
         "data": "30/04/2021",
         "ano": 2021,
         "horario": "10:15:00",
         "_deepnote_index_column": 320590
        },
        {
         "data": "28/06/2021",
         "ano": 2021,
         "horario": "22:45:00",
         "_deepnote_index_column": 320591
        },
        {
         "data": "28/06/2021",
         "ano": 2021,
         "horario": "13:30:00",
         "_deepnote_index_column": 320592
        },
        {
         "data": "09/06/2021",
         "ano": 2021,
         "horario": "07:40:00",
         "_deepnote_index_column": 320593
        },
        {
         "data": "13/06/2021",
         "ano": 2021,
         "horario": "20:40:00",
         "_deepnote_index_column": 320594
        },
        {
         "data": "24/06/2021",
         "ano": 2021,
         "horario": "21:10:00",
         "_deepnote_index_column": 320595
        },
        {
         "data": "27/05/2021",
         "ano": 2021,
         "horario": "22:30:00",
         "_deepnote_index_column": 320596
        },
        {
         "data": "05/06/2021",
         "ano": 2021,
         "horario": "02:00:00",
         "_deepnote_index_column": 320597
        },
        {
         "data": "16/05/2021",
         "ano": 2021,
         "horario": "05:30:00",
         "_deepnote_index_column": 320598
        },
        {
         "data": "29/06/2021",
         "ano": 2021,
         "horario": "11:05:00",
         "_deepnote_index_column": 320599
        },
        {
         "data": "05/06/2021",
         "ano": 2021,
         "horario": "17:00:00",
         "_deepnote_index_column": 320600
        },
        {
         "data": "29/06/2021",
         "ano": 2021,
         "horario": "15:15:00",
         "_deepnote_index_column": 320601
        },
        {
         "data": "07/06/2021",
         "ano": 2021,
         "horario": "20:14:00",
         "_deepnote_index_column": 320602
        },
        {
         "data": "06/06/2021",
         "ano": 2021,
         "horario": "09:30:00",
         "_deepnote_index_column": 320603
        },
        {
         "data": "21/06/2021",
         "ano": 2021,
         "horario": "00:25:00",
         "_deepnote_index_column": 320604
        },
        {
         "data": "04/06/2021",
         "ano": 2021,
         "horario": "21:35:00",
         "_deepnote_index_column": 320605
        },
        {
         "data": "26/06/2021",
         "ano": 2021,
         "horario": "18:30:00",
         "_deepnote_index_column": 320606
        },
        {
         "data": "21/06/2021",
         "ano": 2021,
         "horario": "12:13:00",
         "_deepnote_index_column": 320607
        },
        {
         "data": "22/05/2021",
         "ano": 2021,
         "horario": "14:30:00",
         "_deepnote_index_column": 320608
        },
        {
         "data": "11/06/2021",
         "ano": 2021,
         "horario": "18:58:00",
         "_deepnote_index_column": 320609
        },
        {
         "data": "31/05/2021",
         "ano": 2021,
         "horario": "16:05:00",
         "_deepnote_index_column": 320610
        },
        {
         "data": "15/06/2021",
         "ano": 2021,
         "horario": "18:00:00",
         "_deepnote_index_column": 320611
        },
        {
         "data": "12/05/2021",
         "ano": 2021,
         "horario": "18:35:00",
         "_deepnote_index_column": 320612
        },
        {
         "data": "13/06/2021",
         "ano": 2021,
         "horario": "22:00:00",
         "_deepnote_index_column": 320613
        },
        {
         "data": "20/06/2021",
         "ano": 2021,
         "horario": "21:15:00",
         "_deepnote_index_column": 320614
        },
        {
         "data": "29/05/2021",
         "ano": 2021,
         "horario": "17:00:00",
         "_deepnote_index_column": 320615
        },
        {
         "data": "26/06/2021",
         "ano": 2021,
         "horario": "19:40:00",
         "_deepnote_index_column": 320616
        },
        {
         "data": "18/06/2021",
         "ano": 2021,
         "horario": "18:40:00",
         "_deepnote_index_column": 320617
        },
        {
         "data": "06/06/2021",
         "ano": 2021,
         "horario": "14:00:00",
         "_deepnote_index_column": 320618
        },
        {
         "data": "24/06/2021",
         "ano": 2021,
         "horario": "20:30:00",
         "_deepnote_index_column": 320619
        },
        {
         "data": "04/06/2021",
         "ano": 2021,
         "horario": "16:01:00",
         "_deepnote_index_column": 320620
        },
        {
         "data": "02/03/2021",
         "ano": 2021,
         "horario": "16:00:00",
         "_deepnote_index_column": 320621
        },
        {
         "data": "18/06/2021",
         "ano": 2021,
         "horario": "18:15:00",
         "_deepnote_index_column": 320622
        },
        {
         "data": "10/06/2021",
         "ano": 2021,
         "horario": "15:40:00",
         "_deepnote_index_column": 320623
        },
        {
         "data": "18/06/2021",
         "ano": 2021,
         "horario": "13:00:00",
         "_deepnote_index_column": 320624
        },
        {
         "data": "07/06/2021",
         "ano": 2021,
         "horario": "01:30:00",
         "_deepnote_index_column": 320625
        },
        {
         "data": "23/06/2021",
         "ano": 2021,
         "horario": "23:20:00",
         "_deepnote_index_column": 320626
        },
        {
         "data": "04/04/2021",
         "ano": 2021,
         "horario": "09:01:00",
         "_deepnote_index_column": 320627
        },
        {
         "data": "22/06/2021",
         "ano": 2021,
         "horario": "18:40:00",
         "_deepnote_index_column": 320628
        },
        {
         "data": "07/06/2021",
         "ano": 2021,
         "horario": "14:30:00",
         "_deepnote_index_column": 320629
        },
        {
         "data": "20/06/2021",
         "ano": 2021,
         "horario": "17:30:00",
         "_deepnote_index_column": 320630
        },
        {
         "data": "27/06/2021",
         "ano": 2021,
         "horario": "20:00:00",
         "_deepnote_index_column": 320631
        },
        {
         "data": "14/06/2021",
         "ano": 2021,
         "horario": "07:00:00",
         "_deepnote_index_column": 320632
        },
        {
         "data": "30/06/2021",
         "ano": 2021,
         "horario": "16:40:00",
         "_deepnote_index_column": 320633
        },
        {
         "data": "20/06/2021",
         "ano": 2021,
         "horario": "18:00:00",
         "_deepnote_index_column": 320634
        },
        {
         "data": "16/06/2021",
         "ano": 2021,
         "horario": "07:15:00",
         "_deepnote_index_column": 320635
        },
        {
         "data": "22/06/2021",
         "ano": 2021,
         "horario": "15:50:00",
         "_deepnote_index_column": 320636
        },
        {
         "data": "24/06/2021",
         "ano": 2021,
         "horario": "16:45:00",
         "_deepnote_index_column": 320637
        },
        {
         "data": "12/05/2021",
         "ano": 2021,
         "horario": "23:10:00",
         "_deepnote_index_column": 320638
        },
        {
         "data": "25/06/2021",
         "ano": 2021,
         "horario": "19:20:00",
         "_deepnote_index_column": 320639
        },
        {
         "data": "28/06/2021",
         "ano": 2021,
         "horario": "17:00:00",
         "_deepnote_index_column": 320640
        },
        {
         "data": "24/06/2021",
         "ano": 2021,
         "horario": "15:40:00",
         "_deepnote_index_column": 320641
        },
        {
         "data": "09/03/2021",
         "ano": 2021,
         "horario": "21:00:00",
         "_deepnote_index_column": 320642
        },
        {
         "data": "09/06/2021",
         "ano": 2021,
         "horario": "07:00:00",
         "_deepnote_index_column": 320643
        },
        {
         "data": "19/06/2021",
         "ano": 2021,
         "horario": "20:55:00",
         "_deepnote_index_column": 320644
        },
        {
         "data": "16/02/2021",
         "ano": 2021,
         "horario": "17:10:00",
         "_deepnote_index_column": 320645
        },
        {
         "data": "13/06/2021",
         "ano": 2021,
         "horario": "03:50:00",
         "_deepnote_index_column": 320646
        },
        {
         "data": "24/06/2021",
         "ano": 2021,
         "horario": "08:25:00",
         "_deepnote_index_column": 320647
        },
        {
         "data": "12/06/2021",
         "ano": 2021,
         "horario": "13:00:00",
         "_deepnote_index_column": 320648
        },
        {
         "data": "20/06/2021",
         "ano": 2021,
         "horario": "04:30:00",
         "_deepnote_index_column": 320649
        },
        {
         "data": "28/06/2021",
         "ano": 2021,
         "horario": "14:30:00",
         "_deepnote_index_column": 320650
        },
        {
         "data": "25/06/2021",
         "ano": 2021,
         "horario": "18:00:00",
         "_deepnote_index_column": 320651
        },
        {
         "data": "30/06/2021",
         "ano": 2021,
         "horario": "12:00:00",
         "_deepnote_index_column": 320652
        },
        {
         "data": "04/05/2021",
         "ano": 2021,
         "horario": "10:10:00",
         "_deepnote_index_column": 320653
        },
        {
         "data": "29/05/2021",
         "ano": 2021,
         "horario": "09:50:00",
         "_deepnote_index_column": 320654
        },
        {
         "data": "23/06/2021",
         "ano": 2021,
         "horario": "18:00:00",
         "_deepnote_index_column": 320655
        },
        {
         "data": "25/06/2021",
         "ano": 2021,
         "horario": "18:45:00",
         "_deepnote_index_column": 320656
        },
        {
         "data": "05/06/2021",
         "ano": 2021,
         "horario": "23:15:00",
         "_deepnote_index_column": 320657
        },
        {
         "data": "05/06/2021",
         "ano": 2021,
         "horario": "02:50:00",
         "_deepnote_index_column": 320658
        },
        {
         "data": "29/06/2021",
         "ano": 2021,
         "horario": "17:20:00",
         "_deepnote_index_column": 320659
        },
        {
         "data": "28/05/2021",
         "ano": 2021,
         "horario": "14:30:00",
         "_deepnote_index_column": 320660
        },
        {
         "data": "29/06/2021",
         "ano": 2021,
         "horario": "12:25:00",
         "_deepnote_index_column": 320661
        },
        {
         "data": "02/06/2021",
         "ano": 2021,
         "horario": "12:00:00",
         "_deepnote_index_column": 320662
        },
        {
         "data": "13/05/2021",
         "ano": 2021,
         "horario": "06:35:00",
         "_deepnote_index_column": 320663
        },
        {
         "data": "22/06/2021",
         "ano": 2021,
         "horario": "17:00:00",
         "_deepnote_index_column": 320664
        },
        {
         "data": "25/06/2021",
         "ano": 2021,
         "horario": "19:40:00",
         "_deepnote_index_column": 320665
        },
        {
         "data": "04/05/2021",
         "ano": 2021,
         "horario": "16:30:00",
         "_deepnote_index_column": 320666
        },
        {
         "data": "06/04/2021",
         "ano": 2021,
         "horario": "06:10:00",
         "_deepnote_index_column": 320667
        },
        {
         "data": "15/03/2021",
         "ano": 2021,
         "horario": "17:00:00",
         "_deepnote_index_column": 320668
        },
        {
         "data": "15/05/2021",
         "ano": 2021,
         "horario": "19:20:00",
         "_deepnote_index_column": 320669
        },
        {
         "data": "08/06/2021",
         "ano": 2021,
         "horario": "11:30:00",
         "_deepnote_index_column": 320670
        },
        {
         "data": "08/06/2021",
         "ano": 2021,
         "horario": "17:35:00",
         "_deepnote_index_column": 320671
        },
        {
         "data": "18/06/2021",
         "ano": 2021,
         "horario": "20:30:00",
         "_deepnote_index_column": 320672
        },
        {
         "data": "23/06/2021",
         "ano": 2021,
         "horario": "07:25:00",
         "_deepnote_index_column": 320673
        },
        {
         "data": "16/06/2021",
         "ano": 2021,
         "horario": "20:20:00",
         "_deepnote_index_column": 320674
        },
        {
         "data": "30/04/2021",
         "ano": 2021,
         "horario": "18:25:00",
         "_deepnote_index_column": 320675
        },
        {
         "data": "19/06/2021",
         "ano": 2021,
         "horario": "08:15:00",
         "_deepnote_index_column": 320676
        },
        {
         "data": "05/04/2021",
         "ano": 2021,
         "horario": "06:50:00",
         "_deepnote_index_column": 320677
        },
        {
         "data": "03/01/2021",
         "ano": 2021,
         "horario": "17:50:00",
         "_deepnote_index_column": 320678
        },
        {
         "data": "24/06/2021",
         "ano": 2021,
         "horario": "18:00:00",
         "_deepnote_index_column": 320679
        },
        {
         "data": "13/06/2021",
         "ano": 2021,
         "horario": "20:15:00",
         "_deepnote_index_column": 320680
        },
        {
         "data": "24/02/2021",
         "ano": 2021,
         "horario": "15:00:00",
         "_deepnote_index_column": 320681
        },
        {
         "data": "31/05/2021",
         "ano": 2021,
         "horario": "17:50:00",
         "_deepnote_index_column": 320682
        },
        {
         "data": "05/06/2021",
         "ano": 2021,
         "horario": "06:15:00",
         "_deepnote_index_column": 320683
        },
        {
         "data": "15/05/2021",
         "ano": 2021,
         "horario": "09:30:00",
         "_deepnote_index_column": 320684
        },
        {
         "data": "13/06/2021",
         "ano": 2021,
         "horario": "21:30:00",
         "_deepnote_index_column": 320685
        },
        {
         "data": "08/06/2021",
         "ano": 2021,
         "horario": "13:26:00",
         "_deepnote_index_column": 320686
        },
        {
         "data": "02/06/2021",
         "ano": 2021,
         "horario": "01:55:00",
         "_deepnote_index_column": 320687
        },
        {
         "data": "22/05/2021",
         "ano": 2021,
         "horario": "23:40:00",
         "_deepnote_index_column": 320688
        },
        {
         "data": "21/06/2021",
         "ano": 2021,
         "horario": "18:30:00",
         "_deepnote_index_column": 320689
        },
        {
         "data": "07/01/2021",
         "ano": 2021,
         "horario": "07:45:00",
         "_deepnote_index_column": 320690
        },
        {
         "data": "06/01/2021",
         "ano": 2021,
         "horario": "20:30:00",
         "_deepnote_index_column": 320691
        },
        {
         "data": "30/05/2021",
         "ano": 2021,
         "horario": "18:40:00",
         "_deepnote_index_column": 320692
        },
        {
         "data": "05/02/2021",
         "ano": 2021,
         "horario": "18:20:00",
         "_deepnote_index_column": 320693
        },
        {
         "data": "06/06/2021",
         "ano": 2021,
         "horario": "16:40:00",
         "_deepnote_index_column": 320694
        },
        {
         "data": "01/06/2021",
         "ano": 2021,
         "horario": "01:00:00",
         "_deepnote_index_column": 320695
        },
        {
         "data": "14/06/2021",
         "ano": 2021,
         "horario": "11:00:00",
         "_deepnote_index_column": 320696
        },
        {
         "data": "18/06/2021",
         "ano": 2021,
         "horario": "18:20:00",
         "_deepnote_index_column": 320697
        },
        {
         "data": "23/04/2021",
         "ano": 2021,
         "horario": "08:20:00",
         "_deepnote_index_column": 320698
        },
        {
         "data": "02/06/2021",
         "ano": 2021,
         "horario": "14:20:00",
         "_deepnote_index_column": 320699
        },
        {
         "data": "19/03/2021",
         "ano": 2021,
         "horario": "07:05:00",
         "_deepnote_index_column": 320700
        },
        {
         "data": "20/05/2021",
         "ano": 2021,
         "horario": "18:30:00",
         "_deepnote_index_column": 320701
        },
        {
         "data": "03/06/2021",
         "ano": 2021,
         "horario": "14:50:00",
         "_deepnote_index_column": 320702
        },
        {
         "data": "03/06/2021",
         "ano": 2021,
         "horario": "23:17:00",
         "_deepnote_index_column": 320703
        },
        {
         "data": "10/05/2021",
         "ano": 2021,
         "horario": "16:30:00",
         "_deepnote_index_column": 320704
        },
        {
         "data": "19/03/2021",
         "ano": 2021,
         "horario": "12:00:00",
         "_deepnote_index_column": 320705
        },
        {
         "data": "18/06/2021",
         "ano": 2021,
         "horario": "13:30:00",
         "_deepnote_index_column": 320706
        },
        {
         "data": "12/03/2021",
         "ano": 2021,
         "horario": "02:10:00",
         "_deepnote_index_column": 320707
        },
        {
         "data": "12/06/2021",
         "ano": 2021,
         "horario": "19:20:00",
         "_deepnote_index_column": 320708
        },
        {
         "data": "23/05/2021",
         "ano": 2021,
         "horario": "19:25:00",
         "_deepnote_index_column": 320709
        },
        {
         "data": "08/06/2021",
         "ano": 2021,
         "horario": "19:12:00",
         "_deepnote_index_column": 320710
        },
        {
         "data": "20/06/2021",
         "ano": 2021,
         "horario": "05:40:00",
         "_deepnote_index_column": 320711
        },
        {
         "data": "25/06/2021",
         "ano": 2021,
         "horario": "21:40:00",
         "_deepnote_index_column": 320712
        },
        {
         "data": "31/05/2021",
         "ano": 2021,
         "horario": "21:00:00",
         "_deepnote_index_column": 320713
        },
        {
         "data": "19/06/2021",
         "ano": 2021,
         "horario": "09:20:00",
         "_deepnote_index_column": 320714
        },
        {
         "data": "12/06/2021",
         "ano": 2021,
         "horario": "13:28:00",
         "_deepnote_index_column": 320715
        },
        {
         "data": "28/06/2021",
         "ano": 2021,
         "horario": "22:40:00",
         "_deepnote_index_column": 320716
        },
        {
         "data": "29/06/2021",
         "ano": 2021,
         "horario": "06:50:00",
         "_deepnote_index_column": 320717
        },
        {
         "data": "21/06/2021",
         "ano": 2021,
         "horario": "11:10:00",
         "_deepnote_index_column": 320718
        },
        {
         "data": "01/06/2021",
         "ano": 2021,
         "horario": "12:00:00",
         "_deepnote_index_column": 320719
        },
        {
         "data": "13/06/2021",
         "ano": 2021,
         "horario": "19:00:00",
         "_deepnote_index_column": 320720
        },
        {
         "data": "13/06/2021",
         "ano": 2021,
         "horario": "05:15:00",
         "_deepnote_index_column": 320721
        },
        {
         "data": "23/06/2021",
         "ano": 2021,
         "horario": "18:05:00",
         "_deepnote_index_column": 320722
        },
        {
         "data": "20/06/2021",
         "ano": 2021,
         "horario": "09:50:00",
         "_deepnote_index_column": 320723
        },
        {
         "data": "18/06/2021",
         "ano": 2021,
         "horario": "21:40:00",
         "_deepnote_index_column": 320724
        },
        {
         "data": "31/05/2021",
         "ano": 2021,
         "horario": "12:00:00",
         "_deepnote_index_column": 320725
        },
        {
         "data": "17/03/2021",
         "ano": 2021,
         "horario": "00:10:00",
         "_deepnote_index_column": 320726
        },
        {
         "data": "22/06/2021",
         "ano": 2021,
         "horario": "17:20:00",
         "_deepnote_index_column": 320727
        },
        {
         "data": "18/06/2021",
         "ano": 2021,
         "horario": "17:00:00",
         "_deepnote_index_column": 320728
        },
        {
         "data": "25/04/2021",
         "ano": 2021,
         "horario": "00:30:00",
         "_deepnote_index_column": 320729
        },
        {
         "data": "29/05/2021",
         "ano": 2021,
         "horario": "18:00:00",
         "_deepnote_index_column": 320730
        },
        {
         "data": "29/05/2021",
         "ano": 2021,
         "horario": "15:30:00",
         "_deepnote_index_column": 320731
        },
        {
         "data": "10/05/2021",
         "ano": 2021,
         "horario": "20:00:00",
         "_deepnote_index_column": 320732
        },
        {
         "data": "25/05/2021",
         "ano": 2021,
         "horario": "17:30:00",
         "_deepnote_index_column": 320733
        },
        {
         "data": "06/04/2021",
         "ano": 2021,
         "horario": "17:45:00",
         "_deepnote_index_column": 320734
        },
        {
         "data": "01/06/2021",
         "ano": 2021,
         "horario": "08:20:00",
         "_deepnote_index_column": 320735
        },
        {
         "data": "08/06/2021",
         "ano": 2021,
         "horario": "21:00:00",
         "_deepnote_index_column": 320736
        },
        {
         "data": "07/06/2021",
         "ano": 2021,
         "horario": "13:10:00",
         "_deepnote_index_column": 320737
        },
        {
         "data": "12/05/2021",
         "ano": 2021,
         "horario": "15:10:00",
         "_deepnote_index_column": 320738
        },
        {
         "data": "30/06/2021",
         "ano": 2021,
         "horario": "19:30:00",
         "_deepnote_index_column": 320739
        },
        {
         "data": "30/06/2021",
         "ano": 2021,
         "horario": "18:50:00",
         "_deepnote_index_column": 320740
        },
        {
         "data": "08/06/2021",
         "ano": 2021,
         "horario": "19:30:00",
         "_deepnote_index_column": 320741
        },
        {
         "data": "20/06/2021",
         "ano": 2021,
         "horario": "10:00:00",
         "_deepnote_index_column": 320742
        },
        {
         "data": "24/06/2021",
         "ano": 2021,
         "horario": "07:40:00",
         "_deepnote_index_column": 320743
        },
        {
         "data": "25/01/2021",
         "ano": 2021,
         "horario": "23:15:00",
         "_deepnote_index_column": 320744
        },
        {
         "data": "27/05/2021",
         "ano": 2021,
         "horario": "09:00:00",
         "_deepnote_index_column": 320745
        },
        {
         "data": "26/05/2021",
         "ano": 2021,
         "horario": "15:45:00",
         "_deepnote_index_column": 320746
        },
        {
         "data": "15/02/2021",
         "ano": 2021,
         "horario": "19:40:00",
         "_deepnote_index_column": 320747
        },
        {
         "data": "16/06/2021",
         "ano": 2021,
         "horario": "13:15:00",
         "_deepnote_index_column": 320748
        },
        {
         "data": "28/06/2021",
         "ano": 2021,
         "horario": "10:50:00",
         "_deepnote_index_column": 320749
        },
        {
         "data": "13/06/2021",
         "ano": 2021,
         "horario": "02:50:00",
         "_deepnote_index_column": 320750
        },
        {
         "data": "02/06/2021",
         "ano": 2021,
         "horario": "08:45:00",
         "_deepnote_index_column": 320751
        },
        {
         "data": "01/01/2021",
         "ano": 2021,
         "horario": "17:40:00",
         "_deepnote_index_column": 320752
        }
       ]
      },
      "text/plain": "              data   ano   horario\n0       01/01/2019  2019  01:30:00\n1       01/01/2019  2019  01:30:00\n2       01/01/2019  2019  00:45:00\n3       01/01/2019  2019  00:00:00\n4       01/01/2019  2019  01:00:00\n...            ...   ...       ...\n320748  16/06/2021  2021  13:15:00\n320749  28/06/2021  2021  10:50:00\n320750  13/06/2021  2021  02:50:00\n320751  02/06/2021  2021  08:45:00\n320752  01/01/2021  2021  17:40:00\n\n[320156 rows x 3 columns]",
      "text/html": "<div>\n<style scoped>\n    .dataframe tbody tr th:only-of-type {\n        vertical-align: middle;\n    }\n\n    .dataframe tbody tr th {\n        vertical-align: top;\n    }\n\n    .dataframe thead th {\n        text-align: right;\n    }\n</style>\n<table border=\"1\" class=\"dataframe\">\n  <thead>\n    <tr style=\"text-align: right;\">\n      <th></th>\n      <th>data</th>\n      <th>ano</th>\n      <th>horario</th>\n    </tr>\n  </thead>\n  <tbody>\n    <tr>\n      <th>0</th>\n      <td>01/01/2019</td>\n      <td>2019</td>\n      <td>01:30:00</td>\n    </tr>\n    <tr>\n      <th>1</th>\n      <td>01/01/2019</td>\n      <td>2019</td>\n      <td>01:30:00</td>\n    </tr>\n    <tr>\n      <th>2</th>\n      <td>01/01/2019</td>\n      <td>2019</td>\n      <td>00:45:00</td>\n    </tr>\n    <tr>\n      <th>3</th>\n      <td>01/01/2019</td>\n      <td>2019</td>\n      <td>00:00:00</td>\n    </tr>\n    <tr>\n      <th>4</th>\n      <td>01/01/2019</td>\n      <td>2019</td>\n      <td>01:00:00</td>\n    </tr>\n    <tr>\n      <th>...</th>\n      <td>...</td>\n      <td>...</td>\n      <td>...</td>\n    </tr>\n    <tr>\n      <th>320748</th>\n      <td>16/06/2021</td>\n      <td>2021</td>\n      <td>13:15:00</td>\n    </tr>\n    <tr>\n      <th>320749</th>\n      <td>28/06/2021</td>\n      <td>2021</td>\n      <td>10:50:00</td>\n    </tr>\n    <tr>\n      <th>320750</th>\n      <td>13/06/2021</td>\n      <td>2021</td>\n      <td>02:50:00</td>\n    </tr>\n    <tr>\n      <th>320751</th>\n      <td>02/06/2021</td>\n      <td>2021</td>\n      <td>08:45:00</td>\n    </tr>\n    <tr>\n      <th>320752</th>\n      <td>01/01/2021</td>\n      <td>2021</td>\n      <td>17:40:00</td>\n    </tr>\n  </tbody>\n</table>\n<p>320156 rows × 3 columns</p>\n</div>"
     },
     "metadata": {}
    }
   ]
  },
  {
   "cell_type": "code",
   "metadata": {
    "tags": [],
    "cell_id": "00014-72973a00-d2bd-4cb9-a089-516c61e5de32",
    "deepnote_to_be_reexecuted": false,
    "source_hash": "4181f473",
    "execution_start": 1634302876998,
    "execution_millis": 2844,
    "deepnote_cell_type": "code"
   },
   "source": "from datetime import datetime\n\nocorrencias['fim_de_semana'] = [1 if datetime.strptime(data, '%d/%m/%Y').weekday() in [5,6] else 0 for data in ocorrencias['data']]\n\nocorrencias[['data', 'fim_de_semana','ano']]",
   "execution_count": 16,
   "outputs": [
    {
     "output_type": "execute_result",
     "execution_count": 16,
     "data": {
      "application/vnd.deepnote.dataframe.v2+json": {
       "row_count": 320156,
       "column_count": 3,
       "columns": [
        {
         "name": "data",
         "dtype": "object"
        },
        {
         "name": "fim_de_semana",
         "dtype": "int64"
        },
        {
         "name": "ano",
         "dtype": "int64"
        },
        {
         "name": "_deepnote_index_column",
         "dtype": "int64"
        }
       ],
       "rows_top": [
        {
         "data": "01/01/2019",
         "fim_de_semana": 0,
         "ano": 2019,
         "_deepnote_index_column": 0
        },
        {
         "data": "01/01/2019",
         "fim_de_semana": 0,
         "ano": 2019,
         "_deepnote_index_column": 1
        },
        {
         "data": "01/01/2019",
         "fim_de_semana": 0,
         "ano": 2019,
         "_deepnote_index_column": 2
        },
        {
         "data": "01/01/2019",
         "fim_de_semana": 0,
         "ano": 2019,
         "_deepnote_index_column": 3
        },
        {
         "data": "01/01/2019",
         "fim_de_semana": 0,
         "ano": 2019,
         "_deepnote_index_column": 4
        },
        {
         "data": "01/01/2019",
         "fim_de_semana": 0,
         "ano": 2019,
         "_deepnote_index_column": 5
        },
        {
         "data": "01/01/2019",
         "fim_de_semana": 0,
         "ano": 2019,
         "_deepnote_index_column": 6
        },
        {
         "data": "01/01/2019",
         "fim_de_semana": 0,
         "ano": 2019,
         "_deepnote_index_column": 7
        },
        {
         "data": "01/01/2019",
         "fim_de_semana": 0,
         "ano": 2019,
         "_deepnote_index_column": 8
        },
        {
         "data": "01/01/2019",
         "fim_de_semana": 0,
         "ano": 2019,
         "_deepnote_index_column": 9
        },
        {
         "data": "01/01/2019",
         "fim_de_semana": 0,
         "ano": 2019,
         "_deepnote_index_column": 10
        },
        {
         "data": "01/01/2019",
         "fim_de_semana": 0,
         "ano": 2019,
         "_deepnote_index_column": 11
        },
        {
         "data": "01/01/2019",
         "fim_de_semana": 0,
         "ano": 2019,
         "_deepnote_index_column": 12
        },
        {
         "data": "01/01/2019",
         "fim_de_semana": 0,
         "ano": 2019,
         "_deepnote_index_column": 13
        },
        {
         "data": "01/01/2019",
         "fim_de_semana": 0,
         "ano": 2019,
         "_deepnote_index_column": 14
        },
        {
         "data": "01/01/2019",
         "fim_de_semana": 0,
         "ano": 2019,
         "_deepnote_index_column": 15
        },
        {
         "data": "01/01/2019",
         "fim_de_semana": 0,
         "ano": 2019,
         "_deepnote_index_column": 16
        },
        {
         "data": "01/01/2019",
         "fim_de_semana": 0,
         "ano": 2019,
         "_deepnote_index_column": 17
        },
        {
         "data": "01/01/2019",
         "fim_de_semana": 0,
         "ano": 2019,
         "_deepnote_index_column": 18
        },
        {
         "data": "01/01/2019",
         "fim_de_semana": 0,
         "ano": 2019,
         "_deepnote_index_column": 19
        },
        {
         "data": "01/01/2019",
         "fim_de_semana": 0,
         "ano": 2019,
         "_deepnote_index_column": 20
        },
        {
         "data": "01/01/2019",
         "fim_de_semana": 0,
         "ano": 2019,
         "_deepnote_index_column": 21
        },
        {
         "data": "01/01/2019",
         "fim_de_semana": 0,
         "ano": 2019,
         "_deepnote_index_column": 22
        },
        {
         "data": "01/01/2019",
         "fim_de_semana": 0,
         "ano": 2019,
         "_deepnote_index_column": 23
        },
        {
         "data": "01/01/2019",
         "fim_de_semana": 0,
         "ano": 2019,
         "_deepnote_index_column": 24
        },
        {
         "data": "01/01/2019",
         "fim_de_semana": 0,
         "ano": 2019,
         "_deepnote_index_column": 25
        },
        {
         "data": "01/01/2019",
         "fim_de_semana": 0,
         "ano": 2019,
         "_deepnote_index_column": 26
        },
        {
         "data": "01/01/2019",
         "fim_de_semana": 0,
         "ano": 2019,
         "_deepnote_index_column": 27
        },
        {
         "data": "01/01/2019",
         "fim_de_semana": 0,
         "ano": 2019,
         "_deepnote_index_column": 28
        },
        {
         "data": "01/01/2019",
         "fim_de_semana": 0,
         "ano": 2019,
         "_deepnote_index_column": 29
        },
        {
         "data": "01/01/2019",
         "fim_de_semana": 0,
         "ano": 2019,
         "_deepnote_index_column": 30
        },
        {
         "data": "01/01/2019",
         "fim_de_semana": 0,
         "ano": 2019,
         "_deepnote_index_column": 31
        },
        {
         "data": "01/01/2019",
         "fim_de_semana": 0,
         "ano": 2019,
         "_deepnote_index_column": 32
        },
        {
         "data": "01/01/2019",
         "fim_de_semana": 0,
         "ano": 2019,
         "_deepnote_index_column": 33
        },
        {
         "data": "01/01/2019",
         "fim_de_semana": 0,
         "ano": 2019,
         "_deepnote_index_column": 34
        },
        {
         "data": "01/01/2019",
         "fim_de_semana": 0,
         "ano": 2019,
         "_deepnote_index_column": 35
        },
        {
         "data": "01/01/2019",
         "fim_de_semana": 0,
         "ano": 2019,
         "_deepnote_index_column": 36
        },
        {
         "data": "01/01/2019",
         "fim_de_semana": 0,
         "ano": 2019,
         "_deepnote_index_column": 37
        },
        {
         "data": "01/01/2019",
         "fim_de_semana": 0,
         "ano": 2019,
         "_deepnote_index_column": 38
        },
        {
         "data": "01/01/2019",
         "fim_de_semana": 0,
         "ano": 2019,
         "_deepnote_index_column": 39
        },
        {
         "data": "01/01/2019",
         "fim_de_semana": 0,
         "ano": 2019,
         "_deepnote_index_column": 40
        },
        {
         "data": "01/01/2019",
         "fim_de_semana": 0,
         "ano": 2019,
         "_deepnote_index_column": 41
        },
        {
         "data": "01/01/2019",
         "fim_de_semana": 0,
         "ano": 2019,
         "_deepnote_index_column": 42
        },
        {
         "data": "01/01/2019",
         "fim_de_semana": 0,
         "ano": 2019,
         "_deepnote_index_column": 43
        },
        {
         "data": "01/01/2019",
         "fim_de_semana": 0,
         "ano": 2019,
         "_deepnote_index_column": 44
        },
        {
         "data": "01/01/2019",
         "fim_de_semana": 0,
         "ano": 2019,
         "_deepnote_index_column": 45
        },
        {
         "data": "01/01/2019",
         "fim_de_semana": 0,
         "ano": 2019,
         "_deepnote_index_column": 46
        },
        {
         "data": "01/01/2019",
         "fim_de_semana": 0,
         "ano": 2019,
         "_deepnote_index_column": 47
        },
        {
         "data": "01/01/2019",
         "fim_de_semana": 0,
         "ano": 2019,
         "_deepnote_index_column": 48
        },
        {
         "data": "01/01/2019",
         "fim_de_semana": 0,
         "ano": 2019,
         "_deepnote_index_column": 49
        },
        {
         "data": "01/01/2019",
         "fim_de_semana": 0,
         "ano": 2019,
         "_deepnote_index_column": 50
        },
        {
         "data": "01/01/2019",
         "fim_de_semana": 0,
         "ano": 2019,
         "_deepnote_index_column": 51
        },
        {
         "data": "01/01/2019",
         "fim_de_semana": 0,
         "ano": 2019,
         "_deepnote_index_column": 52
        },
        {
         "data": "01/01/2019",
         "fim_de_semana": 0,
         "ano": 2019,
         "_deepnote_index_column": 53
        },
        {
         "data": "01/01/2019",
         "fim_de_semana": 0,
         "ano": 2019,
         "_deepnote_index_column": 54
        },
        {
         "data": "01/01/2019",
         "fim_de_semana": 0,
         "ano": 2019,
         "_deepnote_index_column": 55
        },
        {
         "data": "01/01/2019",
         "fim_de_semana": 0,
         "ano": 2019,
         "_deepnote_index_column": 56
        },
        {
         "data": "01/01/2019",
         "fim_de_semana": 0,
         "ano": 2019,
         "_deepnote_index_column": 57
        },
        {
         "data": "01/01/2019",
         "fim_de_semana": 0,
         "ano": 2019,
         "_deepnote_index_column": 58
        },
        {
         "data": "01/01/2019",
         "fim_de_semana": 0,
         "ano": 2019,
         "_deepnote_index_column": 59
        },
        {
         "data": "01/01/2019",
         "fim_de_semana": 0,
         "ano": 2019,
         "_deepnote_index_column": 60
        },
        {
         "data": "01/01/2019",
         "fim_de_semana": 0,
         "ano": 2019,
         "_deepnote_index_column": 61
        },
        {
         "data": "01/01/2019",
         "fim_de_semana": 0,
         "ano": 2019,
         "_deepnote_index_column": 62
        },
        {
         "data": "01/01/2019",
         "fim_de_semana": 0,
         "ano": 2019,
         "_deepnote_index_column": 63
        },
        {
         "data": "01/01/2019",
         "fim_de_semana": 0,
         "ano": 2019,
         "_deepnote_index_column": 64
        },
        {
         "data": "01/01/2019",
         "fim_de_semana": 0,
         "ano": 2019,
         "_deepnote_index_column": 65
        },
        {
         "data": "01/01/2019",
         "fim_de_semana": 0,
         "ano": 2019,
         "_deepnote_index_column": 66
        },
        {
         "data": "01/01/2019",
         "fim_de_semana": 0,
         "ano": 2019,
         "_deepnote_index_column": 67
        },
        {
         "data": "01/01/2019",
         "fim_de_semana": 0,
         "ano": 2019,
         "_deepnote_index_column": 68
        },
        {
         "data": "01/01/2019",
         "fim_de_semana": 0,
         "ano": 2019,
         "_deepnote_index_column": 69
        },
        {
         "data": "01/01/2019",
         "fim_de_semana": 0,
         "ano": 2019,
         "_deepnote_index_column": 70
        },
        {
         "data": "01/01/2019",
         "fim_de_semana": 0,
         "ano": 2019,
         "_deepnote_index_column": 71
        },
        {
         "data": "01/01/2019",
         "fim_de_semana": 0,
         "ano": 2019,
         "_deepnote_index_column": 72
        },
        {
         "data": "01/01/2019",
         "fim_de_semana": 0,
         "ano": 2019,
         "_deepnote_index_column": 73
        },
        {
         "data": "01/01/2019",
         "fim_de_semana": 0,
         "ano": 2019,
         "_deepnote_index_column": 74
        },
        {
         "data": "01/01/2019",
         "fim_de_semana": 0,
         "ano": 2019,
         "_deepnote_index_column": 75
        },
        {
         "data": "01/01/2019",
         "fim_de_semana": 0,
         "ano": 2019,
         "_deepnote_index_column": 76
        },
        {
         "data": "01/01/2019",
         "fim_de_semana": 0,
         "ano": 2019,
         "_deepnote_index_column": 77
        },
        {
         "data": "01/01/2019",
         "fim_de_semana": 0,
         "ano": 2019,
         "_deepnote_index_column": 78
        },
        {
         "data": "01/01/2019",
         "fim_de_semana": 0,
         "ano": 2019,
         "_deepnote_index_column": 79
        },
        {
         "data": "01/01/2019",
         "fim_de_semana": 0,
         "ano": 2019,
         "_deepnote_index_column": 80
        },
        {
         "data": "01/01/2019",
         "fim_de_semana": 0,
         "ano": 2019,
         "_deepnote_index_column": 81
        },
        {
         "data": "01/01/2019",
         "fim_de_semana": 0,
         "ano": 2019,
         "_deepnote_index_column": 82
        },
        {
         "data": "01/01/2019",
         "fim_de_semana": 0,
         "ano": 2019,
         "_deepnote_index_column": 83
        },
        {
         "data": "01/01/2019",
         "fim_de_semana": 0,
         "ano": 2019,
         "_deepnote_index_column": 84
        },
        {
         "data": "01/01/2019",
         "fim_de_semana": 0,
         "ano": 2019,
         "_deepnote_index_column": 85
        },
        {
         "data": "01/01/2019",
         "fim_de_semana": 0,
         "ano": 2019,
         "_deepnote_index_column": 86
        },
        {
         "data": "01/01/2019",
         "fim_de_semana": 0,
         "ano": 2019,
         "_deepnote_index_column": 87
        },
        {
         "data": "01/01/2019",
         "fim_de_semana": 0,
         "ano": 2019,
         "_deepnote_index_column": 88
        },
        {
         "data": "01/01/2019",
         "fim_de_semana": 0,
         "ano": 2019,
         "_deepnote_index_column": 89
        },
        {
         "data": "01/01/2019",
         "fim_de_semana": 0,
         "ano": 2019,
         "_deepnote_index_column": 90
        },
        {
         "data": "01/01/2019",
         "fim_de_semana": 0,
         "ano": 2019,
         "_deepnote_index_column": 91
        },
        {
         "data": "01/01/2019",
         "fim_de_semana": 0,
         "ano": 2019,
         "_deepnote_index_column": 92
        },
        {
         "data": "01/01/2019",
         "fim_de_semana": 0,
         "ano": 2019,
         "_deepnote_index_column": 93
        },
        {
         "data": "01/01/2019",
         "fim_de_semana": 0,
         "ano": 2019,
         "_deepnote_index_column": 94
        },
        {
         "data": "01/01/2019",
         "fim_de_semana": 0,
         "ano": 2019,
         "_deepnote_index_column": 95
        },
        {
         "data": "01/01/2019",
         "fim_de_semana": 0,
         "ano": 2019,
         "_deepnote_index_column": 96
        },
        {
         "data": "01/01/2019",
         "fim_de_semana": 0,
         "ano": 2019,
         "_deepnote_index_column": 97
        },
        {
         "data": "01/01/2019",
         "fim_de_semana": 0,
         "ano": 2019,
         "_deepnote_index_column": 98
        },
        {
         "data": "01/01/2019",
         "fim_de_semana": 0,
         "ano": 2019,
         "_deepnote_index_column": 99
        },
        {
         "data": "01/01/2019",
         "fim_de_semana": 0,
         "ano": 2019,
         "_deepnote_index_column": 100
        },
        {
         "data": "01/01/2019",
         "fim_de_semana": 0,
         "ano": 2019,
         "_deepnote_index_column": 101
        },
        {
         "data": "01/01/2019",
         "fim_de_semana": 0,
         "ano": 2019,
         "_deepnote_index_column": 102
        },
        {
         "data": "01/01/2019",
         "fim_de_semana": 0,
         "ano": 2019,
         "_deepnote_index_column": 103
        },
        {
         "data": "01/01/2019",
         "fim_de_semana": 0,
         "ano": 2019,
         "_deepnote_index_column": 104
        },
        {
         "data": "01/01/2019",
         "fim_de_semana": 0,
         "ano": 2019,
         "_deepnote_index_column": 105
        },
        {
         "data": "01/01/2019",
         "fim_de_semana": 0,
         "ano": 2019,
         "_deepnote_index_column": 106
        },
        {
         "data": "01/01/2019",
         "fim_de_semana": 0,
         "ano": 2019,
         "_deepnote_index_column": 107
        },
        {
         "data": "01/01/2019",
         "fim_de_semana": 0,
         "ano": 2019,
         "_deepnote_index_column": 108
        },
        {
         "data": "01/01/2019",
         "fim_de_semana": 0,
         "ano": 2019,
         "_deepnote_index_column": 109
        },
        {
         "data": "01/01/2019",
         "fim_de_semana": 0,
         "ano": 2019,
         "_deepnote_index_column": 110
        },
        {
         "data": "01/01/2019",
         "fim_de_semana": 0,
         "ano": 2019,
         "_deepnote_index_column": 111
        },
        {
         "data": "01/01/2019",
         "fim_de_semana": 0,
         "ano": 2019,
         "_deepnote_index_column": 112
        },
        {
         "data": "01/01/2019",
         "fim_de_semana": 0,
         "ano": 2019,
         "_deepnote_index_column": 113
        },
        {
         "data": "01/01/2019",
         "fim_de_semana": 0,
         "ano": 2019,
         "_deepnote_index_column": 114
        },
        {
         "data": "01/01/2019",
         "fim_de_semana": 0,
         "ano": 2019,
         "_deepnote_index_column": 115
        },
        {
         "data": "01/01/2019",
         "fim_de_semana": 0,
         "ano": 2019,
         "_deepnote_index_column": 116
        },
        {
         "data": "01/01/2019",
         "fim_de_semana": 0,
         "ano": 2019,
         "_deepnote_index_column": 117
        },
        {
         "data": "01/01/2019",
         "fim_de_semana": 0,
         "ano": 2019,
         "_deepnote_index_column": 118
        },
        {
         "data": "01/01/2019",
         "fim_de_semana": 0,
         "ano": 2019,
         "_deepnote_index_column": 119
        },
        {
         "data": "01/01/2019",
         "fim_de_semana": 0,
         "ano": 2019,
         "_deepnote_index_column": 120
        },
        {
         "data": "01/01/2019",
         "fim_de_semana": 0,
         "ano": 2019,
         "_deepnote_index_column": 121
        },
        {
         "data": "01/01/2019",
         "fim_de_semana": 0,
         "ano": 2019,
         "_deepnote_index_column": 122
        },
        {
         "data": "01/01/2019",
         "fim_de_semana": 0,
         "ano": 2019,
         "_deepnote_index_column": 123
        },
        {
         "data": "01/01/2019",
         "fim_de_semana": 0,
         "ano": 2019,
         "_deepnote_index_column": 124
        },
        {
         "data": "01/01/2019",
         "fim_de_semana": 0,
         "ano": 2019,
         "_deepnote_index_column": 125
        },
        {
         "data": "01/01/2019",
         "fim_de_semana": 0,
         "ano": 2019,
         "_deepnote_index_column": 126
        },
        {
         "data": "01/01/2019",
         "fim_de_semana": 0,
         "ano": 2019,
         "_deepnote_index_column": 127
        },
        {
         "data": "01/01/2019",
         "fim_de_semana": 0,
         "ano": 2019,
         "_deepnote_index_column": 128
        },
        {
         "data": "01/01/2019",
         "fim_de_semana": 0,
         "ano": 2019,
         "_deepnote_index_column": 129
        },
        {
         "data": "01/01/2019",
         "fim_de_semana": 0,
         "ano": 2019,
         "_deepnote_index_column": 130
        },
        {
         "data": "01/01/2019",
         "fim_de_semana": 0,
         "ano": 2019,
         "_deepnote_index_column": 131
        },
        {
         "data": "01/01/2019",
         "fim_de_semana": 0,
         "ano": 2019,
         "_deepnote_index_column": 132
        },
        {
         "data": "01/01/2019",
         "fim_de_semana": 0,
         "ano": 2019,
         "_deepnote_index_column": 133
        },
        {
         "data": "01/01/2019",
         "fim_de_semana": 0,
         "ano": 2019,
         "_deepnote_index_column": 134
        },
        {
         "data": "01/01/2019",
         "fim_de_semana": 0,
         "ano": 2019,
         "_deepnote_index_column": 135
        },
        {
         "data": "01/01/2019",
         "fim_de_semana": 0,
         "ano": 2019,
         "_deepnote_index_column": 136
        },
        {
         "data": "01/01/2019",
         "fim_de_semana": 0,
         "ano": 2019,
         "_deepnote_index_column": 137
        },
        {
         "data": "01/01/2019",
         "fim_de_semana": 0,
         "ano": 2019,
         "_deepnote_index_column": 138
        },
        {
         "data": "01/01/2019",
         "fim_de_semana": 0,
         "ano": 2019,
         "_deepnote_index_column": 139
        },
        {
         "data": "01/01/2019",
         "fim_de_semana": 0,
         "ano": 2019,
         "_deepnote_index_column": 140
        },
        {
         "data": "01/01/2019",
         "fim_de_semana": 0,
         "ano": 2019,
         "_deepnote_index_column": 141
        },
        {
         "data": "01/01/2019",
         "fim_de_semana": 0,
         "ano": 2019,
         "_deepnote_index_column": 142
        },
        {
         "data": "01/01/2019",
         "fim_de_semana": 0,
         "ano": 2019,
         "_deepnote_index_column": 143
        },
        {
         "data": "01/01/2019",
         "fim_de_semana": 0,
         "ano": 2019,
         "_deepnote_index_column": 144
        },
        {
         "data": "01/01/2019",
         "fim_de_semana": 0,
         "ano": 2019,
         "_deepnote_index_column": 145
        },
        {
         "data": "01/01/2019",
         "fim_de_semana": 0,
         "ano": 2019,
         "_deepnote_index_column": 146
        },
        {
         "data": "01/01/2019",
         "fim_de_semana": 0,
         "ano": 2019,
         "_deepnote_index_column": 147
        },
        {
         "data": "01/01/2019",
         "fim_de_semana": 0,
         "ano": 2019,
         "_deepnote_index_column": 148
        },
        {
         "data": "01/01/2019",
         "fim_de_semana": 0,
         "ano": 2019,
         "_deepnote_index_column": 149
        },
        {
         "data": "01/01/2019",
         "fim_de_semana": 0,
         "ano": 2019,
         "_deepnote_index_column": 150
        },
        {
         "data": "01/01/2019",
         "fim_de_semana": 0,
         "ano": 2019,
         "_deepnote_index_column": 151
        },
        {
         "data": "01/01/2019",
         "fim_de_semana": 0,
         "ano": 2019,
         "_deepnote_index_column": 152
        },
        {
         "data": "01/01/2019",
         "fim_de_semana": 0,
         "ano": 2019,
         "_deepnote_index_column": 153
        },
        {
         "data": "01/01/2019",
         "fim_de_semana": 0,
         "ano": 2019,
         "_deepnote_index_column": 154
        },
        {
         "data": "01/01/2019",
         "fim_de_semana": 0,
         "ano": 2019,
         "_deepnote_index_column": 155
        },
        {
         "data": "01/01/2019",
         "fim_de_semana": 0,
         "ano": 2019,
         "_deepnote_index_column": 156
        },
        {
         "data": "01/01/2019",
         "fim_de_semana": 0,
         "ano": 2019,
         "_deepnote_index_column": 157
        },
        {
         "data": "01/01/2019",
         "fim_de_semana": 0,
         "ano": 2019,
         "_deepnote_index_column": 158
        },
        {
         "data": "01/01/2019",
         "fim_de_semana": 0,
         "ano": 2019,
         "_deepnote_index_column": 159
        },
        {
         "data": "01/01/2019",
         "fim_de_semana": 0,
         "ano": 2019,
         "_deepnote_index_column": 160
        },
        {
         "data": "01/01/2019",
         "fim_de_semana": 0,
         "ano": 2019,
         "_deepnote_index_column": 161
        },
        {
         "data": "01/01/2019",
         "fim_de_semana": 0,
         "ano": 2019,
         "_deepnote_index_column": 162
        },
        {
         "data": "01/01/2019",
         "fim_de_semana": 0,
         "ano": 2019,
         "_deepnote_index_column": 163
        },
        {
         "data": "01/01/2019",
         "fim_de_semana": 0,
         "ano": 2019,
         "_deepnote_index_column": 164
        },
        {
         "data": "01/01/2019",
         "fim_de_semana": 0,
         "ano": 2019,
         "_deepnote_index_column": 165
        }
       ],
       "rows_bottom": [
        {
         "data": "26/06/2021",
         "fim_de_semana": 1,
         "ano": 2021,
         "_deepnote_index_column": 320586
        },
        {
         "data": "19/06/2021",
         "fim_de_semana": 1,
         "ano": 2021,
         "_deepnote_index_column": 320587
        },
        {
         "data": "26/04/2021",
         "fim_de_semana": 0,
         "ano": 2021,
         "_deepnote_index_column": 320588
        },
        {
         "data": "14/06/2021",
         "fim_de_semana": 0,
         "ano": 2021,
         "_deepnote_index_column": 320589
        },
        {
         "data": "30/04/2021",
         "fim_de_semana": 0,
         "ano": 2021,
         "_deepnote_index_column": 320590
        },
        {
         "data": "28/06/2021",
         "fim_de_semana": 0,
         "ano": 2021,
         "_deepnote_index_column": 320591
        },
        {
         "data": "28/06/2021",
         "fim_de_semana": 0,
         "ano": 2021,
         "_deepnote_index_column": 320592
        },
        {
         "data": "09/06/2021",
         "fim_de_semana": 0,
         "ano": 2021,
         "_deepnote_index_column": 320593
        },
        {
         "data": "13/06/2021",
         "fim_de_semana": 1,
         "ano": 2021,
         "_deepnote_index_column": 320594
        },
        {
         "data": "24/06/2021",
         "fim_de_semana": 0,
         "ano": 2021,
         "_deepnote_index_column": 320595
        },
        {
         "data": "27/05/2021",
         "fim_de_semana": 0,
         "ano": 2021,
         "_deepnote_index_column": 320596
        },
        {
         "data": "05/06/2021",
         "fim_de_semana": 1,
         "ano": 2021,
         "_deepnote_index_column": 320597
        },
        {
         "data": "16/05/2021",
         "fim_de_semana": 1,
         "ano": 2021,
         "_deepnote_index_column": 320598
        },
        {
         "data": "29/06/2021",
         "fim_de_semana": 0,
         "ano": 2021,
         "_deepnote_index_column": 320599
        },
        {
         "data": "05/06/2021",
         "fim_de_semana": 1,
         "ano": 2021,
         "_deepnote_index_column": 320600
        },
        {
         "data": "29/06/2021",
         "fim_de_semana": 0,
         "ano": 2021,
         "_deepnote_index_column": 320601
        },
        {
         "data": "07/06/2021",
         "fim_de_semana": 0,
         "ano": 2021,
         "_deepnote_index_column": 320602
        },
        {
         "data": "06/06/2021",
         "fim_de_semana": 1,
         "ano": 2021,
         "_deepnote_index_column": 320603
        },
        {
         "data": "21/06/2021",
         "fim_de_semana": 0,
         "ano": 2021,
         "_deepnote_index_column": 320604
        },
        {
         "data": "04/06/2021",
         "fim_de_semana": 0,
         "ano": 2021,
         "_deepnote_index_column": 320605
        },
        {
         "data": "26/06/2021",
         "fim_de_semana": 1,
         "ano": 2021,
         "_deepnote_index_column": 320606
        },
        {
         "data": "21/06/2021",
         "fim_de_semana": 0,
         "ano": 2021,
         "_deepnote_index_column": 320607
        },
        {
         "data": "22/05/2021",
         "fim_de_semana": 1,
         "ano": 2021,
         "_deepnote_index_column": 320608
        },
        {
         "data": "11/06/2021",
         "fim_de_semana": 0,
         "ano": 2021,
         "_deepnote_index_column": 320609
        },
        {
         "data": "31/05/2021",
         "fim_de_semana": 0,
         "ano": 2021,
         "_deepnote_index_column": 320610
        },
        {
         "data": "15/06/2021",
         "fim_de_semana": 0,
         "ano": 2021,
         "_deepnote_index_column": 320611
        },
        {
         "data": "12/05/2021",
         "fim_de_semana": 0,
         "ano": 2021,
         "_deepnote_index_column": 320612
        },
        {
         "data": "13/06/2021",
         "fim_de_semana": 1,
         "ano": 2021,
         "_deepnote_index_column": 320613
        },
        {
         "data": "20/06/2021",
         "fim_de_semana": 1,
         "ano": 2021,
         "_deepnote_index_column": 320614
        },
        {
         "data": "29/05/2021",
         "fim_de_semana": 1,
         "ano": 2021,
         "_deepnote_index_column": 320615
        },
        {
         "data": "26/06/2021",
         "fim_de_semana": 1,
         "ano": 2021,
         "_deepnote_index_column": 320616
        },
        {
         "data": "18/06/2021",
         "fim_de_semana": 0,
         "ano": 2021,
         "_deepnote_index_column": 320617
        },
        {
         "data": "06/06/2021",
         "fim_de_semana": 1,
         "ano": 2021,
         "_deepnote_index_column": 320618
        },
        {
         "data": "24/06/2021",
         "fim_de_semana": 0,
         "ano": 2021,
         "_deepnote_index_column": 320619
        },
        {
         "data": "04/06/2021",
         "fim_de_semana": 0,
         "ano": 2021,
         "_deepnote_index_column": 320620
        },
        {
         "data": "02/03/2021",
         "fim_de_semana": 0,
         "ano": 2021,
         "_deepnote_index_column": 320621
        },
        {
         "data": "18/06/2021",
         "fim_de_semana": 0,
         "ano": 2021,
         "_deepnote_index_column": 320622
        },
        {
         "data": "10/06/2021",
         "fim_de_semana": 0,
         "ano": 2021,
         "_deepnote_index_column": 320623
        },
        {
         "data": "18/06/2021",
         "fim_de_semana": 0,
         "ano": 2021,
         "_deepnote_index_column": 320624
        },
        {
         "data": "07/06/2021",
         "fim_de_semana": 0,
         "ano": 2021,
         "_deepnote_index_column": 320625
        },
        {
         "data": "23/06/2021",
         "fim_de_semana": 0,
         "ano": 2021,
         "_deepnote_index_column": 320626
        },
        {
         "data": "04/04/2021",
         "fim_de_semana": 1,
         "ano": 2021,
         "_deepnote_index_column": 320627
        },
        {
         "data": "22/06/2021",
         "fim_de_semana": 0,
         "ano": 2021,
         "_deepnote_index_column": 320628
        },
        {
         "data": "07/06/2021",
         "fim_de_semana": 0,
         "ano": 2021,
         "_deepnote_index_column": 320629
        },
        {
         "data": "20/06/2021",
         "fim_de_semana": 1,
         "ano": 2021,
         "_deepnote_index_column": 320630
        },
        {
         "data": "27/06/2021",
         "fim_de_semana": 1,
         "ano": 2021,
         "_deepnote_index_column": 320631
        },
        {
         "data": "14/06/2021",
         "fim_de_semana": 0,
         "ano": 2021,
         "_deepnote_index_column": 320632
        },
        {
         "data": "30/06/2021",
         "fim_de_semana": 0,
         "ano": 2021,
         "_deepnote_index_column": 320633
        },
        {
         "data": "20/06/2021",
         "fim_de_semana": 1,
         "ano": 2021,
         "_deepnote_index_column": 320634
        },
        {
         "data": "16/06/2021",
         "fim_de_semana": 0,
         "ano": 2021,
         "_deepnote_index_column": 320635
        },
        {
         "data": "22/06/2021",
         "fim_de_semana": 0,
         "ano": 2021,
         "_deepnote_index_column": 320636
        },
        {
         "data": "24/06/2021",
         "fim_de_semana": 0,
         "ano": 2021,
         "_deepnote_index_column": 320637
        },
        {
         "data": "12/05/2021",
         "fim_de_semana": 0,
         "ano": 2021,
         "_deepnote_index_column": 320638
        },
        {
         "data": "25/06/2021",
         "fim_de_semana": 0,
         "ano": 2021,
         "_deepnote_index_column": 320639
        },
        {
         "data": "28/06/2021",
         "fim_de_semana": 0,
         "ano": 2021,
         "_deepnote_index_column": 320640
        },
        {
         "data": "24/06/2021",
         "fim_de_semana": 0,
         "ano": 2021,
         "_deepnote_index_column": 320641
        },
        {
         "data": "09/03/2021",
         "fim_de_semana": 0,
         "ano": 2021,
         "_deepnote_index_column": 320642
        },
        {
         "data": "09/06/2021",
         "fim_de_semana": 0,
         "ano": 2021,
         "_deepnote_index_column": 320643
        },
        {
         "data": "19/06/2021",
         "fim_de_semana": 1,
         "ano": 2021,
         "_deepnote_index_column": 320644
        },
        {
         "data": "16/02/2021",
         "fim_de_semana": 0,
         "ano": 2021,
         "_deepnote_index_column": 320645
        },
        {
         "data": "13/06/2021",
         "fim_de_semana": 1,
         "ano": 2021,
         "_deepnote_index_column": 320646
        },
        {
         "data": "24/06/2021",
         "fim_de_semana": 0,
         "ano": 2021,
         "_deepnote_index_column": 320647
        },
        {
         "data": "12/06/2021",
         "fim_de_semana": 1,
         "ano": 2021,
         "_deepnote_index_column": 320648
        },
        {
         "data": "20/06/2021",
         "fim_de_semana": 1,
         "ano": 2021,
         "_deepnote_index_column": 320649
        },
        {
         "data": "28/06/2021",
         "fim_de_semana": 0,
         "ano": 2021,
         "_deepnote_index_column": 320650
        },
        {
         "data": "25/06/2021",
         "fim_de_semana": 0,
         "ano": 2021,
         "_deepnote_index_column": 320651
        },
        {
         "data": "30/06/2021",
         "fim_de_semana": 0,
         "ano": 2021,
         "_deepnote_index_column": 320652
        },
        {
         "data": "04/05/2021",
         "fim_de_semana": 0,
         "ano": 2021,
         "_deepnote_index_column": 320653
        },
        {
         "data": "29/05/2021",
         "fim_de_semana": 1,
         "ano": 2021,
         "_deepnote_index_column": 320654
        },
        {
         "data": "23/06/2021",
         "fim_de_semana": 0,
         "ano": 2021,
         "_deepnote_index_column": 320655
        },
        {
         "data": "25/06/2021",
         "fim_de_semana": 0,
         "ano": 2021,
         "_deepnote_index_column": 320656
        },
        {
         "data": "05/06/2021",
         "fim_de_semana": 1,
         "ano": 2021,
         "_deepnote_index_column": 320657
        },
        {
         "data": "05/06/2021",
         "fim_de_semana": 1,
         "ano": 2021,
         "_deepnote_index_column": 320658
        },
        {
         "data": "29/06/2021",
         "fim_de_semana": 0,
         "ano": 2021,
         "_deepnote_index_column": 320659
        },
        {
         "data": "28/05/2021",
         "fim_de_semana": 0,
         "ano": 2021,
         "_deepnote_index_column": 320660
        },
        {
         "data": "29/06/2021",
         "fim_de_semana": 0,
         "ano": 2021,
         "_deepnote_index_column": 320661
        },
        {
         "data": "02/06/2021",
         "fim_de_semana": 0,
         "ano": 2021,
         "_deepnote_index_column": 320662
        },
        {
         "data": "13/05/2021",
         "fim_de_semana": 0,
         "ano": 2021,
         "_deepnote_index_column": 320663
        },
        {
         "data": "22/06/2021",
         "fim_de_semana": 0,
         "ano": 2021,
         "_deepnote_index_column": 320664
        },
        {
         "data": "25/06/2021",
         "fim_de_semana": 0,
         "ano": 2021,
         "_deepnote_index_column": 320665
        },
        {
         "data": "04/05/2021",
         "fim_de_semana": 0,
         "ano": 2021,
         "_deepnote_index_column": 320666
        },
        {
         "data": "06/04/2021",
         "fim_de_semana": 0,
         "ano": 2021,
         "_deepnote_index_column": 320667
        },
        {
         "data": "15/03/2021",
         "fim_de_semana": 0,
         "ano": 2021,
         "_deepnote_index_column": 320668
        },
        {
         "data": "15/05/2021",
         "fim_de_semana": 1,
         "ano": 2021,
         "_deepnote_index_column": 320669
        },
        {
         "data": "08/06/2021",
         "fim_de_semana": 0,
         "ano": 2021,
         "_deepnote_index_column": 320670
        },
        {
         "data": "08/06/2021",
         "fim_de_semana": 0,
         "ano": 2021,
         "_deepnote_index_column": 320671
        },
        {
         "data": "18/06/2021",
         "fim_de_semana": 0,
         "ano": 2021,
         "_deepnote_index_column": 320672
        },
        {
         "data": "23/06/2021",
         "fim_de_semana": 0,
         "ano": 2021,
         "_deepnote_index_column": 320673
        },
        {
         "data": "16/06/2021",
         "fim_de_semana": 0,
         "ano": 2021,
         "_deepnote_index_column": 320674
        },
        {
         "data": "30/04/2021",
         "fim_de_semana": 0,
         "ano": 2021,
         "_deepnote_index_column": 320675
        },
        {
         "data": "19/06/2021",
         "fim_de_semana": 1,
         "ano": 2021,
         "_deepnote_index_column": 320676
        },
        {
         "data": "05/04/2021",
         "fim_de_semana": 0,
         "ano": 2021,
         "_deepnote_index_column": 320677
        },
        {
         "data": "03/01/2021",
         "fim_de_semana": 1,
         "ano": 2021,
         "_deepnote_index_column": 320678
        },
        {
         "data": "24/06/2021",
         "fim_de_semana": 0,
         "ano": 2021,
         "_deepnote_index_column": 320679
        },
        {
         "data": "13/06/2021",
         "fim_de_semana": 1,
         "ano": 2021,
         "_deepnote_index_column": 320680
        },
        {
         "data": "24/02/2021",
         "fim_de_semana": 0,
         "ano": 2021,
         "_deepnote_index_column": 320681
        },
        {
         "data": "31/05/2021",
         "fim_de_semana": 0,
         "ano": 2021,
         "_deepnote_index_column": 320682
        },
        {
         "data": "05/06/2021",
         "fim_de_semana": 1,
         "ano": 2021,
         "_deepnote_index_column": 320683
        },
        {
         "data": "15/05/2021",
         "fim_de_semana": 1,
         "ano": 2021,
         "_deepnote_index_column": 320684
        },
        {
         "data": "13/06/2021",
         "fim_de_semana": 1,
         "ano": 2021,
         "_deepnote_index_column": 320685
        },
        {
         "data": "08/06/2021",
         "fim_de_semana": 0,
         "ano": 2021,
         "_deepnote_index_column": 320686
        },
        {
         "data": "02/06/2021",
         "fim_de_semana": 0,
         "ano": 2021,
         "_deepnote_index_column": 320687
        },
        {
         "data": "22/05/2021",
         "fim_de_semana": 1,
         "ano": 2021,
         "_deepnote_index_column": 320688
        },
        {
         "data": "21/06/2021",
         "fim_de_semana": 0,
         "ano": 2021,
         "_deepnote_index_column": 320689
        },
        {
         "data": "07/01/2021",
         "fim_de_semana": 0,
         "ano": 2021,
         "_deepnote_index_column": 320690
        },
        {
         "data": "06/01/2021",
         "fim_de_semana": 0,
         "ano": 2021,
         "_deepnote_index_column": 320691
        },
        {
         "data": "30/05/2021",
         "fim_de_semana": 1,
         "ano": 2021,
         "_deepnote_index_column": 320692
        },
        {
         "data": "05/02/2021",
         "fim_de_semana": 0,
         "ano": 2021,
         "_deepnote_index_column": 320693
        },
        {
         "data": "06/06/2021",
         "fim_de_semana": 1,
         "ano": 2021,
         "_deepnote_index_column": 320694
        },
        {
         "data": "01/06/2021",
         "fim_de_semana": 0,
         "ano": 2021,
         "_deepnote_index_column": 320695
        },
        {
         "data": "14/06/2021",
         "fim_de_semana": 0,
         "ano": 2021,
         "_deepnote_index_column": 320696
        },
        {
         "data": "18/06/2021",
         "fim_de_semana": 0,
         "ano": 2021,
         "_deepnote_index_column": 320697
        },
        {
         "data": "23/04/2021",
         "fim_de_semana": 0,
         "ano": 2021,
         "_deepnote_index_column": 320698
        },
        {
         "data": "02/06/2021",
         "fim_de_semana": 0,
         "ano": 2021,
         "_deepnote_index_column": 320699
        },
        {
         "data": "19/03/2021",
         "fim_de_semana": 0,
         "ano": 2021,
         "_deepnote_index_column": 320700
        },
        {
         "data": "20/05/2021",
         "fim_de_semana": 0,
         "ano": 2021,
         "_deepnote_index_column": 320701
        },
        {
         "data": "03/06/2021",
         "fim_de_semana": 0,
         "ano": 2021,
         "_deepnote_index_column": 320702
        },
        {
         "data": "03/06/2021",
         "fim_de_semana": 0,
         "ano": 2021,
         "_deepnote_index_column": 320703
        },
        {
         "data": "10/05/2021",
         "fim_de_semana": 0,
         "ano": 2021,
         "_deepnote_index_column": 320704
        },
        {
         "data": "19/03/2021",
         "fim_de_semana": 0,
         "ano": 2021,
         "_deepnote_index_column": 320705
        },
        {
         "data": "18/06/2021",
         "fim_de_semana": 0,
         "ano": 2021,
         "_deepnote_index_column": 320706
        },
        {
         "data": "12/03/2021",
         "fim_de_semana": 0,
         "ano": 2021,
         "_deepnote_index_column": 320707
        },
        {
         "data": "12/06/2021",
         "fim_de_semana": 1,
         "ano": 2021,
         "_deepnote_index_column": 320708
        },
        {
         "data": "23/05/2021",
         "fim_de_semana": 1,
         "ano": 2021,
         "_deepnote_index_column": 320709
        },
        {
         "data": "08/06/2021",
         "fim_de_semana": 0,
         "ano": 2021,
         "_deepnote_index_column": 320710
        },
        {
         "data": "20/06/2021",
         "fim_de_semana": 1,
         "ano": 2021,
         "_deepnote_index_column": 320711
        },
        {
         "data": "25/06/2021",
         "fim_de_semana": 0,
         "ano": 2021,
         "_deepnote_index_column": 320712
        },
        {
         "data": "31/05/2021",
         "fim_de_semana": 0,
         "ano": 2021,
         "_deepnote_index_column": 320713
        },
        {
         "data": "19/06/2021",
         "fim_de_semana": 1,
         "ano": 2021,
         "_deepnote_index_column": 320714
        },
        {
         "data": "12/06/2021",
         "fim_de_semana": 1,
         "ano": 2021,
         "_deepnote_index_column": 320715
        },
        {
         "data": "28/06/2021",
         "fim_de_semana": 0,
         "ano": 2021,
         "_deepnote_index_column": 320716
        },
        {
         "data": "29/06/2021",
         "fim_de_semana": 0,
         "ano": 2021,
         "_deepnote_index_column": 320717
        },
        {
         "data": "21/06/2021",
         "fim_de_semana": 0,
         "ano": 2021,
         "_deepnote_index_column": 320718
        },
        {
         "data": "01/06/2021",
         "fim_de_semana": 0,
         "ano": 2021,
         "_deepnote_index_column": 320719
        },
        {
         "data": "13/06/2021",
         "fim_de_semana": 1,
         "ano": 2021,
         "_deepnote_index_column": 320720
        },
        {
         "data": "13/06/2021",
         "fim_de_semana": 1,
         "ano": 2021,
         "_deepnote_index_column": 320721
        },
        {
         "data": "23/06/2021",
         "fim_de_semana": 0,
         "ano": 2021,
         "_deepnote_index_column": 320722
        },
        {
         "data": "20/06/2021",
         "fim_de_semana": 1,
         "ano": 2021,
         "_deepnote_index_column": 320723
        },
        {
         "data": "18/06/2021",
         "fim_de_semana": 0,
         "ano": 2021,
         "_deepnote_index_column": 320724
        },
        {
         "data": "31/05/2021",
         "fim_de_semana": 0,
         "ano": 2021,
         "_deepnote_index_column": 320725
        },
        {
         "data": "17/03/2021",
         "fim_de_semana": 0,
         "ano": 2021,
         "_deepnote_index_column": 320726
        },
        {
         "data": "22/06/2021",
         "fim_de_semana": 0,
         "ano": 2021,
         "_deepnote_index_column": 320727
        },
        {
         "data": "18/06/2021",
         "fim_de_semana": 0,
         "ano": 2021,
         "_deepnote_index_column": 320728
        },
        {
         "data": "25/04/2021",
         "fim_de_semana": 1,
         "ano": 2021,
         "_deepnote_index_column": 320729
        },
        {
         "data": "29/05/2021",
         "fim_de_semana": 1,
         "ano": 2021,
         "_deepnote_index_column": 320730
        },
        {
         "data": "29/05/2021",
         "fim_de_semana": 1,
         "ano": 2021,
         "_deepnote_index_column": 320731
        },
        {
         "data": "10/05/2021",
         "fim_de_semana": 0,
         "ano": 2021,
         "_deepnote_index_column": 320732
        },
        {
         "data": "25/05/2021",
         "fim_de_semana": 0,
         "ano": 2021,
         "_deepnote_index_column": 320733
        },
        {
         "data": "06/04/2021",
         "fim_de_semana": 0,
         "ano": 2021,
         "_deepnote_index_column": 320734
        },
        {
         "data": "01/06/2021",
         "fim_de_semana": 0,
         "ano": 2021,
         "_deepnote_index_column": 320735
        },
        {
         "data": "08/06/2021",
         "fim_de_semana": 0,
         "ano": 2021,
         "_deepnote_index_column": 320736
        },
        {
         "data": "07/06/2021",
         "fim_de_semana": 0,
         "ano": 2021,
         "_deepnote_index_column": 320737
        },
        {
         "data": "12/05/2021",
         "fim_de_semana": 0,
         "ano": 2021,
         "_deepnote_index_column": 320738
        },
        {
         "data": "30/06/2021",
         "fim_de_semana": 0,
         "ano": 2021,
         "_deepnote_index_column": 320739
        },
        {
         "data": "30/06/2021",
         "fim_de_semana": 0,
         "ano": 2021,
         "_deepnote_index_column": 320740
        },
        {
         "data": "08/06/2021",
         "fim_de_semana": 0,
         "ano": 2021,
         "_deepnote_index_column": 320741
        },
        {
         "data": "20/06/2021",
         "fim_de_semana": 1,
         "ano": 2021,
         "_deepnote_index_column": 320742
        },
        {
         "data": "24/06/2021",
         "fim_de_semana": 0,
         "ano": 2021,
         "_deepnote_index_column": 320743
        },
        {
         "data": "25/01/2021",
         "fim_de_semana": 0,
         "ano": 2021,
         "_deepnote_index_column": 320744
        },
        {
         "data": "27/05/2021",
         "fim_de_semana": 0,
         "ano": 2021,
         "_deepnote_index_column": 320745
        },
        {
         "data": "26/05/2021",
         "fim_de_semana": 0,
         "ano": 2021,
         "_deepnote_index_column": 320746
        },
        {
         "data": "15/02/2021",
         "fim_de_semana": 0,
         "ano": 2021,
         "_deepnote_index_column": 320747
        },
        {
         "data": "16/06/2021",
         "fim_de_semana": 0,
         "ano": 2021,
         "_deepnote_index_column": 320748
        },
        {
         "data": "28/06/2021",
         "fim_de_semana": 0,
         "ano": 2021,
         "_deepnote_index_column": 320749
        },
        {
         "data": "13/06/2021",
         "fim_de_semana": 1,
         "ano": 2021,
         "_deepnote_index_column": 320750
        },
        {
         "data": "02/06/2021",
         "fim_de_semana": 0,
         "ano": 2021,
         "_deepnote_index_column": 320751
        },
        {
         "data": "01/01/2021",
         "fim_de_semana": 0,
         "ano": 2021,
         "_deepnote_index_column": 320752
        }
       ]
      },
      "text/plain": "              data  fim_de_semana   ano\n0       01/01/2019              0  2019\n1       01/01/2019              0  2019\n2       01/01/2019              0  2019\n3       01/01/2019              0  2019\n4       01/01/2019              0  2019\n...            ...            ...   ...\n320748  16/06/2021              0  2021\n320749  28/06/2021              0  2021\n320750  13/06/2021              1  2021\n320751  02/06/2021              0  2021\n320752  01/01/2021              0  2021\n\n[320156 rows x 3 columns]",
      "text/html": "<div>\n<style scoped>\n    .dataframe tbody tr th:only-of-type {\n        vertical-align: middle;\n    }\n\n    .dataframe tbody tr th {\n        vertical-align: top;\n    }\n\n    .dataframe thead th {\n        text-align: right;\n    }\n</style>\n<table border=\"1\" class=\"dataframe\">\n  <thead>\n    <tr style=\"text-align: right;\">\n      <th></th>\n      <th>data</th>\n      <th>fim_de_semana</th>\n      <th>ano</th>\n    </tr>\n  </thead>\n  <tbody>\n    <tr>\n      <th>0</th>\n      <td>01/01/2019</td>\n      <td>0</td>\n      <td>2019</td>\n    </tr>\n    <tr>\n      <th>1</th>\n      <td>01/01/2019</td>\n      <td>0</td>\n      <td>2019</td>\n    </tr>\n    <tr>\n      <th>2</th>\n      <td>01/01/2019</td>\n      <td>0</td>\n      <td>2019</td>\n    </tr>\n    <tr>\n      <th>3</th>\n      <td>01/01/2019</td>\n      <td>0</td>\n      <td>2019</td>\n    </tr>\n    <tr>\n      <th>4</th>\n      <td>01/01/2019</td>\n      <td>0</td>\n      <td>2019</td>\n    </tr>\n    <tr>\n      <th>...</th>\n      <td>...</td>\n      <td>...</td>\n      <td>...</td>\n    </tr>\n    <tr>\n      <th>320748</th>\n      <td>16/06/2021</td>\n      <td>0</td>\n      <td>2021</td>\n    </tr>\n    <tr>\n      <th>320749</th>\n      <td>28/06/2021</td>\n      <td>0</td>\n      <td>2021</td>\n    </tr>\n    <tr>\n      <th>320750</th>\n      <td>13/06/2021</td>\n      <td>1</td>\n      <td>2021</td>\n    </tr>\n    <tr>\n      <th>320751</th>\n      <td>02/06/2021</td>\n      <td>0</td>\n      <td>2021</td>\n    </tr>\n    <tr>\n      <th>320752</th>\n      <td>01/01/2021</td>\n      <td>0</td>\n      <td>2021</td>\n    </tr>\n  </tbody>\n</table>\n<p>320156 rows × 3 columns</p>\n</div>"
     },
     "metadata": {}
    }
   ]
  },
  {
   "cell_type": "code",
   "metadata": {
    "tags": [],
    "cell_id": "00017-870d2873-f4c9-4622-b997-1467b7fe5132",
    "deepnote_to_be_reexecuted": false,
    "source_hash": "330f2139",
    "execution_start": 1634302886430,
    "execution_millis": 3790,
    "deepnote_cell_type": "code"
   },
   "source": "def periodo(linha):\n  horario = linha['horario']\n  if '06:00:00' <= horario <= '11:59:00': return 'Manha'\n  elif '12:00:00' <= horario <= '17:59:00': return 'Tarde'\n  elif '18:00:00' <= horario <= '23:59:00': return 'Noite'\n  elif '00:00:00' <= horario <= '05:59:00': return 'Madrugada'\n  else: return ''\n\nocorrencias['periodo'] = ocorrencias.apply(periodo, axis=1)\nocorrencias[['horario','periodo']]",
   "execution_count": 17,
   "outputs": [
    {
     "output_type": "execute_result",
     "execution_count": 17,
     "data": {
      "application/vnd.deepnote.dataframe.v2+json": {
       "row_count": 320156,
       "column_count": 2,
       "columns": [
        {
         "name": "horario",
         "dtype": "object"
        },
        {
         "name": "periodo",
         "dtype": "object"
        },
        {
         "name": "_deepnote_index_column",
         "dtype": "int64"
        }
       ],
       "rows_top": [
        {
         "horario": "01:30:00",
         "periodo": "Madrugada",
         "_deepnote_index_column": 0
        },
        {
         "horario": "01:30:00",
         "periodo": "Madrugada",
         "_deepnote_index_column": 1
        },
        {
         "horario": "00:45:00",
         "periodo": "Madrugada",
         "_deepnote_index_column": 2
        },
        {
         "horario": "00:00:00",
         "periodo": "Madrugada",
         "_deepnote_index_column": 3
        },
        {
         "horario": "01:00:00",
         "periodo": "Madrugada",
         "_deepnote_index_column": 4
        },
        {
         "horario": "01:50:00",
         "periodo": "Madrugada",
         "_deepnote_index_column": 5
        },
        {
         "horario": "01:30:00",
         "periodo": "Madrugada",
         "_deepnote_index_column": 6
        },
        {
         "horario": "00:50:00",
         "periodo": "Madrugada",
         "_deepnote_index_column": 7
        },
        {
         "horario": "02:25:00",
         "periodo": "Madrugada",
         "_deepnote_index_column": 8
        },
        {
         "horario": "02:15:00",
         "periodo": "Madrugada",
         "_deepnote_index_column": 9
        },
        {
         "horario": "02:00:00",
         "periodo": "Madrugada",
         "_deepnote_index_column": 10
        },
        {
         "horario": "02:10:00",
         "periodo": "Madrugada",
         "_deepnote_index_column": 11
        },
        {
         "horario": "02:30:00",
         "periodo": "Madrugada",
         "_deepnote_index_column": 12
        },
        {
         "horario": "03:05:00",
         "periodo": "Madrugada",
         "_deepnote_index_column": 13
        },
        {
         "horario": "03:50:00",
         "periodo": "Madrugada",
         "_deepnote_index_column": 14
        },
        {
         "horario": "02:40:00",
         "periodo": "Madrugada",
         "_deepnote_index_column": 15
        },
        {
         "horario": "03:00:00",
         "periodo": "Madrugada",
         "_deepnote_index_column": 16
        },
        {
         "horario": "03:30:00",
         "periodo": "Madrugada",
         "_deepnote_index_column": 17
        },
        {
         "horario": "04:00:00",
         "periodo": "Madrugada",
         "_deepnote_index_column": 18
        },
        {
         "horario": "04:00:00",
         "periodo": "Madrugada",
         "_deepnote_index_column": 19
        },
        {
         "horario": "03:50:00",
         "periodo": "Madrugada",
         "_deepnote_index_column": 20
        },
        {
         "horario": "04:40:00",
         "periodo": "Madrugada",
         "_deepnote_index_column": 21
        },
        {
         "horario": "04:50:00",
         "periodo": "Madrugada",
         "_deepnote_index_column": 22
        },
        {
         "horario": "06:15:00",
         "periodo": "Manha",
         "_deepnote_index_column": 23
        },
        {
         "horario": "04:50:00",
         "periodo": "Madrugada",
         "_deepnote_index_column": 24
        },
        {
         "horario": "06:00:00",
         "periodo": "Manha",
         "_deepnote_index_column": 25
        },
        {
         "horario": "07:00:00",
         "periodo": "Manha",
         "_deepnote_index_column": 26
        },
        {
         "horario": "03:00:00",
         "periodo": "Madrugada",
         "_deepnote_index_column": 27
        },
        {
         "horario": "06:30:00",
         "periodo": "Manha",
         "_deepnote_index_column": 28
        },
        {
         "horario": "04:20:00",
         "periodo": "Madrugada",
         "_deepnote_index_column": 29
        },
        {
         "horario": "07:00:00",
         "periodo": "Manha",
         "_deepnote_index_column": 30
        },
        {
         "horario": "08:05:00",
         "periodo": "Manha",
         "_deepnote_index_column": 31
        },
        {
         "horario": "00:20:00",
         "periodo": "Madrugada",
         "_deepnote_index_column": 32
        },
        {
         "horario": "03:50:00",
         "periodo": "Madrugada",
         "_deepnote_index_column": 33
        },
        {
         "horario": "08:20:00",
         "periodo": "Manha",
         "_deepnote_index_column": 34
        },
        {
         "horario": "04:00:00",
         "periodo": "Madrugada",
         "_deepnote_index_column": 35
        },
        {
         "horario": "07:45:00",
         "periodo": "Manha",
         "_deepnote_index_column": 36
        },
        {
         "horario": "07:20:00",
         "periodo": "Manha",
         "_deepnote_index_column": 37
        },
        {
         "horario": "06:00:00",
         "periodo": "Manha",
         "_deepnote_index_column": 38
        },
        {
         "horario": "06:15:00",
         "periodo": "Manha",
         "_deepnote_index_column": 39
        },
        {
         "horario": "08:50:00",
         "periodo": "Manha",
         "_deepnote_index_column": 40
        },
        {
         "horario": "09:40:00",
         "periodo": "Manha",
         "_deepnote_index_column": 41
        },
        {
         "horario": "05:00:00",
         "periodo": "Madrugada",
         "_deepnote_index_column": 42
        },
        {
         "horario": "09:30:00",
         "periodo": "Manha",
         "_deepnote_index_column": 43
        },
        {
         "horario": "09:28:00",
         "periodo": "Manha",
         "_deepnote_index_column": 44
        },
        {
         "horario": "07:30:00",
         "periodo": "Manha",
         "_deepnote_index_column": 45
        },
        {
         "horario": "10:00:00",
         "periodo": "Manha",
         "_deepnote_index_column": 46
        },
        {
         "horario": "04:15:00",
         "periodo": "Madrugada",
         "_deepnote_index_column": 47
        },
        {
         "horario": "10:15:00",
         "periodo": "Manha",
         "_deepnote_index_column": 48
        },
        {
         "horario": "10:00:00",
         "periodo": "Manha",
         "_deepnote_index_column": 49
        },
        {
         "horario": "05:30:00",
         "periodo": "Madrugada",
         "_deepnote_index_column": 50
        },
        {
         "horario": "10:00:00",
         "periodo": "Manha",
         "_deepnote_index_column": 51
        },
        {
         "horario": "11:20:00",
         "periodo": "Manha",
         "_deepnote_index_column": 52
        },
        {
         "horario": "09:00:00",
         "periodo": "Manha",
         "_deepnote_index_column": 53
        },
        {
         "horario": "11:00:00",
         "periodo": "Manha",
         "_deepnote_index_column": 54
        },
        {
         "horario": "11:50:00",
         "periodo": "Manha",
         "_deepnote_index_column": 55
        },
        {
         "horario": "11:25:00",
         "periodo": "Manha",
         "_deepnote_index_column": 56
        },
        {
         "horario": "11:45:00",
         "periodo": "Manha",
         "_deepnote_index_column": 57
        },
        {
         "horario": "10:45:00",
         "periodo": "Manha",
         "_deepnote_index_column": 58
        },
        {
         "horario": "12:10:00",
         "periodo": "Tarde",
         "_deepnote_index_column": 59
        },
        {
         "horario": "05:30:00",
         "periodo": "Madrugada",
         "_deepnote_index_column": 60
        },
        {
         "horario": "11:20:00",
         "periodo": "Manha",
         "_deepnote_index_column": 61
        },
        {
         "horario": "08:30:00",
         "periodo": "Manha",
         "_deepnote_index_column": 62
        },
        {
         "horario": "13:10:00",
         "periodo": "Tarde",
         "_deepnote_index_column": 63
        },
        {
         "horario": "12:10:00",
         "periodo": "Tarde",
         "_deepnote_index_column": 64
        },
        {
         "horario": "13:20:00",
         "periodo": "Tarde",
         "_deepnote_index_column": 65
        },
        {
         "horario": "11:30:00",
         "periodo": "Manha",
         "_deepnote_index_column": 66
        },
        {
         "horario": "13:00:00",
         "periodo": "Tarde",
         "_deepnote_index_column": 67
        },
        {
         "horario": "13:40:00",
         "periodo": "Tarde",
         "_deepnote_index_column": 68
        },
        {
         "horario": "07:00:00",
         "periodo": "Manha",
         "_deepnote_index_column": 69
        },
        {
         "horario": "13:40:00",
         "periodo": "Tarde",
         "_deepnote_index_column": 70
        },
        {
         "horario": "12:30:00",
         "periodo": "Tarde",
         "_deepnote_index_column": 71
        },
        {
         "horario": "12:00:00",
         "periodo": "Tarde",
         "_deepnote_index_column": 72
        },
        {
         "horario": "14:00:00",
         "periodo": "Tarde",
         "_deepnote_index_column": 73
        },
        {
         "horario": "12:45:00",
         "periodo": "Tarde",
         "_deepnote_index_column": 74
        },
        {
         "horario": "13:40:00",
         "periodo": "Tarde",
         "_deepnote_index_column": 75
        },
        {
         "horario": "12:10:00",
         "periodo": "Tarde",
         "_deepnote_index_column": 76
        },
        {
         "horario": "13:50:00",
         "periodo": "Tarde",
         "_deepnote_index_column": 77
        },
        {
         "horario": "14:40:00",
         "periodo": "Tarde",
         "_deepnote_index_column": 78
        },
        {
         "horario": "13:15:00",
         "periodo": "Tarde",
         "_deepnote_index_column": 79
        },
        {
         "horario": "13:50:00",
         "periodo": "Tarde",
         "_deepnote_index_column": 80
        },
        {
         "horario": "12:20:00",
         "periodo": "Tarde",
         "_deepnote_index_column": 81
        },
        {
         "horario": "13:45:00",
         "periodo": "Tarde",
         "_deepnote_index_column": 82
        },
        {
         "horario": "12:45:00",
         "periodo": "Tarde",
         "_deepnote_index_column": 83
        },
        {
         "horario": "15:00:00",
         "periodo": "Tarde",
         "_deepnote_index_column": 84
        },
        {
         "horario": "15:15:00",
         "periodo": "Tarde",
         "_deepnote_index_column": 85
        },
        {
         "horario": "15:20:00",
         "periodo": "Tarde",
         "_deepnote_index_column": 86
        },
        {
         "horario": "15:45:00",
         "periodo": "Tarde",
         "_deepnote_index_column": 87
        },
        {
         "horario": "16:00:00",
         "periodo": "Tarde",
         "_deepnote_index_column": 88
        },
        {
         "horario": "15:20:00",
         "periodo": "Tarde",
         "_deepnote_index_column": 89
        },
        {
         "horario": "15:30:00",
         "periodo": "Tarde",
         "_deepnote_index_column": 90
        },
        {
         "horario": "15:30:00",
         "periodo": "Tarde",
         "_deepnote_index_column": 91
        },
        {
         "horario": "14:00:00",
         "periodo": "Tarde",
         "_deepnote_index_column": 92
        },
        {
         "horario": "16:15:00",
         "periodo": "Tarde",
         "_deepnote_index_column": 93
        },
        {
         "horario": "15:00:00",
         "periodo": "Tarde",
         "_deepnote_index_column": 94
        },
        {
         "horario": "13:00:00",
         "periodo": "Tarde",
         "_deepnote_index_column": 95
        },
        {
         "horario": "15:45:00",
         "periodo": "Tarde",
         "_deepnote_index_column": 96
        },
        {
         "horario": "14:00:00",
         "periodo": "Tarde",
         "_deepnote_index_column": 97
        },
        {
         "horario": "16:45:00",
         "periodo": "Tarde",
         "_deepnote_index_column": 98
        },
        {
         "horario": "16:40:00",
         "periodo": "Tarde",
         "_deepnote_index_column": 99
        },
        {
         "horario": "14:45:00",
         "periodo": "Tarde",
         "_deepnote_index_column": 100
        },
        {
         "horario": "16:40:00",
         "periodo": "Tarde",
         "_deepnote_index_column": 101
        },
        {
         "horario": "16:50:00",
         "periodo": "Tarde",
         "_deepnote_index_column": 102
        },
        {
         "horario": "17:15:00",
         "periodo": "Tarde",
         "_deepnote_index_column": 103
        },
        {
         "horario": "15:45:00",
         "periodo": "Tarde",
         "_deepnote_index_column": 104
        },
        {
         "horario": "15:40:00",
         "periodo": "Tarde",
         "_deepnote_index_column": 105
        },
        {
         "horario": "17:30:00",
         "periodo": "Tarde",
         "_deepnote_index_column": 106
        },
        {
         "horario": "17:00:00",
         "periodo": "Tarde",
         "_deepnote_index_column": 107
        },
        {
         "horario": "15:45:00",
         "periodo": "Tarde",
         "_deepnote_index_column": 108
        },
        {
         "horario": "17:55:00",
         "periodo": "Tarde",
         "_deepnote_index_column": 109
        },
        {
         "horario": "17:30:00",
         "periodo": "Tarde",
         "_deepnote_index_column": 110
        },
        {
         "horario": "17:30:00",
         "periodo": "Tarde",
         "_deepnote_index_column": 111
        },
        {
         "horario": "16:35:00",
         "periodo": "Tarde",
         "_deepnote_index_column": 112
        },
        {
         "horario": "17:10:00",
         "periodo": "Tarde",
         "_deepnote_index_column": 113
        },
        {
         "horario": "17:03:00",
         "periodo": "Tarde",
         "_deepnote_index_column": 114
        },
        {
         "horario": "18:30:00",
         "periodo": "Noite",
         "_deepnote_index_column": 115
        },
        {
         "horario": "18:10:00",
         "periodo": "Noite",
         "_deepnote_index_column": 116
        },
        {
         "horario": "17:50:00",
         "periodo": "Tarde",
         "_deepnote_index_column": 117
        },
        {
         "horario": "18:00:00",
         "periodo": "Noite",
         "_deepnote_index_column": 118
        },
        {
         "horario": "16:30:00",
         "periodo": "Tarde",
         "_deepnote_index_column": 119
        },
        {
         "horario": "19:00:00",
         "periodo": "Noite",
         "_deepnote_index_column": 120
        },
        {
         "horario": "18:50:00",
         "periodo": "Noite",
         "_deepnote_index_column": 121
        },
        {
         "horario": "18:30:00",
         "periodo": "Noite",
         "_deepnote_index_column": 122
        },
        {
         "horario": "17:00:00",
         "periodo": "Tarde",
         "_deepnote_index_column": 123
        },
        {
         "horario": "18:35:00",
         "periodo": "Noite",
         "_deepnote_index_column": 124
        },
        {
         "horario": "18:45:00",
         "periodo": "Noite",
         "_deepnote_index_column": 125
        },
        {
         "horario": "10:00:00",
         "periodo": "Manha",
         "_deepnote_index_column": 126
        },
        {
         "horario": "18:20:00",
         "periodo": "Noite",
         "_deepnote_index_column": 127
        },
        {
         "horario": "19:10:00",
         "periodo": "Noite",
         "_deepnote_index_column": 128
        },
        {
         "horario": "14:52:00",
         "periodo": "Tarde",
         "_deepnote_index_column": 129
        },
        {
         "horario": "19:00:00",
         "periodo": "Noite",
         "_deepnote_index_column": 130
        },
        {
         "horario": "18:40:00",
         "periodo": "Noite",
         "_deepnote_index_column": 131
        },
        {
         "horario": "18:00:00",
         "periodo": "Noite",
         "_deepnote_index_column": 132
        },
        {
         "horario": "18:20:00",
         "periodo": "Noite",
         "_deepnote_index_column": 133
        },
        {
         "horario": "18:30:00",
         "periodo": "Noite",
         "_deepnote_index_column": 134
        },
        {
         "horario": "16:30:00",
         "periodo": "Tarde",
         "_deepnote_index_column": 135
        },
        {
         "horario": "15:45:00",
         "periodo": "Tarde",
         "_deepnote_index_column": 136
        },
        {
         "horario": "17:15:00",
         "periodo": "Tarde",
         "_deepnote_index_column": 137
        },
        {
         "horario": "17:59:00",
         "periodo": "Tarde",
         "_deepnote_index_column": 138
        },
        {
         "horario": "18:20:00",
         "periodo": "Noite",
         "_deepnote_index_column": 139
        },
        {
         "horario": "18:00:00",
         "periodo": "Noite",
         "_deepnote_index_column": 140
        },
        {
         "horario": "18:20:00",
         "periodo": "Noite",
         "_deepnote_index_column": 141
        },
        {
         "horario": "17:00:00",
         "periodo": "Tarde",
         "_deepnote_index_column": 142
        },
        {
         "horario": "17:30:00",
         "periodo": "Tarde",
         "_deepnote_index_column": 143
        },
        {
         "horario": "20:00:00",
         "periodo": "Noite",
         "_deepnote_index_column": 144
        },
        {
         "horario": "16:55:00",
         "periodo": "Tarde",
         "_deepnote_index_column": 145
        },
        {
         "horario": "20:25:00",
         "periodo": "Noite",
         "_deepnote_index_column": 146
        },
        {
         "horario": "19:30:00",
         "periodo": "Noite",
         "_deepnote_index_column": 147
        },
        {
         "horario": "18:25:00",
         "periodo": "Noite",
         "_deepnote_index_column": 148
        },
        {
         "horario": "18:05:00",
         "periodo": "Noite",
         "_deepnote_index_column": 149
        },
        {
         "horario": "19:10:00",
         "periodo": "Noite",
         "_deepnote_index_column": 150
        },
        {
         "horario": "20:35:00",
         "periodo": "Noite",
         "_deepnote_index_column": 151
        },
        {
         "horario": "20:20:00",
         "periodo": "Noite",
         "_deepnote_index_column": 152
        },
        {
         "horario": "19:15:00",
         "periodo": "Noite",
         "_deepnote_index_column": 153
        },
        {
         "horario": "21:10:00",
         "periodo": "Noite",
         "_deepnote_index_column": 154
        },
        {
         "horario": "17:20:00",
         "periodo": "Tarde",
         "_deepnote_index_column": 155
        },
        {
         "horario": "19:50:00",
         "periodo": "Noite",
         "_deepnote_index_column": 156
        },
        {
         "horario": "20:20:00",
         "periodo": "Noite",
         "_deepnote_index_column": 157
        },
        {
         "horario": "21:40:00",
         "periodo": "Noite",
         "_deepnote_index_column": 158
        },
        {
         "horario": "20:20:00",
         "periodo": "Noite",
         "_deepnote_index_column": 159
        },
        {
         "horario": "22:10:00",
         "periodo": "Noite",
         "_deepnote_index_column": 160
        },
        {
         "horario": "21:55:00",
         "periodo": "Noite",
         "_deepnote_index_column": 161
        },
        {
         "horario": "22:00:00",
         "periodo": "Noite",
         "_deepnote_index_column": 162
        },
        {
         "horario": "22:35:00",
         "periodo": "Noite",
         "_deepnote_index_column": 163
        },
        {
         "horario": "21:20:00",
         "periodo": "Noite",
         "_deepnote_index_column": 164
        },
        {
         "horario": "19:30:00",
         "periodo": "Noite",
         "_deepnote_index_column": 165
        },
        {
         "horario": "21:23:00",
         "periodo": "Noite",
         "_deepnote_index_column": 166
        },
        {
         "horario": "21:50:00",
         "periodo": "Noite",
         "_deepnote_index_column": 167
        },
        {
         "horario": "22:30:00",
         "periodo": "Noite",
         "_deepnote_index_column": 168
        },
        {
         "horario": "20:00:00",
         "periodo": "Noite",
         "_deepnote_index_column": 169
        },
        {
         "horario": "20:10:00",
         "periodo": "Noite",
         "_deepnote_index_column": 170
        },
        {
         "horario": "12:00:00",
         "periodo": "Tarde",
         "_deepnote_index_column": 171
        },
        {
         "horario": "21:00:00",
         "periodo": "Noite",
         "_deepnote_index_column": 172
        },
        {
         "horario": "22:40:00",
         "periodo": "Noite",
         "_deepnote_index_column": 173
        },
        {
         "horario": "21:45:00",
         "periodo": "Noite",
         "_deepnote_index_column": 174
        },
        {
         "horario": "22:25:00",
         "periodo": "Noite",
         "_deepnote_index_column": 175
        },
        {
         "horario": "23:00:00",
         "periodo": "Noite",
         "_deepnote_index_column": 176
        },
        {
         "horario": "21:30:00",
         "periodo": "Noite",
         "_deepnote_index_column": 177
        },
        {
         "horario": "22:20:00",
         "periodo": "Noite",
         "_deepnote_index_column": 178
        },
        {
         "horario": "21:30:00",
         "periodo": "Noite",
         "_deepnote_index_column": 179
        },
        {
         "horario": "23:30:00",
         "periodo": "Noite",
         "_deepnote_index_column": 180
        },
        {
         "horario": "22:30:00",
         "periodo": "Noite",
         "_deepnote_index_column": 181
        },
        {
         "horario": "21:30:00",
         "periodo": "Noite",
         "_deepnote_index_column": 182
        },
        {
         "horario": "01:00:00",
         "periodo": "Madrugada",
         "_deepnote_index_column": 183
        },
        {
         "horario": "21:30:00",
         "periodo": "Noite",
         "_deepnote_index_column": 184
        },
        {
         "horario": "21:45:00",
         "periodo": "Noite",
         "_deepnote_index_column": 185
        },
        {
         "horario": "00:10:00",
         "periodo": "Madrugada",
         "_deepnote_index_column": 186
        },
        {
         "horario": "22:30:00",
         "periodo": "Noite",
         "_deepnote_index_column": 187
        },
        {
         "horario": "01:15:00",
         "periodo": "Madrugada",
         "_deepnote_index_column": 188
        },
        {
         "horario": "01:10:00",
         "periodo": "Madrugada",
         "_deepnote_index_column": 189
        },
        {
         "horario": "19:20:00",
         "periodo": "Noite",
         "_deepnote_index_column": 190
        },
        {
         "horario": "19:40:00",
         "periodo": "Noite",
         "_deepnote_index_column": 191
        },
        {
         "horario": "03:15:00",
         "periodo": "Madrugada",
         "_deepnote_index_column": 192
        },
        {
         "horario": "10:00:00",
         "periodo": "Manha",
         "_deepnote_index_column": 193
        },
        {
         "horario": "00:40:00",
         "periodo": "Madrugada",
         "_deepnote_index_column": 194
        },
        {
         "horario": "06:00:00",
         "periodo": "Manha",
         "_deepnote_index_column": 195
        },
        {
         "horario": "06:40:00",
         "periodo": "Manha",
         "_deepnote_index_column": 196
        },
        {
         "horario": "07:15:00",
         "periodo": "Manha",
         "_deepnote_index_column": 197
        },
        {
         "horario": "07:45:00",
         "periodo": "Manha",
         "_deepnote_index_column": 198
        },
        {
         "horario": "02:30:00",
         "periodo": "Madrugada",
         "_deepnote_index_column": 199
        },
        {
         "horario": "07:50:00",
         "periodo": "Manha",
         "_deepnote_index_column": 200
        },
        {
         "horario": "16:42:00",
         "periodo": "Tarde",
         "_deepnote_index_column": 201
        },
        {
         "horario": "08:05:00",
         "periodo": "Manha",
         "_deepnote_index_column": 202
        },
        {
         "horario": "07:35:00",
         "periodo": "Manha",
         "_deepnote_index_column": 203
        },
        {
         "horario": "08:20:00",
         "periodo": "Manha",
         "_deepnote_index_column": 204
        },
        {
         "horario": "08:00:00",
         "periodo": "Manha",
         "_deepnote_index_column": 205
        },
        {
         "horario": "19:00:00",
         "periodo": "Noite",
         "_deepnote_index_column": 206
        },
        {
         "horario": "07:30:00",
         "periodo": "Manha",
         "_deepnote_index_column": 207
        },
        {
         "horario": "08:50:00",
         "periodo": "Manha",
         "_deepnote_index_column": 208
        },
        {
         "horario": "09:10:00",
         "periodo": "Manha",
         "_deepnote_index_column": 209
        },
        {
         "horario": "09:10:00",
         "periodo": "Manha",
         "_deepnote_index_column": 210
        },
        {
         "horario": "07:50:00",
         "periodo": "Manha",
         "_deepnote_index_column": 211
        },
        {
         "horario": "09:10:00",
         "periodo": "Manha",
         "_deepnote_index_column": 212
        },
        {
         "horario": "07:30:00",
         "periodo": "Manha",
         "_deepnote_index_column": 213
        },
        {
         "horario": "08:20:00",
         "periodo": "Manha",
         "_deepnote_index_column": 214
        },
        {
         "horario": "08:45:00",
         "periodo": "Manha",
         "_deepnote_index_column": 215
        },
        {
         "horario": "08:45:00",
         "periodo": "Manha",
         "_deepnote_index_column": 216
        },
        {
         "horario": "08:25:00",
         "periodo": "Manha",
         "_deepnote_index_column": 217
        },
        {
         "horario": "07:30:00",
         "periodo": "Manha",
         "_deepnote_index_column": 218
        },
        {
         "horario": "09:15:00",
         "periodo": "Manha",
         "_deepnote_index_column": 219
        },
        {
         "horario": "07:30:00",
         "periodo": "Manha",
         "_deepnote_index_column": 220
        },
        {
         "horario": "10:30:00",
         "periodo": "Manha",
         "_deepnote_index_column": 221
        },
        {
         "horario": "10:20:00",
         "periodo": "Manha",
         "_deepnote_index_column": 222
        },
        {
         "horario": "10:10:00",
         "periodo": "Manha",
         "_deepnote_index_column": 223
        },
        {
         "horario": "10:30:00",
         "periodo": "Manha",
         "_deepnote_index_column": 224
        },
        {
         "horario": "10:45:00",
         "periodo": "Manha",
         "_deepnote_index_column": 225
        },
        {
         "horario": "08:38:00",
         "periodo": "Manha",
         "_deepnote_index_column": 226
        },
        {
         "horario": "00:02:00",
         "periodo": "Madrugada",
         "_deepnote_index_column": 227
        },
        {
         "horario": "11:15:00",
         "periodo": "Manha",
         "_deepnote_index_column": 228
        },
        {
         "horario": "09:30:00",
         "periodo": "Manha",
         "_deepnote_index_column": 229
        },
        {
         "horario": "10:30:00",
         "periodo": "Manha",
         "_deepnote_index_column": 230
        },
        {
         "horario": "11:30:00",
         "periodo": "Manha",
         "_deepnote_index_column": 231
        },
        {
         "horario": "08:15:00",
         "periodo": "Manha",
         "_deepnote_index_column": 232
        },
        {
         "horario": "08:50:00",
         "periodo": "Manha",
         "_deepnote_index_column": 233
        },
        {
         "horario": "09:55:00",
         "periodo": "Manha",
         "_deepnote_index_column": 234
        },
        {
         "horario": "12:05:00",
         "periodo": "Tarde",
         "_deepnote_index_column": 235
        },
        {
         "horario": "11:50:00",
         "periodo": "Manha",
         "_deepnote_index_column": 236
        },
        {
         "horario": "11:50:00",
         "periodo": "Manha",
         "_deepnote_index_column": 237
        },
        {
         "horario": "12:00:00",
         "periodo": "Tarde",
         "_deepnote_index_column": 238
        },
        {
         "horario": "10:15:00",
         "periodo": "Manha",
         "_deepnote_index_column": 239
        },
        {
         "horario": "11:50:00",
         "periodo": "Manha",
         "_deepnote_index_column": 240
        },
        {
         "horario": "11:05:00",
         "periodo": "Manha",
         "_deepnote_index_column": 241
        },
        {
         "horario": "09:20:00",
         "periodo": "Manha",
         "_deepnote_index_column": 242
        },
        {
         "horario": "11:47:00",
         "periodo": "Manha",
         "_deepnote_index_column": 243
        },
        {
         "horario": "11:10:00",
         "periodo": "Manha",
         "_deepnote_index_column": 244
        },
        {
         "horario": "12:20:00",
         "periodo": "Tarde",
         "_deepnote_index_column": 245
        },
        {
         "horario": "12:40:00",
         "periodo": "Tarde",
         "_deepnote_index_column": 246
        },
        {
         "horario": "11:15:00",
         "periodo": "Manha",
         "_deepnote_index_column": 247
        },
        {
         "horario": "12:40:00",
         "periodo": "Tarde",
         "_deepnote_index_column": 248
        },
        {
         "horario": "10:59:00",
         "periodo": "Manha",
         "_deepnote_index_column": 249
        }
       ],
       "rows_bottom": [
        {
         "horario": "09:00:00",
         "periodo": "Manha",
         "_deepnote_index_column": 320503
        },
        {
         "horario": "12:00:00",
         "periodo": "Tarde",
         "_deepnote_index_column": 320504
        },
        {
         "horario": "09:15:00",
         "periodo": "Manha",
         "_deepnote_index_column": 320505
        },
        {
         "horario": "01:20:00",
         "periodo": "Madrugada",
         "_deepnote_index_column": 320506
        },
        {
         "horario": "19:00:00",
         "periodo": "Noite",
         "_deepnote_index_column": 320507
        },
        {
         "horario": "16:20:00",
         "periodo": "Tarde",
         "_deepnote_index_column": 320508
        },
        {
         "horario": "14:50:00",
         "periodo": "Tarde",
         "_deepnote_index_column": 320509
        },
        {
         "horario": "16:29:00",
         "periodo": "Tarde",
         "_deepnote_index_column": 320510
        },
        {
         "horario": "13:40:00",
         "periodo": "Tarde",
         "_deepnote_index_column": 320511
        },
        {
         "horario": "15:35:00",
         "periodo": "Tarde",
         "_deepnote_index_column": 320512
        },
        {
         "horario": "18:37:00",
         "periodo": "Noite",
         "_deepnote_index_column": 320513
        },
        {
         "horario": "04:50:00",
         "periodo": "Madrugada",
         "_deepnote_index_column": 320514
        },
        {
         "horario": "13:00:00",
         "periodo": "Tarde",
         "_deepnote_index_column": 320515
        },
        {
         "horario": "08:40:00",
         "periodo": "Manha",
         "_deepnote_index_column": 320516
        },
        {
         "horario": "07:20:00",
         "periodo": "Manha",
         "_deepnote_index_column": 320517
        },
        {
         "horario": "13:25:00",
         "periodo": "Tarde",
         "_deepnote_index_column": 320518
        },
        {
         "horario": "20:10:00",
         "periodo": "Noite",
         "_deepnote_index_column": 320519
        },
        {
         "horario": "21:00:00",
         "periodo": "Noite",
         "_deepnote_index_column": 320520
        },
        {
         "horario": "10:00:00",
         "periodo": "Manha",
         "_deepnote_index_column": 320521
        },
        {
         "horario": "04:30:00",
         "periodo": "Madrugada",
         "_deepnote_index_column": 320522
        },
        {
         "horario": "20:30:00",
         "periodo": "Noite",
         "_deepnote_index_column": 320523
        },
        {
         "horario": "18:10:00",
         "periodo": "Noite",
         "_deepnote_index_column": 320524
        },
        {
         "horario": "18:20:00",
         "periodo": "Noite",
         "_deepnote_index_column": 320525
        },
        {
         "horario": "18:50:00",
         "periodo": "Noite",
         "_deepnote_index_column": 320526
        },
        {
         "horario": "15:30:00",
         "periodo": "Tarde",
         "_deepnote_index_column": 320527
        },
        {
         "horario": "15:30:00",
         "periodo": "Tarde",
         "_deepnote_index_column": 320528
        },
        {
         "horario": "12:30:00",
         "periodo": "Tarde",
         "_deepnote_index_column": 320529
        },
        {
         "horario": "13:46:00",
         "periodo": "Tarde",
         "_deepnote_index_column": 320530
        },
        {
         "horario": "17:45:00",
         "periodo": "Tarde",
         "_deepnote_index_column": 320531
        },
        {
         "horario": "19:45:00",
         "periodo": "Noite",
         "_deepnote_index_column": 320532
        },
        {
         "horario": "08:45:00",
         "periodo": "Manha",
         "_deepnote_index_column": 320533
        },
        {
         "horario": "15:20:00",
         "periodo": "Tarde",
         "_deepnote_index_column": 320534
        },
        {
         "horario": "17:40:00",
         "periodo": "Tarde",
         "_deepnote_index_column": 320535
        },
        {
         "horario": "09:10:00",
         "periodo": "Manha",
         "_deepnote_index_column": 320536
        },
        {
         "horario": "20:15:00",
         "periodo": "Noite",
         "_deepnote_index_column": 320537
        },
        {
         "horario": "14:30:00",
         "periodo": "Tarde",
         "_deepnote_index_column": 320538
        },
        {
         "horario": "10:40:00",
         "periodo": "Manha",
         "_deepnote_index_column": 320539
        },
        {
         "horario": "04:00:00",
         "periodo": "Madrugada",
         "_deepnote_index_column": 320540
        },
        {
         "horario": "00:30:00",
         "periodo": "Madrugada",
         "_deepnote_index_column": 320541
        },
        {
         "horario": "07:45:00",
         "periodo": "Manha",
         "_deepnote_index_column": 320542
        },
        {
         "horario": "13:00:00",
         "periodo": "Tarde",
         "_deepnote_index_column": 320543
        },
        {
         "horario": "06:20:00",
         "periodo": "Manha",
         "_deepnote_index_column": 320544
        },
        {
         "horario": "22:25:00",
         "periodo": "Noite",
         "_deepnote_index_column": 320545
        },
        {
         "horario": "00:20:00",
         "periodo": "Madrugada",
         "_deepnote_index_column": 320546
        },
        {
         "horario": "08:30:00",
         "periodo": "Manha",
         "_deepnote_index_column": 320547
        },
        {
         "horario": "20:45:00",
         "periodo": "Noite",
         "_deepnote_index_column": 320548
        },
        {
         "horario": "15:10:00",
         "periodo": "Tarde",
         "_deepnote_index_column": 320549
        },
        {
         "horario": "18:10:00",
         "periodo": "Noite",
         "_deepnote_index_column": 320550
        },
        {
         "horario": "20:50:00",
         "periodo": "Noite",
         "_deepnote_index_column": 320551
        },
        {
         "horario": "19:35:00",
         "periodo": "Noite",
         "_deepnote_index_column": 320552
        },
        {
         "horario": "08:15:00",
         "periodo": "Manha",
         "_deepnote_index_column": 320553
        },
        {
         "horario": "22:04:00",
         "periodo": "Noite",
         "_deepnote_index_column": 320554
        },
        {
         "horario": "10:05:00",
         "periodo": "Manha",
         "_deepnote_index_column": 320555
        },
        {
         "horario": "12:10:00",
         "periodo": "Tarde",
         "_deepnote_index_column": 320556
        },
        {
         "horario": "19:00:00",
         "periodo": "Noite",
         "_deepnote_index_column": 320557
        },
        {
         "horario": "19:25:00",
         "periodo": "Noite",
         "_deepnote_index_column": 320558
        },
        {
         "horario": "18:30:00",
         "periodo": "Noite",
         "_deepnote_index_column": 320559
        },
        {
         "horario": "11:00:00",
         "periodo": "Manha",
         "_deepnote_index_column": 320560
        },
        {
         "horario": "09:18:00",
         "periodo": "Manha",
         "_deepnote_index_column": 320561
        },
        {
         "horario": "06:15:00",
         "periodo": "Manha",
         "_deepnote_index_column": 320562
        },
        {
         "horario": "06:30:00",
         "periodo": "Manha",
         "_deepnote_index_column": 320563
        },
        {
         "horario": "10:20:00",
         "periodo": "Manha",
         "_deepnote_index_column": 320564
        },
        {
         "horario": "08:15:00",
         "periodo": "Manha",
         "_deepnote_index_column": 320565
        },
        {
         "horario": "16:45:00",
         "periodo": "Tarde",
         "_deepnote_index_column": 320566
        },
        {
         "horario": "16:00:00",
         "periodo": "Tarde",
         "_deepnote_index_column": 320567
        },
        {
         "horario": "12:10:00",
         "periodo": "Tarde",
         "_deepnote_index_column": 320568
        },
        {
         "horario": "22:10:00",
         "periodo": "Noite",
         "_deepnote_index_column": 320569
        },
        {
         "horario": "07:10:00",
         "periodo": "Manha",
         "_deepnote_index_column": 320570
        },
        {
         "horario": "18:10:00",
         "periodo": "Noite",
         "_deepnote_index_column": 320571
        },
        {
         "horario": "18:15:00",
         "periodo": "Noite",
         "_deepnote_index_column": 320572
        },
        {
         "horario": "15:00:00",
         "periodo": "Tarde",
         "_deepnote_index_column": 320573
        },
        {
         "horario": "10:00:00",
         "periodo": "Manha",
         "_deepnote_index_column": 320574
        },
        {
         "horario": "11:56:00",
         "periodo": "Manha",
         "_deepnote_index_column": 320575
        },
        {
         "horario": "20:15:00",
         "periodo": "Noite",
         "_deepnote_index_column": 320576
        },
        {
         "horario": "14:35:00",
         "periodo": "Tarde",
         "_deepnote_index_column": 320577
        },
        {
         "horario": "19:35:00",
         "periodo": "Noite",
         "_deepnote_index_column": 320578
        },
        {
         "horario": "17:50:00",
         "periodo": "Tarde",
         "_deepnote_index_column": 320579
        },
        {
         "horario": "17:30:00",
         "periodo": "Tarde",
         "_deepnote_index_column": 320580
        },
        {
         "horario": "03:30:00",
         "periodo": "Madrugada",
         "_deepnote_index_column": 320581
        },
        {
         "horario": "20:55:00",
         "periodo": "Noite",
         "_deepnote_index_column": 320582
        },
        {
         "horario": "12:55:00",
         "periodo": "Tarde",
         "_deepnote_index_column": 320583
        },
        {
         "horario": "13:20:00",
         "periodo": "Tarde",
         "_deepnote_index_column": 320584
        },
        {
         "horario": "22:00:00",
         "periodo": "Noite",
         "_deepnote_index_column": 320585
        },
        {
         "horario": "20:10:00",
         "periodo": "Noite",
         "_deepnote_index_column": 320586
        },
        {
         "horario": "19:30:00",
         "periodo": "Noite",
         "_deepnote_index_column": 320587
        },
        {
         "horario": "12:20:00",
         "periodo": "Tarde",
         "_deepnote_index_column": 320588
        },
        {
         "horario": "16:34:00",
         "periodo": "Tarde",
         "_deepnote_index_column": 320589
        },
        {
         "horario": "10:15:00",
         "periodo": "Manha",
         "_deepnote_index_column": 320590
        },
        {
         "horario": "22:45:00",
         "periodo": "Noite",
         "_deepnote_index_column": 320591
        },
        {
         "horario": "13:30:00",
         "periodo": "Tarde",
         "_deepnote_index_column": 320592
        },
        {
         "horario": "07:40:00",
         "periodo": "Manha",
         "_deepnote_index_column": 320593
        },
        {
         "horario": "20:40:00",
         "periodo": "Noite",
         "_deepnote_index_column": 320594
        },
        {
         "horario": "21:10:00",
         "periodo": "Noite",
         "_deepnote_index_column": 320595
        },
        {
         "horario": "22:30:00",
         "periodo": "Noite",
         "_deepnote_index_column": 320596
        },
        {
         "horario": "02:00:00",
         "periodo": "Madrugada",
         "_deepnote_index_column": 320597
        },
        {
         "horario": "05:30:00",
         "periodo": "Madrugada",
         "_deepnote_index_column": 320598
        },
        {
         "horario": "11:05:00",
         "periodo": "Manha",
         "_deepnote_index_column": 320599
        },
        {
         "horario": "17:00:00",
         "periodo": "Tarde",
         "_deepnote_index_column": 320600
        },
        {
         "horario": "15:15:00",
         "periodo": "Tarde",
         "_deepnote_index_column": 320601
        },
        {
         "horario": "20:14:00",
         "periodo": "Noite",
         "_deepnote_index_column": 320602
        },
        {
         "horario": "09:30:00",
         "periodo": "Manha",
         "_deepnote_index_column": 320603
        },
        {
         "horario": "00:25:00",
         "periodo": "Madrugada",
         "_deepnote_index_column": 320604
        },
        {
         "horario": "21:35:00",
         "periodo": "Noite",
         "_deepnote_index_column": 320605
        },
        {
         "horario": "18:30:00",
         "periodo": "Noite",
         "_deepnote_index_column": 320606
        },
        {
         "horario": "12:13:00",
         "periodo": "Tarde",
         "_deepnote_index_column": 320607
        },
        {
         "horario": "14:30:00",
         "periodo": "Tarde",
         "_deepnote_index_column": 320608
        },
        {
         "horario": "18:58:00",
         "periodo": "Noite",
         "_deepnote_index_column": 320609
        },
        {
         "horario": "16:05:00",
         "periodo": "Tarde",
         "_deepnote_index_column": 320610
        },
        {
         "horario": "18:00:00",
         "periodo": "Noite",
         "_deepnote_index_column": 320611
        },
        {
         "horario": "18:35:00",
         "periodo": "Noite",
         "_deepnote_index_column": 320612
        },
        {
         "horario": "22:00:00",
         "periodo": "Noite",
         "_deepnote_index_column": 320613
        },
        {
         "horario": "21:15:00",
         "periodo": "Noite",
         "_deepnote_index_column": 320614
        },
        {
         "horario": "17:00:00",
         "periodo": "Tarde",
         "_deepnote_index_column": 320615
        },
        {
         "horario": "19:40:00",
         "periodo": "Noite",
         "_deepnote_index_column": 320616
        },
        {
         "horario": "18:40:00",
         "periodo": "Noite",
         "_deepnote_index_column": 320617
        },
        {
         "horario": "14:00:00",
         "periodo": "Tarde",
         "_deepnote_index_column": 320618
        },
        {
         "horario": "20:30:00",
         "periodo": "Noite",
         "_deepnote_index_column": 320619
        },
        {
         "horario": "16:01:00",
         "periodo": "Tarde",
         "_deepnote_index_column": 320620
        },
        {
         "horario": "16:00:00",
         "periodo": "Tarde",
         "_deepnote_index_column": 320621
        },
        {
         "horario": "18:15:00",
         "periodo": "Noite",
         "_deepnote_index_column": 320622
        },
        {
         "horario": "15:40:00",
         "periodo": "Tarde",
         "_deepnote_index_column": 320623
        },
        {
         "horario": "13:00:00",
         "periodo": "Tarde",
         "_deepnote_index_column": 320624
        },
        {
         "horario": "01:30:00",
         "periodo": "Madrugada",
         "_deepnote_index_column": 320625
        },
        {
         "horario": "23:20:00",
         "periodo": "Noite",
         "_deepnote_index_column": 320626
        },
        {
         "horario": "09:01:00",
         "periodo": "Manha",
         "_deepnote_index_column": 320627
        },
        {
         "horario": "18:40:00",
         "periodo": "Noite",
         "_deepnote_index_column": 320628
        },
        {
         "horario": "14:30:00",
         "periodo": "Tarde",
         "_deepnote_index_column": 320629
        },
        {
         "horario": "17:30:00",
         "periodo": "Tarde",
         "_deepnote_index_column": 320630
        },
        {
         "horario": "20:00:00",
         "periodo": "Noite",
         "_deepnote_index_column": 320631
        },
        {
         "horario": "07:00:00",
         "periodo": "Manha",
         "_deepnote_index_column": 320632
        },
        {
         "horario": "16:40:00",
         "periodo": "Tarde",
         "_deepnote_index_column": 320633
        },
        {
         "horario": "18:00:00",
         "periodo": "Noite",
         "_deepnote_index_column": 320634
        },
        {
         "horario": "07:15:00",
         "periodo": "Manha",
         "_deepnote_index_column": 320635
        },
        {
         "horario": "15:50:00",
         "periodo": "Tarde",
         "_deepnote_index_column": 320636
        },
        {
         "horario": "16:45:00",
         "periodo": "Tarde",
         "_deepnote_index_column": 320637
        },
        {
         "horario": "23:10:00",
         "periodo": "Noite",
         "_deepnote_index_column": 320638
        },
        {
         "horario": "19:20:00",
         "periodo": "Noite",
         "_deepnote_index_column": 320639
        },
        {
         "horario": "17:00:00",
         "periodo": "Tarde",
         "_deepnote_index_column": 320640
        },
        {
         "horario": "15:40:00",
         "periodo": "Tarde",
         "_deepnote_index_column": 320641
        },
        {
         "horario": "21:00:00",
         "periodo": "Noite",
         "_deepnote_index_column": 320642
        },
        {
         "horario": "07:00:00",
         "periodo": "Manha",
         "_deepnote_index_column": 320643
        },
        {
         "horario": "20:55:00",
         "periodo": "Noite",
         "_deepnote_index_column": 320644
        },
        {
         "horario": "17:10:00",
         "periodo": "Tarde",
         "_deepnote_index_column": 320645
        },
        {
         "horario": "03:50:00",
         "periodo": "Madrugada",
         "_deepnote_index_column": 320646
        },
        {
         "horario": "08:25:00",
         "periodo": "Manha",
         "_deepnote_index_column": 320647
        },
        {
         "horario": "13:00:00",
         "periodo": "Tarde",
         "_deepnote_index_column": 320648
        },
        {
         "horario": "04:30:00",
         "periodo": "Madrugada",
         "_deepnote_index_column": 320649
        },
        {
         "horario": "14:30:00",
         "periodo": "Tarde",
         "_deepnote_index_column": 320650
        },
        {
         "horario": "18:00:00",
         "periodo": "Noite",
         "_deepnote_index_column": 320651
        },
        {
         "horario": "12:00:00",
         "periodo": "Tarde",
         "_deepnote_index_column": 320652
        },
        {
         "horario": "10:10:00",
         "periodo": "Manha",
         "_deepnote_index_column": 320653
        },
        {
         "horario": "09:50:00",
         "periodo": "Manha",
         "_deepnote_index_column": 320654
        },
        {
         "horario": "18:00:00",
         "periodo": "Noite",
         "_deepnote_index_column": 320655
        },
        {
         "horario": "18:45:00",
         "periodo": "Noite",
         "_deepnote_index_column": 320656
        },
        {
         "horario": "23:15:00",
         "periodo": "Noite",
         "_deepnote_index_column": 320657
        },
        {
         "horario": "02:50:00",
         "periodo": "Madrugada",
         "_deepnote_index_column": 320658
        },
        {
         "horario": "17:20:00",
         "periodo": "Tarde",
         "_deepnote_index_column": 320659
        },
        {
         "horario": "14:30:00",
         "periodo": "Tarde",
         "_deepnote_index_column": 320660
        },
        {
         "horario": "12:25:00",
         "periodo": "Tarde",
         "_deepnote_index_column": 320661
        },
        {
         "horario": "12:00:00",
         "periodo": "Tarde",
         "_deepnote_index_column": 320662
        },
        {
         "horario": "06:35:00",
         "periodo": "Manha",
         "_deepnote_index_column": 320663
        },
        {
         "horario": "17:00:00",
         "periodo": "Tarde",
         "_deepnote_index_column": 320664
        },
        {
         "horario": "19:40:00",
         "periodo": "Noite",
         "_deepnote_index_column": 320665
        },
        {
         "horario": "16:30:00",
         "periodo": "Tarde",
         "_deepnote_index_column": 320666
        },
        {
         "horario": "06:10:00",
         "periodo": "Manha",
         "_deepnote_index_column": 320667
        },
        {
         "horario": "17:00:00",
         "periodo": "Tarde",
         "_deepnote_index_column": 320668
        },
        {
         "horario": "19:20:00",
         "periodo": "Noite",
         "_deepnote_index_column": 320669
        },
        {
         "horario": "11:30:00",
         "periodo": "Manha",
         "_deepnote_index_column": 320670
        },
        {
         "horario": "17:35:00",
         "periodo": "Tarde",
         "_deepnote_index_column": 320671
        },
        {
         "horario": "20:30:00",
         "periodo": "Noite",
         "_deepnote_index_column": 320672
        },
        {
         "horario": "07:25:00",
         "periodo": "Manha",
         "_deepnote_index_column": 320673
        },
        {
         "horario": "20:20:00",
         "periodo": "Noite",
         "_deepnote_index_column": 320674
        },
        {
         "horario": "18:25:00",
         "periodo": "Noite",
         "_deepnote_index_column": 320675
        },
        {
         "horario": "08:15:00",
         "periodo": "Manha",
         "_deepnote_index_column": 320676
        },
        {
         "horario": "06:50:00",
         "periodo": "Manha",
         "_deepnote_index_column": 320677
        },
        {
         "horario": "17:50:00",
         "periodo": "Tarde",
         "_deepnote_index_column": 320678
        },
        {
         "horario": "18:00:00",
         "periodo": "Noite",
         "_deepnote_index_column": 320679
        },
        {
         "horario": "20:15:00",
         "periodo": "Noite",
         "_deepnote_index_column": 320680
        },
        {
         "horario": "15:00:00",
         "periodo": "Tarde",
         "_deepnote_index_column": 320681
        },
        {
         "horario": "17:50:00",
         "periodo": "Tarde",
         "_deepnote_index_column": 320682
        },
        {
         "horario": "06:15:00",
         "periodo": "Manha",
         "_deepnote_index_column": 320683
        },
        {
         "horario": "09:30:00",
         "periodo": "Manha",
         "_deepnote_index_column": 320684
        },
        {
         "horario": "21:30:00",
         "periodo": "Noite",
         "_deepnote_index_column": 320685
        },
        {
         "horario": "13:26:00",
         "periodo": "Tarde",
         "_deepnote_index_column": 320686
        },
        {
         "horario": "01:55:00",
         "periodo": "Madrugada",
         "_deepnote_index_column": 320687
        },
        {
         "horario": "23:40:00",
         "periodo": "Noite",
         "_deepnote_index_column": 320688
        },
        {
         "horario": "18:30:00",
         "periodo": "Noite",
         "_deepnote_index_column": 320689
        },
        {
         "horario": "07:45:00",
         "periodo": "Manha",
         "_deepnote_index_column": 320690
        },
        {
         "horario": "20:30:00",
         "periodo": "Noite",
         "_deepnote_index_column": 320691
        },
        {
         "horario": "18:40:00",
         "periodo": "Noite",
         "_deepnote_index_column": 320692
        },
        {
         "horario": "18:20:00",
         "periodo": "Noite",
         "_deepnote_index_column": 320693
        },
        {
         "horario": "16:40:00",
         "periodo": "Tarde",
         "_deepnote_index_column": 320694
        },
        {
         "horario": "01:00:00",
         "periodo": "Madrugada",
         "_deepnote_index_column": 320695
        },
        {
         "horario": "11:00:00",
         "periodo": "Manha",
         "_deepnote_index_column": 320696
        },
        {
         "horario": "18:20:00",
         "periodo": "Noite",
         "_deepnote_index_column": 320697
        },
        {
         "horario": "08:20:00",
         "periodo": "Manha",
         "_deepnote_index_column": 320698
        },
        {
         "horario": "14:20:00",
         "periodo": "Tarde",
         "_deepnote_index_column": 320699
        },
        {
         "horario": "07:05:00",
         "periodo": "Manha",
         "_deepnote_index_column": 320700
        },
        {
         "horario": "18:30:00",
         "periodo": "Noite",
         "_deepnote_index_column": 320701
        },
        {
         "horario": "14:50:00",
         "periodo": "Tarde",
         "_deepnote_index_column": 320702
        },
        {
         "horario": "23:17:00",
         "periodo": "Noite",
         "_deepnote_index_column": 320703
        },
        {
         "horario": "16:30:00",
         "periodo": "Tarde",
         "_deepnote_index_column": 320704
        },
        {
         "horario": "12:00:00",
         "periodo": "Tarde",
         "_deepnote_index_column": 320705
        },
        {
         "horario": "13:30:00",
         "periodo": "Tarde",
         "_deepnote_index_column": 320706
        },
        {
         "horario": "02:10:00",
         "periodo": "Madrugada",
         "_deepnote_index_column": 320707
        },
        {
         "horario": "19:20:00",
         "periodo": "Noite",
         "_deepnote_index_column": 320708
        },
        {
         "horario": "19:25:00",
         "periodo": "Noite",
         "_deepnote_index_column": 320709
        },
        {
         "horario": "19:12:00",
         "periodo": "Noite",
         "_deepnote_index_column": 320710
        },
        {
         "horario": "05:40:00",
         "periodo": "Madrugada",
         "_deepnote_index_column": 320711
        },
        {
         "horario": "21:40:00",
         "periodo": "Noite",
         "_deepnote_index_column": 320712
        },
        {
         "horario": "21:00:00",
         "periodo": "Noite",
         "_deepnote_index_column": 320713
        },
        {
         "horario": "09:20:00",
         "periodo": "Manha",
         "_deepnote_index_column": 320714
        },
        {
         "horario": "13:28:00",
         "periodo": "Tarde",
         "_deepnote_index_column": 320715
        },
        {
         "horario": "22:40:00",
         "periodo": "Noite",
         "_deepnote_index_column": 320716
        },
        {
         "horario": "06:50:00",
         "periodo": "Manha",
         "_deepnote_index_column": 320717
        },
        {
         "horario": "11:10:00",
         "periodo": "Manha",
         "_deepnote_index_column": 320718
        },
        {
         "horario": "12:00:00",
         "periodo": "Tarde",
         "_deepnote_index_column": 320719
        },
        {
         "horario": "19:00:00",
         "periodo": "Noite",
         "_deepnote_index_column": 320720
        },
        {
         "horario": "05:15:00",
         "periodo": "Madrugada",
         "_deepnote_index_column": 320721
        },
        {
         "horario": "18:05:00",
         "periodo": "Noite",
         "_deepnote_index_column": 320722
        },
        {
         "horario": "09:50:00",
         "periodo": "Manha",
         "_deepnote_index_column": 320723
        },
        {
         "horario": "21:40:00",
         "periodo": "Noite",
         "_deepnote_index_column": 320724
        },
        {
         "horario": "12:00:00",
         "periodo": "Tarde",
         "_deepnote_index_column": 320725
        },
        {
         "horario": "00:10:00",
         "periodo": "Madrugada",
         "_deepnote_index_column": 320726
        },
        {
         "horario": "17:20:00",
         "periodo": "Tarde",
         "_deepnote_index_column": 320727
        },
        {
         "horario": "17:00:00",
         "periodo": "Tarde",
         "_deepnote_index_column": 320728
        },
        {
         "horario": "00:30:00",
         "periodo": "Madrugada",
         "_deepnote_index_column": 320729
        },
        {
         "horario": "18:00:00",
         "periodo": "Noite",
         "_deepnote_index_column": 320730
        },
        {
         "horario": "15:30:00",
         "periodo": "Tarde",
         "_deepnote_index_column": 320731
        },
        {
         "horario": "20:00:00",
         "periodo": "Noite",
         "_deepnote_index_column": 320732
        },
        {
         "horario": "17:30:00",
         "periodo": "Tarde",
         "_deepnote_index_column": 320733
        },
        {
         "horario": "17:45:00",
         "periodo": "Tarde",
         "_deepnote_index_column": 320734
        },
        {
         "horario": "08:20:00",
         "periodo": "Manha",
         "_deepnote_index_column": 320735
        },
        {
         "horario": "21:00:00",
         "periodo": "Noite",
         "_deepnote_index_column": 320736
        },
        {
         "horario": "13:10:00",
         "periodo": "Tarde",
         "_deepnote_index_column": 320737
        },
        {
         "horario": "15:10:00",
         "periodo": "Tarde",
         "_deepnote_index_column": 320738
        },
        {
         "horario": "19:30:00",
         "periodo": "Noite",
         "_deepnote_index_column": 320739
        },
        {
         "horario": "18:50:00",
         "periodo": "Noite",
         "_deepnote_index_column": 320740
        },
        {
         "horario": "19:30:00",
         "periodo": "Noite",
         "_deepnote_index_column": 320741
        },
        {
         "horario": "10:00:00",
         "periodo": "Manha",
         "_deepnote_index_column": 320742
        },
        {
         "horario": "07:40:00",
         "periodo": "Manha",
         "_deepnote_index_column": 320743
        },
        {
         "horario": "23:15:00",
         "periodo": "Noite",
         "_deepnote_index_column": 320744
        },
        {
         "horario": "09:00:00",
         "periodo": "Manha",
         "_deepnote_index_column": 320745
        },
        {
         "horario": "15:45:00",
         "periodo": "Tarde",
         "_deepnote_index_column": 320746
        },
        {
         "horario": "19:40:00",
         "periodo": "Noite",
         "_deepnote_index_column": 320747
        },
        {
         "horario": "13:15:00",
         "periodo": "Tarde",
         "_deepnote_index_column": 320748
        },
        {
         "horario": "10:50:00",
         "periodo": "Manha",
         "_deepnote_index_column": 320749
        },
        {
         "horario": "02:50:00",
         "periodo": "Madrugada",
         "_deepnote_index_column": 320750
        },
        {
         "horario": "08:45:00",
         "periodo": "Manha",
         "_deepnote_index_column": 320751
        },
        {
         "horario": "17:40:00",
         "periodo": "Tarde",
         "_deepnote_index_column": 320752
        }
       ]
      },
      "text/plain": "         horario    periodo\n0       01:30:00  Madrugada\n1       01:30:00  Madrugada\n2       00:45:00  Madrugada\n3       00:00:00  Madrugada\n4       01:00:00  Madrugada\n...          ...        ...\n320748  13:15:00      Tarde\n320749  10:50:00      Manha\n320750  02:50:00  Madrugada\n320751  08:45:00      Manha\n320752  17:40:00      Tarde\n\n[320156 rows x 2 columns]",
      "text/html": "<div>\n<style scoped>\n    .dataframe tbody tr th:only-of-type {\n        vertical-align: middle;\n    }\n\n    .dataframe tbody tr th {\n        vertical-align: top;\n    }\n\n    .dataframe thead th {\n        text-align: right;\n    }\n</style>\n<table border=\"1\" class=\"dataframe\">\n  <thead>\n    <tr style=\"text-align: right;\">\n      <th></th>\n      <th>horario</th>\n      <th>periodo</th>\n    </tr>\n  </thead>\n  <tbody>\n    <tr>\n      <th>0</th>\n      <td>01:30:00</td>\n      <td>Madrugada</td>\n    </tr>\n    <tr>\n      <th>1</th>\n      <td>01:30:00</td>\n      <td>Madrugada</td>\n    </tr>\n    <tr>\n      <th>2</th>\n      <td>00:45:00</td>\n      <td>Madrugada</td>\n    </tr>\n    <tr>\n      <th>3</th>\n      <td>00:00:00</td>\n      <td>Madrugada</td>\n    </tr>\n    <tr>\n      <th>4</th>\n      <td>01:00:00</td>\n      <td>Madrugada</td>\n    </tr>\n    <tr>\n      <th>...</th>\n      <td>...</td>\n      <td>...</td>\n    </tr>\n    <tr>\n      <th>320748</th>\n      <td>13:15:00</td>\n      <td>Tarde</td>\n    </tr>\n    <tr>\n      <th>320749</th>\n      <td>10:50:00</td>\n      <td>Manha</td>\n    </tr>\n    <tr>\n      <th>320750</th>\n      <td>02:50:00</td>\n      <td>Madrugada</td>\n    </tr>\n    <tr>\n      <th>320751</th>\n      <td>08:45:00</td>\n      <td>Manha</td>\n    </tr>\n    <tr>\n      <th>320752</th>\n      <td>17:40:00</td>\n      <td>Tarde</td>\n    </tr>\n  </tbody>\n</table>\n<p>320156 rows × 2 columns</p>\n</div>"
     },
     "metadata": {}
    }
   ]
  },
  {
   "cell_type": "code",
   "metadata": {
    "tags": [],
    "cell_id": "00016-a95a7bea-f4a6-4788-b270-a417bc613f16",
    "deepnote_to_be_reexecuted": false,
    "source_hash": "eeef5d9",
    "execution_start": 1634302897037,
    "execution_millis": 2,
    "deepnote_cell_type": "code"
   },
   "source": "ocorrencias.columns",
   "execution_count": 18,
   "outputs": [
    {
     "output_type": "execute_result",
     "execution_count": 18,
     "data": {
      "text/plain": "Index(['id', 'data_inversa', 'dia_semana', 'horario', 'uf', 'br', 'km',\n       'municipio', 'causa_acidente', 'tipo_acidente',\n       'classificacao_acidente', 'fase_dia', 'sentido_via',\n       'condicao_metereologica', 'tipo_pista', 'tracado_via', 'uso_solo',\n       'pessoas', 'mortos', 'feridos_leves', 'feridos_graves', 'ilesos',\n       'ignorados', 'feridos', 'veiculos', 'latitude', 'longitude', 'regional',\n       'delegacia', 'uop', 'data', 'feriado', 'ano', 'fim_de_semana',\n       'periodo'],\n      dtype='object')"
     },
     "metadata": {}
    }
   ]
  },
  {
   "cell_type": "code",
   "metadata": {
    "tags": [],
    "cell_id": "00017-213d3f58-ecf4-496e-a161-e90b2565d0a8",
    "deepnote_to_be_reexecuted": true,
    "source_hash": "c0cc9188",
    "execution_start": 1634069389119,
    "execution_millis": 28,
    "deepnote_cell_type": "code"
   },
   "source": "ocorrencias['uf'].unique()",
   "execution_count": null,
   "outputs": [
    {
     "output_type": "execute_result",
     "execution_count": 65,
     "data": {
      "text/plain": "array(['SP', 'PR', 'SC', 'CE', 'MG', 'MS', 'GO', 'RS', 'RJ', 'PB', 'RN',\n       'PE', 'SE', 'DF', 'TO', 'MT', 'ES', 'RO', 'PA', 'AL', 'AM', 'MA',\n       'BA', 'PI', 'AP', 'RR', 'AC'], dtype=object)"
     },
     "metadata": {}
    }
   ]
  },
  {
   "cell_type": "code",
   "metadata": {
    "tags": [],
    "cell_id": "00020-daebb992-7352-4331-a582-a9717658b37d",
    "deepnote_to_be_reexecuted": false,
    "source_hash": "de7b9425",
    "execution_start": 1634302903501,
    "execution_millis": 4,
    "deepnote_cell_type": "code"
   },
   "source": "periodo_count = ocorrencias['periodo'].value_counts()\nperiodo_labels = periodo_count.keys()\nperiodo_values = periodo_count.values",
   "execution_count": 19,
   "outputs": []
  },
  {
   "cell_type": "code",
   "source": "#sns.set_context(context=None)\n\nsns.barplot(x=periodo_labels[::-1], y=periodo_values[::-1], palette='Blues')\nplt.title('Numero de acidentes por periodo do dia')\nplt.xlabel('Periodo')\nplt.ylabel('Acidentes');",
   "metadata": {
    "tags": [],
    "cell_id": "00021-cb20b676-69a0-4540-b01c-2efa6c8a795f",
    "deepnote_to_be_reexecuted": false,
    "source_hash": "9ee91f58",
    "execution_start": 1634302914347,
    "execution_millis": 228,
    "deepnote_cell_type": "code"
   },
   "outputs": [
    {
     "data": {
      "text/plain": "<Figure size 432x288 with 1 Axes>",
      "image/png": "[encoded data removed]"
     },
     "metadata": {
      "needs_background": "light",
      "image/png": {
       "width": 407,
       "height": 278
      }
     },
     "output_type": "display_data"
    }
   ],
   "execution_count": 20
  },
  {
   "cell_type": "code",
   "source": "anos_count = ocorrencias['ano'].value_counts()\nanos_y = anos_count.values",
   "metadata": {
    "tags": [],
    "cell_id": "00021-bc19c928-dee3-4bd4-b859-06c861c762f2",
    "deepnote_to_be_reexecuted": false,
    "source_hash": "3a5201c7",
    "execution_start": 1634302921290,
    "execution_millis": 3,
    "deepnote_cell_type": "code"
   },
   "outputs": [],
   "execution_count": 21
  },
  {
   "cell_type": "code",
   "source": "#todo markers\n\nsns.set_context('paper')\nsns.lineplot(x=['2017', '2018', '2019', '2020', '2021'], y=anos_y)\nplt.title('Serie historica de acidentes')\nplt.xlabel('Ano')\nplt.ylabel('Acidentes');",
   "metadata": {
    "tags": [],
    "cell_id": "00022-b42fb672-94df-4992-8818-c4672ad3dc4c",
    "deepnote_to_be_reexecuted": false,
    "source_hash": "5f5c2941",
    "execution_start": 1634302926543,
    "execution_millis": 236,
    "deepnote_cell_type": "code"
   },
   "outputs": [
    {
     "data": {
      "text/plain": "<Figure size 432x288 with 1 Axes>",
      "image/png": "[encoded data removed]"
     },
     "metadata": {
      "needs_background": "light",
      "image/png": {
       "width": 399,
       "height": 277
      }
     },
     "output_type": "display_data"
    }
   ],
   "execution_count": 23
  },
  {
   "cell_type": "code",
   "source": "dia_semana_count = ocorrencias['dia_semana'].value_counts()\ndia_semana_x = ['segunda-feira', 'terça-feira', 'quarta-feira', \n                'quinta-feira', 'sexta-feira','sábado', 'domingo']\n\ncount_semanal = {}\n\nfor dia in dia_semana_x:\n    count_semanal[dia] = dia_semana_count[dia]",
   "metadata": {
    "tags": [],
    "cell_id": "00023-5f4bdf6a-6692-4042-b805-cdb81e9778c9",
    "deepnote_to_be_reexecuted": false,
    "source_hash": "997b5971",
    "execution_start": 1634302935513,
    "execution_millis": 3,
    "deepnote_cell_type": "code"
   },
   "outputs": [],
   "execution_count": 24
  },
  {
   "cell_type": "code",
   "source": "#todo fix x labels\n\nsns.lineplot(x=list(count_semanal.keys()), y=list(count_semanal.values()), palette='Blues')\nplt.title('Número de acidentes por dia da semana')\nplt.xlabel('Dia da semana')\nplt.ylabel('Acidentes');\n",
   "metadata": {
    "tags": [],
    "cell_id": "00024-01f56c50-f278-4bd8-a5ac-ac8569d7ca33",
    "deepnote_to_be_reexecuted": false,
    "source_hash": "c028dc22",
    "execution_start": 1634302939483,
    "execution_millis": 236,
    "deepnote_cell_type": "code"
   },
   "outputs": [
    {
     "data": {
      "text/plain": "<Figure size 432x288 with 1 Axes>",
      "image/png": "[encoded data removed]"
     },
     "metadata": {
      "needs_background": "light",
      "image/png": {
       "width": 403,
       "height": 277
      }
     },
     "output_type": "display_data"
    }
   ],
   "execution_count": 25
  },
  {
   "cell_type": "code",
   "source": "uf_count = ocorrencias['uf'].value_counts()\nuf_labels = uf_count.keys()\nuf_value = uf_count.values",
   "metadata": {
    "tags": [],
    "cell_id": "00025-a80ffcf9-73b6-436b-b67d-792edb23eea9",
    "deepnote_to_be_reexecuted": false,
    "source_hash": "8a072f4",
    "execution_start": 1634302946126,
    "execution_millis": 4,
    "deepnote_cell_type": "code"
   },
   "outputs": [],
   "execution_count": 26
  },
  {
   "cell_type": "code",
   "source": "sns.barplot(x=uf_labels[::-1], y=uf_value[::-1], palette='Blues')\nplt.title('Ocorrência de acidentes por estado')\nplt.xlabel('Estado')\nplt.ylabel('Acidentes');",
   "metadata": {
    "tags": [],
    "cell_id": "00026-08c1a99f-75b8-4d7d-b11d-994c7fdf2788",
    "deepnote_to_be_reexecuted": false,
    "source_hash": "c11e369a",
    "execution_start": 1634302949629,
    "execution_millis": 388,
    "deepnote_cell_type": "code"
   },
   "outputs": [
    {
     "data": {
      "text/plain": "<Figure size 432x288 with 1 Axes>",
      "image/png": "[encoded data removed]"
     },
     "metadata": {
      "needs_background": "light",
      "image/png": {
       "width": 400,
       "height": 277
      }
     },
     "output_type": "display_data"
    }
   ],
   "execution_count": 27
  },
  {
   "cell_type": "code",
   "source": "g = sns.FacetGrid(ocorrencias, col=\"ano\", height=10, aspect=0.6)\ng.map(sns.histplot, \"uf\");",
   "metadata": {
    "tags": [],
    "cell_id": "00028-247aed3f-8919-41b7-98d7-2e7af1a78942",
    "deepnote_to_be_reexecuted": false,
    "source_hash": "63661b41",
    "execution_start": 1634309907553,
    "execution_millis": 5412,
    "deepnote_cell_type": "code"
   },
   "outputs": [
    {
     "data": {
      "text/plain": "<Figure size 6000x2000 with 5 Axes>",
      "image/png": "[encoded data removed]"
     },
     "metadata": {
      "needs_background": "light",
      "image/png": {
       "width": 5982,
       "height": 1982
      }
     },
     "output_type": "display_data"
    }
   ],
   "execution_count": 150
  },
  {
   "cell_type": "code",
   "source": "ocorrencias_2018['uf'].value_counts()",
   "metadata": {
    "tags": [],
    "cell_id": "00029-c680e1a3-e01e-4690-9fc6-30d21767202a",
    "deepnote_to_be_reexecuted": false,
    "source_hash": "41e836c4",
    "execution_start": 1634305004811,
    "execution_millis": 14,
    "deepnote_cell_type": "code"
   },
   "outputs": [
    {
     "output_type": "execute_result",
     "execution_count": 50,
     "data": {
      "text/plain": "MG    9055\nSC    8486\nPR    7946\nRJ    4563\nSP    4512\nRS    4437\nBA    3546\nGO    3459\nPE    2708\nES    2640\nMT    2627\nCE    1694\nRO    1625\nPB    1585\nMS    1523\nRN    1414\nPI    1370\nMA    1271\nPA    1257\nDF     865\nAL     689\nTO     588\nSE     558\nAC     235\nRR     232\nAP     173\nAM     123\nName: uf, dtype: int64"
     },
     "metadata": {}
    }
   ],
   "execution_count": 50
  },
  {
   "cell_type": "code",
   "source": "ocorrencias.groupby(['uf', 'ano']).size()",
   "metadata": {
    "tags": [],
    "cell_id": "00027-1b68e849-7e65-4da9-8c04-c2f1798b1eea",
    "deepnote_to_be_reexecuted": false,
    "source_hash": "b78425ed",
    "execution_start": 1634305133109,
    "execution_millis": 15,
    "deepnote_cell_type": "code"
   },
   "outputs": [
    {
     "output_type": "execute_result",
     "execution_count": 56,
     "data": {
      "text/plain": "uf  ano \nAC  2017    304\n    2018    235\n    2019    252\n    2020    296\n    2021    120\n           ... \nTO  2017    781\n    2018    588\n    2019    518\n    2020    590\n    2021    244\nLength: 135, dtype: int64"
     },
     "metadata": {}
    }
   ],
   "execution_count": 56
  },
  {
   "cell_type": "code",
   "source": "sns.lineplot(data=uf_por_ano)",
   "metadata": {
    "tags": [],
    "cell_id": "00028-dd2e4e16-4edd-4967-8402-d9ed41ba5c98",
    "deepnote_to_be_reexecuted": false,
    "source_hash": "8c3765f1",
    "execution_start": 1634304524346,
    "execution_millis": 28,
    "deepnote_cell_type": "code"
   },
   "outputs": [
    {
     "output_type": "error",
     "ename": "AttributeError",
     "evalue": "'MultiIndex' object has no attribute '_data'",
     "traceback": [
      "\u001b[0;31m---------------------------------------------------------------------------\u001b[0m",
      "\u001b[0;31mAttributeError\u001b[0m                            Traceback (most recent call last)",
      "\u001b[0;32m<ipython-input-42-0bf870bf3fb5>\u001b[0m in \u001b[0;36m<module>\u001b[0;34m\u001b[0m\n\u001b[0;32m----> 1\u001b[0;31m \u001b[0msns\u001b[0m\u001b[0;34m.\u001b[0m\u001b[0mlineplot\u001b[0m\u001b[0;34m(\u001b[0m\u001b[0mdata\u001b[0m\u001b[0;34m=\u001b[0m\u001b[0muf_por_ano\u001b[0m\u001b[0;34m)\u001b[0m\u001b[0;34m\u001b[0m\u001b[0;34m\u001b[0m\u001b[0m\n\u001b[0m",
      "\u001b[0;32m/shared-libs/python3.7/py/lib/python3.7/site-packages/seaborn/_decorators.py\u001b[0m in \u001b[0;36minner_f\u001b[0;34m(*args, **kwargs)\u001b[0m\n\u001b[1;32m     44\u001b[0m             )\n\u001b[1;32m     45\u001b[0m         \u001b[0mkwargs\u001b[0m\u001b[0;34m.\u001b[0m\u001b[0mupdate\u001b[0m\u001b[0;34m(\u001b[0m\u001b[0;34m{\u001b[0m\u001b[0mk\u001b[0m\u001b[0;34m:\u001b[0m \u001b[0marg\u001b[0m \u001b[0;32mfor\u001b[0m \u001b[0mk\u001b[0m\u001b[0;34m,\u001b[0m \u001b[0marg\u001b[0m \u001b[0;32min\u001b[0m \u001b[0mzip\u001b[0m\u001b[0;34m(\u001b[0m\u001b[0msig\u001b[0m\u001b[0;34m.\u001b[0m\u001b[0mparameters\u001b[0m\u001b[0;34m,\u001b[0m \u001b[0margs\u001b[0m\u001b[0;34m)\u001b[0m\u001b[0;34m}\u001b[0m\u001b[0;34m)\u001b[0m\u001b[0;34m\u001b[0m\u001b[0;34m\u001b[0m\u001b[0m\n\u001b[0;32m---> 46\u001b[0;31m         \u001b[0;32mreturn\u001b[0m \u001b[0mf\u001b[0m\u001b[0;34m(\u001b[0m\u001b[0;34m**\u001b[0m\u001b[0mkwargs\u001b[0m\u001b[0;34m)\u001b[0m\u001b[0;34m\u001b[0m\u001b[0;34m\u001b[0m\u001b[0m\n\u001b[0m\u001b[1;32m     47\u001b[0m     \u001b[0;32mreturn\u001b[0m \u001b[0minner_f\u001b[0m\u001b[0;34m\u001b[0m\u001b[0;34m\u001b[0m\u001b[0m\n\u001b[1;32m     48\u001b[0m \u001b[0;34m\u001b[0m\u001b[0m\n",
      "\u001b[0;32m/shared-libs/python3.7/py/lib/python3.7/site-packages/seaborn/relational.py\u001b[0m in \u001b[0;36mlineplot\u001b[0;34m(x, y, hue, size, style, data, palette, hue_order, hue_norm, sizes, size_order, size_norm, dashes, markers, style_order, units, estimator, ci, n_boot, seed, sort, err_style, err_kws, legend, ax, **kwargs)\u001b[0m\n\u001b[1;32m    693\u001b[0m         \u001b[0mdata\u001b[0m\u001b[0;34m=\u001b[0m\u001b[0mdata\u001b[0m\u001b[0;34m,\u001b[0m \u001b[0mvariables\u001b[0m\u001b[0;34m=\u001b[0m\u001b[0mvariables\u001b[0m\u001b[0;34m,\u001b[0m\u001b[0;34m\u001b[0m\u001b[0;34m\u001b[0m\u001b[0m\n\u001b[1;32m    694\u001b[0m         \u001b[0mestimator\u001b[0m\u001b[0;34m=\u001b[0m\u001b[0mestimator\u001b[0m\u001b[0;34m,\u001b[0m \u001b[0mci\u001b[0m\u001b[0;34m=\u001b[0m\u001b[0mci\u001b[0m\u001b[0;34m,\u001b[0m \u001b[0mn_boot\u001b[0m\u001b[0;34m=\u001b[0m\u001b[0mn_boot\u001b[0m\u001b[0;34m,\u001b[0m \u001b[0mseed\u001b[0m\u001b[0;34m=\u001b[0m\u001b[0mseed\u001b[0m\u001b[0;34m,\u001b[0m\u001b[0;34m\u001b[0m\u001b[0;34m\u001b[0m\u001b[0m\n\u001b[0;32m--> 695\u001b[0;31m         \u001b[0msort\u001b[0m\u001b[0;34m=\u001b[0m\u001b[0msort\u001b[0m\u001b[0;34m,\u001b[0m \u001b[0merr_style\u001b[0m\u001b[0;34m=\u001b[0m\u001b[0merr_style\u001b[0m\u001b[0;34m,\u001b[0m \u001b[0merr_kws\u001b[0m\u001b[0;34m=\u001b[0m\u001b[0merr_kws\u001b[0m\u001b[0;34m,\u001b[0m \u001b[0mlegend\u001b[0m\u001b[0;34m=\u001b[0m\u001b[0mlegend\u001b[0m\u001b[0;34m,\u001b[0m\u001b[0;34m\u001b[0m\u001b[0;34m\u001b[0m\u001b[0m\n\u001b[0m\u001b[1;32m    696\u001b[0m     )\n\u001b[1;32m    697\u001b[0m \u001b[0;34m\u001b[0m\u001b[0m\n",
      "\u001b[0;32m/shared-libs/python3.7/py/lib/python3.7/site-packages/seaborn/relational.py\u001b[0m in \u001b[0;36m__init__\u001b[0;34m(self, data, variables, estimator, ci, n_boot, seed, sort, err_style, err_kws, legend)\u001b[0m\n\u001b[1;32m    365\u001b[0m         )\n\u001b[1;32m    366\u001b[0m \u001b[0;34m\u001b[0m\u001b[0m\n\u001b[0;32m--> 367\u001b[0;31m         \u001b[0msuper\u001b[0m\u001b[0;34m(\u001b[0m\u001b[0;34m)\u001b[0m\u001b[0;34m.\u001b[0m\u001b[0m__init__\u001b[0m\u001b[0;34m(\u001b[0m\u001b[0mdata\u001b[0m\u001b[0;34m=\u001b[0m\u001b[0mdata\u001b[0m\u001b[0;34m,\u001b[0m \u001b[0mvariables\u001b[0m\u001b[0;34m=\u001b[0m\u001b[0mvariables\u001b[0m\u001b[0;34m)\u001b[0m\u001b[0;34m\u001b[0m\u001b[0;34m\u001b[0m\u001b[0m\n\u001b[0m\u001b[1;32m    368\u001b[0m \u001b[0;34m\u001b[0m\u001b[0m\n\u001b[1;32m    369\u001b[0m         \u001b[0mself\u001b[0m\u001b[0;34m.\u001b[0m\u001b[0mestimator\u001b[0m \u001b[0;34m=\u001b[0m \u001b[0mestimator\u001b[0m\u001b[0;34m\u001b[0m\u001b[0;34m\u001b[0m\u001b[0m\n",
      "\u001b[0;32m/shared-libs/python3.7/py/lib/python3.7/site-packages/seaborn/_core.py\u001b[0m in \u001b[0;36m__init__\u001b[0;34m(self, data, variables)\u001b[0m\n\u001b[1;32m    603\u001b[0m     \u001b[0;32mdef\u001b[0m \u001b[0m__init__\u001b[0m\u001b[0;34m(\u001b[0m\u001b[0mself\u001b[0m\u001b[0;34m,\u001b[0m \u001b[0mdata\u001b[0m\u001b[0;34m=\u001b[0m\u001b[0;32mNone\u001b[0m\u001b[0;34m,\u001b[0m \u001b[0mvariables\u001b[0m\u001b[0;34m=\u001b[0m\u001b[0;34m{\u001b[0m\u001b[0;34m}\u001b[0m\u001b[0;34m)\u001b[0m\u001b[0;34m:\u001b[0m\u001b[0;34m\u001b[0m\u001b[0;34m\u001b[0m\u001b[0m\n\u001b[1;32m    604\u001b[0m \u001b[0;34m\u001b[0m\u001b[0m\n\u001b[0;32m--> 605\u001b[0;31m         \u001b[0mself\u001b[0m\u001b[0;34m.\u001b[0m\u001b[0massign_variables\u001b[0m\u001b[0;34m(\u001b[0m\u001b[0mdata\u001b[0m\u001b[0;34m,\u001b[0m \u001b[0mvariables\u001b[0m\u001b[0;34m)\u001b[0m\u001b[0;34m\u001b[0m\u001b[0;34m\u001b[0m\u001b[0m\n\u001b[0m\u001b[1;32m    606\u001b[0m \u001b[0;34m\u001b[0m\u001b[0m\n\u001b[1;32m    607\u001b[0m         \u001b[0;32mfor\u001b[0m \u001b[0mvar\u001b[0m\u001b[0;34m,\u001b[0m \u001b[0mcls\u001b[0m \u001b[0;32min\u001b[0m \u001b[0mself\u001b[0m\u001b[0;34m.\u001b[0m\u001b[0m_semantic_mappings\u001b[0m\u001b[0;34m.\u001b[0m\u001b[0mitems\u001b[0m\u001b[0;34m(\u001b[0m\u001b[0;34m)\u001b[0m\u001b[0;34m:\u001b[0m\u001b[0;34m\u001b[0m\u001b[0;34m\u001b[0m\u001b[0m\n",
      "\u001b[0;32m/shared-libs/python3.7/py/lib/python3.7/site-packages/seaborn/_core.py\u001b[0m in \u001b[0;36massign_variables\u001b[0;34m(self, data, variables)\u001b[0m\n\u001b[1;32m    662\u001b[0m             \u001b[0mself\u001b[0m\u001b[0;34m.\u001b[0m\u001b[0minput_format\u001b[0m \u001b[0;34m=\u001b[0m \u001b[0;34m\"wide\"\u001b[0m\u001b[0;34m\u001b[0m\u001b[0;34m\u001b[0m\u001b[0m\n\u001b[1;32m    663\u001b[0m             plot_data, variables = self._assign_variables_wideform(\n\u001b[0;32m--> 664\u001b[0;31m                 \u001b[0mdata\u001b[0m\u001b[0;34m,\u001b[0m \u001b[0;34m**\u001b[0m\u001b[0mvariables\u001b[0m\u001b[0;34m,\u001b[0m\u001b[0;34m\u001b[0m\u001b[0;34m\u001b[0m\u001b[0m\n\u001b[0m\u001b[1;32m    665\u001b[0m             )\n\u001b[1;32m    666\u001b[0m         \u001b[0;32melse\u001b[0m\u001b[0;34m:\u001b[0m\u001b[0;34m\u001b[0m\u001b[0;34m\u001b[0m\u001b[0m\n",
      "\u001b[0;32m/shared-libs/python3.7/py/lib/python3.7/site-packages/seaborn/_core.py\u001b[0m in \u001b[0;36m_assign_variables_wideform\u001b[0;34m(self, data, **kwargs)\u001b[0m\n\u001b[1;32m    751\u001b[0m                     \u001b[0mvariables\u001b[0m\u001b[0;34m[\u001b[0m\u001b[0mvar\u001b[0m\u001b[0;34m]\u001b[0m \u001b[0;34m=\u001b[0m \u001b[0mnames\u001b[0m\u001b[0;34m[\u001b[0m\u001b[0mself\u001b[0m\u001b[0;34m.\u001b[0m\u001b[0mflat_structure\u001b[0m\u001b[0;34m[\u001b[0m\u001b[0mvar\u001b[0m\u001b[0;34m]\u001b[0m\u001b[0;34m]\u001b[0m\u001b[0;34m\u001b[0m\u001b[0;34m\u001b[0m\u001b[0m\n\u001b[1;32m    752\u001b[0m \u001b[0;34m\u001b[0m\u001b[0m\n\u001b[0;32m--> 753\u001b[0;31m             \u001b[0mplot_data\u001b[0m \u001b[0;34m=\u001b[0m \u001b[0mpd\u001b[0m\u001b[0;34m.\u001b[0m\u001b[0mDataFrame\u001b[0m\u001b[0;34m(\u001b[0m\u001b[0mplot_data\u001b[0m\u001b[0;34m)\u001b[0m\u001b[0;34m\u001b[0m\u001b[0;34m\u001b[0m\u001b[0m\n\u001b[0m\u001b[1;32m    754\u001b[0m \u001b[0;34m\u001b[0m\u001b[0m\n\u001b[1;32m    755\u001b[0m         \u001b[0;32melse\u001b[0m\u001b[0;34m:\u001b[0m\u001b[0;34m\u001b[0m\u001b[0;34m\u001b[0m\u001b[0m\n",
      "\u001b[0;32m/shared-libs/python3.7/py/lib/python3.7/site-packages/pandas/core/frame.py\u001b[0m in \u001b[0;36m__init__\u001b[0;34m(self, data, index, columns, dtype, copy)\u001b[0m\n\u001b[1;32m    527\u001b[0m \u001b[0;34m\u001b[0m\u001b[0m\n\u001b[1;32m    528\u001b[0m         \u001b[0;32melif\u001b[0m \u001b[0misinstance\u001b[0m\u001b[0;34m(\u001b[0m\u001b[0mdata\u001b[0m\u001b[0;34m,\u001b[0m \u001b[0mdict\u001b[0m\u001b[0;34m)\u001b[0m\u001b[0;34m:\u001b[0m\u001b[0;34m\u001b[0m\u001b[0;34m\u001b[0m\u001b[0m\n\u001b[0;32m--> 529\u001b[0;31m             \u001b[0mmgr\u001b[0m \u001b[0;34m=\u001b[0m \u001b[0minit_dict\u001b[0m\u001b[0;34m(\u001b[0m\u001b[0mdata\u001b[0m\u001b[0;34m,\u001b[0m \u001b[0mindex\u001b[0m\u001b[0;34m,\u001b[0m \u001b[0mcolumns\u001b[0m\u001b[0;34m,\u001b[0m \u001b[0mdtype\u001b[0m\u001b[0;34m=\u001b[0m\u001b[0mdtype\u001b[0m\u001b[0;34m)\u001b[0m\u001b[0;34m\u001b[0m\u001b[0;34m\u001b[0m\u001b[0m\n\u001b[0m\u001b[1;32m    530\u001b[0m         \u001b[0;32melif\u001b[0m \u001b[0misinstance\u001b[0m\u001b[0;34m(\u001b[0m\u001b[0mdata\u001b[0m\u001b[0;34m,\u001b[0m \u001b[0mma\u001b[0m\u001b[0;34m.\u001b[0m\u001b[0mMaskedArray\u001b[0m\u001b[0;34m)\u001b[0m\u001b[0;34m:\u001b[0m\u001b[0;34m\u001b[0m\u001b[0;34m\u001b[0m\u001b[0m\n\u001b[1;32m    531\u001b[0m             \u001b[0;32mimport\u001b[0m \u001b[0mnumpy\u001b[0m\u001b[0;34m.\u001b[0m\u001b[0mma\u001b[0m\u001b[0;34m.\u001b[0m\u001b[0mmrecords\u001b[0m \u001b[0;32mas\u001b[0m \u001b[0mmrecords\u001b[0m\u001b[0;34m\u001b[0m\u001b[0;34m\u001b[0m\u001b[0m\n",
      "\u001b[0;32m/shared-libs/python3.7/py/lib/python3.7/site-packages/pandas/core/internals/construction.py\u001b[0m in \u001b[0;36minit_dict\u001b[0;34m(data, index, columns, dtype)\u001b[0m\n\u001b[1;32m    280\u001b[0m         \u001b[0;31m# TODO: See if we can avoid these copies\u001b[0m\u001b[0;34m\u001b[0m\u001b[0;34m\u001b[0m\u001b[0;34m\u001b[0m\u001b[0m\n\u001b[1;32m    281\u001b[0m         arrays = [\n\u001b[0;32m--> 282\u001b[0;31m             \u001b[0marr\u001b[0m \u001b[0;32mif\u001b[0m \u001b[0;32mnot\u001b[0m \u001b[0misinstance\u001b[0m\u001b[0;34m(\u001b[0m\u001b[0marr\u001b[0m\u001b[0;34m,\u001b[0m \u001b[0mABCIndexClass\u001b[0m\u001b[0;34m)\u001b[0m \u001b[0;32melse\u001b[0m \u001b[0marr\u001b[0m\u001b[0;34m.\u001b[0m\u001b[0m_data\u001b[0m \u001b[0;32mfor\u001b[0m \u001b[0marr\u001b[0m \u001b[0;32min\u001b[0m \u001b[0marrays\u001b[0m\u001b[0;34m\u001b[0m\u001b[0;34m\u001b[0m\u001b[0m\n\u001b[0m\u001b[1;32m    283\u001b[0m         ]\n\u001b[1;32m    284\u001b[0m         arrays = [\n",
      "\u001b[0;32m/shared-libs/python3.7/py/lib/python3.7/site-packages/pandas/core/internals/construction.py\u001b[0m in \u001b[0;36m<listcomp>\u001b[0;34m(.0)\u001b[0m\n\u001b[1;32m    280\u001b[0m         \u001b[0;31m# TODO: See if we can avoid these copies\u001b[0m\u001b[0;34m\u001b[0m\u001b[0;34m\u001b[0m\u001b[0;34m\u001b[0m\u001b[0m\n\u001b[1;32m    281\u001b[0m         arrays = [\n\u001b[0;32m--> 282\u001b[0;31m             \u001b[0marr\u001b[0m \u001b[0;32mif\u001b[0m \u001b[0;32mnot\u001b[0m \u001b[0misinstance\u001b[0m\u001b[0;34m(\u001b[0m\u001b[0marr\u001b[0m\u001b[0;34m,\u001b[0m \u001b[0mABCIndexClass\u001b[0m\u001b[0;34m)\u001b[0m \u001b[0;32melse\u001b[0m \u001b[0marr\u001b[0m\u001b[0;34m.\u001b[0m\u001b[0m_data\u001b[0m \u001b[0;32mfor\u001b[0m \u001b[0marr\u001b[0m \u001b[0;32min\u001b[0m \u001b[0marrays\u001b[0m\u001b[0;34m\u001b[0m\u001b[0;34m\u001b[0m\u001b[0m\n\u001b[0m\u001b[1;32m    283\u001b[0m         ]\n\u001b[1;32m    284\u001b[0m         arrays = [\n",
      "\u001b[0;31mAttributeError\u001b[0m: 'MultiIndex' object has no attribute '_data'"
     ]
    }
   ],
   "execution_count": 42
  },
  {
   "cell_type": "code",
   "metadata": {
    "tags": [],
    "cell_id": "00018-af536885-7cd1-4dae-8128-6021d8a515b0",
    "deepnote_to_be_reexecuted": true,
    "source_hash": "2a01c89",
    "execution_start": 1634069520714,
    "execution_millis": 41,
    "deepnote_cell_type": "code"
   },
   "source": "ocorrencias['uf'].value_counts(normalize=True)",
   "execution_count": null,
   "outputs": [
    {
     "output_type": "execute_result",
     "execution_count": 67,
     "data": {
      "text/plain": "MG    0.133666\nSC    0.120682\nPR    0.115228\nRS    0.067833\nRJ    0.067289\nSP    0.065365\nBA    0.052496\nGO    0.049713\nPE    0.039275\nES    0.038394\nMT    0.036017\nCE    0.023792\nMS    0.022398\nRO    0.022224\nPB    0.022095\nRN    0.019559\nPI    0.018688\nMA    0.017526\nPA    0.015421\nDF    0.014224\nAL    0.009773\nSE    0.008649\nTO    0.008499\nAC    0.003770\nRR    0.003542\nAP    0.002190\nAM    0.001693\nName: uf, dtype: float64"
     },
     "metadata": {}
    }
   ]
  },
  {
   "cell_type": "code",
   "source": "ocorrencias.groupby(['uf', 'classificacao_acidente']).size()",
   "metadata": {
    "tags": [],
    "cell_id": "00034-e1d43282-3754-45e6-8b9d-3ec04efe7cb8",
    "deepnote_to_be_reexecuted": false,
    "source_hash": "bfa8445b",
    "execution_start": 1634305993615,
    "execution_millis": 88,
    "deepnote_cell_type": "code"
   },
   "outputs": [
    {
     "output_type": "execute_result",
     "execution_count": 61,
     "data": {
      "text/plain": "uf  classificacao_acidente\nAC  Com Vítimas Fatais           79\n    Com Vítimas Feridas         919\n    Sem Vítimas                 209\nAL  Com Vítimas Fatais          354\n    Com Vítimas Feridas        1931\n                              ...  \nSP  Com Vítimas Feridas       14587\n    Sem Vítimas                5415\nTO  Com Vítimas Fatais          319\n    Com Vítimas Feridas        1740\n    Sem Vítimas                 662\nLength: 81, dtype: int64"
     },
     "metadata": {}
    }
   ],
   "execution_count": 61
  },
  {
   "cell_type": "code",
   "source": "ocorrencias.columns",
   "metadata": {
    "tags": [],
    "cell_id": "00030-9a874cf0-7be1-4b2c-8ae6-a177ef481032",
    "deepnote_to_be_reexecuted": false,
    "source_hash": "eeef5d9",
    "execution_start": 1634304326386,
    "execution_millis": 3,
    "deepnote_cell_type": "code"
   },
   "outputs": [
    {
     "output_type": "execute_result",
     "execution_count": 35,
     "data": {
      "text/plain": "Index(['id', 'data_inversa', 'dia_semana', 'horario', 'uf', 'br', 'km',\n       'municipio', 'causa_acidente', 'tipo_acidente',\n       'classificacao_acidente', 'fase_dia', 'sentido_via',\n       'condicao_metereologica', 'tipo_pista', 'tracado_via', 'uso_solo',\n       'pessoas', 'mortos', 'feridos_leves', 'feridos_graves', 'ilesos',\n       'ignorados', 'feridos', 'veiculos', 'latitude', 'longitude', 'regional',\n       'delegacia', 'uop', 'data', 'feriado', 'ano', 'fim_de_semana',\n       'periodo'],\n      dtype='object')"
     },
     "metadata": {}
    }
   ],
   "execution_count": 35
  },
  {
   "cell_type": "code",
   "source": "ocorrencias.describe()9",
   "metadata": {
    "tags": [],
    "cell_id": "00035-54a94e45-5e48-4787-9d8c-ea314fc46bc3",
    "deepnote_to_be_reexecuted": false,
    "source_hash": "135e3ba8",
    "execution_start": 1634306862108,
    "execution_millis": 314,
    "deepnote_cell_type": "code"
   },
   "outputs": [
    {
     "output_type": "execute_result",
     "execution_count": 64,
     "data": {
      "application/vnd.deepnote.dataframe.v2+json": {
       "row_count": 8,
       "column_count": 14,
       "columns": [
        {
         "name": "id",
         "dtype": "float64",
         "stats": {
          "unique_count": 8,
          "nan_count": 0,
          "min": "8.0",
          "max": "374253.0",
          "histogram": [
           {
            "bin_start": 8,
            "bin_end": 37432.5,
            "count": 1
           },
           {
            "bin_start": 37432.5,
            "bin_end": 74857,
            "count": 0
           },
           {
            "bin_start": 74857,
            "bin_end": 112281.5,
            "count": 2
           },
           {
            "bin_start": 112281.5,
            "bin_end": 149706,
            "count": 0
           },
           {
            "bin_start": 149706,
            "bin_end": 187130.5,
            "count": 2
           },
           {
            "bin_start": 187130.5,
            "bin_end": 224555,
            "count": 0
           },
           {
            "bin_start": 224555,
            "bin_end": 261979.5,
            "count": 0
           },
           {
            "bin_start": 261979.5,
            "bin_end": 299404,
            "count": 1
           },
           {
            "bin_start": 299404,
            "bin_end": 336828.5,
            "count": 1
           },
           {
            "bin_start": 336828.5,
            "bin_end": 374253,
            "count": 1
           }
          ]
         }
        },
        {
         "name": "br",
         "dtype": "float64",
         "stats": {
          "unique_count": 8,
          "nan_count": 0,
          "min": "10.0",
          "max": "320156.0",
          "histogram": [
           {
            "bin_start": 10,
            "bin_end": 32024.6,
            "count": 7
           },
           {
            "bin_start": 32024.6,
            "bin_end": 64039.2,
            "count": 0
           },
           {
            "bin_start": 64039.2,
            "bin_end": 96053.79999999999,
            "count": 0
           },
           {
            "bin_start": 96053.79999999999,
            "bin_end": 128068.4,
            "count": 0
           },
           {
            "bin_start": 128068.4,
            "bin_end": 160083,
            "count": 0
           },
           {
            "bin_start": 160083,
            "bin_end": 192097.59999999998,
            "count": 0
           },
           {
            "bin_start": 192097.59999999998,
            "bin_end": 224112.19999999998,
            "count": 0
           },
           {
            "bin_start": 224112.19999999998,
            "bin_end": 256126.8,
            "count": 0
           },
           {
            "bin_start": 256126.8,
            "bin_end": 288141.39999999997,
            "count": 0
           },
           {
            "bin_start": 288141.39999999997,
            "bin_end": 320156,
            "count": 1
           }
          ]
         }
        },
        {
         "name": "km",
         "dtype": "float64",
         "stats": {
          "unique_count": 8,
          "nan_count": 0,
          "min": "0.0",
          "max": "320156.0",
          "histogram": [
           {
            "bin_start": 0,
            "bin_end": 32015.6,
            "count": 7
           },
           {
            "bin_start": 32015.6,
            "bin_end": 64031.2,
            "count": 0
           },
           {
            "bin_start": 64031.2,
            "bin_end": 96046.79999999999,
            "count": 0
           },
           {
            "bin_start": 96046.79999999999,
            "bin_end": 128062.4,
            "count": 0
           },
           {
            "bin_start": 128062.4,
            "bin_end": 160078,
            "count": 0
           },
           {
            "bin_start": 160078,
            "bin_end": 192093.59999999998,
            "count": 0
           },
           {
            "bin_start": 192093.59999999998,
            "bin_end": 224109.19999999998,
            "count": 0
           },
           {
            "bin_start": 224109.19999999998,
            "bin_end": 256124.8,
            "count": 0
           },
           {
            "bin_start": 256124.8,
            "bin_end": 288140.39999999997,
            "count": 0
           },
           {
            "bin_start": 288140.39999999997,
            "bin_end": 320156,
            "count": 1
           }
          ]
         }
        },
        {
         "name": "pessoas",
         "dtype": "float64",
         "stats": {
          "unique_count": 7,
          "nan_count": 0,
          "min": "1.0",
          "max": "320156.0",
          "histogram": [
           {
            "bin_start": 1,
            "bin_end": 32016.5,
            "count": 7
           },
           {
            "bin_start": 32016.5,
            "bin_end": 64032,
            "count": 0
           },
           {
            "bin_start": 64032,
            "bin_end": 96047.5,
            "count": 0
           },
           {
            "bin_start": 96047.5,
            "bin_end": 128063,
            "count": 0
           },
           {
            "bin_start": 128063,
            "bin_end": 160078.5,
            "count": 0
           },
           {
            "bin_start": 160078.5,
            "bin_end": 192094,
            "count": 0
           },
           {
            "bin_start": 192094,
            "bin_end": 224109.5,
            "count": 0
           },
           {
            "bin_start": 224109.5,
            "bin_end": 256125,
            "count": 0
           },
           {
            "bin_start": 256125,
            "bin_end": 288140.5,
            "count": 0
           },
           {
            "bin_start": 288140.5,
            "bin_end": 320156,
            "count": 1
           }
          ]
         }
        },
        {
         "name": "mortos",
         "dtype": "float64",
         "stats": {
          "unique_count": 5,
          "nan_count": 0,
          "min": "0.0",
          "max": "320156.0",
          "histogram": [
           {
            "bin_start": 0,
            "bin_end": 32015.6,
            "count": 7
           },
           {
            "bin_start": 32015.6,
            "bin_end": 64031.2,
            "count": 0
           },
           {
            "bin_start": 64031.2,
            "bin_end": 96046.79999999999,
            "count": 0
           },
           {
            "bin_start": 96046.79999999999,
            "bin_end": 128062.4,
            "count": 0
           },
           {
            "bin_start": 128062.4,
            "bin_end": 160078,
            "count": 0
           },
           {
            "bin_start": 160078,
            "bin_end": 192093.59999999998,
            "count": 0
           },
           {
            "bin_start": 192093.59999999998,
            "bin_end": 224109.19999999998,
            "count": 0
           },
           {
            "bin_start": 224109.19999999998,
            "bin_end": 256124.8,
            "count": 0
           },
           {
            "bin_start": 256124.8,
            "bin_end": 288140.39999999997,
            "count": 0
           },
           {
            "bin_start": 288140.39999999997,
            "bin_end": 320156,
            "count": 1
           }
          ]
         }
        },
        {
         "name": "feridos_leves",
         "dtype": "float64",
         "stats": {
          "unique_count": 6,
          "nan_count": 0,
          "min": "0.0",
          "max": "320156.0",
          "histogram": [
           {
            "bin_start": 0,
            "bin_end": 32015.6,
            "count": 7
           },
           {
            "bin_start": 32015.6,
            "bin_end": 64031.2,
            "count": 0
           },
           {
            "bin_start": 64031.2,
            "bin_end": 96046.79999999999,
            "count": 0
           },
           {
            "bin_start": 96046.79999999999,
            "bin_end": 128062.4,
            "count": 0
           },
           {
            "bin_start": 128062.4,
            "bin_end": 160078,
            "count": 0
           },
           {
            "bin_start": 160078,
            "bin_end": 192093.59999999998,
            "count": 0
           },
           {
            "bin_start": 192093.59999999998,
            "bin_end": 224109.19999999998,
            "count": 0
           },
           {
            "bin_start": 224109.19999999998,
            "bin_end": 256124.8,
            "count": 0
           },
           {
            "bin_start": 256124.8,
            "bin_end": 288140.39999999997,
            "count": 0
           },
           {
            "bin_start": 288140.39999999997,
            "bin_end": 320156,
            "count": 1
           }
          ]
         }
        },
        {
         "name": "feridos_graves",
         "dtype": "float64",
         "stats": {
          "unique_count": 5,
          "nan_count": 0,
          "min": "0.0",
          "max": "320156.0",
          "histogram": [
           {
            "bin_start": 0,
            "bin_end": 32015.6,
            "count": 7
           },
           {
            "bin_start": 32015.6,
            "bin_end": 64031.2,
            "count": 0
           },
           {
            "bin_start": 64031.2,
            "bin_end": 96046.79999999999,
            "count": 0
           },
           {
            "bin_start": 96046.79999999999,
            "bin_end": 128062.4,
            "count": 0
           },
           {
            "bin_start": 128062.4,
            "bin_end": 160078,
            "count": 0
           },
           {
            "bin_start": 160078,
            "bin_end": 192093.59999999998,
            "count": 0
           },
           {
            "bin_start": 192093.59999999998,
            "bin_end": 224109.19999999998,
            "count": 0
           },
           {
            "bin_start": 224109.19999999998,
            "bin_end": 256124.8,
            "count": 0
           },
           {
            "bin_start": 256124.8,
            "bin_end": 288140.39999999997,
            "count": 0
           },
           {
            "bin_start": 288140.39999999997,
            "bin_end": 320156,
            "count": 1
           }
          ]
         }
        },
        {
         "name": "ilesos",
         "dtype": "float64",
         "stats": {
          "unique_count": 6,
          "nan_count": 0,
          "min": "0.0",
          "max": "320156.0",
          "histogram": [
           {
            "bin_start": 0,
            "bin_end": 32015.6,
            "count": 7
           },
           {
            "bin_start": 32015.6,
            "bin_end": 64031.2,
            "count": 0
           },
           {
            "bin_start": 64031.2,
            "bin_end": 96046.79999999999,
            "count": 0
           },
           {
            "bin_start": 96046.79999999999,
            "bin_end": 128062.4,
            "count": 0
           },
           {
            "bin_start": 128062.4,
            "bin_end": 160078,
            "count": 0
           },
           {
            "bin_start": 160078,
            "bin_end": 192093.59999999998,
            "count": 0
           },
           {
            "bin_start": 192093.59999999998,
            "bin_end": 224109.19999999998,
            "count": 0
           },
           {
            "bin_start": 224109.19999999998,
            "bin_end": 256124.8,
            "count": 0
           },
           {
            "bin_start": 256124.8,
            "bin_end": 288140.39999999997,
            "count": 0
           },
           {
            "bin_start": 288140.39999999997,
            "bin_end": 320156,
            "count": 1
           }
          ]
         }
        },
        {
         "name": "ignorados",
         "dtype": "float64",
         "stats": {
          "unique_count": 5,
          "nan_count": 0,
          "min": "0.0",
          "max": "320156.0",
          "histogram": [
           {
            "bin_start": 0,
            "bin_end": 32015.6,
            "count": 7
           },
           {
            "bin_start": 32015.6,
            "bin_end": 64031.2,
            "count": 0
           },
           {
            "bin_start": 64031.2,
            "bin_end": 96046.79999999999,
            "count": 0
           },
           {
            "bin_start": 96046.79999999999,
            "bin_end": 128062.4,
            "count": 0
           },
           {
            "bin_start": 128062.4,
            "bin_end": 160078,
            "count": 0
           },
           {
            "bin_start": 160078,
            "bin_end": 192093.59999999998,
            "count": 0
           },
           {
            "bin_start": 192093.59999999998,
            "bin_end": 224109.19999999998,
            "count": 0
           },
           {
            "bin_start": 224109.19999999998,
            "bin_end": 256124.8,
            "count": 0
           },
           {
            "bin_start": 256124.8,
            "bin_end": 288140.39999999997,
            "count": 0
           },
           {
            "bin_start": 288140.39999999997,
            "bin_end": 320156,
            "count": 1
           }
          ]
         }
        },
        {
         "name": "feridos",
         "dtype": "float64",
         "stats": {
          "unique_count": 6,
          "nan_count": 0,
          "min": "0.0",
          "max": "320156.0",
          "histogram": [
           {
            "bin_start": 0,
            "bin_end": 32015.6,
            "count": 7
           },
           {
            "bin_start": 32015.6,
            "bin_end": 64031.2,
            "count": 0
           },
           {
            "bin_start": 64031.2,
            "bin_end": 96046.79999999999,
            "count": 0
           },
           {
            "bin_start": 96046.79999999999,
            "bin_end": 128062.4,
            "count": 0
           },
           {
            "bin_start": 128062.4,
            "bin_end": 160078,
            "count": 0
           },
           {
            "bin_start": 160078,
            "bin_end": 192093.59999999998,
            "count": 0
           },
           {
            "bin_start": 192093.59999999998,
            "bin_end": 224109.19999999998,
            "count": 0
           },
           {
            "bin_start": 224109.19999999998,
            "bin_end": 256124.8,
            "count": 0
           },
           {
            "bin_start": 256124.8,
            "bin_end": 288140.39999999997,
            "count": 0
           },
           {
            "bin_start": 288140.39999999997,
            "bin_end": 320156,
            "count": 1
           }
          ]
         }
        },
        {
         "name": "veiculos",
         "dtype": "float64",
         "stats": {
          "unique_count": 6,
          "nan_count": 0,
          "min": "0.7349500052076637",
          "max": "320156.0",
          "histogram": [
           {
            "bin_start": 0.7349500052076637,
            "bin_end": 32016.26145500469,
            "count": 7
           },
           {
            "bin_start": 32016.26145500469,
            "bin_end": 64031.78796000417,
            "count": 0
           },
           {
            "bin_start": 64031.78796000417,
            "bin_end": 96047.31446500366,
            "count": 0
           },
           {
            "bin_start": 96047.31446500366,
            "bin_end": 128062.84097000313,
            "count": 0
           },
           {
            "bin_start": 128062.84097000313,
            "bin_end": 160078.3674750026,
            "count": 0
           },
           {
            "bin_start": 160078.3674750026,
            "bin_end": 192093.8939800021,
            "count": 0
           },
           {
            "bin_start": 192093.8939800021,
            "bin_end": 224109.42048500155,
            "count": 0
           },
           {
            "bin_start": 224109.42048500155,
            "bin_end": 256124.94699000104,
            "count": 0
           },
           {
            "bin_start": 256124.94699000104,
            "bin_end": 288140.4734950005,
            "count": 0
           },
           {
            "bin_start": 288140.4734950005,
            "bin_end": 320156,
            "count": 1
           }
          ]
         }
        },
        {
         "name": "feriado",
         "dtype": "float64",
         "stats": {
          "unique_count": 5,
          "nan_count": 0,
          "min": "0.0",
          "max": "320156.0",
          "histogram": [
           {
            "bin_start": 0,
            "bin_end": 32015.6,
            "count": 7
           },
           {
            "bin_start": 32015.6,
            "bin_end": 64031.2,
            "count": 0
           },
           {
            "bin_start": 64031.2,
            "bin_end": 96046.79999999999,
            "count": 0
           },
           {
            "bin_start": 96046.79999999999,
            "bin_end": 128062.4,
            "count": 0
           },
           {
            "bin_start": 128062.4,
            "bin_end": 160078,
            "count": 0
           },
           {
            "bin_start": 160078,
            "bin_end": 192093.59999999998,
            "count": 0
           },
           {
            "bin_start": 192093.59999999998,
            "bin_end": 224109.19999999998,
            "count": 0
           },
           {
            "bin_start": 224109.19999999998,
            "bin_end": 256124.8,
            "count": 0
           },
           {
            "bin_start": 256124.8,
            "bin_end": 288140.39999999997,
            "count": 0
           },
           {
            "bin_start": 288140.39999999997,
            "bin_end": 320156,
            "count": 1
           }
          ]
         }
        },
        {
         "name": "ano",
         "dtype": "float64",
         "stats": {
          "unique_count": 7,
          "nan_count": 0,
          "min": "1.3299256066514835",
          "max": "320156.0",
          "histogram": [
           {
            "bin_start": 1.3299256066514835,
            "bin_end": 32016.796933045985,
            "count": 7
           },
           {
            "bin_start": 32016.796933045985,
            "bin_end": 64032.26394048532,
            "count": 0
           },
           {
            "bin_start": 64032.26394048532,
            "bin_end": 96047.73094792465,
            "count": 0
           },
           {
            "bin_start": 96047.73094792465,
            "bin_end": 128063.19795536398,
            "count": 0
           },
           {
            "bin_start": 128063.19795536398,
            "bin_end": 160078.6649628033,
            "count": 0
           },
           {
            "bin_start": 160078.6649628033,
            "bin_end": 192094.13197024263,
            "count": 0
           },
           {
            "bin_start": 192094.13197024263,
            "bin_end": 224109.59897768198,
            "count": 0
           },
           {
            "bin_start": 224109.59897768198,
            "bin_end": 256125.0659851213,
            "count": 0
           },
           {
            "bin_start": 256125.0659851213,
            "bin_end": 288140.53299256065,
            "count": 0
           },
           {
            "bin_start": 288140.53299256065,
            "bin_end": 320156,
            "count": 1
           }
          ]
         }
        },
        {
         "name": "fim_de_semana",
         "dtype": "float64",
         "stats": {
          "unique_count": 5,
          "nan_count": 0,
          "min": "0.0",
          "max": "320156.0",
          "histogram": [
           {
            "bin_start": 0,
            "bin_end": 32015.6,
            "count": 7
           },
           {
            "bin_start": 32015.6,
            "bin_end": 64031.2,
            "count": 0
           },
           {
            "bin_start": 64031.2,
            "bin_end": 96046.79999999999,
            "count": 0
           },
           {
            "bin_start": 96046.79999999999,
            "bin_end": 128062.4,
            "count": 0
           },
           {
            "bin_start": 128062.4,
            "bin_end": 160078,
            "count": 0
           },
           {
            "bin_start": 160078,
            "bin_end": 192093.59999999998,
            "count": 0
           },
           {
            "bin_start": 192093.59999999998,
            "bin_end": 224109.19999999998,
            "count": 0
           },
           {
            "bin_start": 224109.19999999998,
            "bin_end": 256124.8,
            "count": 0
           },
           {
            "bin_start": 256124.8,
            "bin_end": 288140.39999999997,
            "count": 0
           },
           {
            "bin_start": 288140.39999999997,
            "bin_end": 320156,
            "count": 1
           }
          ]
         }
        },
        {
         "name": "_deepnote_index_column",
         "dtype": "object"
        }
       ],
       "rows_top": [
        {
         "id": 320156,
         "br": 320156,
         "km": 320156,
         "pessoas": 320156,
         "mortos": 320156,
         "feridos_leves": 320156,
         "feridos_graves": 320156,
         "ilesos": 320156,
         "ignorados": 320156,
         "feridos": 320156,
         "veiculos": 320156,
         "feriado": 320156,
         "ano": 320156,
         "fim_de_semana": 320156,
         "_deepnote_index_column": "count"
        },
        {
         "id": 184250.4870094579,
         "br": 214.17327490348455,
         "km": 262.15827128025086,
         "pessoas": 2.338525593773036,
         "mortos": 0.07683754169842202,
         "feridos_leves": 0.8274653606366896,
         "feridos_graves": 0.25065905371131575,
         "ilesos": 1.0478891540374067,
         "ignorados": 0.1356744836892015,
         "feridos": 1.0781244143480053,
         "veiculos": 1.640953160334337,
         "feriado": 0.03825635002936069,
         "ano": 2018.6158404028035,
         "fim_de_semana": 0.33125413860742886,
         "_deepnote_index_column": "mean"
        },
        {
         "id": 106455.05687274218,
         "br": 130.92493895514218,
         "km": 228.20068220637856,
         "pessoas": 1.8365341549007606,
         "mortos": 0.3294454320276956,
         "feridos_leves": 1.072691093600277,
         "feridos_graves": 0.5952249983091532,
         "ilesos": 1.4212150242044432,
         "ignorados": 0.412474758549288,
         "feridos": 1.2027439074982604,
         "veiculos": 0.7349500052076637,
         "feriado": 0.19181479774415686,
         "ano": 1.3299256066514835,
         "fim_de_semana": 0.47066498296860015,
         "_deepnote_index_column": "std"
        },
        {
         "id": 8,
         "br": 10,
         "km": 0,
         "pessoas": 1,
         "mortos": 0,
         "feridos_leves": 0,
         "feridos_graves": 0,
         "ilesos": 0,
         "ignorados": 0,
         "feridos": 0,
         "veiculos": 1,
         "feriado": 0,
         "ano": 2017,
         "fim_de_semana": 0,
         "_deepnote_index_column": "min"
        },
        {
         "id": 90834.75,
         "br": 101,
         "km": 77.4,
         "pessoas": 1,
         "mortos": 0,
         "feridos_leves": 0,
         "feridos_graves": 0,
         "ilesos": 0,
         "ignorados": 0,
         "feridos": 0,
         "veiculos": 1,
         "feriado": 0,
         "ano": 2017,
         "fim_de_semana": 0,
         "_deepnote_index_column": "25%"
        },
        {
         "id": 185488.5,
         "br": 163,
         "km": 197,
         "pessoas": 2,
         "mortos": 0,
         "feridos_leves": 1,
         "feridos_graves": 0,
         "ilesos": 1,
         "ignorados": 0,
         "feridos": 1,
         "veiculos": 2,
         "feriado": 0,
         "ano": 2019,
         "fim_de_semana": 0,
         "_deepnote_index_column": "50%"
        },
        {
         "id": 276537.25,
         "br": 343,
         "km": 412.8,
         "pessoas": 3,
         "mortos": 0,
         "feridos_leves": 1,
         "feridos_graves": 0,
         "ilesos": 1,
         "ignorados": 0,
         "feridos": 1,
         "veiculos": 2,
         "feriado": 0,
         "ano": 2020,
         "fim_de_semana": 1,
         "_deepnote_index_column": "75%"
        },
        {
         "id": 374253,
         "br": 498,
         "km": 1454.5,
         "pessoas": 80,
         "mortos": 21,
         "feridos_leves": 58,
         "feridos_graves": 28,
         "ilesos": 73,
         "ignorados": 16,
         "feridos": 66,
         "veiculos": 23,
         "feriado": 1,
         "ano": 2021,
         "fim_de_semana": 1,
         "_deepnote_index_column": "max"
        }
       ],
       "rows_bottom": null
      },
      "text/plain": "                  id             br             km        pessoas  \\\ncount  320156.000000  320156.000000  320156.000000  320156.000000   \nmean   184250.487009     214.173275     262.158271       2.338526   \nstd    106455.056873     130.924939     228.200682       1.836534   \nmin         8.000000      10.000000       0.000000       1.000000   \n25%     90834.750000     101.000000      77.400000       1.000000   \n50%    185488.500000     163.000000     197.000000       2.000000   \n75%    276537.250000     343.000000     412.800000       3.000000   \nmax    374253.000000     498.000000    1454.500000      80.000000   \n\n              mortos  feridos_leves  feridos_graves         ilesos  \\\ncount  320156.000000  320156.000000   320156.000000  320156.000000   \nmean        0.076838       0.827465        0.250659       1.047889   \nstd         0.329445       1.072691        0.595225       1.421215   \nmin         0.000000       0.000000        0.000000       0.000000   \n25%         0.000000       0.000000        0.000000       0.000000   \n50%         0.000000       1.000000        0.000000       1.000000   \n75%         0.000000       1.000000        0.000000       1.000000   \nmax        21.000000      58.000000       28.000000      73.000000   \n\n           ignorados        feridos       veiculos        feriado  \\\ncount  320156.000000  320156.000000  320156.000000  320156.000000   \nmean        0.135674       1.078124       1.640953       0.038256   \nstd         0.412475       1.202744       0.734950       0.191815   \nmin         0.000000       0.000000       1.000000       0.000000   \n25%         0.000000       0.000000       1.000000       0.000000   \n50%         0.000000       1.000000       2.000000       0.000000   \n75%         0.000000       1.000000       2.000000       0.000000   \nmax        16.000000      66.000000      23.000000       1.000000   \n\n                 ano  fim_de_semana  \ncount  320156.000000  320156.000000  \nmean     2018.615840       0.331254  \nstd         1.329926       0.470665  \nmin      2017.000000       0.000000  \n25%      2017.000000       0.000000  \n50%      2019.000000       0.000000  \n75%      2020.000000       1.000000  \nmax      2021.000000       1.000000  ",
      "text/html": "<div>\n<style scoped>\n    .dataframe tbody tr th:only-of-type {\n        vertical-align: middle;\n    }\n\n    .dataframe tbody tr th {\n        vertical-align: top;\n    }\n\n    .dataframe thead th {\n        text-align: right;\n    }\n</style>\n<table border=\"1\" class=\"dataframe\">\n  <thead>\n    <tr style=\"text-align: right;\">\n      <th></th>\n      <th>id</th>\n      <th>br</th>\n      <th>km</th>\n      <th>pessoas</th>\n      <th>mortos</th>\n      <th>feridos_leves</th>\n      <th>feridos_graves</th>\n      <th>ilesos</th>\n      <th>ignorados</th>\n      <th>feridos</th>\n      <th>veiculos</th>\n      <th>feriado</th>\n      <th>ano</th>\n      <th>fim_de_semana</th>\n    </tr>\n  </thead>\n  <tbody>\n    <tr>\n      <th>count</th>\n      <td>320156.000000</td>\n      <td>320156.000000</td>\n      <td>320156.000000</td>\n      <td>320156.000000</td>\n      <td>320156.000000</td>\n      <td>320156.000000</td>\n      <td>320156.000000</td>\n      <td>320156.000000</td>\n      <td>320156.000000</td>\n      <td>320156.000000</td>\n      <td>320156.000000</td>\n      <td>320156.000000</td>\n      <td>320156.000000</td>\n      <td>320156.000000</td>\n    </tr>\n    <tr>\n      <th>mean</th>\n      <td>184250.487009</td>\n      <td>214.173275</td>\n      <td>262.158271</td>\n      <td>2.338526</td>\n      <td>0.076838</td>\n      <td>0.827465</td>\n      <td>0.250659</td>\n      <td>1.047889</td>\n      <td>0.135674</td>\n      <td>1.078124</td>\n      <td>1.640953</td>\n      <td>0.038256</td>\n      <td>2018.615840</td>\n      <td>0.331254</td>\n    </tr>\n    <tr>\n      <th>std</th>\n      <td>106455.056873</td>\n      <td>130.924939</td>\n      <td>228.200682</td>\n      <td>1.836534</td>\n      <td>0.329445</td>\n      <td>1.072691</td>\n      <td>0.595225</td>\n      <td>1.421215</td>\n      <td>0.412475</td>\n      <td>1.202744</td>\n      <td>0.734950</td>\n      <td>0.191815</td>\n      <td>1.329926</td>\n      <td>0.470665</td>\n    </tr>\n    <tr>\n      <th>min</th>\n      <td>8.000000</td>\n      <td>10.000000</td>\n      <td>0.000000</td>\n      <td>1.000000</td>\n      <td>0.000000</td>\n      <td>0.000000</td>\n      <td>0.000000</td>\n      <td>0.000000</td>\n      <td>0.000000</td>\n      <td>0.000000</td>\n      <td>1.000000</td>\n      <td>0.000000</td>\n      <td>2017.000000</td>\n      <td>0.000000</td>\n    </tr>\n    <tr>\n      <th>25%</th>\n      <td>90834.750000</td>\n      <td>101.000000</td>\n      <td>77.400000</td>\n      <td>1.000000</td>\n      <td>0.000000</td>\n      <td>0.000000</td>\n      <td>0.000000</td>\n      <td>0.000000</td>\n      <td>0.000000</td>\n      <td>0.000000</td>\n      <td>1.000000</td>\n      <td>0.000000</td>\n      <td>2017.000000</td>\n      <td>0.000000</td>\n    </tr>\n    <tr>\n      <th>50%</th>\n      <td>185488.500000</td>\n      <td>163.000000</td>\n      <td>197.000000</td>\n      <td>2.000000</td>\n      <td>0.000000</td>\n      <td>1.000000</td>\n      <td>0.000000</td>\n      <td>1.000000</td>\n      <td>0.000000</td>\n      <td>1.000000</td>\n      <td>2.000000</td>\n      <td>0.000000</td>\n      <td>2019.000000</td>\n      <td>0.000000</td>\n    </tr>\n    <tr>\n      <th>75%</th>\n      <td>276537.250000</td>\n      <td>343.000000</td>\n      <td>412.800000</td>\n      <td>3.000000</td>\n      <td>0.000000</td>\n      <td>1.000000</td>\n      <td>0.000000</td>\n      <td>1.000000</td>\n      <td>0.000000</td>\n      <td>1.000000</td>\n      <td>2.000000</td>\n      <td>0.000000</td>\n      <td>2020.000000</td>\n      <td>1.000000</td>\n    </tr>\n    <tr>\n      <th>max</th>\n      <td>374253.000000</td>\n      <td>498.000000</td>\n      <td>1454.500000</td>\n      <td>80.000000</td>\n      <td>21.000000</td>\n      <td>58.000000</td>\n      <td>28.000000</td>\n      <td>73.000000</td>\n      <td>16.000000</td>\n      <td>66.000000</td>\n      <td>23.000000</td>\n      <td>1.000000</td>\n      <td>2021.000000</td>\n      <td>1.000000</td>\n    </tr>\n  </tbody>\n</table>\n</div>"
     },
     "metadata": {}
    }
   ],
   "execution_count": 64
  },
  {
   "cell_type": "code",
   "source": "ocorrencias[['pessoas', 'mortos', 'feridos_leves', 'feridos_graves', 'ilesos', 'ignorados', 'feridos', 'veiculos', 'feriado']].corr()\n#Feridos X feridos leves\n#Número de pessoas X feridos",
   "metadata": {
    "tags": [],
    "cell_id": "00036-e6f2b318-fcdb-42de-8d4e-399182cddd72",
    "deepnote_to_be_reexecuted": false,
    "source_hash": "624e09b7",
    "execution_start": 1634308983039,
    "execution_millis": 170,
    "deepnote_cell_type": "code"
   },
   "outputs": [
    {
     "output_type": "execute_result",
     "execution_count": 100,
     "data": {
      "application/vnd.deepnote.dataframe.v2+json": {
       "row_count": 9,
       "column_count": 9,
       "columns": [
        {
         "name": "pessoas",
         "dtype": "float64",
         "stats": {
          "unique_count": 9,
          "nan_count": 0,
          "min": "0.01343062630240061",
          "max": "1.0",
          "histogram": [
           {
            "bin_start": 0.01343062630240061,
            "bin_end": 0.11208756367216054,
            "count": 1
           },
           {
            "bin_start": 0.11208756367216054,
            "bin_end": 0.21074450104192047,
            "count": 2
           },
           {
            "bin_start": 0.21074450104192047,
            "bin_end": 0.3094014384116804,
            "count": 1
           },
           {
            "bin_start": 0.3094014384116804,
            "bin_end": 0.40805837578144033,
            "count": 0
           },
           {
            "bin_start": 0.40805837578144033,
            "bin_end": 0.5067153131512003,
            "count": 1
           },
           {
            "bin_start": 0.5067153131512003,
            "bin_end": 0.6053722505209602,
            "count": 2
           },
           {
            "bin_start": 0.6053722505209602,
            "bin_end": 0.7040291878907202,
            "count": 1
           },
           {
            "bin_start": 0.7040291878907202,
            "bin_end": 0.8026861252604801,
            "count": 0
           },
           {
            "bin_start": 0.8026861252604801,
            "bin_end": 0.90134306263024,
            "count": 0
           },
           {
            "bin_start": 0.90134306263024,
            "bin_end": 1,
            "count": 1
           }
          ]
         }
        },
        {
         "name": "mortos",
         "dtype": "float64",
         "stats": {
          "unique_count": 9,
          "nan_count": 0,
          "min": "-0.034007669067882926",
          "max": "1.0",
          "histogram": [
           {
            "bin_start": -0.034007669067882926,
            "bin_end": 0.06939309783890538,
            "count": 5
           },
           {
            "bin_start": 0.06939309783890538,
            "bin_end": 0.1727938647456937,
            "count": 2
           },
           {
            "bin_start": 0.1727938647456937,
            "bin_end": 0.276194631652482,
            "count": 1
           },
           {
            "bin_start": 0.276194631652482,
            "bin_end": 0.37959539855927027,
            "count": 0
           },
           {
            "bin_start": 0.37959539855927027,
            "bin_end": 0.48299616546605856,
            "count": 0
           },
           {
            "bin_start": 0.48299616546605856,
            "bin_end": 0.586396932372847,
            "count": 0
           },
           {
            "bin_start": 0.586396932372847,
            "bin_end": 0.6897976992796352,
            "count": 0
           },
           {
            "bin_start": 0.6897976992796352,
            "bin_end": 0.7931984661864235,
            "count": 0
           },
           {
            "bin_start": 0.7931984661864235,
            "bin_end": 0.8965992330932119,
            "count": 0
           },
           {
            "bin_start": 0.8965992330932119,
            "bin_end": 1,
            "count": 1
           }
          ]
         }
        },
        {
         "name": "feridos_leves",
         "dtype": "float64",
         "stats": {
          "unique_count": 9,
          "nan_count": 0,
          "min": "-0.06473194555029255",
          "max": "1.0",
          "histogram": [
           {
            "bin_start": -0.06473194555029255,
            "bin_end": 0.04174124900473672,
            "count": 5
           },
           {
            "bin_start": 0.04174124900473672,
            "bin_end": 0.14821444355976598,
            "count": 1
           },
           {
            "bin_start": 0.14821444355976598,
            "bin_end": 0.2546876381147953,
            "count": 0
           },
           {
            "bin_start": 0.2546876381147953,
            "bin_end": 0.3611608326698245,
            "count": 0
           },
           {
            "bin_start": 0.3611608326698245,
            "bin_end": 0.46763402722485375,
            "count": 0
           },
           {
            "bin_start": 0.46763402722485375,
            "bin_end": 0.574107221779883,
            "count": 1
           },
           {
            "bin_start": 0.574107221779883,
            "bin_end": 0.6805804163349123,
            "count": 0
           },
           {
            "bin_start": 0.6805804163349123,
            "bin_end": 0.7870536108899415,
            "count": 0
           },
           {
            "bin_start": 0.7870536108899415,
            "bin_end": 0.8935268054449708,
            "count": 1
           },
           {
            "bin_start": 0.8935268054449708,
            "bin_end": 1,
            "count": 1
           }
          ]
         }
        },
        {
         "name": "feridos_graves",
         "dtype": "float64",
         "stats": {
          "unique_count": 9,
          "nan_count": 0,
          "min": "-0.07384668867680133",
          "max": "1.0",
          "histogram": [
           {
            "bin_start": -0.07384668867680133,
            "bin_end": 0.03353798019087881,
            "count": 4
           },
           {
            "bin_start": 0.03353798019087881,
            "bin_end": 0.14092264905855895,
            "count": 2
           },
           {
            "bin_start": 0.14092264905855895,
            "bin_end": 0.24830731792623906,
            "count": 0
           },
           {
            "bin_start": 0.24830731792623906,
            "bin_end": 0.3556919867939192,
            "count": 1
           },
           {
            "bin_start": 0.3556919867939192,
            "bin_end": 0.4630766556615994,
            "count": 1
           },
           {
            "bin_start": 0.4630766556615994,
            "bin_end": 0.5704613245292794,
            "count": 0
           },
           {
            "bin_start": 0.5704613245292794,
            "bin_end": 0.6778459933969596,
            "count": 0
           },
           {
            "bin_start": 0.6778459933969596,
            "bin_end": 0.7852306622646398,
            "count": 0
           },
           {
            "bin_start": 0.7852306622646398,
            "bin_end": 0.89261533113232,
            "count": 0
           },
           {
            "bin_start": 0.89261533113232,
            "bin_end": 1,
            "count": 1
           }
          ]
         }
        },
        {
         "name": "ilesos",
         "dtype": "float64",
         "stats": {
          "unique_count": 9,
          "nan_count": 0,
          "min": "-0.07591427784012231",
          "max": "1.0",
          "histogram": [
           {
            "bin_start": -0.07591427784012231,
            "bin_end": 0.031677149943889926,
            "count": 6
           },
           {
            "bin_start": 0.031677149943889926,
            "bin_end": 0.13926857772790216,
            "count": 0
           },
           {
            "bin_start": 0.13926857772790216,
            "bin_end": 0.24686000551191442,
            "count": 0
           },
           {
            "bin_start": 0.24686000551191442,
            "bin_end": 0.35445143329592665,
            "count": 0
           },
           {
            "bin_start": 0.35445143329592665,
            "bin_end": 0.46204286107993886,
            "count": 1
           },
           {
            "bin_start": 0.46204286107993886,
            "bin_end": 0.5696342888639512,
            "count": 0
           },
           {
            "bin_start": 0.5696342888639512,
            "bin_end": 0.6772257166479634,
            "count": 0
           },
           {
            "bin_start": 0.6772257166479634,
            "bin_end": 0.7848171444319756,
            "count": 1
           },
           {
            "bin_start": 0.7848171444319756,
            "bin_end": 0.8924085722159878,
            "count": 0
           },
           {
            "bin_start": 0.8924085722159878,
            "bin_end": 1,
            "count": 1
           }
          ]
         }
        },
        {
         "name": "ignorados",
         "dtype": "float64",
         "stats": {
          "unique_count": 9,
          "nan_count": 0,
          "min": "-0.07247537333609946",
          "max": "1.0",
          "histogram": [
           {
            "bin_start": -0.07247537333609946,
            "bin_end": 0.034772163997510486,
            "count": 5
           },
           {
            "bin_start": 0.034772163997510486,
            "bin_end": 0.14201970133112043,
            "count": 2
           },
           {
            "bin_start": 0.14201970133112043,
            "bin_end": 0.2492672386647304,
            "count": 1
           },
           {
            "bin_start": 0.2492672386647304,
            "bin_end": 0.35651477599834036,
            "count": 0
           },
           {
            "bin_start": 0.35651477599834036,
            "bin_end": 0.4637623133319503,
            "count": 0
           },
           {
            "bin_start": 0.4637623133319503,
            "bin_end": 0.5710098506655603,
            "count": 0
           },
           {
            "bin_start": 0.5710098506655603,
            "bin_end": 0.6782573879991702,
            "count": 0
           },
           {
            "bin_start": 0.6782573879991702,
            "bin_end": 0.7855049253327802,
            "count": 0
           },
           {
            "bin_start": 0.7855049253327802,
            "bin_end": 0.8927524626663901,
            "count": 0
           },
           {
            "bin_start": 0.8927524626663901,
            "bin_end": 1,
            "count": 1
           }
          ]
         }
        },
        {
         "name": "feridos",
         "dtype": "float64",
         "stats": {
          "unique_count": 9,
          "nan_count": 0,
          "min": "-0.07591427784012231",
          "max": "1.0",
          "histogram": [
           {
            "bin_start": -0.07591427784012231,
            "bin_end": 0.031677149943889926,
            "count": 4
           },
           {
            "bin_start": 0.031677149943889926,
            "bin_end": 0.13926857772790216,
            "count": 1
           },
           {
            "bin_start": 0.13926857772790216,
            "bin_end": 0.24686000551191442,
            "count": 0
           },
           {
            "bin_start": 0.24686000551191442,
            "bin_end": 0.35445143329592665,
            "count": 0
           },
           {
            "bin_start": 0.35445143329592665,
            "bin_end": 0.46204286107993886,
            "count": 1
           },
           {
            "bin_start": 0.46204286107993886,
            "bin_end": 0.5696342888639512,
            "count": 0
           },
           {
            "bin_start": 0.5696342888639512,
            "bin_end": 0.6772257166479634,
            "count": 1
           },
           {
            "bin_start": 0.6772257166479634,
            "bin_end": 0.7848171444319756,
            "count": 0
           },
           {
            "bin_start": 0.7848171444319756,
            "bin_end": 0.8924085722159878,
            "count": 1
           },
           {
            "bin_start": 0.8924085722159878,
            "bin_end": 1,
            "count": 1
           }
          ]
         }
        },
        {
         "name": "veiculos",
         "dtype": "float64",
         "stats": {
          "unique_count": 9,
          "nan_count": 0,
          "min": "-0.011020482685081713",
          "max": "1.0",
          "histogram": [
           {
            "bin_start": -0.011020482685081713,
            "bin_end": 0.09008156558342646,
            "count": 4
           },
           {
            "bin_start": 0.09008156558342646,
            "bin_end": 0.19118361385193464,
            "count": 2
           },
           {
            "bin_start": 0.19118361385193464,
            "bin_end": 0.2922856621204428,
            "count": 0
           },
           {
            "bin_start": 0.2922856621204428,
            "bin_end": 0.393387710388951,
            "count": 0
           },
           {
            "bin_start": 0.393387710388951,
            "bin_end": 0.49448975865745914,
            "count": 2
           },
           {
            "bin_start": 0.49448975865745914,
            "bin_end": 0.5955918069259674,
            "count": 0
           },
           {
            "bin_start": 0.5955918069259674,
            "bin_end": 0.6966938551944755,
            "count": 0
           },
           {
            "bin_start": 0.6966938551944755,
            "bin_end": 0.7977959034629837,
            "count": 0
           },
           {
            "bin_start": 0.7977959034629837,
            "bin_end": 0.8988979517314919,
            "count": 0
           },
           {
            "bin_start": 0.8988979517314919,
            "bin_end": 1,
            "count": 1
           }
          ]
         }
        },
        {
         "name": "feriado",
         "dtype": "float64",
         "stats": {
          "unique_count": 9,
          "nan_count": 0,
          "min": "-0.011020482685081713",
          "max": "1.0",
          "histogram": [
           {
            "bin_start": -0.011020482685081713,
            "bin_end": 0.09008156558342646,
            "count": 8
           },
           {
            "bin_start": 0.09008156558342646,
            "bin_end": 0.19118361385193464,
            "count": 0
           },
           {
            "bin_start": 0.19118361385193464,
            "bin_end": 0.2922856621204428,
            "count": 0
           },
           {
            "bin_start": 0.2922856621204428,
            "bin_end": 0.393387710388951,
            "count": 0
           },
           {
            "bin_start": 0.393387710388951,
            "bin_end": 0.49448975865745914,
            "count": 0
           },
           {
            "bin_start": 0.49448975865745914,
            "bin_end": 0.5955918069259674,
            "count": 0
           },
           {
            "bin_start": 0.5955918069259674,
            "bin_end": 0.6966938551944755,
            "count": 0
           },
           {
            "bin_start": 0.6966938551944755,
            "bin_end": 0.7977959034629837,
            "count": 0
           },
           {
            "bin_start": 0.7977959034629837,
            "bin_end": 0.8988979517314919,
            "count": 0
           },
           {
            "bin_start": 0.8988979517314919,
            "bin_end": 1,
            "count": 1
           }
          ]
         }
        },
        {
         "name": "_deepnote_index_column",
         "dtype": "object"
        }
       ],
       "rows_top": [
        {
         "pessoas": 1,
         "mortos": 0.19079581745111018,
         "feridos_leves": 0.5144730489410837,
         "feridos_graves": 0.2664578405689704,
         "ilesos": 0.702845608525548,
         "ignorados": 0.1559115541674232,
         "feridos": 0.5907101426740204,
         "veiculos": 0.46058507445260954,
         "feriado": 0.01343062630240061,
         "_deepnote_index_column": "pessoas"
        },
        {
         "pessoas": 0.19079581745111018,
         "mortos": 1,
         "feridos_leves": -0.034007669067882926,
         "feridos_graves": 0.1059689657851792,
         "ilesos": -0.027972344878485825,
         "ignorados": 0.0827121312827058,
         "feridos": 0.022112482625169478,
         "veiculos": 0.049905325363389395,
         "feriado": 0.0035041468889764633,
         "_deepnote_index_column": "mortos"
        },
        {
         "pessoas": 0.5144730489410837,
         "mortos": -0.034007669067882926,
         "feridos_leves": 1,
         "feridos_graves": -0.04570615074320357,
         "ilesos": -0.04414135654154618,
         "ignorados": -0.06473194555029255,
         "feridos": 0.8692504227903844,
         "veiculos": 0.08181778332229395,
         "feriado": 0.011282130536913616,
         "_deepnote_index_column": "feridos_leves"
        },
        {
         "pessoas": 0.2664578405689704,
         "mortos": 0.1059689657851792,
         "feridos_leves": -0.04570615074320357,
         "feridos_graves": 1,
         "ilesos": -0.07384668867680133,
         "ignorados": 0.03201053884819609,
         "feridos": 0.45412528309561273,
         "veiculos": 0.07196097423905215,
         "feriado": 0.005578958221327713,
         "_deepnote_index_column": "feridos_graves"
        },
        {
         "pessoas": 0.702845608525548,
         "mortos": -0.027972344878485825,
         "feridos_leves": -0.04414135654154618,
         "feridos_graves": -0.07384668867680133,
         "ilesos": 1,
         "ignorados": -0.07247537333609946,
         "feridos": -0.07591427784012231,
         "veiculos": 0.4619371338789237,
         "feriado": 0.005149709329518103,
         "_deepnote_index_column": "ilesos"
        },
        {
         "pessoas": 0.1559115541674232,
         "mortos": 0.0827121312827058,
         "feridos_leves": -0.06473194555029255,
         "feridos_graves": 0.03201053884819609,
         "ilesos": -0.07247537333609946,
         "ignorados": 1,
         "feridos": -0.04189080336829399,
         "veiculos": 0.10262195436986392,
         "feriado": 0.001865709630355378,
         "_deepnote_index_column": "ignorados"
        },
        {
         "pessoas": 0.5907101426740204,
         "mortos": 0.022112482625169478,
         "feridos_leves": 0.8692504227903844,
         "feridos_graves": 0.45412528309561273,
         "ilesos": -0.07591427784012231,
         "ignorados": -0.04189080336829399,
         "feridos": 1,
         "veiculos": 0.10858352923138236,
         "feriado": 0.012823158982962763,
         "_deepnote_index_column": "feridos"
        },
        {
         "pessoas": 0.46058507445260954,
         "mortos": 0.049905325363389395,
         "feridos_leves": 0.08181778332229395,
         "feridos_graves": 0.07196097423905215,
         "ilesos": 0.4619371338789237,
         "ignorados": 0.10262195436986392,
         "feridos": 0.10858352923138236,
         "veiculos": 1,
         "feriado": -0.011020482685081713,
         "_deepnote_index_column": "veiculos"
        },
        {
         "pessoas": 0.01343062630240061,
         "mortos": 0.0035041468889764633,
         "feridos_leves": 0.011282130536913616,
         "feridos_graves": 0.005578958221327713,
         "ilesos": 0.005149709329518103,
         "ignorados": 0.001865709630355378,
         "feridos": 0.012823158982962763,
         "veiculos": -0.011020482685081713,
         "feriado": 1,
         "_deepnote_index_column": "feriado"
        }
       ],
       "rows_bottom": null
      },
      "text/plain": "                 pessoas    mortos  feridos_leves  feridos_graves    ilesos  \\\npessoas         1.000000  0.190796       0.514473        0.266458  0.702846   \nmortos          0.190796  1.000000      -0.034008        0.105969 -0.027972   \nferidos_leves   0.514473 -0.034008       1.000000       -0.045706 -0.044141   \nferidos_graves  0.266458  0.105969      -0.045706        1.000000 -0.073847   \nilesos          0.702846 -0.027972      -0.044141       -0.073847  1.000000   \nignorados       0.155912  0.082712      -0.064732        0.032011 -0.072475   \nferidos         0.590710  0.022112       0.869250        0.454125 -0.075914   \nveiculos        0.460585  0.049905       0.081818        0.071961  0.461937   \nferiado         0.013431  0.003504       0.011282        0.005579  0.005150   \n\n                ignorados   feridos  veiculos   feriado  \npessoas          0.155912  0.590710  0.460585  0.013431  \nmortos           0.082712  0.022112  0.049905  0.003504  \nferidos_leves   -0.064732  0.869250  0.081818  0.011282  \nferidos_graves   0.032011  0.454125  0.071961  0.005579  \nilesos          -0.072475 -0.075914  0.461937  0.005150  \nignorados        1.000000 -0.041891  0.102622  0.001866  \nferidos         -0.041891  1.000000  0.108584  0.012823  \nveiculos         0.102622  0.108584  1.000000 -0.011020  \nferiado          0.001866  0.012823 -0.011020  1.000000  ",
      "text/html": "<div>\n<style scoped>\n    .dataframe tbody tr th:only-of-type {\n        vertical-align: middle;\n    }\n\n    .dataframe tbody tr th {\n        vertical-align: top;\n    }\n\n    .dataframe thead th {\n        text-align: right;\n    }\n</style>\n<table border=\"1\" class=\"dataframe\">\n  <thead>\n    <tr style=\"text-align: right;\">\n      <th></th>\n      <th>pessoas</th>\n      <th>mortos</th>\n      <th>feridos_leves</th>\n      <th>feridos_graves</th>\n      <th>ilesos</th>\n      <th>ignorados</th>\n      <th>feridos</th>\n      <th>veiculos</th>\n      <th>feriado</th>\n    </tr>\n  </thead>\n  <tbody>\n    <tr>\n      <th>pessoas</th>\n      <td>1.000000</td>\n      <td>0.190796</td>\n      <td>0.514473</td>\n      <td>0.266458</td>\n      <td>0.702846</td>\n      <td>0.155912</td>\n      <td>0.590710</td>\n      <td>0.460585</td>\n      <td>0.013431</td>\n    </tr>\n    <tr>\n      <th>mortos</th>\n      <td>0.190796</td>\n      <td>1.000000</td>\n      <td>-0.034008</td>\n      <td>0.105969</td>\n      <td>-0.027972</td>\n      <td>0.082712</td>\n      <td>0.022112</td>\n      <td>0.049905</td>\n      <td>0.003504</td>\n    </tr>\n    <tr>\n      <th>feridos_leves</th>\n      <td>0.514473</td>\n      <td>-0.034008</td>\n      <td>1.000000</td>\n      <td>-0.045706</td>\n      <td>-0.044141</td>\n      <td>-0.064732</td>\n      <td>0.869250</td>\n      <td>0.081818</td>\n      <td>0.011282</td>\n    </tr>\n    <tr>\n      <th>feridos_graves</th>\n      <td>0.266458</td>\n      <td>0.105969</td>\n      <td>-0.045706</td>\n      <td>1.000000</td>\n      <td>-0.073847</td>\n      <td>0.032011</td>\n      <td>0.454125</td>\n      <td>0.071961</td>\n      <td>0.005579</td>\n    </tr>\n    <tr>\n      <th>ilesos</th>\n      <td>0.702846</td>\n      <td>-0.027972</td>\n      <td>-0.044141</td>\n      <td>-0.073847</td>\n      <td>1.000000</td>\n      <td>-0.072475</td>\n      <td>-0.075914</td>\n      <td>0.461937</td>\n      <td>0.005150</td>\n    </tr>\n    <tr>\n      <th>ignorados</th>\n      <td>0.155912</td>\n      <td>0.082712</td>\n      <td>-0.064732</td>\n      <td>0.032011</td>\n      <td>-0.072475</td>\n      <td>1.000000</td>\n      <td>-0.041891</td>\n      <td>0.102622</td>\n      <td>0.001866</td>\n    </tr>\n    <tr>\n      <th>feridos</th>\n      <td>0.590710</td>\n      <td>0.022112</td>\n      <td>0.869250</td>\n      <td>0.454125</td>\n      <td>-0.075914</td>\n      <td>-0.041891</td>\n      <td>1.000000</td>\n      <td>0.108584</td>\n      <td>0.012823</td>\n    </tr>\n    <tr>\n      <th>veiculos</th>\n      <td>0.460585</td>\n      <td>0.049905</td>\n      <td>0.081818</td>\n      <td>0.071961</td>\n      <td>0.461937</td>\n      <td>0.102622</td>\n      <td>0.108584</td>\n      <td>1.000000</td>\n      <td>-0.011020</td>\n    </tr>\n    <tr>\n      <th>feriado</th>\n      <td>0.013431</td>\n      <td>0.003504</td>\n      <td>0.011282</td>\n      <td>0.005579</td>\n      <td>0.005150</td>\n      <td>0.001866</td>\n      <td>0.012823</td>\n      <td>-0.011020</td>\n      <td>1.000000</td>\n    </tr>\n  </tbody>\n</table>\n</div>"
     },
     "metadata": {}
    }
   ],
   "execution_count": 100
  },
  {
   "cell_type": "code",
   "source": "sns.heatmap(ocorrencias[['pessoas', 'mortos', 'feridos_leves', 'feridos_graves', 'ilesos', 'ignorados', 'feridos', 'veiculos', 'feriado']].corr())",
   "metadata": {
    "tags": [],
    "cell_id": "00036-4feea142-ec82-4199-9cda-70a69c4193bb",
    "deepnote_to_be_reexecuted": false,
    "source_hash": "fb58972d",
    "execution_start": 1634309142369,
    "execution_millis": 482,
    "deepnote_cell_type": "code"
   },
   "outputs": [
    {
     "output_type": "execute_result",
     "execution_count": 113,
     "data": {
      "text/plain": "<AxesSubplot:>"
     },
     "metadata": {}
    },
    {
     "data": {
      "text/plain": "<Figure size 432x288 with 2 Axes>",
      "image/png": "[encoded data removed]"
     },
     "metadata": {
      "needs_background": "light",
      "image/png": {
       "width": 404,
       "height": 308
      }
     },
     "output_type": "display_data"
    }
   ],
   "execution_count": 113
  },
  {
   "cell_type": "code",
   "source": "",
   "metadata": {
    "cell_id": "00037-881bb4cd-94ab-4c51-bd4b-f8496b8583ba",
    "deepnote_cell_type": "visualization"
   },
   "outputs": [],
   "execution_count": null
  },
  {
   "cell_type": "code",
   "source": "table = pd.crosstab(ocorrencias['uf'],ocorrencias['classificacao_acidente'])\ntable.plot(kind='bar',width=1.0, color=['red','blue','green'], title='Classificação do acidente por estado', figsize=(15,10), fontsize=10)\nplt.xlabel('UF')\nplt.ylabel('Vitímas')",
   "metadata": {
    "tags": [],
    "cell_id": "00038-00ff9287-d77a-4497-9136-d471030a748f",
    "deepnote_to_be_reexecuted": false,
    "source_hash": "578254b6",
    "execution_start": 1634308628444,
    "execution_millis": 713,
    "deepnote_cell_type": "code"
   },
   "outputs": [
    {
     "output_type": "execute_result",
     "execution_count": 86,
     "data": {
      "text/plain": "Text(0, 0.5, 'Vitímas')"
     },
     "metadata": {}
    },
    {
     "data": {
      "text/plain": "<Figure size 1080x720 with 1 Axes>",
      "image/png": "[encoded data removed]"
     },
     "metadata": {
      "needs_background": "light",
      "image/png": {
       "width": 905,
       "height": 610
      }
     },
     "output_type": "display_data"
    }
   ],
   "execution_count": 86
  },
  {
   "cell_type": "markdown",
   "source": "<a style='text-decoration:none;line-height:16px;display:flex;color:#5B5B62;padding:10px;justify-content:end;' href='https://deepnote.com?utm_source=created-in-deepnote-cell&projectId=e9ea36e3-3ab7-4acd-bb35-f48160e9e4bc' target=\"_blank\">\n<img alt='Created in deepnote.com' style='display:inline;max-height:16px;margin:0px;margin-right:7.5px;' src='data:image/svg+xml;base64,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' > </img>\nCreated in <span style='font-weight:600;margin-left:4px;'>Deepnote</span></a>",
   "metadata": {
    "tags": [],
    "created_in_deepnote_cell": true,
    "deepnote_cell_type": "markdown"
   }
  }
 ],
 "nbformat": 4,
 "nbformat_minor": 2,
 "metadata": {
  "orig_nbformat": 2,
  "deepnote": {
   "is_reactive": false
  },
  "deepnote_notebook_id": "25613d28-b5f8-47b6-a127-942a392c6997",
  "deepnote_execution_queue": []
 }
}